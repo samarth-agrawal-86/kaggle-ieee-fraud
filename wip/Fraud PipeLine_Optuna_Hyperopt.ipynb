{
 "cells": [
  {
   "cell_type": "markdown",
   "metadata": {
    "collapsed": true
   },
   "source": [
    "## Fraud Prediction"
   ]
  },
  {
   "cell_type": "markdown",
   "metadata": {},
   "source": [
    "### Load Libraries\n",
    "    * Libraries for data preparation\n",
    "    * Fast ML Libraries for data imputation and encoding\n",
    "        - for installing fast-ml use command \"pip install fast-ml\" in command prompt\n",
    "    * sklearn libraries for modelling, confusion matrix and prediction\n",
    "    "
   ]
  },
  {
   "cell_type": "code",
   "execution_count": 1,
   "metadata": {},
   "outputs": [],
   "source": [
    "#Import os, pandas and numpy\n",
    "import os\n",
    "import pandas as pd\n",
    "import numpy as np\n",
    "import matplotlib.pyplot as plt\n",
    "import random\n",
    "from lightgbm import LGBMClassifier\n",
    "import datetime"
   ]
  },
  {
   "cell_type": "code",
   "execution_count": 2,
   "metadata": {},
   "outputs": [],
   "source": [
    "from fast_ml.eda import categorical_plots,numerical_plots\n",
    "from fast_ml.missing_data_analysis import MissingDataAnalysis\n",
    "from fast_ml.missing_data_imputation import MissingDataImputer_Categorical, MissingDataImputer_Numerical\n",
    "from fast_ml.utilities import rare_encoding\n",
    "from fast_ml.feature_engineering import FeatureEngineering_Categorical,FeatureEngineering_Numerical\n",
    "from fast_ml.utilities import reduce_memory_usage\n",
    "from fast_ml.eda import categorical_plots,numerical_plots,categorical_plots_with_target,numerical_plots_with_target,numerical_bins_with_target\n"
   ]
  },
  {
   "cell_type": "code",
   "execution_count": 6,
   "metadata": {},
   "outputs": [],
   "source": [
    "# Python script for confusion matrix creation. \n",
    "from sklearn.metrics import confusion_matrix \n",
    "from sklearn.metrics import accuracy_score \n",
    "from sklearn.metrics import classification_report"
   ]
  },
  {
   "cell_type": "markdown",
   "metadata": {},
   "source": [
    "#### Functions\n",
    "\n",
    "* \"compare_Numerical_distribution\" function to compare distribution of numerical data before and after imputation\n",
    "* \"clustercheck\" to check if the set of variables belong to the same cluster.\n",
    "* \"Browser_transform\",\"OS_transform\" and \"Mail_transform\" to normalize the observation in variables,"
   ]
  },
  {
   "cell_type": "code",
   "execution_count": 7,
   "metadata": {},
   "outputs": [],
   "source": [
    "\n",
    "def compare_Numerical_distribution(df1,df2,variables):\n",
    "    df = pd.DataFrame()\n",
    "    msg_value = []\n",
    "    data = []\n",
    "    for a in variables:\n",
    "        df_mean = df1[a].mean() - df2[a].mean()\n",
    "        df_std = df1[a].std() - df2[a].std()\n",
    "        if int(df_mean) == 0:\n",
    "            msg_mean = \"Mean of both the dataset is same\" #+ str(df1[a].mean()) + str(df2[a].mean()) \n",
    "        else:\n",
    "            msg_mean = \"Mean of both the dataset differ by \" + str(df_mean)\n",
    "        if int(df_std) == 0:\n",
    "            msg_std = \"Standard Dev. of both the dataset is same\"\n",
    "        else:\n",
    "            msg_std = \"Standard Dev the dataset differ by \" + str(df_std) \n",
    "            \n",
    "        if int(df_mean) == 0 and int(df_std) ==0:\n",
    "            msg_Remark = \"Distribution for dataset is same\"\n",
    "            \n",
    "        else:\n",
    "            msg_Remark = \"Distribution for dataset is different\"\n",
    "            \n",
    "        msg_value = [a,msg_mean,msg_std,msg_Remark] \n",
    "        zipped  = zip([\"Variable\",\"Mean\",\"Stdev\",\"Remark\"],msg_value)\n",
    "        a_dict = dict(zipped)\n",
    "        data.append(a_dict)\n",
    "    df= df.append(data,True)\n",
    "    return(df)\n",
    "\n",
    "\n",
    "def clustercheck(df,base,cluster):\n",
    "    nullcount = df[base].isnull().sum()\n",
    "    LiTrue = []\n",
    "    LiFalse = []\n",
    "    for a in cluster:\n",
    "        if df[a].isnull().sum() == nullcount:\n",
    "            LiTrue.append(a)\n",
    "        else:\n",
    "            LiFalse.append(a)\n",
    "\n",
    "    print(\"List of elements having same missing value is\", LiTrue)\n",
    "    print(\"List of elements having different missing value is\", LiFalse)\n",
    "    \n",
    "def Browser_transform(df,col):\n",
    "    df.loc[df[col].str.contains('chrome', na=False), col] = 'Chrome'\n",
    "    df.loc[df[col].str.contains('firefox', na=False), col] = 'Firefox'\n",
    "    df.loc[df[col].str.contains('safari', na=False), col] = 'Safari'\n",
    "    df.loc[df[col].str.contains('edge', na=False), col] = 'Edge'\n",
    "    df.loc[df[col].str.contains('ie', na=False), col] = 'IE'\n",
    "    df.loc[df[col].str.contains('samsung', na=False), col] = 'Samsung'\n",
    "    df.loc[df[col].str.contains('opera', na=False), col] = 'Opera'\n",
    "    #df.loc[df[col].str.contains('Others', na=False), col] = 'other'\n",
    "    df[col].fillna(\"Missing\", inplace=True)\n",
    "    df.loc[df.id_31.isin(df.id_31.value_counts()[df.id_31.value_counts() < 200].index), col] = \"other\"\n",
    "    \n",
    "def OS_transform(df,col):\n",
    "    df.loc[df[col].str.contains('Windows', na=False), col] = 'Windows'\n",
    "    df.loc[df[col].str.contains('iOS', na=False), col] = 'iOS'\n",
    "    df.loc[df[col].str.contains('Mac OS', na=False), col] = 'Mac'\n",
    "    df.loc[df[col].str.contains('Android', na=False), col] = 'Android'\n",
    "    df[col].fillna(\"Missing\", inplace=True)\n",
    "    \n",
    "def Mail_transform(df,col):\n",
    "    df.loc[df[col].str.contains('gmail', na=False), col] = 'gmail.com'\n",
    "    df.loc[df[col].str.contains('yahoo', na=False), col] = 'yahoo.com'\n",
    "    df.loc[df[col].str.contains('outlook', na=False), col] = 'outlook.com'\n",
    "    df.loc[df[col].str.contains('hotmail', na=False), col] = 'hotmail.com'\n",
    "    df[col].fillna(\"Missing\", inplace=True)\n",
    "    \n",
    "def Remove_dup(x):\n",
    "    return list(dict.fromkeys(x))\n",
    "\n",
    "    #return df   \n"
   ]
  },
  {
   "cell_type": "markdown",
   "metadata": {
    "collapsed": true
   },
   "source": [
    "### Import Data"
   ]
  },
  {
   "cell_type": "code",
   "execution_count": 8,
   "metadata": {},
   "outputs": [],
   "source": [
    "n = 590540 #number of records in file\n",
    "s = 50000 #desired sample size\n",
    "filename = \"D:\\\\Kaggle\\\\Fraud_Detection\\\\train_transaction.csv\"\n",
    "skip = sorted(random.sample(range(n),n-s))\n",
    "train = pd.read_csv(filename, skiprows=skip[1:])\n",
    "#train_transaction =  pd.read_csv(\"\")\n",
    "#train_identity = pd.read_csv(\"D:\\\\Kaggle\\\\Fraud_Detection\\\\train_identity.csv\")\n",
    "#train = pd.merge(train_transaction, train_identity, on='TransactionID', how='left')"
   ]
  },
  {
   "cell_type": "code",
   "execution_count": 13,
   "metadata": {},
   "outputs": [
    {
     "name": "stdout",
     "output_type": "stream",
     "text": [
      "Memory usage of dataframe is 44.11 MB\n",
      "Memory usage after optimization is: 44.11 MB\n",
      "Decreased by 0.0%\n"
     ]
    }
   ],
   "source": [
    "train = reduce_memory_usage(train, convert_to_category=False)"
   ]
  },
  {
   "cell_type": "markdown",
   "metadata": {},
   "source": [
    "## Test Train Split\n",
    "\n",
    "* Create Test, Train and Validate DataSet"
   ]
  },
  {
   "cell_type": "code",
   "execution_count": 14,
   "metadata": {},
   "outputs": [],
   "source": [
    "y = train['isFraud']\n",
    "x_train = train.drop('isFraud', axis =1)\n",
    "from sklearn.model_selection import train_test_split\n",
    "X_train, x_valid, Y_train, y_valid = train_test_split(x_train, y, test_size=0.2, random_state=0)\n",
    "#from sklearn.model_selection import train_test_split\n",
    "x_train, X_test, y_train, y_test = train_test_split(X_train, Y_train, test_size=0.2, random_state=0)"
   ]
  },
  {
   "cell_type": "code",
   "execution_count": 15,
   "metadata": {},
   "outputs": [],
   "source": [
    "#from sklearn.model_selection import train_test_split\n",
    "x_train, X_test, y_train, y_test = train_test_split(X_train, Y_train, test_size=0.2, random_state=0)"
   ]
  },
  {
   "cell_type": "code",
   "execution_count": 19,
   "metadata": {},
   "outputs": [
    {
     "data": {
      "text/plain": [
       "((32000, 393), (32000,))"
      ]
     },
     "execution_count": 19,
     "metadata": {},
     "output_type": "execute_result"
    }
   ],
   "source": [
    "x_train.shape,y_train.shape"
   ]
  },
  {
   "cell_type": "code",
   "execution_count": 20,
   "metadata": {},
   "outputs": [
    {
     "data": {
      "text/plain": [
       "((8000, 393), (8000,))"
      ]
     },
     "execution_count": 20,
     "metadata": {},
     "output_type": "execute_result"
    }
   ],
   "source": [
    "X_test.shape,y_test.shape"
   ]
  },
  {
   "cell_type": "code",
   "execution_count": 21,
   "metadata": {},
   "outputs": [
    {
     "data": {
      "text/plain": [
       "((10001, 393), (10001,))"
      ]
     },
     "execution_count": 21,
     "metadata": {},
     "output_type": "execute_result"
    }
   ],
   "source": [
    "x_valid.shape,y_valid.shape"
   ]
  },
  {
   "cell_type": "markdown",
   "metadata": {},
   "source": [
    "#####  Identify variables Based on EDA performed"
   ]
  },
  {
   "cell_type": "code",
   "execution_count": 26,
   "metadata": {},
   "outputs": [],
   "source": [
    "Rare_2 =['P_emaildomain']\n",
    "Rare_4 =['R_emaildomain']\n",
    "#'D5' : [0,30,40,50,60,70,80,90,100],\n",
    "Custom_Bin ={\n",
    "'TransactionAmt' : [0,10,20,40,50,60,70,90,100],\n",
    "'C1' : [0,50,70,80,90,100],\n",
    "'C2' : [0,50,70,80,90,100],\n",
    "'C4' : [0,70,90,100],\n",
    "'C5' : [0,60,80,90,100],\n",
    "'C6' : [0,60,80,90,100],\n",
    "'C7' : [0,80,90,100],\n",
    "'C8' : [0,70,90,100],\n",
    "'C9' : [0,60,80,90,100],\n",
    "'C10' : [0,70,90,100],\n",
    "'C11' : [0,60,80,90,100],\n",
    "'C12' : [0,80,90,100],\n",
    "'C13' : [0,10,50,60,70,80,90,100],\n",
    "'C14' : [0,80,90,100],\n",
    "'D1' : [0,50,60,70,80,90,100],\n",
    "'addr1' : [0,90,100],\n",
    "'D10' : [0,50,60,70,80,90,100],\n",
    "'D15' : [0,30,40,50,60,70,80,90,100],\n",
    "'D4' : [0,10,50,60,70,80,90,100],\n",
    "'D3' : [0,30,40,50,60,100],\n",
    "'D2' : [0,10,20,30,40,50,60,70,100],\n",
    "'D11' : [0,40,50,60,70,80,90,100],\n",
    "'D6' : [0,70,80,90,100],\n",
    "'D12' : [0,70,80,90,100],\n",
    "'D14' : [0,70,80,90,100],\n",
    "'D13' : [0,90,100],\n",
    "'D7' : [0,60,90,100],'V330': [0, 90, 100],'V329': [0, 90, 100],'V326': [0, 90, 100],'V334': [0, 98, 100],\n",
    "'V337': [0, 95, 100],'V339': [0, 90, 100],\t'V336': [0, 95, 100],\t'V338': [0, 90, 100],\t'V322': [0, 95, 100],\n",
    "             'V324': [0, 80, 100],\t'V323': [0, 90, 100],\t'V335': [0, 90, 100],\t'V331': [0, 90, 100],\n",
    "             'V333': [0, 80, 100],\t'V332': [0, 80, 100],\t'V311': [0, 98, 100],\t'V319': [0, 98, 100],\n",
    "             'V321': [0, 95, 100],\t'V309': [0, 95, 100],\t'V320': [0, 95, 100],\t'V316': [0, 95, 100],\n",
    "             'V313': [0, 90, 100],\t'V318': [0, 95, 100],\t'V315': [0, 90, 100],\t'V312': [0, 80, 90, 100],\n",
    "             'V317': [0, 90, 100],\t'V306': [0, 90, 100],\t'V314': [0, 90, 100],\t'V308': [0, 80, 100],\n",
    "             'V310': [0, 70, 80, 90, 100],'V307': [0, 60, 80, 100]}\n",
    "\n"
   ]
  },
  {
   "cell_type": "code",
   "execution_count": 27,
   "metadata": {},
   "outputs": [],
   "source": [
    "Adaptive_10p = ['card1' ,'card3','card5' ,'card2' ,'dist1' ,'D8','dist2','V225',\t'V193',\t'V190',\t'V170',\t'V237',\n",
    "                'V176',\t'V192',\t'V199',\t'V261',\t'V171',\t'V243',\t'V254',\t'V236',\t'V246',\t'V255',\t'V256',\t'V257',\t'V227',\n",
    "                'V299',\t'V151',\t'V182',\t'V228',\t'V201',\t'V245',\t'V290',\t'V283',\t'V144',\t'V180',\t'V230',\t'V253',\t'V258',\n",
    "                'V259',\t'V222',\t'V221',\t'V224',\t'V226',\t'V229',\t'V296',\t'V298',\t'V285',\t'V187',\t'V234',\t'V269',\t'V292',\t\n",
    "                'V291',\t'V145',\t'V177',\t'V167',\t'V143',\t'V179',\t'V168',\t'V178',\t'V231',\t'V217',\t'V233',\t'V232',\t'V219',\n",
    "                'V218',\t'V166',\t'V164',\t'V129',\t'V293',\t'V279',\t'V295',\t'V165',\t'V280',\t'V150',\t'V135',\t'V294',\t'V137',\n",
    "                'V206',\t'V159',\t'V136',\t'V266',\t'V131',\t'V205',\t'V132',\t'V270',\t'V160',\t'V272',\t'V208',\t'V210',\t'V276',\n",
    "                'V214',\t'V268',\t'V271',\t'V278',\t'V134',\t'V216',\t'V277',\t'V209',\t'V207',\t'V215',\t'V267',\t'V126',\t'V133',\n",
    "                'V128',\t'V273',\t'V275',\t'V130',\t'V211',\t'V127',\t'V274',\t'V213',\t'V212',\t'V263',\t'V202',\t'V265',\t'V204',\n",
    "                'V264',\t'V203']\n",
    "Adaptive_5p = ['V200',\t'V106',\t'V105',\t'V161',\t'V163',\t'V162',\t'V101',\t'V103',\t'V102']\n"
   ]
  },
  {
   "cell_type": "code",
   "execution_count": 28,
   "metadata": {},
   "outputs": [],
   "source": [
    "Rare_5 = ['ProductCD',\t'card4',\t'card6',\t'addr2',\t'M6',\t'M1',\t'M2',\t'M3',\t'M4',\t'M7',\t'M8',\t'M9',\t'M5',\t'D9',\n",
    "'V9',\t'V8',\t'V5',\t'V4',\t'V3',\t'V2',\t'V11',\t'V10',\t'V50',\t'V49',\t'V48',\t'V42',\t'V41',\t'V40',\t'V36',\t'V35',\t'V94',\t'V93',\n",
    "          'V92',\t'V91',\t'V90',\t'V89',\t'V88',\t'V87',\t'V86',\t'V85',\t'V84',\t'V83',\t'V82',\t'V81',\t'V80',\t'V79',\t'V77',\t'V74',\t'V73',\n",
    "          'V72',\t'V71',\t'V70',\t'V69',\t'V68',\t'V67',\t'V65',\t'V64',\t'V63',\t'V62',\t'V60',\t'V59',\t'V58',\t'V57',\t'V55',\t'V53',\t'V34',\n",
    "          'V33',\t'V32',\t'V31',\t'V30',\t'V29',\t'V28',\t'V27',\t'V26',\t'V25',\t'V24',\t'V22',\t'V21',\t'V19',\t'V18',\t'V17',\t'V16',\t'V15',\n",
    "          'V14',\t'V13',\t'V12',\t'V98','V141',\t'V173',\t'V325',\t'V142',\t'V174',\t'V194',\t'V197',\t'V301',\t'V153',\t'V302',\t'V304',\t'V148',\t'V154',\n",
    "          'V155',\t'V157',\t'V175',\t'V184',\t'V123',\t'V195',\t'V303',\t'V138',\t'V328',\t'V146',\t'V156',\t'V327',\t'V158',\t'V198',\t'V147',\t'V185',\t'V181',\n",
    "          'V169',\t'V188']\n",
    "Rare_10 = ['V107',\t'V117',\t'V118',\t'V119',\t'V120',\t'V121',\t'V122',\t'V108',\t'V109',\t'V110',\t'V111',\t'V112',\t'V113',\t'V114',\t'V115',\t'V116',\t'V124',\n",
    "           'V125',\t'V104']\n"
   ]
  },
  {
   "cell_type": "code",
   "execution_count": 29,
   "metadata": {},
   "outputs": [],
   "source": [
    "# Variable to drop\n",
    "Var_to_Drop = ['C3','TransactionID','TransactionDT']"
   ]
  },
  {
   "cell_type": "markdown",
   "metadata": {},
   "source": [
    "##### Drop unwanted Variables"
   ]
  },
  {
   "cell_type": "code",
   "execution_count": 30,
   "metadata": {},
   "outputs": [],
   "source": [
    "x_train = x_train.drop(Var_to_Drop,axis=1)\n",
    "x_valid = x_valid.drop(Var_to_Drop,axis=1)"
   ]
  },
  {
   "cell_type": "markdown",
   "metadata": {},
   "source": [
    "##### Feature engineering to string variables"
   ]
  },
  {
   "cell_type": "code",
   "execution_count": 31,
   "metadata": {},
   "outputs": [],
   "source": [
    "#Browser_transform(x_train,'id_31')\n",
    "#OS_transform(x_train,'id_30')\n",
    "Mail_transform(x_train,'P_emaildomain')\n",
    "Mail_transform(x_train,'R_emaildomain')\n",
    "\n",
    "#Browser_transform(x_valid,'id_31')\n",
    "#OS_transform(x_valid,'id_30')\n",
    "Mail_transform(x_valid,'P_emaildomain')\n",
    "Mail_transform(x_valid,'R_emaildomain')"
   ]
  },
  {
   "cell_type": "markdown",
   "metadata": {},
   "source": [
    "### Rare Encoding"
   ]
  },
  {
   "cell_type": "code",
   "execution_count": null,
   "metadata": {},
   "outputs": [],
   "source": []
  },
  {
   "cell_type": "code",
   "execution_count": 32,
   "metadata": {},
   "outputs": [],
   "source": [
    "rare_encoder2 = FeatureEngineering_Categorical( method='rare')\n",
    "rare_encoder2.fit(x_train, Rare_2, target=None, rare_tol=2)\n",
    "x_train = rare_encoder2.transform(x_train)\n",
    "x_valid = rare_encoder2.transform(x_valid)"
   ]
  },
  {
   "cell_type": "code",
   "execution_count": 38,
   "metadata": {},
   "outputs": [],
   "source": [
    "rare_encoder3 = FeatureEngineering_Categorical( method='rare')\n",
    "rare_encoder3.fit(x_train, Rare_4, target=None, rare_tol=4)\n",
    "x_train = rare_encoder3.transform(x_train)\n",
    "x_valid = rare_encoder3.transform(x_valid)"
   ]
  },
  {
   "cell_type": "code",
   "execution_count": 39,
   "metadata": {},
   "outputs": [],
   "source": [
    "rare_encoder4 = FeatureEngineering_Categorical( method='rare')\n",
    "rare_encoder4.fit(x_train, Rare_5, target=None, rare_tol=5)\n",
    "x_train = rare_encoder4.transform(x_train)\n",
    "x_valid = rare_encoder4.transform(x_valid)"
   ]
  },
  {
   "cell_type": "code",
   "execution_count": 40,
   "metadata": {},
   "outputs": [],
   "source": [
    "rare_encoder5 = FeatureEngineering_Categorical( method='rare')\n",
    "rare_encoder5.fit(x_train, Rare_10, target=None, rare_tol=10)\n",
    "x_train = rare_encoder5.transform(x_train)\n",
    "x_valid = rare_encoder5.transform(x_valid)"
   ]
  },
  {
   "cell_type": "code",
   "execution_count": 162,
   "metadata": {},
   "outputs": [
    {
     "data": {
      "text/plain": [
       "19"
      ]
     },
     "execution_count": 162,
     "metadata": {},
     "output_type": "execute_result"
    }
   ],
   "source": [
    "len(rare_encoder.param_dict_)"
   ]
  },
  {
   "cell_type": "code",
   "execution_count": null,
   "metadata": {},
   "outputs": [],
   "source": []
  },
  {
   "cell_type": "markdown",
   "metadata": {},
   "source": [
    "### Binning"
   ]
  },
  {
   "cell_type": "code",
   "execution_count": null,
   "metadata": {},
   "outputs": [],
   "source": []
  },
  {
   "cell_type": "code",
   "execution_count": 41,
   "metadata": {},
   "outputs": [
    {
     "name": "stdout",
     "output_type": "stream",
     "text": [
      "[1007.0, 2803.0, 4921.0, 6951.0, 8135.0, 9749.0, 11467.0, 12934.999999999993, 15124.0, 16632.0, 18395.0]\n",
      "[-inf, 2803.0, 4921.0, 6951.0, 8135.0, 9749.0, 11467.0, 12934.999999999993, 15124.0, 16632.0, inf]\n",
      "[100.0, 150.0, 185.0, 229.0]\n",
      "[-inf, 150.0, 185.0, inf]\n",
      "[100.0, 126.0, 166.0, 195.0, 224.0, 226.0, 236.0]\n",
      "[-inf, 126.0, 166.0, 195.0, 224.0, 226.0, inf]\n",
      "[100.0, 111.0, 194.0, 264.0, 321.0, 361.0, 445.0, 490.0, 543.0, 555.0, 600.0]\n",
      "[-inf, 111.0, 194.0, 264.0, 321.0, 361.0, 445.0, 490.0, 543.0, 555.0, inf]\n",
      "[0.0, 1.0, 2.0, 4.0, 6.0, 8.0, 12.0, 18.0, 35.0, 266.39999999999964, 4964.0]\n",
      "[-inf, 1.0, 2.0, 4.0, 6.0, 8.0, 12.0, 18.0, 35.0, 266.39999999999964, inf]\n",
      "[0.0, 0.58349609375, 0.83349609375, 3.041015625, 16.125, 41.71875, 85.0, 148.625, 243.875, 452.0, 1544.0]\n",
      "[-inf, 0.58349609375, 0.83349609375, 3.041015625, 16.125, 41.71875, 85.0, 148.625, 243.875, 452.0, inf]\n",
      "[0.0, 1.0, 7.0, 13.0, 32.0, 76.0, 156.5999999999999, 286.0, 619.6000000000001, 5888.0]\n",
      "[-inf, 1.0, 7.0, 13.0, 32.0, 76.0, 156.5999999999999, 286.0, 619.6000000000001, inf]\n",
      "[0.0, 1.0, 49.0]\n",
      "[-inf, 1.0, inf]\n",
      "[1.0, 36.0]\n",
      "[-inf, inf]\n",
      "[1.0, 39.0]\n",
      "[-inf, inf]\n",
      "[0.0, 1.0, 2.0, 37.0]\n",
      "[-inf, 1.0, 2.0, inf]\n",
      "[0.0, 1.0, 32.0]\n",
      "[-inf, 1.0, inf]\n",
      "[1.0, 2.0, 46.0]\n",
      "[-inf, 2.0, inf]\n",
      "[1.0, 43.0]\n",
      "[-inf, inf]\n",
      "[1.0, 2.0, 42.0]\n",
      "[-inf, 2.0, inf]\n",
      "[0.0, 1.0, 49.0]\n",
      "[-inf, 1.0, inf]\n",
      "[0.0, 1.0, 2.0, 3.0, 37.0]\n",
      "[-inf, 1.0, 2.0, 3.0, inf]\n",
      "[0.0, 1.0, 55.0]\n",
      "[-inf, 1.0, inf]\n",
      "[0.0, 1.0, 59.0]\n",
      "[-inf, 1.0, inf]\n",
      "[0.0, 1.0, 38.0]\n",
      "[-inf, 1.0, inf]\n",
      "[0.0, 1.0, 26.0]\n",
      "[-inf, 1.0, inf]\n",
      "[0.0, 1.0, 73.0]\n",
      "[-inf, 1.0, inf]\n",
      "[0.0, 1.0, 73.0]\n",
      "[-inf, 1.0, inf]\n",
      "[0.0, 1.0, 2.0, 35.0]\n",
      "[-inf, 1.0, 2.0, inf]\n",
      "[0.0, 199.0]\n",
      "[-inf, inf]\n",
      "[0.0, 43.0]\n",
      "[-inf, inf]\n",
      "[1.0, 27.0, 57.0]\n",
      "[-inf, 27.0, inf]\n",
      "[0.0, 1.0, 61.0]\n",
      "[-inf, 1.0, inf]\n",
      "[0.0, 1.0, 2.0, 31.0]\n",
      "[-inf, 1.0, 2.0, inf]\n",
      "[0.0, 1.0, 35.0]\n",
      "[-inf, 1.0, inf]\n",
      "[0.0, 1.0, 174.0]\n",
      "[-inf, 1.0, inf]\n",
      "[1.0, 61.0]\n",
      "[-inf, inf]\n",
      "[0.0, 1.0, 2.0, 68.0]\n",
      "[-inf, 1.0, 2.0, inf]\n",
      "[0.0, 1.0, 13.0, 61.0]\n",
      "[-inf, 1.0, 13.0, inf]\n",
      "[0.0, 1.0, 66.0]\n",
      "[-inf, 1.0, inf]\n",
      "[0.0, 1.0, 2.0, 64.0]\n",
      "[-inf, 1.0, 2.0, inf]\n",
      "[0.0, 1.0, 163.0]\n",
      "[-inf, 1.0, inf]\n",
      "[0.0, 1.0, 2.0, 65.0]\n",
      "[-inf, 1.0, 2.0, inf]\n",
      "[0.0, 1.0, 185.0]\n",
      "[-inf, 1.0, inf]\n",
      "[0.0, 1.0, 2.0, 3.0, 212.0]\n",
      "[-inf, 1.0, 2.0, 3.0, inf]\n",
      "[0.0, 1.0, 2.0, 212.0]\n",
      "[-inf, 1.0, 2.0, inf]\n",
      "[0.0, 1.0, 143.0]\n",
      "[-inf, 1.0, inf]\n",
      "[0.0, 121.0]\n",
      "[-inf, inf]\n",
      "[0.0, 1.0, 2.0, 176.0]\n",
      "[-inf, 1.0, 2.0, inf]\n",
      "[0.0, 71.0]\n",
      "[-inf, inf]\n",
      "[0.0, 71.0]\n",
      "[-inf, inf]\n",
      "[0.0, 1.0, 2.0, 3.0, 94.0]\n",
      "[-inf, 1.0, 2.0, 3.0, inf]\n",
      "[1.0, 214.0]\n",
      "[-inf, inf]\n",
      "[0.0, 1.0, 120.0]\n",
      "[-inf, 1.0, inf]\n",
      "[0.0, 3000.0]\n",
      "[-inf, inf]\n",
      "[1.0, 2.0, 309.0]\n",
      "[-inf, 2.0, inf]\n",
      "[1.0, 2.0, 1048.0]\n",
      "[-inf, 2.0, inf]\n",
      "[0.0, 1.0, 123.5, 296.0]\n",
      "[-inf, 1.0, 123.5, inf]\n",
      "[0.0, 1.0, 838.0]\n",
      "[-inf, 1.0, inf]\n",
      "[0.0, 1.0, 2.0, 849.0]\n",
      "[-inf, 1.0, 2.0, inf]\n",
      "[0.0, 1.0, 14.0, 846.0]\n",
      "[-inf, 1.0, 14.0, inf]\n",
      "[0.0, 1.0, 884.0]\n",
      "[-inf, 1.0, inf]\n",
      "[0.0, 1.0, 2.0, 919.0]\n",
      "[-inf, 1.0, 2.0, inf]\n",
      "[0.0, 1.0, 1181.0]\n",
      "[-inf, 1.0, inf]\n",
      "[0.0, 1.0, 279.0]\n",
      "[-inf, 1.0, inf]\n",
      "[0.0, 1.0, 2.0, 295.0]\n",
      "[-inf, 1.0, 2.0, inf]\n",
      "[0.0, 1.0, 302.0]\n",
      "[-inf, 1.0, inf]\n",
      "[0.0, 1.0, 307.0]\n",
      "[-inf, 1.0, inf]\n",
      "[0.0, 1.0, 2.0, 341.0]\n",
      "[-inf, 1.0, 2.0, inf]\n",
      "[0.0, 1.0, 3.0, 363.0]\n",
      "[-inf, 1.0, 3.0, inf]\n",
      "[0.0, 100.0, 1377.0, 50816.0]\n",
      "[-inf, 100.0, 1377.0, inf]\n",
      "[0.0, 100.0, 1335.0, 91298.0]\n",
      "[-inf, 100.0, 1335.0, inf]\n",
      "[0.0, 3162.0]\n",
      "[-inf, inf]\n",
      "[0.0, 846.0]\n",
      "[-inf, inf]\n",
      "[0.0, 1.0, 857.0]\n",
      "[-inf, 1.0, inf]\n",
      "[0.0, 892.0]\n",
      "[-inf, inf]\n",
      "[0.0, 150.0, 8230.0, 95492.0]\n",
      "[-inf, 150.0, 8230.0, inf]\n",
      "[0.0, 1.0, 2.0, 935.0]\n",
      "[-inf, 1.0, 2.0, inf]\n",
      "[1.0, 1698.5, 3388.0]\n",
      "[-inf, 1698.5, inf]\n",
      "[0.0, 11624.0]\n",
      "[-inf, inf]\n",
      "[0.0, 1.0, 1229.0]\n",
      "[-inf, 1.0, inf]\n",
      "[0.0, 18896.0]\n",
      "[-inf, inf]\n",
      "[0.0, 2124.0]\n",
      "[-inf, inf]\n",
      "[0.0, 4566.0, 43712.0]\n",
      "[-inf, 4566.0, inf]\n",
      "[0.0, 18896.0]\n",
      "[-inf, inf]\n",
      "[0.0, 3000.0]\n",
      "[-inf, inf]\n",
      "[0.0, 68.9375, 3980.0]\n",
      "[-inf, 68.9375, inf]\n",
      "[0.0, 5648.0]\n",
      "[-inf, inf]\n",
      "[0.0, 91298.0]\n",
      "[-inf, inf]\n",
      "[0.0, 3000.0]\n",
      "[-inf, inf]\n",
      "[0.0, 90.0, 208031.234375, 641052.4375]\n",
      "[-inf, 90.0, 208031.234375, inf]\n",
      "[0.0, 3000.0]\n",
      "[-inf, inf]\n",
      "[0.0, 13.642187500000013, 3000.0]\n",
      "[-inf, 13.642187500000013, inf]\n",
      "[0.0, 15.0, 3000.0]\n",
      "[-inf, 15.0, inf]\n",
      "[0.0, 50816.0]\n",
      "[-inf, inf]\n",
      "[0.0, 50816.0]\n",
      "[-inf, inf]\n",
      "[0.0, 7.5, 11872.0]\n",
      "[-inf, 7.5, inf]\n",
      "[0.0, 3000.0]\n",
      "[-inf, inf]\n",
      "[0.0, 6.18359375, 50816.0]\n",
      "[-inf, 6.18359375, inf]\n",
      "[0.0, 95492.0]\n",
      "[-inf, inf]\n",
      "[0.0, 18.21875, 50816.0]\n",
      "[-inf, 18.21875, inf]\n",
      "[0.0, 16.921875, 50816.0]\n",
      "[-inf, 16.921875, inf]\n",
      "[0.0, 21.265625, 4724.0]\n",
      "[-inf, 21.265625, inf]\n",
      "[0.0, 15.7109375, 25408.0]\n",
      "[-inf, 15.7109375, inf]\n",
      "[0.0, 25.0, 50816.0]\n",
      "[-inf, 25.0, inf]\n",
      "[0.0, 25.453125, 26800.0]\n",
      "[-inf, 25.453125, inf]\n",
      "[0.0, 59.0, 92463.0]\n",
      "[-inf, 59.0, inf]\n",
      "[0.0, 129001.0]\n",
      "[-inf, inf]\n",
      "[0.0, 39.0, 160.5, 100091.0]\n",
      "[-inf, 39.0, 160.5, inf]\n",
      "[0.0, 50.0, 28464.0]\n",
      "[-inf, 50.0, inf]\n",
      "[0.0, 61.34375, 29952.0]\n",
      "[-inf, 61.34375, inf]\n",
      "[0.0, 29.0, 107.9375, 235.97500000000036, 4676.0]\n",
      "[-inf, 29.0, 107.9375, 235.97500000000036, inf]\n",
      "[0.0, 50.0, 90450.0]\n",
      "[-inf, 50.0, inf]\n",
      "[0.0, 59.0, 154.0, 360.99899902343753, 139011.0]\n",
      "[-inf, 59.0, 154.0, 360.99899902343753, inf]\n",
      "[0.0, 75.0, 30384.0]\n",
      "[-inf, 75.0, inf]\n",
      "[0.0, 62.04180145263672, 94644.0]\n",
      "[-inf, 62.04180145263672, inf]\n",
      "[0.0, 69.54344940185547, 124182.0]\n",
      "[-inf, 69.54344940185547, inf]\n",
      "[0.0, 30.09375, 145.375, 50816.0]\n",
      "[-inf, 30.09375, 145.375, inf]\n",
      "[0.0, 27.18899917602539, 140.91110229492188, 91615.0]\n",
      "[-inf, 27.18899917602539, 140.91110229492188, inf]\n",
      "[0.0, 50.0, 157.625, 50816.0]\n",
      "[-inf, 50.0, 157.625, inf]\n",
      "[0.0, 50.0, 161.25780487060547, 98453.0]\n",
      "[-inf, 50.0, 161.25780487060547, inf]\n",
      "[0.0, 4.554299831390381, 65.53820037841797, 200.0, 69900.0]\n",
      "[-inf, 4.554299831390381, 65.53820037841797, 200.0, inf]\n",
      "[0.0, 61.11090087890625, 200.0, 132571.0]\n",
      "[-inf, 61.11090087890625, 200.0, inf]\n"
     ]
    }
   ],
   "source": [
    "### ADAPTIVE 10 PERCENTILE BINNING \n",
    "\n",
    "from fast_ml.feature_engineering import FeatureEngineering_Numerical\n",
    "num_binner = FeatureEngineering_Numerical(method = '10p', adaptive = True)\n",
    "num_binner.fit(x_train, Adaptive_10p)\n",
    "x_train = num_binner.transform(x_train)\n",
    "x_valid = num_binner.transform(x_valid)"
   ]
  },
  {
   "cell_type": "code",
   "execution_count": 42,
   "metadata": {},
   "outputs": [
    {
     "name": "stdout",
     "output_type": "stream",
     "text": [
      "[0.0, 1.0, 2.0, 35.0]\n",
      "[-inf, 1.0, 2.0, inf]\n",
      "[0.0, 1.0, 49.0]\n",
      "[-inf, 1.0, inf]\n",
      "[0.0, 1.0, 77.0]\n",
      "[-inf, 1.0, inf]\n",
      "[0.0, 3000.0]\n",
      "[-inf, inf]\n",
      "[0.0, 3000.0]\n",
      "[-inf, inf]\n",
      "[0.0, 3000.0]\n",
      "[-inf, inf]\n",
      "[0.0, 1.0, 846.0]\n",
      "[-inf, 1.0, inf]\n",
      "[0.0, 1.0, 892.0]\n",
      "[-inf, 1.0, inf]\n",
      "[0.0, 1.0, 1228.0]\n",
      "[-inf, 1.0, inf]\n"
     ]
    }
   ],
   "source": [
    "### ADAPTIVE 5 PERCENTILE BINNING \n",
    "num_binner2 = FeatureEngineering_Numerical(method = '5p', adaptive = True)\n",
    "num_binner2.fit(x_train, Adaptive_5p)\n",
    "x_train = num_binner2.transform(x_train)\n",
    "x_valid = num_binner2.transform(x_valid)"
   ]
  },
  {
   "cell_type": "code",
   "execution_count": null,
   "metadata": {},
   "outputs": [],
   "source": []
  },
  {
   "cell_type": "code",
   "execution_count": 43,
   "metadata": {
    "scrolled": true
   },
   "outputs": [
    {
     "name": "stdout",
     "output_type": "stream",
     "text": [
      "[0.467041015625, 26.0609375, 35.9375, 57.9375, 70.0, 100.0, 117.0, 280.0, 31936.0]\n",
      "[-inf, 26.0609375, 35.9375, 57.9375, 70.0, 100.0, 117.0, 280.0, inf]\n",
      "TransactionAmt [0, 10, 20, 40, 50, 60, 70, 90, 100]\n",
      "[0.0, 1.0, 2.0, 3.0, 6.0, 4632.0]\n",
      "[-inf, 1.0, 2.0, 3.0, 6.0, inf]\n",
      "C1 [0, 50, 70, 80, 90, 100]\n",
      "[0.0, 1.0, 2.0, 3.0, 7.0, 5416.0]\n",
      "[-inf, 1.0, 2.0, 3.0, 7.0, inf]\n",
      "C2 [0, 50, 70, 80, 90, 100]\n",
      "[0.0, 0.0, 1.0, 2220.0]\n",
      "[-inf, 0.0, 1.0, inf]\n",
      "C4 [0, 70, 90, 100]\n",
      "[0.0, 0.0, 1.0, 3.0, 324.0]\n",
      "[-inf, 0.0, 1.0, 3.0, inf]\n",
      "C5 [0, 60, 80, 90, 100]\n",
      "[0.0, 1.0, 2.0, 5.0, 2220.0]\n",
      "[-inf, 1.0, 2.0, 5.0, inf]\n",
      "C6 [0, 60, 80, 90, 100]\n",
      "[0.0, 0.0, 1.0, 2220.0]\n",
      "[-inf, 0.0, 1.0, inf]\n",
      "C7 [0, 80, 90, 100]\n",
      "[0.0, 0.0, 1.0, 3260.0]\n",
      "[-inf, 0.0, 1.0, inf]\n",
      "C8 [0, 70, 90, 100]\n",
      "[0.0, 1.0, 2.0, 4.0, 194.0]\n",
      "[-inf, 1.0, 2.0, 4.0, inf]\n",
      "C9 [0, 60, 80, 90, 100]\n",
      "[0.0, 0.0, 1.0, 3182.0]\n",
      "[-inf, 0.0, 1.0, inf]\n",
      "C10 [0, 70, 90, 100]\n",
      "[0.0, 1.0, 2.0, 4.0, 3132.0]\n",
      "[-inf, 1.0, 2.0, 4.0, inf]\n",
      "C11 [0, 60, 80, 90, 100]\n",
      "[0.0, 0.0, 1.0, 3132.0]\n",
      "[-inf, 0.0, 1.0, inf]\n",
      "C12 [0, 80, 90, 100]\n",
      "[0.0, 1.0, 3.0, 5.0, 9.0, 16.0, 37.0, 2798.0]\n",
      "[-inf, 1.0, 3.0, 5.0, 9.0, 16.0, 37.0, inf]\n",
      "C13 [0, 10, 50, 60, 70, 80, 90, 100]\n",
      "[0.0, 3.0, 5.0, 1394.0]\n",
      "[-inf, 3.0, 5.0, inf]\n",
      "C14 [0, 80, 90, 100]\n",
      "[0.0, 2.0, 29.0, 81.0, 179.0, 362.0, 640.0]\n",
      "[-inf, 2.0, 29.0, 81.0, 179.0, 362.0, inf]\n",
      "D1 [0, 50, 60, 70, 80, 90, 100]\n",
      "[100.0, 441.0, 536.0]\n",
      "[-inf, 441.0, inf]\n",
      "addr1 [0, 90, 100]\n",
      "[0.0, 14.0, 56.0, 133.0, 267.0, 455.0, 834.0]\n",
      "[-inf, 14.0, 56.0, 133.0, 267.0, 455.0, inf]\n",
      "D10 [0, 50, 60, 70, 80, 90, 100]\n",
      "[-74.0, 0.0, 9.0, 52.0, 128.0, 244.0, 382.0, 508.0, 864.0]\n",
      "[-inf, 0.0, 9.0, 52.0, 128.0, 244.0, 382.0, 508.0, inf]\n",
      "D15 [0, 30, 40, 50, 60, 70, 80, 90, 100]\n",
      "[-74.0, 0.0, 26.0, 81.0, 180.99999999999818, 327.0, 476.0, 864.0]\n",
      "[-inf, 0.0, 26.0, 81.0, 180.99999999999818, 327.0, 476.0, inf]\n",
      "D4 [0, 10, 50, 60, 70, 80, 90, 100]\n",
      "[0.0, 2.0, 5.0, 8.0, 14.0, 729.0]\n",
      "[-inf, 2.0, 5.0, 8.0, 14.0, inf]\n",
      "D3 [0, 30, 40, 50, 60, 100]\n",
      "[0.0, 4.0, 17.0, 35.0, 61.0, 97.0, 152.0, 228.0, 640.0]\n",
      "[-inf, 4.0, 17.0, 35.0, 61.0, 97.0, 152.0, 228.0, inf]\n",
      "D2 [0, 10, 20, 30, 40, 50, 60, 70, 100]\n",
      "[0.0, 7.0, 43.0, 105.0, 211.0, 337.0, 462.0, 666.0]\n",
      "[-inf, 7.0, 43.0, 105.0, 211.0, 337.0, 462.0, inf]\n",
      "D11 [0, 40, 50, 60, 70, 80, 90, 100]\n",
      "[-74.0, 10.0, 106.40000000000009, 299.7000000000003, 834.0]\n",
      "[-inf, 10.0, 106.40000000000009, 299.7000000000003, inf]\n",
      "D6 [0, 70, 80, 90, 100]\n",
      "[-74.0, 2.0, 44.0, 241.0, 624.0]\n",
      "[-inf, 2.0, 44.0, 241.0, inf]\n",
      "D12 [0, 70, 80, 90, 100]\n",
      "[0.0, 0.0, 41.0, 282.3000000000002, 856.0]\n",
      "[-inf, 0.0, 41.0, 282.3000000000002, inf]\n",
      "D14 [0, 70, 80, 90, 100]\n",
      "[0.0, 26.0, 791.0]\n",
      "[-inf, 26.0, inf]\n",
      "D13 [0, 90, 100]\n",
      "[0.0, 2.0, 155.0, 603.0]\n",
      "[-inf, 2.0, 155.0, inf]\n",
      "D7 [0, 60, 90, 100]\n",
      "[0.0, 1.0, 49.0]\n",
      "[-inf, 1.0, inf]\n",
      "V330 [0, 90, 100]\n",
      "[0.0, 1.0, 77.0]\n",
      "[-inf, 1.0, inf]\n",
      "V329 [0, 90, 100]\n",
      "[0.0, 1.0, 43.0]\n",
      "[-inf, 1.0, inf]\n",
      "V326 [0, 90, 100]\n",
      "[0.0, 100.0, 3000.0]\n",
      "[-inf, 100.0, inf]\n",
      "V334 [0, 98, 100]\n",
      "[0.0, 200.0, 8248.0]\n",
      "[-inf, 200.0, inf]\n",
      "V337 [0, 95, 100]\n",
      "[0.0, 35.0, 10000.0]\n",
      "[-inf, 35.0, inf]\n",
      "V339 [0, 90, 100]\n",
      "[0.0, 100.0, 3000.0]\n",
      "[-inf, 100.0, inf]\n",
      "V336 [0, 95, 100]\n",
      "[0.0, 50.0, 10000.0]\n",
      "[-inf, 50.0, inf]\n",
      "V338 [0, 90, 100]\n",
      "[0.0, 3.0, 857.0]\n",
      "[-inf, 3.0, inf]\n",
      "V322 [0, 95, 100]\n",
      "[0.0, 1.0, 936.0]\n",
      "[-inf, 1.0, inf]\n",
      "V324 [0, 80, 100]\n",
      "[0.0, 3.0, 1333.0]\n",
      "[-inf, 3.0, inf]\n",
      "V323 [0, 90, 100]\n",
      "[0.0, 40.0, 3000.0]\n",
      "[-inf, 40.0, inf]\n",
      "V335 [0, 90, 100]\n",
      "[0.0, 150.0, 92463.0]\n",
      "[-inf, 150.0, inf]\n",
      "V331 [0, 90, 100]\n",
      "[0.0, 50.0, 100091.0]\n",
      "[-inf, 50.0, inf]\n",
      "V333 [0, 80, 100]\n",
      "[0.0, 75.0, 139117.0]\n",
      "[-inf, 75.0, inf]\n",
      "V332 [0, 80, 100]\n",
      "[0.0, 44.53125, 2750.0]\n",
      "[-inf, 44.53125, inf]\n",
      "V311 [0, 98, 100]\n",
      "[0.0, 189.04000000000087, 50816.0]\n",
      "[-inf, 189.04000000000087, inf]\n",
      "V319 [0, 98, 100]\n",
      "[0.0, 47.99062499999923, 50816.0]\n",
      "[-inf, 47.99062499999923, inf]\n",
      "V321 [0, 95, 100]\n",
      "[0.0, 54.5, 3006.0]\n",
      "[-inf, 54.5, inf]\n",
      "V309 [0, 95, 100]\n",
      "[0.0, 100.0, 50816.0]\n",
      "[-inf, 100.0, inf]\n",
      "V320 [0, 95, 100]\n",
      "[0.0, 85.0071403503417, 91298.0]\n",
      "[-inf, 85.0071403503417, inf]\n",
      "V316 [0, 95, 100]\n",
      "[0.0, 58.9375, 4080.0]\n",
      "[-inf, 58.9375, inf]\n",
      "V313 [0, 90, 100]\n",
      "[0.0, 156.0, 95492.0]\n",
      "[-inf, 156.0, inf]\n",
      "V318 [0, 95, 100]\n",
      "[0.0, 68.45000000000073, 4080.0]\n",
      "[-inf, 68.45000000000073, inf]\n",
      "V315 [0, 90, 100]\n",
      "[0.0, 16.7468750000005, 107.9375, 3980.0]\n",
      "[-inf, 16.7468750000005, 107.9375, inf]\n",
      "V312 [0, 80, 90, 100]\n",
      "[0.0, 58.0, 129107.0]\n",
      "[-inf, 58.0, inf]\n",
      "V317 [0, 90, 100]\n",
      "[0.0, 97.25075988769534, 92463.0]\n",
      "[-inf, 97.25075988769534, inf]\n",
      "V306 [0, 90, 100]\n",
      "[0.0, 108.9375, 6160.0]\n",
      "[-inf, 108.9375, inf]\n",
      "V314 [0, 90, 100]\n",
      "[0.0, 63.39464111328151, 100036.0]\n",
      "[-inf, 63.39464111328151, inf]\n",
      "V308 [0, 80, 100]\n",
      "[0.0, 61.09374999999977, 141.0, 312.0, 19808.0]\n",
      "[-inf, 61.09374999999977, 141.0, 312.0, inf]\n",
      "V310 [0, 70, 80, 90, 100]\n",
      "[0.0, 49.990000152587854, 215.89999389648438, 138524.0]\n",
      "[-inf, 49.990000152587854, 215.89999389648438, inf]\n",
      "V307 [0, 60, 80, 100]\n"
     ]
    }
   ],
   "source": [
    "for key, value in Custom_Bin.items():\n",
    "    num_bin_custom = FeatureEngineering_Numerical(method = 'custom', adaptive = False, custom_buckets= value)\n",
    "    num_bin_custom.fit(x_train,[key])\n",
    "    print(key,value)\n",
    "    x_train = num_bin_custom.transform(x_train)\n",
    "    x_valid = num_bin_custom.transform(x_valid)"
   ]
  },
  {
   "cell_type": "code",
   "execution_count": 44,
   "metadata": {},
   "outputs": [],
   "source": [
    "cat_imputer = MissingDataImputer_Categorical(method = 'custom_value',add_indicator=False,value = 'Missing')\n",
    "cat_imputer.fit(x_train, variables = Rare_5)\n",
    "x_train = cat_imputer.transform(x_train)\n",
    "x_valid = cat_imputer.transform(x_valid)\n",
    "\n",
    "cat_imputer2 = MissingDataImputer_Categorical(method = 'custom_value',add_indicator=False,value = 'Missing')\n",
    "cat_imputer2.fit(x_train, variables = Rare_10)\n",
    "x_train = cat_imputer2.transform(x_train)\n",
    "x_valid = cat_imputer2.transform(x_valid)"
   ]
  },
  {
   "cell_type": "code",
   "execution_count": 25,
   "metadata": {},
   "outputs": [],
   "source": []
  },
  {
   "cell_type": "code",
   "execution_count": 46,
   "metadata": {},
   "outputs": [
    {
     "name": "stdout",
     "output_type": "stream",
     "text": [
      "[0.0, 1.0, 2.0, 4.0, 29.0]\n",
      "[-inf, 1.0, 2.0, 4.0, inf]\n",
      "[1.0, 2.0, 64.0, 68.0, 69.0]\n",
      "[-inf, 2.0, 64.0, 68.0, inf]\n",
      "[0.0, 1.0, 38.0]\n",
      "[-inf, 1.0, inf]\n",
      "[1.0, 2.0, 37.0]\n",
      "[-inf, 2.0, inf]\n",
      "[0.0, 1.0, 29.0]\n",
      "[-inf, 1.0, inf]\n",
      "[1.0, 37.0]\n",
      "[-inf, inf]\n",
      "[0.0, 1.0, 2.0, 25.0]\n",
      "[-inf, 1.0, 2.0, inf]\n",
      "[0.0, 1.0, 2.0, 3.0, 5.0, 7.0, 9.0, 13.0, 15.0, 21.0, 27.0, 33.0, 46.0, 68.0, 113.0, 237.0, 729.0]\n",
      "[-inf, 1.0, 2.0, 3.0, 5.0, 7.0, 9.0, 13.0, 15.0, 21.0, 27.0, 33.0, 46.0, 68.0, 113.0, 237.0, inf]\n",
      "[0.0, 1.0, 2.0, 31.0]\n",
      "[-inf, 1.0, 2.0, inf]\n",
      "[0.0, 1.0, 2.0, 32.0]\n",
      "[-inf, 1.0, 2.0, inf]\n",
      "[0.0, 1.0, 2.0, 31.0]\n",
      "[-inf, 1.0, 2.0, inf]\n",
      "[0.0, 1.0, 2.0, 31.0]\n",
      "[-inf, 1.0, 2.0, inf]\n",
      "[0.0, 1.0, 2.0, 25.0]\n",
      "[-inf, 1.0, 2.0, inf]\n",
      "[0.0, 1.0, 2.0, 23.0]\n",
      "[-inf, 1.0, 2.0, inf]\n",
      "[0.0, 1.0, 2.0, 3.0, 4.0, 86.0]\n",
      "[-inf, 1.0, 2.0, 3.0, 4.0, inf]\n",
      "[0.0, 1.0, 857.0]\n",
      "[-inf, 1.0, inf]\n",
      "[0.0, 1.0, 2.0, 3.0, 6.0, 1332.0]\n",
      "[-inf, 1.0, 2.0, 3.0, 6.0, inf]\n",
      "[0.0, 1.0, 3.0, 936.0]\n",
      "[-inf, 1.0, 3.0, inf]\n",
      "[0.0, 1.0, 2.0, 31.0]\n",
      "[-inf, 1.0, 2.0, inf]\n"
     ]
    }
   ],
   "source": [
    "licol = x_train.columns\n",
    "mda_obj = MissingDataAnalysis(x_train[licol], target='isfraud', model = 'Classification' )\n",
    "X_miss = mda_obj.calculate_missing_values()\n",
    "x_missvar = X_miss.variables\n",
    "catcol =[]\n",
    "numcol = []\n",
    "for col in x_missvar:\n",
    "    if len(x_train[col].unique()) <=20 :\n",
    "        catcol.append(col)\n",
    "    else:\n",
    "        numcol.append(col)\n",
    "#catcol.extend([\"id_31\",\"id_33\",\"DeviceInfo\"])\n",
    "#numcol.remove(\"id_33\")\n",
    "#numcol.remove(\"DeviceInfo\")\n",
    "rare_encoder1 = FeatureEngineering_Categorical( method='rare')\n",
    "rare_encoder1.fit(x_train, catcol, target=None, rare_tol=5)\n",
    "x_train = rare_encoder1.transform(x_train)\n",
    "x_valid = rare_encoder1.transform(x_valid)\n",
    "\n",
    "num_binner3 = FeatureEngineering_Numerical(method = '5p', adaptive = True)\n",
    "num_binner3.fit(x_train, numcol)\n",
    "x_train = num_binner3.transform(x_train)\n",
    "x_valid = num_binner3.transform(x_valid)\n"
   ]
  },
  {
   "cell_type": "code",
   "execution_count": null,
   "metadata": {},
   "outputs": [],
   "source": [
    "#x_train['variable'].head()"
   ]
  },
  {
   "cell_type": "markdown",
   "metadata": {},
   "source": [
    "### Label Encoding -  Avoid Label Encoding Just RUN One Hot"
   ]
  },
  {
   "cell_type": "code",
   "execution_count": 47,
   "metadata": {},
   "outputs": [],
   "source": [
    "label_encoder = FeatureEngineering_Categorical( method='label')\n",
    "label_encoder.fit(x_train,variables= Rare_5)\n",
    "x_train= label_encoder.transform(x_train)\n",
    "x_valid = label_encoder.transform(x_valid)"
   ]
  },
  {
   "cell_type": "code",
   "execution_count": 170,
   "metadata": {},
   "outputs": [],
   "source": [
    "label_encoder2 = FeatureEngineering_Categorical( method='label')\n",
    "label_encoder2.fit(x_train,variables= Rare_10)\n",
    "x_train= label_encoder2.transform(x_train)\n",
    "x_valid = label_encoder2.transform(x_valid)"
   ]
  },
  {
   "cell_type": "code",
   "execution_count": 171,
   "metadata": {},
   "outputs": [],
   "source": [
    "label_encoder3 = FeatureEngineering_Categorical( method='label')\n",
    "label_encoder3.fit(x_train,variables= Rare_10)\n",
    "x_train= label_encoder3.transform(x_train)\n",
    "x_valid = label_encoder3.transform(x_valid)"
   ]
  },
  {
   "cell_type": "code",
   "execution_count": 172,
   "metadata": {},
   "outputs": [],
   "source": [
    "label_encoder4 = FeatureEngineering_Categorical( method='label')\n",
    "label_encoder4.fit(x_train,variables= catcol)\n",
    "x_train= label_encoder4.transform(x_train)\n",
    "x_valid = label_encoder4.transform(x_valid)"
   ]
  },
  {
   "cell_type": "code",
   "execution_count": 173,
   "metadata": {},
   "outputs": [],
   "source": [
    "#label_encoder4 = FeatureEngineering_Categorical( method='label')\n",
    "label_encoder4.fit(x_train,variables= Adaptive_10p)\n",
    "x_train= label_encoder4.transform(x_train)\n",
    "x_valid = label_encoder4.transform(x_valid)"
   ]
  },
  {
   "cell_type": "code",
   "execution_count": 175,
   "metadata": {},
   "outputs": [],
   "source": [
    "label_encoder5 = FeatureEngineering_Categorical( method='label')\n",
    "label_encoder5.fit(x_train,variables= Adaptive_5p)\n",
    "x_train= label_encoder5.transform(x_train)\n",
    "x_valid = label_encoder5.transform(x_valid)"
   ]
  },
  {
   "cell_type": "code",
   "execution_count": 176,
   "metadata": {},
   "outputs": [],
   "source": [
    "label_encoder6 = FeatureEngineering_Categorical( method='label')\n",
    "label_encoder6.fit(x_train,variables= numcol)\n",
    "x_train= label_encoder6.transform(x_train)\n",
    "x_valid = label_encoder6.transform(x_valid)"
   ]
  },
  {
   "cell_type": "code",
   "execution_count": 49,
   "metadata": {},
   "outputs": [],
   "source": [
    "listcolumn= ['TransactionAmt','addr1','P_emaildomain','R_emaildomain','C1','C2','C4','C5','C6','C7','C8','C9','C10','C11','C12','C13','C14','D1','D2','D3','D4','D6','D7','D10','D11','D12','D13','D14','D15','V306','V307','V308','V309','V310','V311','V312','V313','V314','V315','V316','V317','V318','V319','V320','V321','V322','V323','V324','V326','V329','V330','V331','V332','V333','V334','V335','V336','V337','V338','V339']"
   ]
  },
  {
   "cell_type": "code",
   "execution_count": 180,
   "metadata": {},
   "outputs": [],
   "source": [
    "label_encoder7 = FeatureEngineering_Categorical( method='label')\n",
    "label_encoder7.fit(x_train,variables= listcolumn)\n",
    "x_train= label_encoder7.transform(x_train)\n",
    "x_valid = label_encoder7.transform(x_valid)"
   ]
  },
  {
   "cell_type": "markdown",
   "metadata": {},
   "source": [
    "### One Hot"
   ]
  },
  {
   "cell_type": "code",
   "execution_count": null,
   "metadata": {},
   "outputs": [],
   "source": [
    "Onehot_Encode = FeatureEngineering_Categorical( method='onehot')\n",
    "Onehot_Encode.fit(x_train,variables= Rare_5)\n",
    "x_train= Onehot_Encode.transform(x_train)\n",
    "x_valid = Onehot_Encode.transform(x_valid)"
   ]
  },
  {
   "cell_type": "code",
   "execution_count": 56,
   "metadata": {},
   "outputs": [],
   "source": [
    "Onehot_Encode2 = FeatureEngineering_Categorical( method='onehot')\n",
    "Onehot_Encode2.fit(x_train,variables= Rare_10)\n",
    "x_train= Onehot_Encode2.transform(x_train)\n",
    "x_valid = Onehot_Encode2.transform(x_valid)"
   ]
  },
  {
   "cell_type": "code",
   "execution_count": null,
   "metadata": {},
   "outputs": [],
   "source": []
  },
  {
   "cell_type": "code",
   "execution_count": 59,
   "metadata": {},
   "outputs": [],
   "source": [
    "Onehot_Encode4 = FeatureEngineering_Categorical( method='onehot')\n",
    "Onehot_Encode4.fit(x_train,variables= catcol)\n",
    "x_train= Onehot_Encode4.transform(x_train)\n",
    "x_valid = Onehot_Encode4.transform(x_valid)"
   ]
  },
  {
   "cell_type": "code",
   "execution_count": 60,
   "metadata": {},
   "outputs": [],
   "source": [
    "#Onehot_Encode4 = FeatureEngineering_Categorical( method='Onehot')\n",
    "Onehot_Encode4.fit(x_train,variables= Adaptive_10p)\n",
    "x_train= Onehot_Encode4.transform(x_train)\n",
    "x_valid = Onehot_Encode4.transform(x_valid)"
   ]
  },
  {
   "cell_type": "code",
   "execution_count": 61,
   "metadata": {},
   "outputs": [],
   "source": [
    "Onehot_Encode5 = FeatureEngineering_Categorical( method='onehot')\n",
    "Onehot_Encode5.fit(x_train,variables= Adaptive_5p)\n",
    "x_train= Onehot_Encode5.transform(x_train)\n",
    "x_valid = Onehot_Encode5.transform(x_valid)"
   ]
  },
  {
   "cell_type": "code",
   "execution_count": 62,
   "metadata": {},
   "outputs": [],
   "source": [
    "Onehot_Encode6 = FeatureEngineering_Categorical( method='onehot')\n",
    "Onehot_Encode6.fit(x_train,variables= numcol)\n",
    "x_train= Onehot_Encode6.transform(x_train)\n",
    "x_valid = Onehot_Encode6.transform(x_valid)"
   ]
  },
  {
   "cell_type": "code",
   "execution_count": null,
   "metadata": {},
   "outputs": [],
   "source": [
    "listcolumn= ['TransactionAmt','addr1','P_emaildomain','R_emaildomain','C1','C2','C4','C5','C6','C7','C8','C9','C10','C11','C12','C13','C14','D1','D2','D3','D4','D6','D7','D10','D11','D12','D13','D14','D15','V306','V307','V308','V309','V310','V311','V312','V313','V314','V315','V316','V317','V318','V319','V320','V321','V322','V323','V324','V326','V329','V330','V331','V332','V333','V334','V335','V336','V337','V338','V339']"
   ]
  },
  {
   "cell_type": "code",
   "execution_count": 63,
   "metadata": {},
   "outputs": [],
   "source": [
    "Onehot_Encode7 = FeatureEngineering_Categorical( method='onehot')\n",
    "Onehot_Encode7.fit(x_train,variables= listcolumn)\n",
    "x_train= Onehot_Encode7.transform(x_train)\n",
    "x_valid = Onehot_Encode7.transform(x_valid)"
   ]
  },
  {
   "cell_type": "code",
   "execution_count": 64,
   "metadata": {},
   "outputs": [],
   "source": [
    "DF_Analysis= pd.DataFrame(x_train.dtypes)\n",
    "DF_Analysis.index.name = \"Variable\"\n",
    "DF_Analysis.columns = [\"DType\"]\n",
    "DF_Analysis[\"Unique\"] = x_train.nunique()\n",
    "DF_Analysis[\"Missing_Count\"]=pd.DataFrame(x_train.isnull().sum())\n",
    "DF_Analysis[\"Missing_Rate\"] = round((x_train.isnull().sum()/x_train.shape[0])*100,2)\n",
    "\n",
    "DF_Analysis[\"Cat_Num\"] = np.where(DF_Analysis.Unique >=60,\"Numerical\",(np.where(DF_Analysis.DType == \"object\",\n",
    "                                                                     \"Categorical\",\"Num_Cat\")))\n",
    "DF_Analysis.sort_values(by = [\"Missing_Count\"], ascending= False)\n",
    "DF_Analysis[\"Imputation_Method\"] = np.where(DF_Analysis.Missing_Rate >0,\n",
    "                                            np.where(DF_Analysis.Cat_Num == \"Categorical\",\"Missing\",\n",
    "                                            np.where(DF_Analysis.Cat_Num == \"Num_Cat\",\"Missing\",\"Binning\")),\"Not Applicable\")\n",
    "    #np.where(DF_Analysis.Missing_Rate ==0,\"Not Applicable\",np.where(DF_Analysis.Cat_Num == \"Categorical\",\"Mode\",\n",
    "   # np.where(DF_Analysis.Cat_Num == \"Num_Cat\",\"Mode\",\"Mean_Median\"))))\n",
    "DF_Analysis[\"Drop_Variable\"] =  np.where(DF_Analysis.Missing_Rate >=90, \"Yes\",\"No\")"
   ]
  },
  {
   "cell_type": "code",
   "execution_count": 65,
   "metadata": {},
   "outputs": [
    {
     "data": {
      "text/html": [
       "<div>\n",
       "<style scoped>\n",
       "    .dataframe tbody tr th:only-of-type {\n",
       "        vertical-align: middle;\n",
       "    }\n",
       "\n",
       "    .dataframe tbody tr th {\n",
       "        vertical-align: top;\n",
       "    }\n",
       "\n",
       "    .dataframe thead th {\n",
       "        text-align: right;\n",
       "    }\n",
       "</style>\n",
       "<table border=\"1\" class=\"dataframe\">\n",
       "  <thead>\n",
       "    <tr style=\"text-align: right;\">\n",
       "      <th></th>\n",
       "      <th>DType</th>\n",
       "      <th>Unique</th>\n",
       "      <th>Missing_Count</th>\n",
       "      <th>Missing_Rate</th>\n",
       "      <th>Cat_Num</th>\n",
       "      <th>Imputation_Method</th>\n",
       "      <th>Drop_Variable</th>\n",
       "    </tr>\n",
       "    <tr>\n",
       "      <th>Variable</th>\n",
       "      <th></th>\n",
       "      <th></th>\n",
       "      <th></th>\n",
       "      <th></th>\n",
       "      <th></th>\n",
       "      <th></th>\n",
       "      <th></th>\n",
       "    </tr>\n",
       "  </thead>\n",
       "  <tbody>\n",
       "    <tr>\n",
       "      <th>TransactionDT</th>\n",
       "      <td>int32</td>\n",
       "      <td>31941</td>\n",
       "      <td>0</td>\n",
       "      <td>0.0</td>\n",
       "      <td>Numerical</td>\n",
       "      <td>Not Applicable</td>\n",
       "      <td>No</td>\n",
       "    </tr>\n",
       "    <tr>\n",
       "      <th>V275_(-inf, 61.344]</th>\n",
       "      <td>int32</td>\n",
       "      <td>2</td>\n",
       "      <td>0</td>\n",
       "      <td>0.0</td>\n",
       "      <td>Num_Cat</td>\n",
       "      <td>Not Applicable</td>\n",
       "      <td>No</td>\n",
       "    </tr>\n",
       "    <tr>\n",
       "      <th>V130_Missing</th>\n",
       "      <td>int32</td>\n",
       "      <td>2</td>\n",
       "      <td>0</td>\n",
       "      <td>0.0</td>\n",
       "      <td>Num_Cat</td>\n",
       "      <td>Not Applicable</td>\n",
       "      <td>No</td>\n",
       "    </tr>\n",
       "    <tr>\n",
       "      <th>V130_(235.975, inf]</th>\n",
       "      <td>int32</td>\n",
       "      <td>2</td>\n",
       "      <td>0</td>\n",
       "      <td>0.0</td>\n",
       "      <td>Num_Cat</td>\n",
       "      <td>Not Applicable</td>\n",
       "      <td>No</td>\n",
       "    </tr>\n",
       "    <tr>\n",
       "      <th>V130_(29.0, 107.938]</th>\n",
       "      <td>int32</td>\n",
       "      <td>2</td>\n",
       "      <td>0</td>\n",
       "      <td>0.0</td>\n",
       "      <td>Num_Cat</td>\n",
       "      <td>Not Applicable</td>\n",
       "      <td>No</td>\n",
       "    </tr>\n",
       "    <tr>\n",
       "      <th>...</th>\n",
       "      <td>...</td>\n",
       "      <td>...</td>\n",
       "      <td>...</td>\n",
       "      <td>...</td>\n",
       "      <td>...</td>\n",
       "      <td>...</td>\n",
       "      <td>...</td>\n",
       "    </tr>\n",
       "    <tr>\n",
       "      <th>V183_Missing</th>\n",
       "      <td>int32</td>\n",
       "      <td>2</td>\n",
       "      <td>0</td>\n",
       "      <td>0.0</td>\n",
       "      <td>Num_Cat</td>\n",
       "      <td>Not Applicable</td>\n",
       "      <td>No</td>\n",
       "    </tr>\n",
       "    <tr>\n",
       "      <th>V101_(1.0, inf]</th>\n",
       "      <td>int32</td>\n",
       "      <td>2</td>\n",
       "      <td>0</td>\n",
       "      <td>0.0</td>\n",
       "      <td>Num_Cat</td>\n",
       "      <td>Not Applicable</td>\n",
       "      <td>No</td>\n",
       "    </tr>\n",
       "    <tr>\n",
       "      <th>V183_(1.0, inf]</th>\n",
       "      <td>int32</td>\n",
       "      <td>2</td>\n",
       "      <td>0</td>\n",
       "      <td>0.0</td>\n",
       "      <td>Num_Cat</td>\n",
       "      <td>Not Applicable</td>\n",
       "      <td>No</td>\n",
       "    </tr>\n",
       "    <tr>\n",
       "      <th>D5_(13.0, 15.0]</th>\n",
       "      <td>int32</td>\n",
       "      <td>2</td>\n",
       "      <td>0</td>\n",
       "      <td>0.0</td>\n",
       "      <td>Num_Cat</td>\n",
       "      <td>Not Applicable</td>\n",
       "      <td>No</td>\n",
       "    </tr>\n",
       "    <tr>\n",
       "      <th>D5_(15.0, 21.0]</th>\n",
       "      <td>int32</td>\n",
       "      <td>2</td>\n",
       "      <td>0</td>\n",
       "      <td>0.0</td>\n",
       "      <td>Num_Cat</td>\n",
       "      <td>Not Applicable</td>\n",
       "      <td>No</td>\n",
       "    </tr>\n",
       "  </tbody>\n",
       "</table>\n",
       "<p>100 rows × 7 columns</p>\n",
       "</div>"
      ],
      "text/plain": [
       "                      DType  Unique  Missing_Count  Missing_Rate    Cat_Num  \\\n",
       "Variable                                                                      \n",
       "TransactionDT         int32   31941              0           0.0  Numerical   \n",
       "V275_(-inf, 61.344]   int32       2              0           0.0    Num_Cat   \n",
       "V130_Missing          int32       2              0           0.0    Num_Cat   \n",
       "V130_(235.975, inf]   int32       2              0           0.0    Num_Cat   \n",
       "V130_(29.0, 107.938]  int32       2              0           0.0    Num_Cat   \n",
       "...                     ...     ...            ...           ...        ...   \n",
       "V183_Missing          int32       2              0           0.0    Num_Cat   \n",
       "V101_(1.0, inf]       int32       2              0           0.0    Num_Cat   \n",
       "V183_(1.0, inf]       int32       2              0           0.0    Num_Cat   \n",
       "D5_(13.0, 15.0]       int32       2              0           0.0    Num_Cat   \n",
       "D5_(15.0, 21.0]       int32       2              0           0.0    Num_Cat   \n",
       "\n",
       "                     Imputation_Method Drop_Variable  \n",
       "Variable                                              \n",
       "TransactionDT           Not Applicable            No  \n",
       "V275_(-inf, 61.344]     Not Applicable            No  \n",
       "V130_Missing            Not Applicable            No  \n",
       "V130_(235.975, inf]     Not Applicable            No  \n",
       "V130_(29.0, 107.938]    Not Applicable            No  \n",
       "...                                ...           ...  \n",
       "V183_Missing            Not Applicable            No  \n",
       "V101_(1.0, inf]         Not Applicable            No  \n",
       "V183_(1.0, inf]         Not Applicable            No  \n",
       "D5_(13.0, 15.0]         Not Applicable            No  \n",
       "D5_(15.0, 21.0]         Not Applicable            No  \n",
       "\n",
       "[100 rows x 7 columns]"
      ]
     },
     "execution_count": 65,
     "metadata": {},
     "output_type": "execute_result"
    }
   ],
   "source": [
    "DF_Analysis.sort_values(by = 'Unique',ascending=False).head(100)"
   ]
  },
  {
   "cell_type": "code",
   "execution_count": 78,
   "metadata": {},
   "outputs": [],
   "source": [
    "#DF_Analysis[DF_Analysis[\"Cat_Num\"] == 'Numerical']"
   ]
  },
  {
   "cell_type": "markdown",
   "metadata": {},
   "source": [
    "### Normalizing Column names"
   ]
  },
  {
   "cell_type": "code",
   "execution_count": 92,
   "metadata": {},
   "outputs": [],
   "source": [
    "litraincolOrg = x_train.columns\n",
    "litraincol  =  litraincolOrg\n",
    "livalidcolOrg = x_valid.columns\n",
    "livalidcol  =  livalidcolOrg"
   ]
  },
  {
   "cell_type": "code",
   "execution_count": null,
   "metadata": {},
   "outputs": [],
   "source": []
  },
  {
   "cell_type": "code",
   "execution_count": 93,
   "metadata": {},
   "outputs": [
    {
     "data": {
      "text/plain": [
       "['TransactionDT',\n",
       " 'ProductCD_0',\n",
       " 'ProductCD_1',\n",
       " 'ProductCD_2',\n",
       " 'ProductCD_3',\n",
       " 'ProductCD_4',\n",
       " 'card4_0',\n",
       " 'card4_1',\n",
       " 'card4_2',\n",
       " 'card6_0',\n",
       " 'card6_1',\n",
       " 'card6_2',\n",
       " 'addr2_0',\n",
       " 'addr2_1',\n",
       " 'M6_0',\n",
       " 'M6_1',\n",
       " 'M6_2',\n",
       " 'M1_0',\n",
       " 'M1_1',\n",
       " 'M2_0',\n",
       " 'M2_1',\n",
       " 'M2_2',\n",
       " 'M3_0',\n",
       " 'M3_1',\n",
       " 'M3_2',\n",
       " 'M4_0',\n",
       " 'M4_1',\n",
       " 'M4_2',\n",
       " 'M4_3',\n",
       " 'M7_0',\n",
       " 'M7_1',\n",
       " 'M7_2',\n",
       " 'M8_0',\n",
       " 'M8_1',\n",
       " 'M8_2',\n",
       " 'M9_0',\n",
       " 'M9_1',\n",
       " 'M9_2',\n",
       " 'M5_0',\n",
       " 'M5_1',\n",
       " 'M5_2',\n",
       " 'D9_0',\n",
       " 'V9_0',\n",
       " 'V9_1',\n",
       " 'V8_0',\n",
       " 'V8_1',\n",
       " 'V5_0',\n",
       " 'V5_1',\n",
       " 'V5_2',\n",
       " 'V4_0',\n",
       " 'V4_1',\n",
       " 'V4_2',\n",
       " 'V3_0',\n",
       " 'V3_1',\n",
       " 'V2_0',\n",
       " 'V2_1',\n",
       " 'V11_0',\n",
       " 'V11_1',\n",
       " 'V11_2',\n",
       " 'V10_0',\n",
       " 'V10_1',\n",
       " 'V10_2',\n",
       " 'V50_0',\n",
       " 'V50_1',\n",
       " 'V50_2',\n",
       " 'V49_0',\n",
       " 'V49_1',\n",
       " 'V49_2',\n",
       " 'V48_0',\n",
       " 'V48_1',\n",
       " 'V48_2',\n",
       " 'V42_0',\n",
       " 'V42_1',\n",
       " 'V42_2',\n",
       " 'V41_0',\n",
       " 'V41_1',\n",
       " 'V40_0',\n",
       " 'V40_1',\n",
       " 'V40_2',\n",
       " 'V36_0',\n",
       " 'V36_1',\n",
       " 'V36_2',\n",
       " 'V35_0',\n",
       " 'V35_1',\n",
       " 'V35_2',\n",
       " 'V94_0',\n",
       " 'V94_1',\n",
       " 'V94_2',\n",
       " 'V93_0',\n",
       " 'V93_1',\n",
       " 'V93_2',\n",
       " 'V92_0',\n",
       " 'V92_1',\n",
       " 'V92_2',\n",
       " 'V91_0',\n",
       " 'V91_1',\n",
       " 'V91_2',\n",
       " 'V90_0',\n",
       " 'V90_1',\n",
       " 'V90_2',\n",
       " 'V89_0',\n",
       " 'V89_1',\n",
       " 'V88_0',\n",
       " 'V88_1',\n",
       " 'V87_0',\n",
       " 'V87_1',\n",
       " 'V87_2',\n",
       " 'V86_0',\n",
       " 'V86_1',\n",
       " 'V85_0',\n",
       " 'V85_1',\n",
       " 'V85_2',\n",
       " 'V84_0',\n",
       " 'V84_1',\n",
       " 'V84_2',\n",
       " 'V83_0',\n",
       " 'V83_1',\n",
       " 'V83_2',\n",
       " 'V82_0',\n",
       " 'V82_1',\n",
       " 'V82_2',\n",
       " 'V81_0',\n",
       " 'V81_1',\n",
       " 'V81_2',\n",
       " 'V80_0',\n",
       " 'V80_1',\n",
       " 'V80_2',\n",
       " 'V79_0',\n",
       " 'V79_1',\n",
       " 'V79_2',\n",
       " 'V77_0',\n",
       " 'V77_1',\n",
       " 'V74_0',\n",
       " 'V74_1',\n",
       " 'V74_2',\n",
       " 'V73_0',\n",
       " 'V73_1',\n",
       " 'V73_2',\n",
       " 'V72_0',\n",
       " 'V72_1',\n",
       " 'V72_2',\n",
       " 'V71_0',\n",
       " 'V71_1',\n",
       " 'V71_2',\n",
       " 'V70_0',\n",
       " 'V70_1',\n",
       " 'V70_2',\n",
       " 'V69_0',\n",
       " 'V69_1',\n",
       " 'V69_2',\n",
       " 'V68_0',\n",
       " 'V68_1',\n",
       " 'V67_0',\n",
       " 'V67_1',\n",
       " 'V65_0',\n",
       " 'V65_1',\n",
       " 'V64_0',\n",
       " 'V64_1',\n",
       " 'V64_2',\n",
       " 'V63_0',\n",
       " 'V63_1',\n",
       " 'V63_2',\n",
       " 'V62_0',\n",
       " 'V62_1',\n",
       " 'V62_2',\n",
       " 'V60_0',\n",
       " 'V60_1',\n",
       " 'V60_2',\n",
       " 'V59_0',\n",
       " 'V59_1',\n",
       " 'V59_2',\n",
       " 'V58_0',\n",
       " 'V58_1',\n",
       " 'V58_2',\n",
       " 'V57_0',\n",
       " 'V57_1',\n",
       " 'V57_2',\n",
       " 'V55_0',\n",
       " 'V55_1',\n",
       " 'V53_0',\n",
       " 'V53_1',\n",
       " 'V53_2',\n",
       " 'V34_0',\n",
       " 'V34_1',\n",
       " 'V34_2',\n",
       " 'V33_0',\n",
       " 'V33_1',\n",
       " 'V33_2',\n",
       " 'V32_0',\n",
       " 'V32_1',\n",
       " 'V32_2',\n",
       " 'V31_0',\n",
       " 'V31_1',\n",
       " 'V31_2',\n",
       " 'V30_0',\n",
       " 'V30_1',\n",
       " 'V30_2',\n",
       " 'V29_0',\n",
       " 'V29_1',\n",
       " 'V29_2',\n",
       " 'V28_0',\n",
       " 'V28_1',\n",
       " 'V27_0',\n",
       " 'V27_1',\n",
       " 'V26_0',\n",
       " 'V26_1',\n",
       " 'V25_0',\n",
       " 'V25_1',\n",
       " 'V24_0',\n",
       " 'V24_1',\n",
       " 'V22_0',\n",
       " 'V22_1',\n",
       " 'V22_2',\n",
       " 'V21_0',\n",
       " 'V21_1',\n",
       " 'V21_2',\n",
       " 'V19_0',\n",
       " 'V19_1',\n",
       " 'V19_2',\n",
       " 'V18_0',\n",
       " 'V18_1',\n",
       " 'V18_2',\n",
       " 'V17_0',\n",
       " 'V17_1',\n",
       " 'V17_2',\n",
       " 'V16_0',\n",
       " 'V16_1',\n",
       " 'V16_2',\n",
       " 'V15_0',\n",
       " 'V15_1',\n",
       " 'V15_2',\n",
       " 'V14_0',\n",
       " 'V14_1',\n",
       " 'V13_0',\n",
       " 'V13_1',\n",
       " 'V13_2',\n",
       " 'V12_0',\n",
       " 'V12_1',\n",
       " 'V12_2',\n",
       " 'V98_0',\n",
       " 'V98_1',\n",
       " 'V141_0',\n",
       " 'V141_1',\n",
       " 'V173_0',\n",
       " 'V173_1',\n",
       " 'V325_0',\n",
       " 'V325_1',\n",
       " 'V142_0',\n",
       " 'V142_1',\n",
       " 'V174_0',\n",
       " 'V174_1',\n",
       " 'V194_0',\n",
       " 'V194_1',\n",
       " 'V197_0',\n",
       " 'V197_1',\n",
       " 'V301_0',\n",
       " 'V301_1',\n",
       " 'V153_0',\n",
       " 'V153_1',\n",
       " 'V302_0',\n",
       " 'V302_1',\n",
       " 'V302_2',\n",
       " 'V304_0',\n",
       " 'V304_1',\n",
       " 'V304_2',\n",
       " 'V148_0',\n",
       " 'V148_1',\n",
       " 'V154_0',\n",
       " 'V154_1',\n",
       " 'V155_0',\n",
       " 'V155_1',\n",
       " 'V157_0',\n",
       " 'V157_1',\n",
       " 'V175_0',\n",
       " 'V175_1',\n",
       " 'V184_0',\n",
       " 'V184_1',\n",
       " 'V123_0',\n",
       " 'V123_1',\n",
       " 'V195_0',\n",
       " 'V195_1',\n",
       " 'V303_0',\n",
       " 'V303_1',\n",
       " 'V303_2',\n",
       " 'V138_0',\n",
       " 'V138_1',\n",
       " 'V328_0',\n",
       " 'V328_1',\n",
       " 'V146_0',\n",
       " 'V146_1',\n",
       " 'V156_0',\n",
       " 'V156_1',\n",
       " 'V327_0',\n",
       " 'V327_1',\n",
       " 'V158_0',\n",
       " 'V158_1',\n",
       " 'V198_0',\n",
       " 'V198_1',\n",
       " 'V147_0',\n",
       " 'V147_1',\n",
       " 'V185_0',\n",
       " 'V185_1',\n",
       " 'V181_0',\n",
       " 'V181_1',\n",
       " 'V169_0',\n",
       " 'V169_1',\n",
       " 'V188_0',\n",
       " 'V188_1',\n",
       " 'V107_1.0',\n",
       " 'V107_Rare',\n",
       " 'V117_1.0',\n",
       " 'V117_Rare',\n",
       " 'V118_1.0',\n",
       " 'V118_Rare',\n",
       " 'V119_1.0',\n",
       " 'V119_Rare',\n",
       " 'V120_1.0',\n",
       " 'V120_Rare',\n",
       " 'V121_1.0',\n",
       " 'V121_Rare',\n",
       " 'V122_1.0',\n",
       " 'V122_Rare',\n",
       " 'V108_1.0',\n",
       " 'V108_Rare',\n",
       " 'V109_1.0',\n",
       " 'V109_Rare',\n",
       " 'V110_1.0',\n",
       " 'V110_Rare',\n",
       " 'V111_1.0',\n",
       " 'V111_Rare',\n",
       " 'V112_1.0',\n",
       " 'V112_Rare',\n",
       " 'V113_1.0',\n",
       " 'V113_Rare',\n",
       " 'V114_1.0',\n",
       " 'V114_Rare',\n",
       " 'V115_1.0',\n",
       " 'V115_Rare',\n",
       " 'V116_1.0',\n",
       " 'V116_Rare',\n",
       " 'V124_Rare',\n",
       " 'V124_1.0',\n",
       " 'V125_Rare',\n",
       " 'V125_1.0',\n",
       " 'V104_Rare',\n",
       " 'V104_0.0',\n",
       " 'V149_1.0',\n",
       " 'V149_Rare',\n",
       " 'V139_Rare',\n",
       " 'V139_1.0',\n",
       " 'V244_1.0',\n",
       " 'V244_Rare',\n",
       " 'V223_0.0',\n",
       " 'V223_Rare',\n",
       " 'V235_Rare',\n",
       " 'V235_0.0',\n",
       " 'V241_1.0',\n",
       " 'V241_Rare',\n",
       " 'V242_1.0',\n",
       " 'V242_Rare',\n",
       " 'V240_1.0',\n",
       " 'V240_Rare',\n",
       " 'V247_1.0',\n",
       " 'V247_Rare',\n",
       " 'V249_1.0',\n",
       " 'V249_Rare',\n",
       " 'V262_1.0',\n",
       " 'V262_Rare',\n",
       " 'V260_1.0',\n",
       " 'V260_Rare',\n",
       " 'V252_1.0',\n",
       " 'V252_Rare',\n",
       " 'V248_1.0',\n",
       " 'V248_Rare',\n",
       " 'V191_1.0',\n",
       " 'V191_Rare',\n",
       " 'V251_1.0',\n",
       " 'V251_Rare',\n",
       " 'V251_0.0',\n",
       " 'V238_Rare',\n",
       " 'V238_0.0',\n",
       " 'V239_Rare',\n",
       " 'V239_0.0',\n",
       " 'V250_1.0',\n",
       " 'V250_Rare',\n",
       " 'V250_0.0',\n",
       " 'V220_0.0',\n",
       " 'V220_Rare',\n",
       " 'V6_Rare',\n",
       " 'V6_1.0',\n",
       " 'V7_Rare',\n",
       " 'V7_1.0',\n",
       " 'V1_Rare',\n",
       " 'V1_1.0',\n",
       " 'V51_Rare',\n",
       " 'V51_0.0',\n",
       " 'V51_1.0',\n",
       " 'V39_Rare',\n",
       " 'V39_0.0',\n",
       " 'V39_1.0',\n",
       " 'V43_Rare',\n",
       " 'V43_0.0',\n",
       " 'V43_1.0',\n",
       " 'V46_Rare',\n",
       " 'V46_1.0',\n",
       " 'V47_Rare',\n",
       " 'V47_1.0',\n",
       " 'V52_Rare',\n",
       " 'V52_0.0',\n",
       " 'V52_1.0',\n",
       " 'V75_Rare',\n",
       " 'V75_1.0',\n",
       " 'V75_0.0',\n",
       " 'V76_Rare',\n",
       " 'V76_1.0',\n",
       " 'V76_0.0',\n",
       " 'V54_Rare',\n",
       " 'V54_1.0',\n",
       " 'V54_0.0',\n",
       " 'V56_Rare',\n",
       " 'V56_1.0',\n",
       " 'V56_2.0',\n",
       " 'V61_Rare',\n",
       " 'V61_1.0',\n",
       " 'V61_0.0',\n",
       " 'V66_Rare',\n",
       " 'V66_1.0',\n",
       " 'V23_Rare',\n",
       " 'V23_1.0',\n",
       " 'V20_Rare',\n",
       " 'V20_1.0',\n",
       " 'V20_0.0',\n",
       " 'V281_0.0',\n",
       " 'V281_Rare',\n",
       " 'V282_1.0',\n",
       " 'V282_0.0',\n",
       " 'V282_Rare',\n",
       " 'V282_2.0',\n",
       " 'V288_0.0',\n",
       " 'V288_1.0',\n",
       " 'V288_Rare',\n",
       " 'V289_0.0',\n",
       " 'V289_1.0',\n",
       " 'V289_Rare',\n",
       " 'V300_0.0',\n",
       " 'V300_Rare',\n",
       " 'V284_0.0',\n",
       " 'V284_Rare',\n",
       " 'V284_1.0',\n",
       " 'V286_0.0',\n",
       " 'V286_Rare',\n",
       " 'V297_0.0',\n",
       " 'V297_Rare',\n",
       " 'V305_1.0',\n",
       " 'V305_Rare',\n",
       " 'card1_(6951.0, 8135.0]',\n",
       " 'card1_(15124.0, 16632.0]',\n",
       " 'card1_(2803.0, 4921.0]',\n",
       " 'card1_(8135.0, 9749.0]',\n",
       " 'card1_(-inf, 2803.0]',\n",
       " 'card1_(11467.0, 12935.0]',\n",
       " 'card1_(9749.0, 11467.0]',\n",
       " 'card1_(4921.0, 6951.0]',\n",
       " 'card1_(12935.0, 15124.0]',\n",
       " 'card1_(16632.0, inf]',\n",
       " 'card3_(-inf, 150.0]',\n",
       " 'card3_(150.0, 185.0]',\n",
       " 'card3_Missing',\n",
       " 'card3_(185.0, inf]',\n",
       " 'card5_(224.0, 226.0]',\n",
       " 'card5_(195.0, 224.0]',\n",
       " 'card5_(126.0, 166.0]',\n",
       " 'card5_(-inf, 126.0]',\n",
       " 'card5_(166.0, 195.0]',\n",
       " 'card5_Missing',\n",
       " 'card5_(226.0, inf]',\n",
       " 'card2_(543.0, 555.0]',\n",
       " 'card2_(445.0, 490.0]',\n",
       " 'card2_(264.0, 321.0]',\n",
       " 'card2_(361.0, 445.0]',\n",
       " 'card2_(321.0, 361.0]',\n",
       " 'card2_(490.0, 543.0]',\n",
       " 'card2_(194.0, 264.0]',\n",
       " 'card2_(-inf, 111.0]',\n",
       " 'card2_(555.0, inf]',\n",
       " 'card2_Missing',\n",
       " 'card2_(111.0, 194.0]',\n",
       " 'dist1_Missing',\n",
       " 'dist1_(266.4, inf]',\n",
       " 'dist1_(1.0, 2.0]',\n",
       " 'dist1_(35.0, 266.4]',\n",
       " 'dist1_(2.0, 4.0]',\n",
       " 'dist1_(-inf, 1.0]',\n",
       " 'dist1_(8.0, 12.0]',\n",
       " 'dist1_(12.0, 18.0]',\n",
       " 'dist1_(4.0, 6.0]',\n",
       " 'dist1_(18.0, 35.0]',\n",
       " 'dist1_(6.0, 8.0]',\n",
       " 'D8_(0.583, 0.833]',\n",
       " 'D8_Missing',\n",
       " 'D8_(452.0, inf]',\n",
       " 'D8_(3.041, 16.125]',\n",
       " 'D8_(85.0, 148.625]',\n",
       " 'D8_(41.719, 85.0]',\n",
       " 'D8_(16.125, 41.719]',\n",
       " 'D8_(148.625, 243.875]',\n",
       " 'D8_(0.833, 3.041]',\n",
       " 'D8_(-inf, 0.583]',\n",
       " 'D8_(243.875, 452.0]',\n",
       " 'dist2_Missing',\n",
       " 'dist2_(286.0, 619.6]',\n",
       " 'dist2_(13.0, 32.0]',\n",
       " 'dist2_(1.0, 7.0]',\n",
       " 'dist2_(-inf, 1.0]',\n",
       " 'dist2_(619.6, inf]',\n",
       " 'dist2_(7.0, 13.0]',\n",
       " 'dist2_(156.6, 286.0]',\n",
       " 'dist2_(32.0, 76.0]',\n",
       " 'dist2_(76.0, 156.6]',\n",
       " 'V225_(-inf, 1.0]',\n",
       " 'V225_Missing',\n",
       " 'V225_(1.0, inf]',\n",
       " 'V193_(-inf, inf]',\n",
       " 'V193_Missing',\n",
       " 'V190_(-inf, inf]',\n",
       " 'V190_Missing',\n",
       " 'V170_(1.0, 2.0]',\n",
       " 'V170_Missing',\n",
       " 'V170_(-inf, 1.0]',\n",
       " 'V170_(2.0, inf]',\n",
       " 'V237_(-inf, 1.0]',\n",
       " 'V237_Missing',\n",
       " 'V237_(1.0, inf]',\n",
       " 'V176_(-inf, 2.0]',\n",
       " 'V176_Missing',\n",
       " 'V176_(2.0, inf]',\n",
       " 'V192_(-inf, inf]',\n",
       " 'V192_Missing',\n",
       " 'V199_(-inf, 2.0]',\n",
       " 'V199_Missing',\n",
       " 'V199_(2.0, inf]',\n",
       " 'V261_(-inf, 1.0]',\n",
       " 'V261_Missing',\n",
       " 'V261_(1.0, inf]',\n",
       " 'V171_(1.0, 2.0]',\n",
       " 'V171_Missing',\n",
       " 'V171_(-inf, 1.0]',\n",
       " 'V171_(3.0, inf]',\n",
       " 'V171_(2.0, 3.0]',\n",
       " 'V243_(-inf, 1.0]',\n",
       " 'V243_Missing',\n",
       " 'V243_(1.0, inf]',\n",
       " 'V254_(-inf, 1.0]',\n",
       " 'V254_Missing',\n",
       " 'V254_(1.0, inf]',\n",
       " 'V236_(-inf, 1.0]',\n",
       " 'V236_Missing',\n",
       " 'V236_(1.0, inf]',\n",
       " 'V246_(-inf, 1.0]',\n",
       " 'V246_Missing',\n",
       " 'V246_(1.0, inf]',\n",
       " 'V255_(-inf, 1.0]',\n",
       " 'V255_Missing',\n",
       " 'V255_(1.0, inf]',\n",
       " 'V256_(-inf, 1.0]',\n",
       " 'V256_Missing',\n",
       " 'V256_(1.0, inf]',\n",
       " 'V257_(1.0, 2.0]',\n",
       " 'V257_Missing',\n",
       " 'V257_(-inf, 1.0]',\n",
       " 'V257_(2.0, inf]',\n",
       " 'V227_(-inf, inf]',\n",
       " 'V227_Missing',\n",
       " 'V299_(-inf, inf]',\n",
       " 'V299_Missing',\n",
       " 'V151_(-inf, 27.0]',\n",
       " 'V151_Missing',\n",
       " 'V151_(27.0, inf]',\n",
       " 'V182_(-inf, 1.0]',\n",
       " 'V182_Missing',\n",
       " 'V182_(1.0, inf]',\n",
       " 'V228_(-inf, 1.0]',\n",
       " 'V228_Missing',\n",
       " 'V228_(1.0, 2.0]',\n",
       " 'V228_(2.0, inf]',\n",
       " 'V201_(1.0, inf]',\n",
       " 'V201_Missing',\n",
       " 'V201_(-inf, 1.0]',\n",
       " 'V245_(-inf, 1.0]',\n",
       " 'V245_Missing',\n",
       " 'V245_(1.0, inf]',\n",
       " 'V290_(-inf, inf]',\n",
       " 'V290_Missing',\n",
       " 'V283_(-inf, 1.0]',\n",
       " 'V283_(2.0, inf]',\n",
       " 'V283_(1.0, 2.0]',\n",
       " 'V283_Missing',\n",
       " 'V144_(-inf, 1.0]',\n",
       " 'V144_Missing',\n",
       " 'V144_(1.0, 13.0]',\n",
       " 'V144_(13.0, inf]',\n",
       " 'V180_(-inf, 1.0]',\n",
       " 'V180_Missing',\n",
       " 'V180_(1.0, inf]',\n",
       " 'V230_(-inf, 1.0]',\n",
       " 'V230_Missing',\n",
       " 'V230_(1.0, 2.0]',\n",
       " 'V230_(2.0, inf]',\n",
       " 'V253_(-inf, 1.0]',\n",
       " 'V253_Missing',\n",
       " 'V253_(1.0, inf]',\n",
       " 'V258_(1.0, 2.0]',\n",
       " 'V258_Missing',\n",
       " 'V258_(-inf, 1.0]',\n",
       " 'V258_(2.0, inf]',\n",
       " 'V259_(1.0, inf]',\n",
       " 'V259_Missing',\n",
       " 'V259_(-inf, 1.0]',\n",
       " 'V222_(1.0, 2.0]',\n",
       " 'V222_Missing',\n",
       " 'V222_(-inf, 1.0]',\n",
       " 'V222_(3.0, inf]',\n",
       " 'V222_(2.0, 3.0]',\n",
       " 'V221_(1.0, 2.0]',\n",
       " 'V221_Missing',\n",
       " 'V221_(-inf, 1.0]',\n",
       " 'V221_(2.0, inf]',\n",
       " 'V224_(-inf, 1.0]',\n",
       " 'V224_Missing',\n",
       " 'V224_(1.0, inf]',\n",
       " 'V226_(-inf, inf]',\n",
       " 'V226_Missing',\n",
       " 'V229_(-inf, 1.0]',\n",
       " 'V229_Missing',\n",
       " 'V229_(1.0, 2.0]',\n",
       " 'V229_(2.0, inf]',\n",
       " 'V296_(-inf, inf]',\n",
       " 'V296_Missing',\n",
       " 'V298_(-inf, inf]',\n",
       " 'V298_Missing',\n",
       " 'V285_(-inf, 1.0]',\n",
       " 'V285_(1.0, 2.0]',\n",
       " 'V285_(3.0, inf]',\n",
       " 'V285_(2.0, 3.0]',\n",
       " 'V285_Missing',\n",
       " 'V187_(-inf, inf]',\n",
       " 'V187_Missing',\n",
       " 'V234_(-inf, 1.0]',\n",
       " 'V234_Missing',\n",
       " 'V234_(1.0, inf]',\n",
       " 'V269_(-inf, inf]',\n",
       " 'V269_Missing',\n",
       " 'V292_(-inf, 2.0]',\n",
       " 'V292_(2.0, inf]',\n",
       " 'V292_Missing',\n",
       " 'V291_(-inf, 2.0]',\n",
       " 'V291_(2.0, inf]',\n",
       " 'V291_Missing',\n",
       " 'V145_(-inf, 1.0]',\n",
       " 'V145_Missing',\n",
       " 'V145_(1.0, 123.5]',\n",
       " 'V145_(123.5, inf]',\n",
       " 'V177_(-inf, 1.0]',\n",
       " 'V177_Missing',\n",
       " 'V177_(1.0, inf]',\n",
       " 'V167_(-inf, 1.0]',\n",
       " 'V167_Missing',\n",
       " 'V167_(2.0, inf]',\n",
       " 'V167_(1.0, 2.0]',\n",
       " 'V143_(-inf, 1.0]',\n",
       " 'V143_Missing',\n",
       " 'V143_(14.0, inf]',\n",
       " 'V143_(1.0, 14.0]',\n",
       " 'V179_(-inf, 1.0]',\n",
       " 'V179_Missing',\n",
       " 'V179_(1.0, inf]',\n",
       " 'V168_(-inf, 1.0]',\n",
       " 'V168_Missing',\n",
       " 'V168_(2.0, inf]',\n",
       " 'V168_(1.0, 2.0]',\n",
       " 'V178_(-inf, 1.0]',\n",
       " 'V178_Missing',\n",
       " 'V178_(1.0, inf]',\n",
       " 'V231_(-inf, 1.0]',\n",
       " 'V231_Missing',\n",
       " 'V231_(1.0, inf]',\n",
       " 'V217_(-inf, 1.0]',\n",
       " 'V217_Missing',\n",
       " 'V217_(1.0, 2.0]',\n",
       " 'V217_(2.0, inf]',\n",
       " 'V233_(-inf, 1.0]',\n",
       " 'V233_Missing',\n",
       " 'V233_(1.0, inf]',\n",
       " 'V232_(-inf, 1.0]',\n",
       " 'V232_Missing',\n",
       " 'V232_(1.0, inf]',\n",
       " 'V219_(-inf, 1.0]',\n",
       " 'V219_Missing',\n",
       " 'V219_(1.0, 2.0]',\n",
       " 'V219_(2.0, inf]',\n",
       " 'V218_(-inf, 1.0]',\n",
       " 'V218_Missing',\n",
       " 'V218_(3.0, inf]',\n",
       " 'V218_(1.0, 3.0]',\n",
       " 'V166_(-inf, 100.0]',\n",
       " 'V166_Missing',\n",
       " 'V166_(100.0, 1377.0]',\n",
       " 'V166_(1377.0, inf]',\n",
       " 'V164_(-inf, 100.0]',\n",
       " 'V164_Missing',\n",
       " 'V164_(1335.0, inf]',\n",
       " 'V164_(100.0, 1335.0]',\n",
       " 'V129_(-inf, inf]',\n",
       " 'V129_Missing',\n",
       " 'V293_(-inf, inf]',\n",
       " 'V293_Missing',\n",
       " 'V279_(-inf, 1.0]',\n",
       " 'V279_(1.0, inf]',\n",
       " 'V279_Missing',\n",
       " 'V295_(-inf, inf]',\n",
       " 'V295_Missing',\n",
       " 'V165_(-inf, 150.0]',\n",
       " 'V165_Missing',\n",
       " 'V165_(8230.0, inf]',\n",
       " 'V165_(150.0, 8230.0]',\n",
       " 'V280_(-inf, 1.0]',\n",
       " 'V280_(2.0, inf]',\n",
       " 'V280_(1.0, 2.0]',\n",
       " 'V280_Missing',\n",
       " 'V150_(-inf, 1698.5]',\n",
       " 'V150_Missing',\n",
       " 'V150_(1698.5, inf]',\n",
       " 'V135_(-inf, inf]',\n",
       " 'V135_Missing',\n",
       " 'V294_(-inf, 1.0]',\n",
       " 'V294_(1.0, inf]',\n",
       " 'V294_Missing',\n",
       " 'V137_(-inf, inf]',\n",
       " 'V137_Missing',\n",
       " 'V206_(-inf, inf]',\n",
       " 'V206_Missing',\n",
       " 'V159_(-inf, 4566.0]',\n",
       " 'V159_Missing',\n",
       " 'V159_(4566.0, inf]',\n",
       " 'V136_(-inf, inf]',\n",
       " 'V136_Missing',\n",
       " 'V266_(-inf, inf]',\n",
       " 'V266_Missing',\n",
       " 'V131_(-inf, 68.938]',\n",
       " 'V131_(68.938, inf]',\n",
       " 'V131_Missing',\n",
       " 'V205_(-inf, inf]',\n",
       " 'V205_Missing',\n",
       " 'V132_(-inf, inf]',\n",
       " 'V132_Missing',\n",
       " 'V270_(-inf, inf]',\n",
       " 'V270_Missing',\n",
       " 'V160_(-inf, 90.0]',\n",
       " 'V160_Missing',\n",
       " 'V160_(90.0, 208031.234]',\n",
       " 'V160_(208031.234, inf]',\n",
       " 'V272_(-inf, inf]',\n",
       " 'V272_Missing',\n",
       " 'V208_(-inf, 13.642]',\n",
       " 'V208_Missing',\n",
       " 'V208_(13.642, inf]',\n",
       " 'V210_(-inf, 15.0]',\n",
       " 'V210_Missing',\n",
       " 'V210_(15.0, inf]',\n",
       " 'V276_(-inf, inf]',\n",
       " 'V276_Missing',\n",
       " 'V214_(-inf, inf]',\n",
       " 'V214_Missing',\n",
       " 'V268_(-inf, 7.5]',\n",
       " 'V268_Missing',\n",
       " 'V268_(7.5, inf]',\n",
       " 'V271_(-inf, inf]',\n",
       " 'V271_Missing',\n",
       " 'V278_(6.184, inf]',\n",
       " 'V278_Missing',\n",
       " 'V278_(-inf, 6.184]',\n",
       " 'V134_(-inf, inf]',\n",
       " 'V134_Missing',\n",
       " 'V216_(18.219, inf]',\n",
       " 'V216_Missing',\n",
       " 'V216_(-inf, 18.219]',\n",
       " 'V277_(16.922, inf]',\n",
       " 'V277_Missing',\n",
       " 'V277_(-inf, 16.922]',\n",
       " 'V209_(-inf, 21.266]',\n",
       " 'V209_Missing',\n",
       " 'V209_(21.266, inf]',\n",
       " 'V207_(-inf, 15.711]',\n",
       " 'V207_Missing',\n",
       " 'V207_(15.711, inf]',\n",
       " 'V215_(-inf, 25.0]',\n",
       " 'V215_Missing',\n",
       " 'V215_(25.0, inf]',\n",
       " 'V267_(-inf, 25.453]',\n",
       " 'V267_Missing',\n",
       " 'V267_(25.453, inf]',\n",
       " 'V126_(-inf, 59.0]',\n",
       " 'V126_(59.0, inf]',\n",
       " 'V126_Missing',\n",
       " 'V133_(-inf, inf]',\n",
       " 'V133_Missing',\n",
       " 'V128_(-inf, 39.0]',\n",
       " 'V128_(39.0, 160.5]',\n",
       " 'V128_(160.5, inf]',\n",
       " 'V128_Missing',\n",
       " 'V273_(-inf, 50.0]',\n",
       " 'V273_Missing',\n",
       " 'V273_(50.0, inf]',\n",
       " 'V275_(-inf, 61.344]',\n",
       " 'V275_Missing',\n",
       " 'V275_(61.344, inf]',\n",
       " 'V130_(-inf, 29.0]',\n",
       " 'V130_(107.938, 235.975]',\n",
       " 'V130_(29.0, 107.938]',\n",
       " 'V130_(235.975, inf]',\n",
       " 'V130_Missing',\n",
       " 'V211_(-inf, 50.0]',\n",
       " 'V211_Missing',\n",
       " 'V211_(50.0, inf]',\n",
       " 'V127_(-inf, 59.0]',\n",
       " 'V127_(154.0, 360.999]',\n",
       " 'V127_(59.0, 154.0]',\n",
       " 'V127_(360.999, inf]',\n",
       " 'V127_Missing',\n",
       " 'V274_(-inf, 75.0]',\n",
       " 'V274_Missing',\n",
       " 'V274_(75.0, inf]',\n",
       " 'V213_(-inf, 62.042]',\n",
       " 'V213_Missing',\n",
       " 'V213_(62.042, inf]',\n",
       " 'V212_(-inf, 69.543]',\n",
       " 'V212_Missing',\n",
       " 'V212_(69.543, inf]',\n",
       " 'V263_(-inf, 30.094]',\n",
       " 'V263_Missing',\n",
       " 'V263_(30.094, 145.375]',\n",
       " 'V263_(145.375, inf]',\n",
       " 'V202_(-inf, 27.189]',\n",
       " 'V202_Missing',\n",
       " 'V202_(27.189, 140.911]',\n",
       " 'V202_(140.911, inf]',\n",
       " 'V265_(-inf, 50.0]',\n",
       " 'V265_Missing',\n",
       " 'V265_(50.0, 157.625]',\n",
       " 'V265_(157.625, inf]',\n",
       " 'V204_(-inf, 50.0]',\n",
       " 'V204_Missing',\n",
       " 'V204_(161.258, inf]',\n",
       " 'V204_(50.0, 161.258]',\n",
       " 'V264_(4.554, 65.538]',\n",
       " 'V264_Missing',\n",
       " 'V264_(-inf, 4.554]',\n",
       " 'V264_(65.538, 200.0]',\n",
       " 'V264_(200.0, inf]',\n",
       " 'V203_(-inf, 61.111]',\n",
       " 'V203_Missing',\n",
       " 'V203_(61.111, 200.0]',\n",
       " 'V203_(200.0, inf]',\n",
       " 'V200_(1.0, 2.0]',\n",
       " 'V200_Missing',\n",
       " 'V200_(-inf, 1.0]',\n",
       " 'V200_(2.0, inf]',\n",
       " 'V106_(-inf, 1.0]',\n",
       " 'V106_(1.0, inf]',\n",
       " 'V106_Missing',\n",
       " 'V105_(-inf, 1.0]',\n",
       " 'V105_(1.0, inf]',\n",
       " 'V105_Missing',\n",
       " 'V161_(-inf, inf]',\n",
       " 'V161_Missing',\n",
       " 'V163_(-inf, inf]',\n",
       " 'V163_Missing',\n",
       " 'V162_(-inf, inf]',\n",
       " 'V162_Missing',\n",
       " 'V101_(-inf, 1.0]',\n",
       " 'V101_(1.0, inf]',\n",
       " 'V101_Missing',\n",
       " 'V103_(-inf, 1.0]',\n",
       " 'V103_(1.0, inf]',\n",
       " 'V103_Missing',\n",
       " 'V102_(-inf, 1.0]',\n",
       " 'V102_(1.0, inf]',\n",
       " 'V102_Missing',\n",
       " 'V140_(1.0, 2.0]',\n",
       " 'V140_Missing',\n",
       " 'V140_(-inf, 1.0]',\n",
       " 'V140_(2.0, 4.0]',\n",
       " 'V140_(4.0, inf]',\n",
       " 'V152_(-inf, 2.0]',\n",
       " 'V152_Missing',\n",
       " 'V152_(64.0, 68.0]',\n",
       " 'V152_(2.0, 64.0]',\n",
       " 'V152_(68.0, inf]',\n",
       " 'V183_(-inf, 1.0]',\n",
       " 'V183_Missing',\n",
       " 'V183_(1.0, inf]',\n",
       " 'V186_(-inf, 2.0]',\n",
       " 'V186_Missing',\n",
       " 'V186_(2.0, inf]',\n",
       " 'V172_(-inf, 1.0]',\n",
       " 'V172_Missing',\n",
       " 'V172_(1.0, inf]',\n",
       " 'V196_(-inf, inf]',\n",
       " 'V196_Missing',\n",
       " 'V189_(-inf, 1.0]',\n",
       " 'V189_Missing',\n",
       " 'V189_(1.0, 2.0]',\n",
       " 'V189_(2.0, inf]',\n",
       " 'D5_Missing',\n",
       " 'D5_(15.0, 21.0]',\n",
       " 'D5_(13.0, 15.0]',\n",
       " 'D5_(68.0, 113.0]',\n",
       " 'D5_(33.0, 46.0]',\n",
       " 'D5_(-inf, 1.0]',\n",
       " 'D5_(1.0, 2.0]',\n",
       " 'D5_(9.0, 13.0]',\n",
       " 'D5_(2.0, 3.0]',\n",
       " 'D5_(113.0, 237.0]',\n",
       " 'D5_(7.0, 9.0]',\n",
       " 'D5_(46.0, 68.0]',\n",
       " 'D5_(27.0, 33.0]',\n",
       " 'D5_(3.0, 5.0]',\n",
       " 'D5_(237.0, inf]',\n",
       " 'D5_(5.0, 7.0]',\n",
       " 'D5_(21.0, 27.0]',\n",
       " 'V37_Missing',\n",
       " 'V37_(-inf, 1.0]',\n",
       " 'V37_(1.0, 2.0]',\n",
       " 'V37_(2.0, inf]',\n",
       " 'V38_Missing',\n",
       " 'V38_(-inf, 1.0]',\n",
       " 'V38_(1.0, 2.0]',\n",
       " 'V38_(2.0, inf]',\n",
       " 'V45_Missing',\n",
       " 'V45_(-inf, 1.0]',\n",
       " 'V45_(1.0, 2.0]',\n",
       " 'V45_(2.0, inf]',\n",
       " 'V44_Missing',\n",
       " 'V44_(-inf, 1.0]',\n",
       " 'V44_(1.0, 2.0]',\n",
       " 'V44_(2.0, inf]',\n",
       " 'V78_Missing',\n",
       " 'V78_(-inf, 1.0]',\n",
       " 'V78_(1.0, 2.0]',\n",
       " 'V78_(2.0, inf]',\n",
       " 'V100_(-inf, 1.0]',\n",
       " 'V100_(1.0, 2.0]',\n",
       " 'V100_(2.0, inf]',\n",
       " 'V100_Missing',\n",
       " 'V99_(-inf, 1.0]',\n",
       " 'V99_(1.0, 2.0]',\n",
       " 'V99_(4.0, inf]',\n",
       " 'V99_(2.0, 3.0]',\n",
       " 'V99_(3.0, 4.0]',\n",
       " 'V99_Missing',\n",
       " 'V95_(-inf, 1.0]',\n",
       " 'V95_(1.0, inf]',\n",
       " 'V95_Missing',\n",
       " 'V96_(-inf, 1.0]',\n",
       " 'V96_(1.0, 2.0]',\n",
       " 'V96_(6.0, inf]',\n",
       " 'V96_(2.0, 3.0]',\n",
       " 'V96_(3.0, 6.0]',\n",
       " 'V96_Missing',\n",
       " 'V97_(-inf, 1.0]',\n",
       " 'V97_(1.0, 3.0]',\n",
       " 'V97_(3.0, inf]',\n",
       " 'V97_Missing',\n",
       " 'V287_(-inf, 1.0]',\n",
       " 'V287_(1.0, 2.0]',\n",
       " 'V287_(2.0, inf]',\n",
       " 'V287_Missing',\n",
       " 'TransactionAmt_(-inf, 26.061]',\n",
       " 'TransactionAmt_(35.938, 57.938]',\n",
       " 'TransactionAmt_(70.0, 100.0]',\n",
       " 'TransactionAmt_(280.0, inf]',\n",
       " 'TransactionAmt_(26.061, 35.938]',\n",
       " 'TransactionAmt_(57.938, 70.0]',\n",
       " 'TransactionAmt_(100.0, 117.0]',\n",
       " 'TransactionAmt_(117.0, 280.0]',\n",
       " 'addr1_(-inf, 441.0]',\n",
       " 'addr1_(441.0, inf]',\n",
       " 'addr1_Missing',\n",
       " 'P_emaildomain_gmail.com',\n",
       " 'P_emaildomain_yahoo.com',\n",
       " 'P_emaildomain_Missing',\n",
       " 'P_emaildomain_anonymous.com',\n",
       " 'P_emaildomain_aol.com',\n",
       " 'P_emaildomain_hotmail.com',\n",
       " 'P_emaildomain_Rare',\n",
       " 'R_emaildomain_gmail.com',\n",
       " 'R_emaildomain_Missing',\n",
       " 'R_emaildomain_Rare',\n",
       " 'R_emaildomain_hotmail.com',\n",
       " 'C1_(1.0, 2.0]',\n",
       " ...]"
      ]
     },
     "execution_count": 93,
     "metadata": {},
     "output_type": "execute_result"
    }
   ],
   "source": [
    "import re\n",
    "[str(sentence).replace(\"' \",\" \") for sentence in litraincol]\n",
    "[str(sentence).replace(\"' \",\" \") for sentence in livalidcol]"
   ]
  },
  {
   "cell_type": "code",
   "execution_count": 73,
   "metadata": {},
   "outputs": [],
   "source": [
    "for a in [\"-\",\".\",\" \",\"(\",\"]\"]:\n",
    "    litraincol = [str(x).replace(a,\"_\") for x in litraincol]\n",
    "    livalidcol = [str(x).replace(a,\"_\") for x in livalidcol]"
   ]
  },
  {
   "cell_type": "code",
   "execution_count": 94,
   "metadata": {},
   "outputs": [],
   "source": [
    "for a in [\"_0_\",\"__\",\"_0,\"]:\n",
    "    litraincol = [str(x).replace(a,\"_\") for x in litraincol]\n",
    "    livalidcol = [str(x).replace(a,\"_\") for x in livalidcol]"
   ]
  },
  {
   "cell_type": "code",
   "execution_count": 74,
   "metadata": {},
   "outputs": [],
   "source": [
    "for a in [\",\"]:\n",
    "    litraincol = [str(x).replace(a,\"_\") for x in litraincol]\n",
    "    livalidcol = [str(x).replace(a,\"_\") for x in livalidcol]"
   ]
  },
  {
   "cell_type": "code",
   "execution_count": 95,
   "metadata": {},
   "outputs": [],
   "source": [
    "x_train.columns = litraincol\n",
    "x_valid.columns = livalidcol\n",
    "    "
   ]
  },
  {
   "cell_type": "markdown",
   "metadata": {},
   "source": [
    "#### Modelling"
   ]
  },
  {
   "cell_type": "code",
   "execution_count": 172,
   "metadata": {},
   "outputs": [
    {
     "data": {
      "text/plain": [
       "LGBMClassifier()"
      ]
     },
     "execution_count": 172,
     "metadata": {},
     "output_type": "execute_result"
    }
   ],
   "source": [
    "model5 = LGBMClassifier()\n",
    "model5.fit(x_train, y_train)\n"
   ]
  },
  {
   "cell_type": "code",
   "execution_count": 259,
   "metadata": {},
   "outputs": [
    {
     "data": {
      "text/plain": [
       "Index(['ProductCD_0', 'ProductCD_1', 'ProductCD_2', 'ProductCD_3',\n",
       "       'ProductCD_4', 'card4_0', 'card4_1', 'card4_2', 'card6_0', 'card6_1',\n",
       "       ...\n",
       "       'V336_100__inf_', 'V337__inf__200_', 'V337_Missing', 'V337_200__inf_',\n",
       "       'V338__inf__50_', 'V338_Missing', 'V338_50__inf_', 'V339__inf__35_',\n",
       "       'V339_Missing', 'V339_35__inf_'],\n",
       "      dtype='object', length=1222)"
      ]
     },
     "execution_count": 259,
     "metadata": {},
     "output_type": "execute_result"
    }
   ],
   "source": [
    "x_train.columns"
   ]
  },
  {
   "cell_type": "code",
   "execution_count": 213,
   "metadata": {},
   "outputs": [
    {
     "data": {
      "image/png": "[encoded data removed]",
      "text/plain": [
       "<Figure size 1080x1296 with 1 Axes>"
      ]
     },
     "metadata": {
      "needs_background": "light"
     },
     "output_type": "display_data"
    }
   ],
   "source": [
    "fi=pd.DataFrame({'cols' : litraincolOrg, 'imp' : model5.feature_importances_})\n",
    "fi = fi.sort_values('imp', ascending=False)\n",
    "top_50 = fi[0:50]\n",
    "top_50 = top_50.sort_values('imp', ascending=True)\n",
    "# Plot the bar chart\n",
    "top_50.plot(x='cols', kind='barh' , figsize=(15,18))\n",
    "plt.show()"
   ]
  },
  {
   "cell_type": "code",
   "execution_count": 174,
   "metadata": {},
   "outputs": [
    {
     "name": "stdout",
     "output_type": "stream",
     "text": [
      "Confusion Matrix :\n",
      "[[9634   23]\n",
      " [ 232  112]]\n",
      "Accuracy Score : 0.9745025497450255\n",
      "Report : \n",
      "              precision    recall  f1-score   support\n",
      "\n",
      "           0       0.98      1.00      0.99      9657\n",
      "           1       0.83      0.33      0.47       344\n",
      "\n",
      "    accuracy                           0.97     10001\n",
      "   macro avg       0.90      0.66      0.73     10001\n",
      "weighted avg       0.97      0.97      0.97     10001\n",
      "\n"
     ]
    }
   ],
   "source": [
    "predicted = model5.predict(x_valid) \n",
    "results = confusion_matrix(y_valid, predicted) \n",
    "\n",
    "print('Confusion Matrix :')\n",
    "print(results) \n",
    "print('Accuracy Score :',accuracy_score(y_valid, predicted)) \n",
    "print('Report : ')\n",
    "print(classification_report(y_valid, predicted)) "
   ]
  },
  {
   "cell_type": "markdown",
   "metadata": {},
   "source": [
    "### Using Optuna"
   ]
  },
  {
   "cell_type": "code",
   "execution_count": 87,
   "metadata": {},
   "outputs": [],
   "source": [
    "import optuna.integration.lightgbm as lgb"
   ]
  },
  {
   "cell_type": "code",
   "execution_count": 158,
   "metadata": {},
   "outputs": [],
   "source": [
    "dtrain = lgb.Dataset(x_train, label=y_train)\n",
    "dval = lgb.Dataset(x_valid, label=y_valid)"
   ]
  },
  {
   "cell_type": "code",
   "execution_count": 159,
   "metadata": {
    "scrolled": true
   },
   "outputs": [
    {
     "name": "stderr",
     "output_type": "stream",
     "text": [
      "[I 2020-09-15 22:49:58,942] A new study created in memory with name: no-name-b4590528-ae91-42d1-b82e-b0f65e052084\n",
      "\n",
      "\n",
      "\n",
      "  0%|                                                    | 0/7 [00:00<?, ?it/s]\n",
      "\n",
      "\n",
      "feature_fraction, val_score: inf:   0%|                  | 0/7 [00:01<?, ?it/s]"
     ]
    },
    {
     "name": "stdout",
     "output_type": "stream",
     "text": [
      "Training until validation scores don't improve for 100 rounds\n",
      "[100]\ttraining's binary_logloss: 0.0523114\tvalid_1's binary_logloss: 0.0901961\n",
      "[200]\ttraining's binary_logloss: 0.0349862\tvalid_1's binary_logloss: 0.0897997\n",
      "Early stopping, best iteration is:\n",
      "[190]\ttraining's binary_logloss: 0.0362217\tvalid_1's binary_logloss: 0.089393\n"
     ]
    },
    {
     "name": "stderr",
     "output_type": "stream",
     "text": [
      "\n",
      "\n",
      "\n",
      "feature_fraction, val_score: 0.089393:   0%|             | 0/7 [01:41<?, ?it/s]\n",
      "\n",
      "\n",
      "feature_fraction, val_score: 0.089393:  14%|5   | 1/7 [01:41<10:07, 101.33s/it][I 2020-09-15 22:51:44,348] Trial 0 finished with value: 0.08939299053689721 and parameters: {'feature_fraction': 0.5}. Best is trial 0 with value: 0.08939299053689721.\n",
      "\n",
      "\n",
      "\n",
      "feature_fraction, val_score: 0.089393:  14%|5   | 1/7 [01:41<10:07, 101.33s/it]"
     ]
    },
    {
     "name": "stdout",
     "output_type": "stream",
     "text": [
      "Training until validation scores don't improve for 100 rounds\n",
      "[100]\ttraining's binary_logloss: 0.0510591\tvalid_1's binary_logloss: 0.0900227\n",
      "[200]\ttraining's binary_logloss: 0.0323199\tvalid_1's binary_logloss: 0.0905071\n",
      "Early stopping, best iteration is:\n",
      "[107]\ttraining's binary_logloss: 0.0492248\tvalid_1's binary_logloss: 0.089894\n"
     ]
    },
    {
     "name": "stderr",
     "output_type": "stream",
     "text": [
      "\n",
      "\n",
      "\n",
      "feature_fraction, val_score: 0.089393:  14%|5   | 1/7 [01:50<10:07, 101.33s/it]\n",
      "\n",
      "\n",
      "feature_fraction, val_score: 0.089393:  29%|#4   | 2/7 [01:50<06:08, 73.66s/it][I 2020-09-15 22:51:53,422] Trial 1 finished with value: 0.08989395065914015 and parameters: {'feature_fraction': 0.8}. Best is trial 0 with value: 0.08939299053689721.\n",
      "\n",
      "\n",
      "\n",
      "feature_fraction, val_score: 0.089393:  29%|#4   | 2/7 [01:50<06:08, 73.66s/it]"
     ]
    },
    {
     "name": "stdout",
     "output_type": "stream",
     "text": [
      "Training until validation scores don't improve for 100 rounds\n",
      "[100]\ttraining's binary_logloss: 0.0522626\tvalid_1's binary_logloss: 0.0903024\n",
      "[200]\ttraining's binary_logloss: 0.0347046\tvalid_1's binary_logloss: 0.0890083\n",
      "Early stopping, best iteration is:\n",
      "[193]\ttraining's binary_logloss: 0.0355686\tvalid_1's binary_logloss: 0.088899\n"
     ]
    },
    {
     "name": "stderr",
     "output_type": "stream",
     "text": [
      "\n",
      "\n",
      "\n",
      "feature_fraction, val_score: 0.088899:  29%|#4   | 2/7 [02:01<06:08, 73.66s/it]\n",
      "\n",
      "\n",
      "feature_fraction, val_score: 0.088899:  43%|##1  | 3/7 [02:01<03:38, 54.75s/it][I 2020-09-15 22:52:03,806] Trial 2 finished with value: 0.08889895255437336 and parameters: {'feature_fraction': 0.6}. Best is trial 2 with value: 0.08889895255437336.\n",
      "\n",
      "\n",
      "\n",
      "feature_fraction, val_score: 0.088899:  43%|##1  | 3/7 [02:01<03:38, 54.75s/it]"
     ]
    },
    {
     "name": "stdout",
     "output_type": "stream",
     "text": [
      "Training until validation scores don't improve for 100 rounds\n",
      "[100]\ttraining's binary_logloss: 0.050121\tvalid_1's binary_logloss: 0.0885999\n",
      "[200]\ttraining's binary_logloss: 0.0322736\tvalid_1's binary_logloss: 0.0877205\n",
      "Early stopping, best iteration is:\n",
      "[171]\ttraining's binary_logloss: 0.0359583\tvalid_1's binary_logloss: 0.0874136\n"
     ]
    },
    {
     "name": "stderr",
     "output_type": "stream",
     "text": [
      "\n",
      "\n",
      "\n",
      "feature_fraction, val_score: 0.087414:  43%|##1  | 3/7 [02:11<03:38, 54.75s/it]\n",
      "\n",
      "\n",
      "feature_fraction, val_score: 0.087414:  57%|##8  | 4/7 [02:11<02:04, 41.56s/it][I 2020-09-15 22:52:14,611] Trial 3 finished with value: 0.08741361883365037 and parameters: {'feature_fraction': 0.8999999999999999}. Best is trial 3 with value: 0.08741361883365037.\n",
      "\n",
      "\n",
      "\n",
      "feature_fraction, val_score: 0.087414:  57%|##8  | 4/7 [02:11<02:04, 41.56s/it]"
     ]
    },
    {
     "name": "stdout",
     "output_type": "stream",
     "text": [
      "Training until validation scores don't improve for 100 rounds\n",
      "[100]\ttraining's binary_logloss: 0.0537425\tvalid_1's binary_logloss: 0.0900071\n",
      "[200]\ttraining's binary_logloss: 0.0360924\tvalid_1's binary_logloss: 0.0891362\n",
      "Early stopping, best iteration is:\n",
      "[156]\ttraining's binary_logloss: 0.0426508\tvalid_1's binary_logloss: 0.0888423\n"
     ]
    },
    {
     "name": "stderr",
     "output_type": "stream",
     "text": [
      "\n",
      "\n",
      "\n",
      "feature_fraction, val_score: 0.087414:  57%|##8  | 4/7 [02:21<02:04, 41.56s/it]\n",
      "\n",
      "\n",
      "feature_fraction, val_score: 0.087414:  71%|###5 | 5/7 [02:21<01:03, 31.85s/it][I 2020-09-15 22:52:23,798] Trial 4 finished with value: 0.08884226256685838 and parameters: {'feature_fraction': 0.4}. Best is trial 3 with value: 0.08741361883365037.\n",
      "\n",
      "\n",
      "\n",
      "feature_fraction, val_score: 0.087414:  71%|###5 | 5/7 [02:21<01:03, 31.85s/it]"
     ]
    },
    {
     "name": "stdout",
     "output_type": "stream",
     "text": [
      "Training until validation scores don't improve for 100 rounds\n",
      "[100]\ttraining's binary_logloss: 0.050197\tvalid_1's binary_logloss: 0.0898831\n",
      "[200]\ttraining's binary_logloss: 0.0320511\tvalid_1's binary_logloss: 0.0902852\n",
      "Early stopping, best iteration is:\n",
      "[115]\ttraining's binary_logloss: 0.0466093\tvalid_1's binary_logloss: 0.0897472\n"
     ]
    },
    {
     "name": "stderr",
     "output_type": "stream",
     "text": [
      "\n",
      "\n",
      "\n",
      "feature_fraction, val_score: 0.087414:  71%|###5 | 5/7 [02:29<01:03, 31.85s/it]\n",
      "\n",
      "\n",
      "feature_fraction, val_score: 0.087414:  86%|####2| 6/7 [02:29<00:24, 24.77s/it][I 2020-09-15 22:52:32,041] Trial 5 finished with value: 0.0897472213078895 and parameters: {'feature_fraction': 1.0}. Best is trial 3 with value: 0.08741361883365037.\n",
      "\n",
      "\n",
      "\n",
      "feature_fraction, val_score: 0.087414:  86%|####2| 6/7 [02:29<00:24, 24.77s/it]"
     ]
    },
    {
     "name": "stdout",
     "output_type": "stream",
     "text": [
      "Training until validation scores don't improve for 100 rounds\n",
      "[100]\ttraining's binary_logloss: 0.0514156\tvalid_1's binary_logloss: 0.089539\n",
      "[200]\ttraining's binary_logloss: 0.0334528\tvalid_1's binary_logloss: 0.0894224\n",
      "Early stopping, best iteration is:\n",
      "[138]\ttraining's binary_logloss: 0.0429458\tvalid_1's binary_logloss: 0.0889227\n"
     ]
    },
    {
     "name": "stderr",
     "output_type": "stream",
     "text": [
      "\n",
      "\n",
      "\n",
      "feature_fraction, val_score: 0.087414:  86%|####2| 6/7 [02:38<00:24, 24.77s/it]\n",
      "\n",
      "\n",
      "feature_fraction, val_score: 0.087414: 100%|#####| 7/7 [02:38<00:00, 20.18s/it][I 2020-09-15 22:52:41,529] Trial 6 finished with value: 0.0889227468724072 and parameters: {'feature_fraction': 0.7}. Best is trial 3 with value: 0.08741361883365037.\n",
      "feature_fraction, val_score: 0.087414: 100%|#####| 7/7 [02:39<00:00, 22.75s/it]\n",
      "\n",
      "\n",
      "\n",
      "  0%|                                                   | 0/20 [00:00<?, ?it/s]\n",
      "\n",
      "\n",
      "num_leaves, val_score: 0.087414:   0%|                  | 0/20 [00:00<?, ?it/s]"
     ]
    },
    {
     "name": "stdout",
     "output_type": "stream",
     "text": [
      "Training until validation scores don't improve for 100 rounds\n",
      "[100]\ttraining's binary_logloss: 0.0242183\tvalid_1's binary_logloss: 0.0915162\n",
      "Early stopping, best iteration is:\n",
      "[72]\ttraining's binary_logloss: 0.0321639\tvalid_1's binary_logloss: 0.0901896\n"
     ]
    },
    {
     "name": "stderr",
     "output_type": "stream",
     "text": [
      "\n",
      "\n",
      "\n",
      "num_leaves, val_score: 0.087414:   0%|                  | 0/20 [00:10<?, ?it/s]\n",
      "\n",
      "\n",
      "num_leaves, val_score: 0.087414:   5%|5         | 1/20 [00:10<03:19, 10.48s/it][I 2020-09-15 22:52:52,559] Trial 7 finished with value: 0.09018955283712059 and parameters: {'num_leaves': 78}. Best is trial 7 with value: 0.09018955283712059.\n",
      "\n",
      "\n",
      "\n",
      "num_leaves, val_score: 0.087414:   5%|5         | 1/20 [00:10<03:19, 10.48s/it]"
     ]
    },
    {
     "name": "stdout",
     "output_type": "stream",
     "text": [
      "Training until validation scores don't improve for 100 rounds\n",
      "[100]\ttraining's binary_logloss: 0.113903\tvalid_1's binary_logloss: 0.112634\n",
      "[200]\ttraining's binary_logloss: 0.109723\tvalid_1's binary_logloss: 0.108884\n",
      "[300]\ttraining's binary_logloss: 0.107219\tvalid_1's binary_logloss: 0.106642\n",
      "[400]\ttraining's binary_logloss: 0.10548\tvalid_1's binary_logloss: 0.105109\n",
      "[500]\ttraining's binary_logloss: 0.104179\tvalid_1's binary_logloss: 0.103998\n",
      "[600]\ttraining's binary_logloss: 0.103156\tvalid_1's binary_logloss: 0.1033\n",
      "[700]\ttraining's binary_logloss: 0.102322\tvalid_1's binary_logloss: 0.102759\n",
      "[800]\ttraining's binary_logloss: 0.101628\tvalid_1's binary_logloss: 0.102287\n",
      "[900]\ttraining's binary_logloss: 0.101036\tvalid_1's binary_logloss: 0.101932\n",
      "[1000]\ttraining's binary_logloss: 0.100521\tvalid_1's binary_logloss: 0.10162\n",
      "Did not meet early stopping. Best iteration is:\n",
      "[1000]\ttraining's binary_logloss: 0.100521\tvalid_1's binary_logloss: 0.10162\n"
     ]
    },
    {
     "name": "stderr",
     "output_type": "stream",
     "text": [
      "\n",
      "\n",
      "\n",
      "num_leaves, val_score: 0.087414:   5%|5         | 1/20 [00:32<03:19, 10.48s/it]\n",
      "\n",
      "\n",
      "num_leaves, val_score: 0.087414:  10%|#         | 2/20 [00:32<04:10, 13.92s/it][I 2020-09-15 22:53:14,733] Trial 8 finished with value: 0.10162047836583452 and parameters: {'num_leaves': 2}. Best is trial 7 with value: 0.09018955283712059.\n",
      "\n",
      "\n",
      "\n",
      "num_leaves, val_score: 0.087414:  10%|#         | 2/20 [00:32<04:10, 13.92s/it]"
     ]
    },
    {
     "name": "stdout",
     "output_type": "stream",
     "text": [
      "Training until validation scores don't improve for 100 rounds\n",
      "[100]\ttraining's binary_logloss: 0.00566669\tvalid_1's binary_logloss: 0.10883\n",
      "Early stopping, best iteration is:\n",
      "[36]\ttraining's binary_logloss: 0.0277593\tvalid_1's binary_logloss: 0.0924082\n"
     ]
    },
    {
     "name": "stderr",
     "output_type": "stream",
     "text": [
      "\n",
      "\n",
      "\n",
      "num_leaves, val_score: 0.087414:  10%|#         | 2/20 [00:47<04:10, 13.92s/it]\n",
      "\n",
      "\n",
      "num_leaves, val_score: 0.087414:  15%|#5        | 3/20 [00:47<04:00, 14.14s/it][I 2020-09-15 22:53:29,125] Trial 9 finished with value: 0.09240817675610405 and parameters: {'num_leaves': 197}. Best is trial 7 with value: 0.09018955283712059.\n",
      "\n",
      "\n",
      "\n",
      "num_leaves, val_score: 0.087414:  15%|#5        | 3/20 [00:47<04:00, 14.14s/it]"
     ]
    },
    {
     "name": "stdout",
     "output_type": "stream",
     "text": [
      "Training until validation scores don't improve for 100 rounds\n",
      "[100]\ttraining's binary_logloss: 0.00335257\tvalid_1's binary_logloss: 0.11861\n",
      "Early stopping, best iteration is:\n",
      "[29]\ttraining's binary_logloss: 0.0298859\tvalid_1's binary_logloss: 0.0936877\n"
     ]
    },
    {
     "name": "stderr",
     "output_type": "stream",
     "text": [
      "\n",
      "\n",
      "\n",
      "num_leaves, val_score: 0.087414:  15%|#5        | 3/20 [01:07<04:00, 14.14s/it]\n",
      "\n",
      "\n",
      "num_leaves, val_score: 0.087414:  20%|##        | 4/20 [01:07<04:14, 15.88s/it][I 2020-09-15 22:53:49,095] Trial 10 finished with value: 0.0936876561804365 and parameters: {'num_leaves': 251}. Best is trial 7 with value: 0.09018955283712059.\n",
      "\n",
      "\n",
      "\n",
      "num_leaves, val_score: 0.087414:  20%|##        | 4/20 [01:07<04:14, 15.88s/it]"
     ]
    },
    {
     "name": "stdout",
     "output_type": "stream",
     "text": [
      "Training until validation scores don't improve for 100 rounds\n",
      "[100]\ttraining's binary_logloss: 0.0158624\tvalid_1's binary_logloss: 0.0951015\n",
      "Early stopping, best iteration is:\n",
      "[48]\ttraining's binary_logloss: 0.0342767\tvalid_1's binary_logloss: 0.0911507\n"
     ]
    },
    {
     "name": "stderr",
     "output_type": "stream",
     "text": [
      "\n",
      "\n",
      "\n",
      "num_leaves, val_score: 0.087414:  20%|##        | 4/20 [01:17<04:14, 15.88s/it]\n",
      "\n",
      "\n",
      "num_leaves, val_score: 0.087414:  25%|##5       | 5/20 [01:17<03:34, 14.32s/it][I 2020-09-15 22:53:59,776] Trial 11 finished with value: 0.09115073861425986 and parameters: {'num_leaves': 108}. Best is trial 7 with value: 0.09018955283712059.\n",
      "\n",
      "\n",
      "\n",
      "num_leaves, val_score: 0.087414:  25%|##5       | 5/20 [01:17<03:34, 14.32s/it]"
     ]
    },
    {
     "name": "stdout",
     "output_type": "stream",
     "text": [
      "Training until validation scores don't improve for 100 rounds\n",
      "[100]\ttraining's binary_logloss: 0.09246\tvalid_1's binary_logloss: 0.0979508\n",
      "[200]\ttraining's binary_logloss: 0.0821459\tvalid_1's binary_logloss: 0.0936608\n",
      "[300]\ttraining's binary_logloss: 0.0748209\tvalid_1's binary_logloss: 0.0926707\n",
      "[400]\ttraining's binary_logloss: 0.0688019\tvalid_1's binary_logloss: 0.0917064\n",
      "[500]\ttraining's binary_logloss: 0.0634449\tvalid_1's binary_logloss: 0.091152\n",
      "[600]\ttraining's binary_logloss: 0.0589607\tvalid_1's binary_logloss: 0.0911729\n",
      "Early stopping, best iteration is:\n",
      "[567]\ttraining's binary_logloss: 0.0604284\tvalid_1's binary_logloss: 0.0910095\n"
     ]
    },
    {
     "name": "stderr",
     "output_type": "stream",
     "text": [
      "\n",
      "\n",
      "\n",
      "num_leaves, val_score: 0.087414:  25%|##5       | 5/20 [01:35<03:34, 14.32s/it]\n",
      "\n",
      "\n",
      "num_leaves, val_score: 0.087414:  30%|###       | 6/20 [01:35<03:33, 15.25s/it][I 2020-09-15 22:54:17,192] Trial 12 finished with value: 0.09100951869248204 and parameters: {'num_leaves': 6}. Best is trial 7 with value: 0.09018955283712059.\n",
      "\n",
      "\n",
      "\n",
      "num_leaves, val_score: 0.087414:  30%|###       | 6/20 [01:35<03:33, 15.25s/it]"
     ]
    },
    {
     "name": "stdout",
     "output_type": "stream",
     "text": [
      "Training until validation scores don't improve for 100 rounds\n",
      "[100]\ttraining's binary_logloss: 0.00636875\tvalid_1's binary_logloss: 0.106516\n",
      "Early stopping, best iteration is:\n",
      "[39]\ttraining's binary_logloss: 0.0260951\tvalid_1's binary_logloss: 0.0924722\n"
     ]
    },
    {
     "name": "stderr",
     "output_type": "stream",
     "text": [
      "\n",
      "\n",
      "\n",
      "num_leaves, val_score: 0.087414:  30%|###       | 6/20 [01:48<03:33, 15.25s/it]\n",
      "\n",
      "\n",
      "num_leaves, val_score: 0.087414:  35%|###5      | 7/20 [01:48<03:10, 14.69s/it][I 2020-09-15 22:54:30,572] Trial 13 finished with value: 0.09247224118417981 and parameters: {'num_leaves': 190}. Best is trial 7 with value: 0.09018955283712059.\n",
      "\n",
      "\n",
      "\n",
      "num_leaves, val_score: 0.087414:  35%|###5      | 7/20 [01:48<03:10, 14.69s/it]"
     ]
    },
    {
     "name": "stdout",
     "output_type": "stream",
     "text": [
      "Training until validation scores don't improve for 100 rounds\n",
      "[100]\ttraining's binary_logloss: 0.0327289\tvalid_1's binary_logloss: 0.090197\n",
      "Early stopping, best iteration is:\n",
      "[90]\ttraining's binary_logloss: 0.0356326\tvalid_1's binary_logloss: 0.0898194\n"
     ]
    },
    {
     "name": "stderr",
     "output_type": "stream",
     "text": [
      "\n",
      "\n",
      "\n",
      "num_leaves, val_score: 0.087414:  35%|###5      | 7/20 [01:57<03:10, 14.69s/it]\n",
      "\n",
      "\n",
      "num_leaves, val_score: 0.087414:  40%|####      | 8/20 [01:57<02:36, 13.04s/it][I 2020-09-15 22:54:39,756] Trial 14 finished with value: 0.08981937273275506 and parameters: {'num_leaves': 56}. Best is trial 14 with value: 0.08981937273275506.\n",
      "\n",
      "\n",
      "\n",
      "num_leaves, val_score: 0.087414:  40%|####      | 8/20 [01:57<02:36, 13.04s/it]"
     ]
    },
    {
     "name": "stdout",
     "output_type": "stream",
     "text": [
      "Training until validation scores don't improve for 100 rounds\n",
      "[100]\ttraining's binary_logloss: 0.00323346\tvalid_1's binary_logloss: 0.118516\n",
      "Early stopping, best iteration is:\n",
      "[27]\ttraining's binary_logloss: 0.0317491\tvalid_1's binary_logloss: 0.0926224\n"
     ]
    },
    {
     "name": "stderr",
     "output_type": "stream",
     "text": [
      "\n",
      "\n",
      "\n",
      "num_leaves, val_score: 0.087414:  40%|####      | 8/20 [02:14<02:36, 13.04s/it]\n",
      "\n",
      "\n",
      "num_leaves, val_score: 0.087414:  45%|####5     | 9/20 [02:14<02:36, 14.27s/it][I 2020-09-15 22:54:56,880] Trial 15 finished with value: 0.09262243860573753 and parameters: {'num_leaves': 254}. Best is trial 14 with value: 0.08981937273275506.\n",
      "\n",
      "\n",
      "\n",
      "num_leaves, val_score: 0.087414:  45%|####5     | 9/20 [02:14<02:36, 14.27s/it]"
     ]
    },
    {
     "name": "stdout",
     "output_type": "stream",
     "text": [
      "Training until validation scores don't improve for 100 rounds\n",
      "[100]\ttraining's binary_logloss: 0.00686706\tvalid_1's binary_logloss: 0.105747\n",
      "Early stopping, best iteration is:\n",
      "[36]\ttraining's binary_logloss: 0.0300583\tvalid_1's binary_logloss: 0.0930983\n"
     ]
    },
    {
     "name": "stderr",
     "output_type": "stream",
     "text": [
      "\n",
      "\n",
      "\n",
      "num_leaves, val_score: 0.087414:  45%|####5     | 9/20 [02:27<02:36, 14.27s/it]\n",
      "\n",
      "\n",
      "num_leaves, val_score: 0.087414:  50%|####5    | 10/20 [02:27<02:16, 13.68s/it][I 2020-09-15 22:55:09,196] Trial 16 finished with value: 0.09309829320946024 and parameters: {'num_leaves': 179}. Best is trial 14 with value: 0.08981937273275506.\n",
      "\n",
      "\n",
      "\n",
      "num_leaves, val_score: 0.087414:  50%|####5    | 10/20 [02:27<02:16, 13.68s/it]"
     ]
    },
    {
     "name": "stdout",
     "output_type": "stream",
     "text": [
      "Training until validation scores don't improve for 100 rounds\n",
      "[100]\ttraining's binary_logloss: 0.0100488\tvalid_1's binary_logloss: 0.101699\n",
      "Early stopping, best iteration is:\n",
      "[44]\ttraining's binary_logloss: 0.0291197\tvalid_1's binary_logloss: 0.0925394\n"
     ]
    },
    {
     "name": "stderr",
     "output_type": "stream",
     "text": [
      "\n",
      "\n",
      "\n",
      "num_leaves, val_score: 0.087414:  50%|####5    | 10/20 [02:38<02:16, 13.68s/it]\n",
      "\n",
      "\n",
      "num_leaves, val_score: 0.087414:  55%|####9    | 11/20 [02:38<01:58, 13.12s/it][I 2020-09-15 22:55:21,006] Trial 17 finished with value: 0.09253944945668965 and parameters: {'num_leaves': 145}. Best is trial 14 with value: 0.08981937273275506.\n",
      "\n",
      "\n",
      "\n",
      "num_leaves, val_score: 0.087414:  55%|####9    | 11/20 [02:38<01:58, 13.12s/it]"
     ]
    },
    {
     "name": "stdout",
     "output_type": "stream",
     "text": [
      "Training until validation scores don't improve for 100 rounds\n",
      "[100]\ttraining's binary_logloss: 0.0399751\tvalid_1's binary_logloss: 0.08971\n",
      "[200]\ttraining's binary_logloss: 0.0225046\tvalid_1's binary_logloss: 0.0918522\n",
      "Early stopping, best iteration is:\n",
      "[114]\ttraining's binary_logloss: 0.0365214\tvalid_1's binary_logloss: 0.0895628\n"
     ]
    },
    {
     "name": "stderr",
     "output_type": "stream",
     "text": [
      "\n",
      "\n",
      "\n",
      "num_leaves, val_score: 0.087414:  55%|####9    | 11/20 [02:48<01:58, 13.12s/it]\n",
      "\n",
      "\n",
      "num_leaves, val_score: 0.087414:  60%|#####3   | 12/20 [02:48<01:35, 11.92s/it][I 2020-09-15 22:55:30,121] Trial 18 finished with value: 0.089562827010829 and parameters: {'num_leaves': 44}. Best is trial 18 with value: 0.089562827010829.\n",
      "\n",
      "\n",
      "\n",
      "num_leaves, val_score: 0.087414:  60%|#####3   | 12/20 [02:48<01:35, 11.92s/it]"
     ]
    },
    {
     "name": "stdout",
     "output_type": "stream",
     "text": [
      "Training until validation scores don't improve for 100 rounds\n",
      "[100]\ttraining's binary_logloss: 0.00434912\tvalid_1's binary_logloss: 0.113232\n",
      "Early stopping, best iteration is:\n",
      "[27]\ttraining's binary_logloss: 0.0346488\tvalid_1's binary_logloss: 0.0923778\n"
     ]
    },
    {
     "name": "stderr",
     "output_type": "stream",
     "text": [
      "\n",
      "\n",
      "\n",
      "num_leaves, val_score: 0.087414:  60%|#####3   | 12/20 [03:01<01:35, 11.92s/it]\n",
      "\n",
      "\n",
      "num_leaves, val_score: 0.087414:  65%|#####8   | 13/20 [03:01<01:25, 12.28s/it][I 2020-09-15 22:55:43,233] Trial 19 finished with value: 0.09237782958836434 and parameters: {'num_leaves': 223}. Best is trial 18 with value: 0.089562827010829.\n",
      "\n",
      "\n",
      "\n",
      "num_leaves, val_score: 0.087414:  65%|#####8   | 13/20 [03:01<01:25, 12.28s/it]"
     ]
    },
    {
     "name": "stdout",
     "output_type": "stream",
     "text": [
      "Training until validation scores don't improve for 100 rounds\n",
      "[100]\ttraining's binary_logloss: 0.0111638\tvalid_1's binary_logloss: 0.0996477\n",
      "Early stopping, best iteration is:\n",
      "[43]\ttraining's binary_logloss: 0.0313784\tvalid_1's binary_logloss: 0.0912816\n"
     ]
    },
    {
     "name": "stderr",
     "output_type": "stream",
     "text": [
      "\n",
      "\n",
      "\n",
      "num_leaves, val_score: 0.087414:  65%|#####8   | 13/20 [03:12<01:25, 12.28s/it]\n",
      "\n",
      "\n",
      "num_leaves, val_score: 0.087414:  70%|######3  | 14/20 [03:12<01:12, 12.04s/it][I 2020-09-15 22:55:54,736] Trial 20 finished with value: 0.09128163140333075 and parameters: {'num_leaves': 137}. Best is trial 18 with value: 0.089562827010829.\n",
      "\n",
      "\n",
      "\n",
      "num_leaves, val_score: 0.087414:  70%|######3  | 14/20 [03:12<01:12, 12.04s/it]"
     ]
    },
    {
     "name": "stdout",
     "output_type": "stream",
     "text": [
      "Training until validation scores don't improve for 100 rounds\n",
      "[100]\ttraining's binary_logloss: 0.0168448\tvalid_1's binary_logloss: 0.0931671\n",
      "Early stopping, best iteration is:\n",
      "[63]\ttraining's binary_logloss: 0.0276995\tvalid_1's binary_logloss: 0.0899353\n"
     ]
    },
    {
     "name": "stderr",
     "output_type": "stream",
     "text": [
      "\n",
      "\n",
      "\n",
      "num_leaves, val_score: 0.087414:  70%|######3  | 14/20 [03:22<01:12, 12.04s/it]\n",
      "\n",
      "\n",
      "num_leaves, val_score: 0.087414:  75%|######7  | 15/20 [03:22<00:57, 11.48s/it][I 2020-09-15 22:56:04,895] Trial 21 finished with value: 0.08993534648484286 and parameters: {'num_leaves': 104}. Best is trial 18 with value: 0.089562827010829.\n",
      "\n",
      "\n",
      "\n",
      "num_leaves, val_score: 0.087414:  75%|######7  | 15/20 [03:22<00:57, 11.48s/it]"
     ]
    },
    {
     "name": "stdout",
     "output_type": "stream",
     "text": [
      "Training until validation scores don't improve for 100 rounds\n",
      "[100]\ttraining's binary_logloss: 0.0491499\tvalid_1's binary_logloss: 0.0899266\n",
      "[200]\ttraining's binary_logloss: 0.0311448\tvalid_1's binary_logloss: 0.0901326\n",
      "Early stopping, best iteration is:\n",
      "[132]\ttraining's binary_logloss: 0.0419481\tvalid_1's binary_logloss: 0.0894546\n"
     ]
    },
    {
     "name": "stderr",
     "output_type": "stream",
     "text": [
      "\n",
      "\n",
      "\n",
      "num_leaves, val_score: 0.087414:  75%|######7  | 15/20 [03:32<00:57, 11.48s/it]\n",
      "\n",
      "\n",
      "num_leaves, val_score: 0.087414:  80%|#######2 | 16/20 [03:32<00:43, 10.85s/it][I 2020-09-15 22:56:14,273] Trial 22 finished with value: 0.08945457769721304 and parameters: {'num_leaves': 32}. Best is trial 22 with value: 0.08945457769721304.\n",
      "\n",
      "\n",
      "\n",
      "num_leaves, val_score: 0.087414:  80%|#######2 | 16/20 [03:32<00:43, 10.85s/it]"
     ]
    },
    {
     "name": "stdout",
     "output_type": "stream",
     "text": [
      "Training until validation scores don't improve for 100 rounds\n",
      "[100]\ttraining's binary_logloss: 0.00857069\tvalid_1's binary_logloss: 0.101948\n",
      "Early stopping, best iteration is:\n",
      "[40]\ttraining's binary_logloss: 0.0296972\tvalid_1's binary_logloss: 0.0920103\n"
     ]
    },
    {
     "name": "stderr",
     "output_type": "stream",
     "text": [
      "\n",
      "\n",
      "\n",
      "num_leaves, val_score: 0.087414:  80%|#######2 | 16/20 [03:44<00:43, 10.85s/it]\n",
      "\n",
      "\n",
      "num_leaves, val_score: 0.087414:  85%|#######6 | 17/20 [03:44<00:33, 11.15s/it][I 2020-09-15 22:56:26,125] Trial 23 finished with value: 0.09201034089970635 and parameters: {'num_leaves': 159}. Best is trial 22 with value: 0.08945457769721304.\n",
      "\n",
      "\n",
      "\n",
      "num_leaves, val_score: 0.087414:  85%|#######6 | 17/20 [03:44<00:33, 11.15s/it]"
     ]
    },
    {
     "name": "stdout",
     "output_type": "stream",
     "text": [
      "Training until validation scores don't improve for 100 rounds\n",
      "[100]\ttraining's binary_logloss: 0.00488638\tvalid_1's binary_logloss: 0.112097\n",
      "Early stopping, best iteration is:\n",
      "[33]\ttraining's binary_logloss: 0.0290956\tvalid_1's binary_logloss: 0.0932473\n"
     ]
    },
    {
     "name": "stderr",
     "output_type": "stream",
     "text": [
      "\n",
      "\n",
      "\n",
      "num_leaves, val_score: 0.087414:  85%|#######6 | 17/20 [03:57<00:33, 11.15s/it]\n",
      "\n",
      "\n",
      "num_leaves, val_score: 0.087414:  90%|########1| 18/20 [03:57<00:23, 11.79s/it][I 2020-09-15 22:56:39,391] Trial 24 finished with value: 0.09324734239708152 and parameters: {'num_leaves': 213}. Best is trial 22 with value: 0.08945457769721304.\n",
      "\n",
      "\n",
      "\n",
      "num_leaves, val_score: 0.087414:  90%|########1| 18/20 [03:57<00:23, 11.79s/it]"
     ]
    },
    {
     "name": "stdout",
     "output_type": "stream",
     "text": [
      "Training until validation scores don't improve for 100 rounds\n",
      "[100]\ttraining's binary_logloss: 0.0160458\tvalid_1's binary_logloss: 0.0955514\n",
      "Early stopping, best iteration is:\n",
      "[50]\ttraining's binary_logloss: 0.0336052\tvalid_1's binary_logloss: 0.0906454\n"
     ]
    },
    {
     "name": "stderr",
     "output_type": "stream",
     "text": [
      "\n",
      "\n",
      "\n",
      "num_leaves, val_score: 0.087414:  90%|########1| 18/20 [04:06<00:23, 11.79s/it]\n",
      "\n",
      "\n",
      "num_leaves, val_score: 0.087414:  95%|########5| 19/20 [04:06<00:11, 11.05s/it][I 2020-09-15 22:56:48,740] Trial 25 finished with value: 0.09064541513936362 and parameters: {'num_leaves': 106}. Best is trial 22 with value: 0.08945457769721304.\n",
      "\n",
      "\n",
      "\n",
      "num_leaves, val_score: 0.087414:  95%|########5| 19/20 [04:06<00:11, 11.05s/it]"
     ]
    },
    {
     "name": "stdout",
     "output_type": "stream",
     "text": [
      "Training until validation scores don't improve for 100 rounds\n",
      "[100]\ttraining's binary_logloss: 0.00414494\tvalid_1's binary_logloss: 0.115479\n",
      "Early stopping, best iteration is:\n",
      "[31]\ttraining's binary_logloss: 0.0292183\tvalid_1's binary_logloss: 0.0929278\n"
     ]
    },
    {
     "name": "stderr",
     "output_type": "stream",
     "text": [
      "\n",
      "\n",
      "\n",
      "num_leaves, val_score: 0.087414:  95%|########5| 19/20 [04:21<00:11, 11.05s/it]\n",
      "\n",
      "\n",
      "num_leaves, val_score: 0.087414: 100%|#########| 20/20 [04:21<00:00, 12.17s/it][I 2020-09-15 22:57:03,497] Trial 26 finished with value: 0.09292779785825193 and parameters: {'num_leaves': 231}. Best is trial 22 with value: 0.08945457769721304.\n",
      "num_leaves, val_score: 0.087414: 100%|#########| 20/20 [04:21<00:00, 13.07s/it]\n",
      "\n",
      "\n",
      "\n",
      "  0%|                                                   | 0/10 [00:00<?, ?it/s]\n",
      "\n",
      "\n",
      "bagging, val_score: 0.087414:   0%|                     | 0/10 [00:00<?, ?it/s]"
     ]
    },
    {
     "name": "stdout",
     "output_type": "stream",
     "text": [
      "Training until validation scores don't improve for 100 rounds\n",
      "[100]\ttraining's binary_logloss: 0.0493668\tvalid_1's binary_logloss: 0.090778\n",
      "[200]\ttraining's binary_logloss: 0.0308508\tvalid_1's binary_logloss: 0.091481\n",
      "Early stopping, best iteration is:\n",
      "[115]\ttraining's binary_logloss: 0.0457696\tvalid_1's binary_logloss: 0.0902854\n"
     ]
    },
    {
     "name": "stderr",
     "output_type": "stream",
     "text": [
      "\n",
      "\n",
      "\n",
      "bagging, val_score: 0.087414:   0%|                     | 0/10 [00:08<?, ?it/s]\n",
      "\n",
      "\n",
      "bagging, val_score: 0.087414:  10%|#3           | 1/10 [00:08<01:17,  8.59s/it][I 2020-09-15 22:57:12,111] Trial 27 finished with value: 0.09028541621413518 and parameters: {'bagging_fraction': 0.8091665172457336, 'bagging_freq': 5}. Best is trial 27 with value: 0.09028541621413518.\n",
      "\n",
      "\n",
      "\n",
      "bagging, val_score: 0.087414:  10%|#3           | 1/10 [00:08<01:17,  8.59s/it]"
     ]
    },
    {
     "name": "stdout",
     "output_type": "stream",
     "text": [
      "Training until validation scores don't improve for 100 rounds\n",
      "[100]\ttraining's binary_logloss: 0.0498457\tvalid_1's binary_logloss: 0.0937768\n",
      "Early stopping, best iteration is:\n",
      "[98]\ttraining's binary_logloss: 0.0503852\tvalid_1's binary_logloss: 0.0936898\n"
     ]
    },
    {
     "name": "stderr",
     "output_type": "stream",
     "text": [
      "\n",
      "\n",
      "\n",
      "bagging, val_score: 0.087414:  10%|#3           | 1/10 [00:14<01:17,  8.59s/it]\n",
      "\n",
      "\n",
      "bagging, val_score: 0.087414:  20%|##6          | 2/10 [00:14<01:01,  7.67s/it][I 2020-09-15 22:57:17,649] Trial 28 finished with value: 0.09368984483602225 and parameters: {'bagging_fraction': 0.40499166793039615, 'bagging_freq': 1}. Best is trial 27 with value: 0.09028541621413518.\n",
      "\n",
      "\n",
      "\n",
      "bagging, val_score: 0.087414:  20%|##6          | 2/10 [00:14<01:01,  7.67s/it]"
     ]
    },
    {
     "name": "stdout",
     "output_type": "stream",
     "text": [
      "Training until validation scores don't improve for 100 rounds\n",
      "[100]\ttraining's binary_logloss: 0.0517551\tvalid_1's binary_logloss: 0.0946129\n",
      "[200]\ttraining's binary_logloss: 0.0319708\tvalid_1's binary_logloss: 0.0969384\n",
      "Early stopping, best iteration is:\n",
      "[103]\ttraining's binary_logloss: 0.0509646\tvalid_1's binary_logloss: 0.0944865\n"
     ]
    },
    {
     "name": "stderr",
     "output_type": "stream",
     "text": [
      "\n",
      "\n",
      "\n",
      "bagging, val_score: 0.087414:  20%|##6          | 2/10 [00:19<01:01,  7.67s/it]\n",
      "\n",
      "\n",
      "bagging, val_score: 0.087414:  30%|###9         | 3/10 [00:19<00:47,  6.85s/it][I 2020-09-15 22:57:22,593] Trial 29 finished with value: 0.09448654435052649 and parameters: {'bagging_fraction': 0.4396284039222349, 'bagging_freq': 7}. Best is trial 27 with value: 0.09028541621413518.\n",
      "\n",
      "\n",
      "\n",
      "bagging, val_score: 0.087414:  30%|###9         | 3/10 [00:19<00:47,  6.85s/it]"
     ]
    },
    {
     "name": "stdout",
     "output_type": "stream",
     "text": [
      "Training until validation scores don't improve for 100 rounds\n",
      "[100]\ttraining's binary_logloss: 0.0496081\tvalid_1's binary_logloss: 0.0892317\n",
      "[200]\ttraining's binary_logloss: 0.0309975\tvalid_1's binary_logloss: 0.0894534\n",
      "Early stopping, best iteration is:\n",
      "[140]\ttraining's binary_logloss: 0.040667\tvalid_1's binary_logloss: 0.0885506\n"
     ]
    },
    {
     "name": "stderr",
     "output_type": "stream",
     "text": [
      "\n",
      "\n",
      "\n",
      "bagging, val_score: 0.087414:  30%|###9         | 3/10 [00:31<00:47,  6.85s/it]\n",
      "\n",
      "\n",
      "bagging, val_score: 0.087414:  40%|#####2       | 4/10 [00:31<00:51,  8.56s/it][I 2020-09-15 22:57:35,132] Trial 30 finished with value: 0.08855055925609986 and parameters: {'bagging_fraction': 0.9543235609186052, 'bagging_freq': 1}. Best is trial 30 with value: 0.08855055925609986.\n",
      "\n",
      "\n",
      "\n",
      "bagging, val_score: 0.087414:  40%|#####2       | 4/10 [00:31<00:51,  8.56s/it]"
     ]
    },
    {
     "name": "stdout",
     "output_type": "stream",
     "text": [
      "Training until validation scores don't improve for 100 rounds\n",
      "[100]\ttraining's binary_logloss: 0.049752\tvalid_1's binary_logloss: 0.0895245\n",
      "[200]\ttraining's binary_logloss: 0.0313899\tvalid_1's binary_logloss: 0.0888988\n",
      "Early stopping, best iteration is:\n",
      "[141]\ttraining's binary_logloss: 0.040312\tvalid_1's binary_logloss: 0.0884317\n"
     ]
    },
    {
     "name": "stderr",
     "output_type": "stream",
     "text": [
      "\n",
      "\n",
      "\n",
      "bagging, val_score: 0.087414:  40%|#####2       | 4/10 [00:44<00:51,  8.56s/it]\n",
      "\n",
      "\n",
      "bagging, val_score: 0.087414:  50%|######5      | 5/10 [00:44<00:49,  9.85s/it][I 2020-09-15 22:57:47,986] Trial 31 finished with value: 0.08843167106621365 and parameters: {'bagging_fraction': 0.9829436336798887, 'bagging_freq': 1}. Best is trial 31 with value: 0.08843167106621365.\n",
      "\n",
      "\n",
      "\n",
      "bagging, val_score: 0.087414:  50%|######5      | 5/10 [00:44<00:49,  9.85s/it]"
     ]
    },
    {
     "name": "stdout",
     "output_type": "stream",
     "text": [
      "Training until validation scores don't improve for 100 rounds\n",
      "[100]\ttraining's binary_logloss: 0.0497818\tvalid_1's binary_logloss: 0.0894889\n",
      "[200]\ttraining's binary_logloss: 0.0316695\tvalid_1's binary_logloss: 0.0890926\n",
      "Early stopping, best iteration is:\n",
      "[189]\ttraining's binary_logloss: 0.0332134\tvalid_1's binary_logloss: 0.0889251\n"
     ]
    },
    {
     "name": "stderr",
     "output_type": "stream",
     "text": [
      "\n",
      "\n",
      "\n",
      "bagging, val_score: 0.087414:  50%|######5      | 5/10 [00:59<00:49,  9.85s/it]\n",
      "\n",
      "\n",
      "bagging, val_score: 0.087414:  60%|#######8     | 6/10 [00:59<00:45, 11.41s/it][I 2020-09-15 22:58:03,043] Trial 32 finished with value: 0.08892509383099555 and parameters: {'bagging_fraction': 0.9883783399880949, 'bagging_freq': 1}. Best is trial 31 with value: 0.08843167106621365.\n",
      "\n",
      "\n",
      "\n",
      "bagging, val_score: 0.087414:  60%|#######8     | 6/10 [00:59<00:45, 11.41s/it]"
     ]
    },
    {
     "name": "stdout",
     "output_type": "stream",
     "text": [
      "Training until validation scores don't improve for 100 rounds\n",
      "[100]\ttraining's binary_logloss: 0.0503058\tvalid_1's binary_logloss: 0.0899747\n",
      "[200]\ttraining's binary_logloss: 0.0321755\tvalid_1's binary_logloss: 0.0895649\n",
      "Early stopping, best iteration is:\n",
      "[151]\ttraining's binary_logloss: 0.0393185\tvalid_1's binary_logloss: 0.0891223\n"
     ]
    },
    {
     "name": "stderr",
     "output_type": "stream",
     "text": [
      "\n",
      "\n",
      "\n",
      "bagging, val_score: 0.087414:  60%|#######8     | 6/10 [01:11<00:45, 11.41s/it]\n",
      "\n",
      "\n",
      "bagging, val_score: 0.087414:  70%|#########1   | 7/10 [01:11<00:34, 11.50s/it][I 2020-09-15 22:58:14,745] Trial 33 finished with value: 0.0891222720295721 and parameters: {'bagging_fraction': 0.9897277791404965, 'bagging_freq': 2}. Best is trial 31 with value: 0.08843167106621365.\n",
      "\n",
      "\n",
      "\n",
      "bagging, val_score: 0.087414:  70%|#########1   | 7/10 [01:11<00:34, 11.50s/it]"
     ]
    },
    {
     "name": "stdout",
     "output_type": "stream",
     "text": [
      "Training until validation scores don't improve for 100 rounds\n",
      "[100]\ttraining's binary_logloss: 0.0492693\tvalid_1's binary_logloss: 0.09064\n",
      "[200]\ttraining's binary_logloss: 0.0303589\tvalid_1's binary_logloss: 0.0908617\n",
      "Early stopping, best iteration is:\n",
      "[165]\ttraining's binary_logloss: 0.0352475\tvalid_1's binary_logloss: 0.08987\n"
     ]
    },
    {
     "name": "stderr",
     "output_type": "stream",
     "text": [
      "\n",
      "\n",
      "\n",
      "bagging, val_score: 0.087414:  70%|#########1   | 7/10 [01:23<00:34, 11.50s/it]\n",
      "\n",
      "\n",
      "bagging, val_score: 0.087414:  80%|##########4  | 8/10 [01:23<00:23, 11.72s/it][I 2020-09-15 22:58:26,979] Trial 34 finished with value: 0.0898700232696085 and parameters: {'bagging_fraction': 0.8169458668520788, 'bagging_freq': 3}. Best is trial 31 with value: 0.08843167106621365.\n",
      "\n",
      "\n",
      "\n",
      "bagging, val_score: 0.087414:  80%|##########4  | 8/10 [01:23<00:23, 11.72s/it]"
     ]
    },
    {
     "name": "stdout",
     "output_type": "stream",
     "text": [
      "Training until validation scores don't improve for 100 rounds\n",
      "[100]\ttraining's binary_logloss: 0.0500262\tvalid_1's binary_logloss: 0.0893114\n",
      "[200]\ttraining's binary_logloss: 0.0314941\tvalid_1's binary_logloss: 0.0896782\n",
      "Early stopping, best iteration is:\n",
      "[148]\ttraining's binary_logloss: 0.0394272\tvalid_1's binary_logloss: 0.0885307\n"
     ]
    },
    {
     "name": "stderr",
     "output_type": "stream",
     "text": [
      "\n",
      "\n",
      "\n",
      "bagging, val_score: 0.087414:  80%|##########4  | 8/10 [01:36<00:23, 11.72s/it]\n",
      "\n",
      "\n",
      "bagging, val_score: 0.087414:  90%|###########7 | 9/10 [01:36<00:12, 12.25s/it][I 2020-09-15 22:58:40,455] Trial 35 finished with value: 0.08853070749045934 and parameters: {'bagging_fraction': 0.9834075293773619, 'bagging_freq': 1}. Best is trial 31 with value: 0.08843167106621365.\n",
      "\n",
      "\n",
      "\n",
      "bagging, val_score: 0.087414:  90%|###########7 | 9/10 [01:36<00:12, 12.25s/it]"
     ]
    },
    {
     "name": "stdout",
     "output_type": "stream",
     "text": [
      "Training until validation scores don't improve for 100 rounds\n",
      "[100]\ttraining's binary_logloss: 0.0499676\tvalid_1's binary_logloss: 0.090301\n",
      "[200]\ttraining's binary_logloss: 0.0318245\tvalid_1's binary_logloss: 0.0900408\n",
      "Early stopping, best iteration is:\n",
      "[144]\ttraining's binary_logloss: 0.0404605\tvalid_1's binary_logloss: 0.0893647\n"
     ]
    },
    {
     "name": "stderr",
     "output_type": "stream",
     "text": [
      "\n",
      "\n",
      "\n",
      "bagging, val_score: 0.087414:  90%|###########7 | 9/10 [01:50<00:12, 12.25s/it]\n",
      "\n",
      "\n",
      "bagging, val_score: 0.087414: 100%|############| 10/10 [01:50<00:00, 12.54s/it][I 2020-09-15 22:58:53,680] Trial 36 finished with value: 0.08936474075346569 and parameters: {'bagging_fraction': 0.9921634450204965, 'bagging_freq': 1}. Best is trial 31 with value: 0.08843167106621365.\n",
      "bagging, val_score: 0.087414: 100%|############| 10/10 [01:50<00:00, 11.02s/it]\n",
      "\n",
      "\n",
      "\n",
      "  0%|                                                    | 0/6 [00:00<?, ?it/s]\n",
      "\n",
      "\n",
      "feature_fraction_stage2, val_score: 0.087414:   0%|      | 0/6 [00:00<?, ?it/s]"
     ]
    },
    {
     "name": "stdout",
     "output_type": "stream",
     "text": [
      "Training until validation scores don't improve for 100 rounds\n",
      "[100]\ttraining's binary_logloss: 0.0502152\tvalid_1's binary_logloss: 0.0890776\n",
      "[200]\ttraining's binary_logloss: 0.0321035\tvalid_1's binary_logloss: 0.0890326\n",
      "Early stopping, best iteration is:\n",
      "[145]\ttraining's binary_logloss: 0.0404835\tvalid_1's binary_logloss: 0.0882421\n"
     ]
    },
    {
     "name": "stderr",
     "output_type": "stream",
     "text": [
      "\n",
      "\n",
      "\n",
      "feature_fraction_stage2, val_score: 0.087414:   0%|      | 0/6 [00:09<?, ?it/s]\n",
      "\n",
      "\n",
      "feature_fraction_stage2, val_score: 0.087414:  17%|1| 1/6 [00:09<00:49,  9.81s/[I 2020-09-15 22:59:03,524] Trial 37 finished with value: 0.08824213518786343 and parameters: {'feature_fraction': 0.8839999999999999}. Best is trial 37 with value: 0.08824213518786343.\n",
      "\n",
      "\n",
      "\n",
      "feature_fraction_stage2, val_score: 0.087414:  17%|1| 1/6 [00:09<00:49,  9.81s/"
     ]
    },
    {
     "name": "stdout",
     "output_type": "stream",
     "text": [
      "Training until validation scores don't improve for 100 rounds\n",
      "[100]\ttraining's binary_logloss: 0.0503428\tvalid_1's binary_logloss: 0.0904234\n",
      "[200]\ttraining's binary_logloss: 0.0321579\tvalid_1's binary_logloss: 0.0892378\n",
      "Early stopping, best iteration is:\n",
      "[189]\ttraining's binary_logloss: 0.0336941\tvalid_1's binary_logloss: 0.0890177\n"
     ]
    },
    {
     "name": "stderr",
     "output_type": "stream",
     "text": [
      "\n",
      "\n",
      "\n",
      "feature_fraction_stage2, val_score: 0.087414:  17%|1| 1/6 [00:20<00:49,  9.81s/\n",
      "\n",
      "\n",
      "feature_fraction_stage2, val_score: 0.087414:  33%|3| 2/6 [00:20<00:39,  9.98s/[I 2020-09-15 22:59:13,881] Trial 38 finished with value: 0.08901772326970023 and parameters: {'feature_fraction': 0.852}. Best is trial 37 with value: 0.08824213518786343.\n",
      "\n",
      "\n",
      "\n",
      "feature_fraction_stage2, val_score: 0.087414:  33%|3| 2/6 [00:20<00:39,  9.98s/"
     ]
    },
    {
     "name": "stdout",
     "output_type": "stream",
     "text": [
      "Training until validation scores don't improve for 100 rounds\n",
      "[100]\ttraining's binary_logloss: 0.0499554\tvalid_1's binary_logloss: 0.0903887\n",
      "[200]\ttraining's binary_logloss: 0.0327367\tvalid_1's binary_logloss: 0.0910342\n",
      "Early stopping, best iteration is:\n",
      "[111]\ttraining's binary_logloss: 0.0472131\tvalid_1's binary_logloss: 0.0899925\n"
     ]
    },
    {
     "name": "stderr",
     "output_type": "stream",
     "text": [
      "\n",
      "\n",
      "\n",
      "feature_fraction_stage2, val_score: 0.087414:  33%|3| 2/6 [00:28<00:39,  9.98s/\n",
      "\n",
      "\n",
      "feature_fraction_stage2, val_score: 0.087414:  50%|5| 3/6 [00:28<00:28,  9.60s/[I 2020-09-15 22:59:22,611] Trial 39 finished with value: 0.08999245138122933 and parameters: {'feature_fraction': 0.9159999999999999}. Best is trial 37 with value: 0.08824213518786343.\n",
      "\n",
      "\n",
      "\n",
      "feature_fraction_stage2, val_score: 0.087414:  50%|5| 3/6 [00:28<00:28,  9.60s/"
     ]
    },
    {
     "name": "stdout",
     "output_type": "stream",
     "text": [
      "Training until validation scores don't improve for 100 rounds\n",
      "[100]\ttraining's binary_logloss: 0.0501547\tvalid_1's binary_logloss: 0.0898897\n",
      "[200]\ttraining's binary_logloss: 0.0318477\tvalid_1's binary_logloss: 0.0900334\n",
      "Early stopping, best iteration is:\n",
      "[162]\ttraining's binary_logloss: 0.0372649\tvalid_1's binary_logloss: 0.0894609\n"
     ]
    },
    {
     "name": "stderr",
     "output_type": "stream",
     "text": [
      "\n",
      "\n",
      "\n",
      "feature_fraction_stage2, val_score: 0.087414:  50%|5| 3/6 [00:38<00:28,  9.60s/\n",
      "\n",
      "\n",
      "feature_fraction_stage2, val_score: 0.087414:  67%|6| 4/6 [00:38<00:19,  9.67s/[I 2020-09-15 22:59:32,446] Trial 40 finished with value: 0.08946087969863761 and parameters: {'feature_fraction': 0.948}. Best is trial 37 with value: 0.08824213518786343.\n",
      "\n",
      "\n",
      "\n",
      "feature_fraction_stage2, val_score: 0.087414:  67%|6| 4/6 [00:38<00:19,  9.67s/"
     ]
    },
    {
     "name": "stdout",
     "output_type": "stream",
     "text": [
      "Training until validation scores don't improve for 100 rounds\n",
      "[100]\ttraining's binary_logloss: 0.0510835\tvalid_1's binary_logloss: 0.0915163\n",
      "[200]\ttraining's binary_logloss: 0.0322929\tvalid_1's binary_logloss: 0.0915974\n",
      "Early stopping, best iteration is:\n",
      "[179]\ttraining's binary_logloss: 0.0353611\tvalid_1's binary_logloss: 0.0907616\n"
     ]
    },
    {
     "name": "stderr",
     "output_type": "stream",
     "text": [
      "\n",
      "\n",
      "\n",
      "feature_fraction_stage2, val_score: 0.087414:  67%|6| 4/6 [00:50<00:19,  9.67s/\n",
      "\n",
      "\n",
      "feature_fraction_stage2, val_score: 0.087414:  83%|8| 5/6 [00:50<00:10, 10.18s/[I 2020-09-15 22:59:43,802] Trial 41 finished with value: 0.09076155595640384 and parameters: {'feature_fraction': 0.82}. Best is trial 37 with value: 0.08824213518786343.\n",
      "\n",
      "\n",
      "\n",
      "feature_fraction_stage2, val_score: 0.087414:  83%|8| 5/6 [00:50<00:10, 10.18s/"
     ]
    },
    {
     "name": "stdout",
     "output_type": "stream",
     "text": [
      "Training until validation scores don't improve for 100 rounds\n",
      "[100]\ttraining's binary_logloss: 0.0495809\tvalid_1's binary_logloss: 0.0891759\n",
      "[200]\ttraining's binary_logloss: 0.031598\tvalid_1's binary_logloss: 0.0889531\n",
      "Early stopping, best iteration is:\n",
      "[173]\ttraining's binary_logloss: 0.0354815\tvalid_1's binary_logloss: 0.0886644\n"
     ]
    },
    {
     "name": "stderr",
     "output_type": "stream",
     "text": [
      "\n",
      "\n",
      "\n",
      "feature_fraction_stage2, val_score: 0.087414:  83%|8| 5/6 [01:00<00:10, 10.18s/\n",
      "\n",
      "\n",
      "feature_fraction_stage2, val_score: 0.087414: 100%|#| 6/6 [01:00<00:00, 10.38s/[I 2020-09-15 22:59:54,649] Trial 42 finished with value: 0.08866439186366637 and parameters: {'feature_fraction': 0.9799999999999999}. Best is trial 37 with value: 0.08824213518786343.\n",
      "feature_fraction_stage2, val_score: 0.087414: 100%|#| 6/6 [01:00<00:00, 10.16s/\n",
      "\n",
      "\n",
      "\n",
      "  0%|                                                   | 0/20 [00:00<?, ?it/s]\n",
      "\n",
      "\n",
      "regularization_factors, val_score: 0.087414:   0%|      | 0/20 [00:00<?, ?it/s]"
     ]
    },
    {
     "name": "stdout",
     "output_type": "stream",
     "text": [
      "Training until validation scores don't improve for 100 rounds\n",
      "[100]\ttraining's binary_logloss: 0.0652199\tvalid_1's binary_logloss: 0.0901309\n",
      "[200]\ttraining's binary_logloss: 0.0509242\tvalid_1's binary_logloss: 0.0886583\n",
      "[300]\ttraining's binary_logloss: 0.0419408\tvalid_1's binary_logloss: 0.0889999\n",
      "Early stopping, best iteration is:\n",
      "[206]\ttraining's binary_logloss: 0.0503063\tvalid_1's binary_logloss: 0.0885867\n"
     ]
    },
    {
     "name": "stderr",
     "output_type": "stream",
     "text": [
      "\n",
      "\n",
      "\n",
      "regularization_factors, val_score: 0.087414:   0%|      | 0/20 [00:09<?, ?it/s]\n",
      "\n",
      "\n",
      "regularization_factors, val_score: 0.087414:   5%| | 1/20 [00:09<03:08,  9.89s/[I 2020-09-15 23:00:04,585] Trial 43 finished with value: 0.08858673742332693 and parameters: {'lambda_l1': 0.687754660460336, 'lambda_l2': 2.3275824069605737}. Best is trial 43 with value: 0.08858673742332693.\n",
      "\n",
      "\n",
      "\n",
      "regularization_factors, val_score: 0.087414:   5%| | 1/20 [00:09<03:08,  9.89s/"
     ]
    },
    {
     "name": "stdout",
     "output_type": "stream",
     "text": [
      "Training until validation scores don't improve for 100 rounds\n",
      "[100]\ttraining's binary_logloss: 0.050121\tvalid_1's binary_logloss: 0.0885999\n",
      "[200]\ttraining's binary_logloss: 0.031879\tvalid_1's binary_logloss: 0.0881948\n",
      "Early stopping, best iteration is:\n",
      "[140]\ttraining's binary_logloss: 0.0412836\tvalid_1's binary_logloss: 0.0876685\n"
     ]
    },
    {
     "name": "stderr",
     "output_type": "stream",
     "text": [
      "\n",
      "\n",
      "\n",
      "regularization_factors, val_score: 0.087414:   5%| | 1/20 [00:19<03:08,  9.89s/\n",
      "\n",
      "\n",
      "regularization_factors, val_score: 0.087414:  10%|1| 2/20 [00:19<02:57,  9.85s/[I 2020-09-15 23:00:14,299] Trial 44 finished with value: 0.08766846654990032 and parameters: {'lambda_l1': 8.648087917901068e-08, 'lambda_l2': 5.31083151492792e-08}. Best is trial 44 with value: 0.08766846654990032.\n",
      "\n",
      "\n",
      "\n",
      "regularization_factors, val_score: 0.087414:  10%|1| 2/20 [00:19<02:57,  9.85s/"
     ]
    },
    {
     "name": "stdout",
     "output_type": "stream",
     "text": [
      "Training until validation scores don't improve for 100 rounds\n",
      "[100]\ttraining's binary_logloss: 0.050121\tvalid_1's binary_logloss: 0.0885999\n",
      "[200]\ttraining's binary_logloss: 0.0322736\tvalid_1's binary_logloss: 0.0877205\n",
      "Early stopping, best iteration is:\n",
      "[171]\ttraining's binary_logloss: 0.0359583\tvalid_1's binary_logloss: 0.0874136\n"
     ]
    },
    {
     "name": "stderr",
     "output_type": "stream",
     "text": [
      "\n",
      "\n",
      "\n",
      "regularization_factors, val_score: 0.087414:  10%|1| 2/20 [00:30<02:57,  9.85s/\n",
      "\n",
      "\n",
      "regularization_factors, val_score: 0.087414:  15%|1| 3/20 [00:30<02:51, 10.10s/[I 2020-09-15 23:00:24,979] Trial 45 finished with value: 0.08741361874854142 and parameters: {'lambda_l1': 1.767973310670568e-08, 'lambda_l2': 1.0211996052173877e-08}. Best is trial 45 with value: 0.08741361874854142.\n",
      "\n",
      "\n",
      "\n",
      "regularization_factors, val_score: 0.087414:  15%|1| 3/20 [00:30<02:51, 10.10s/"
     ]
    },
    {
     "name": "stdout",
     "output_type": "stream",
     "text": [
      "Training until validation scores don't improve for 100 rounds\n",
      "[100]\ttraining's binary_logloss: 0.050121\tvalid_1's binary_logloss: 0.0885999\n",
      "[200]\ttraining's binary_logloss: 0.031742\tvalid_1's binary_logloss: 0.0881501\n",
      "Early stopping, best iteration is:\n",
      "[156]\ttraining's binary_logloss: 0.0383247\tvalid_1's binary_logloss: 0.0874789\n"
     ]
    },
    {
     "name": "stderr",
     "output_type": "stream",
     "text": [
      "\n",
      "\n",
      "\n",
      "regularization_factors, val_score: 0.087414:  15%|1| 3/20 [00:39<02:51, 10.10s/\n",
      "\n",
      "\n",
      "regularization_factors, val_score: 0.087414:  20%|2| 4/20 [00:39<02:37,  9.83s/[I 2020-09-15 23:00:34,184] Trial 46 finished with value: 0.08747890881213916 and parameters: {'lambda_l1': 3.623075569447122e-08, 'lambda_l2': 1.8026140960310406e-08}. Best is trial 45 with value: 0.08741361874854142.\n",
      "\n",
      "\n",
      "\n",
      "regularization_factors, val_score: 0.087414:  20%|2| 4/20 [00:39<02:37,  9.83s/"
     ]
    },
    {
     "name": "stdout",
     "output_type": "stream",
     "text": [
      "Training until validation scores don't improve for 100 rounds\n",
      "[100]\ttraining's binary_logloss: 0.050121\tvalid_1's binary_logloss: 0.0885999\n",
      "[200]\ttraining's binary_logloss: 0.0322736\tvalid_1's binary_logloss: 0.0877066\n",
      "Early stopping, best iteration is:\n",
      "[171]\ttraining's binary_logloss: 0.0359583\tvalid_1's binary_logloss: 0.0874001\n"
     ]
    },
    {
     "name": "stderr",
     "output_type": "stream",
     "text": [
      "\n",
      "\n",
      "\n",
      "regularization_factors, val_score: 0.087400:  20%|2| 4/20 [00:50<02:37,  9.83s/\n",
      "\n",
      "\n",
      "regularization_factors, val_score: 0.087400:  25%|2| 5/20 [00:50<02:34, 10.32s/[I 2020-09-15 23:00:45,648] Trial 47 finished with value: 0.08740009513242485 and parameters: {'lambda_l1': 1.2648143481494507e-08, 'lambda_l2': 1.0342097493784605e-08}. Best is trial 47 with value: 0.08740009513242485.\n",
      "\n",
      "\n",
      "\n",
      "regularization_factors, val_score: 0.087400:  25%|2| 5/20 [00:50<02:34, 10.32s/"
     ]
    },
    {
     "name": "stdout",
     "output_type": "stream",
     "text": [
      "Training until validation scores don't improve for 100 rounds\n",
      "[100]\ttraining's binary_logloss: 0.050121\tvalid_1's binary_logloss: 0.0885999\n",
      "[200]\ttraining's binary_logloss: 0.0322736\tvalid_1's binary_logloss: 0.0877205\n",
      "Early stopping, best iteration is:\n",
      "[171]\ttraining's binary_logloss: 0.0359583\tvalid_1's binary_logloss: 0.0874136\n"
     ]
    },
    {
     "name": "stderr",
     "output_type": "stream",
     "text": [
      "\n",
      "\n",
      "\n",
      "regularization_factors, val_score: 0.087400:  25%|2| 5/20 [01:01<02:34, 10.32s/\n",
      "\n",
      "\n",
      "regularization_factors, val_score: 0.087400:  30%|3| 6/20 [01:01<02:25, 10.42s/[I 2020-09-15 23:00:56,319] Trial 48 finished with value: 0.0874136187367263 and parameters: {'lambda_l1': 1.2440990741824059e-08, 'lambda_l2': 1.6104587296650494e-08}. Best is trial 47 with value: 0.08740009513242485.\n",
      "\n",
      "\n",
      "\n",
      "regularization_factors, val_score: 0.087400:  30%|3| 6/20 [01:01<02:25, 10.42s/"
     ]
    },
    {
     "name": "stdout",
     "output_type": "stream",
     "text": [
      "Training until validation scores don't improve for 100 rounds\n",
      "[100]\ttraining's binary_logloss: 0.050121\tvalid_1's binary_logloss: 0.0885999\n",
      "[200]\ttraining's binary_logloss: 0.0322736\tvalid_1's binary_logloss: 0.0877066\n",
      "Early stopping, best iteration is:\n",
      "[171]\ttraining's binary_logloss: 0.0359583\tvalid_1's binary_logloss: 0.0874001\n"
     ]
    },
    {
     "name": "stderr",
     "output_type": "stream",
     "text": [
      "\n",
      "\n",
      "\n",
      "regularization_factors, val_score: 0.087400:  30%|3| 6/20 [01:11<02:25, 10.42s/\n",
      "\n",
      "\n",
      "regularization_factors, val_score: 0.087400:  35%|3| 7/20 [01:11<02:12, 10.22s/[I 2020-09-15 23:01:06,062] Trial 49 finished with value: 0.08740009512057494 and parameters: {'lambda_l1': 1.1223456089014623e-08, 'lambda_l2': 1.447432290967618e-08}. Best is trial 49 with value: 0.08740009512057494.\n",
      "\n",
      "\n",
      "\n",
      "regularization_factors, val_score: 0.087400:  35%|3| 7/20 [01:11<02:12, 10.22s/"
     ]
    },
    {
     "name": "stdout",
     "output_type": "stream",
     "text": [
      "Training until validation scores don't improve for 100 rounds\n",
      "[100]\ttraining's binary_logloss: 0.050121\tvalid_1's binary_logloss: 0.0885999\n",
      "[200]\ttraining's binary_logloss: 0.0322736\tvalid_1's binary_logloss: 0.0877205\n",
      "Early stopping, best iteration is:\n",
      "[171]\ttraining's binary_logloss: 0.0359583\tvalid_1's binary_logloss: 0.0874136\n"
     ]
    },
    {
     "name": "stderr",
     "output_type": "stream",
     "text": [
      "\n",
      "\n",
      "\n",
      "regularization_factors, val_score: 0.087400:  35%|3| 7/20 [01:22<02:12, 10.22s/\n",
      "\n",
      "\n",
      "regularization_factors, val_score: 0.087400:  40%|4| 8/20 [01:22<02:04, 10.39s/[I 2020-09-15 23:01:16,855] Trial 50 finished with value: 0.08741361874892956 and parameters: {'lambda_l1': 1.0771766409150024e-08, 'lambda_l2': 1.3401307515125728e-08}. Best is trial 49 with value: 0.08740009512057494.\n",
      "\n",
      "\n",
      "\n",
      "regularization_factors, val_score: 0.087400:  40%|4| 8/20 [01:22<02:04, 10.39s/"
     ]
    },
    {
     "name": "stdout",
     "output_type": "stream",
     "text": [
      "Training until validation scores don't improve for 100 rounds\n",
      "[100]\ttraining's binary_logloss: 0.050121\tvalid_1's binary_logloss: 0.0885999\n",
      "[200]\ttraining's binary_logloss: 0.0322736\tvalid_1's binary_logloss: 0.0877205\n",
      "Early stopping, best iteration is:\n",
      "[171]\ttraining's binary_logloss: 0.0359583\tvalid_1's binary_logloss: 0.0874136\n"
     ]
    },
    {
     "name": "stderr",
     "output_type": "stream",
     "text": [
      "\n",
      "\n",
      "\n",
      "regularization_factors, val_score: 0.087400:  40%|4| 8/20 [01:33<02:04, 10.39s/\n",
      "\n",
      "\n",
      "regularization_factors, val_score: 0.087400:  45%|4| 9/20 [01:33<01:55, 10.52s/[I 2020-09-15 23:01:27,686] Trial 51 finished with value: 0.08741361875346967 and parameters: {'lambda_l1': 1.3079468410533751e-08, 'lambda_l2': 1.1476153469581406e-08}. Best is trial 49 with value: 0.08740009512057494.\n",
      "\n",
      "\n",
      "\n",
      "regularization_factors, val_score: 0.087400:  45%|4| 9/20 [01:33<01:55, 10.52s/"
     ]
    },
    {
     "name": "stdout",
     "output_type": "stream",
     "text": [
      "Training until validation scores don't improve for 100 rounds\n",
      "[100]\ttraining's binary_logloss: 0.050121\tvalid_1's binary_logloss: 0.0885999\n",
      "[200]\ttraining's binary_logloss: 0.0322736\tvalid_1's binary_logloss: 0.0877205\n",
      "Early stopping, best iteration is:\n",
      "[171]\ttraining's binary_logloss: 0.0359583\tvalid_1's binary_logloss: 0.0874136\n"
     ]
    },
    {
     "name": "stderr",
     "output_type": "stream",
     "text": [
      "\n",
      "\n",
      "\n",
      "regularization_factors, val_score: 0.087400:  45%|4| 9/20 [01:42<01:55, 10.52s/\n",
      "\n",
      "\n",
      "regularization_factors, val_score: 0.087400:  50%|5| 10/20 [01:42<01:42, 10.29s[I 2020-09-15 23:01:37,419] Trial 52 finished with value: 0.08741361874049264 and parameters: {'lambda_l1': 1.8266577547488042e-08, 'lambda_l2': 1.3937165937602222e-08}. Best is trial 49 with value: 0.08740009512057494.\n",
      "\n",
      "\n",
      "\n",
      "regularization_factors, val_score: 0.087400:  50%|5| 10/20 [01:42<01:42, 10.29s"
     ]
    },
    {
     "name": "stdout",
     "output_type": "stream",
     "text": [
      "Training until validation scores don't improve for 100 rounds\n",
      "[100]\ttraining's binary_logloss: 0.050121\tvalid_1's binary_logloss: 0.0885999\n",
      "[200]\ttraining's binary_logloss: 0.0322736\tvalid_1's binary_logloss: 0.0877205\n",
      "Early stopping, best iteration is:\n",
      "[171]\ttraining's binary_logloss: 0.0359583\tvalid_1's binary_logloss: 0.0874136\n"
     ]
    },
    {
     "name": "stderr",
     "output_type": "stream",
     "text": [
      "\n",
      "\n",
      "\n",
      "regularization_factors, val_score: 0.087400:  50%|5| 10/20 [01:53<01:42, 10.29s\n",
      "\n",
      "\n",
      "regularization_factors, val_score: 0.087400:  55%|5| 11/20 [01:53<01:34, 10.53s[I 2020-09-15 23:01:48,521] Trial 53 finished with value: 0.08741361875156273 and parameters: {'lambda_l1': 1.0692279842008164e-08, 'lambda_l2': 1.3240702350704051e-08}. Best is trial 49 with value: 0.08740009512057494.\n",
      "\n",
      "\n",
      "\n",
      "regularization_factors, val_score: 0.087400:  55%|5| 11/20 [01:53<01:34, 10.53s"
     ]
    },
    {
     "name": "stdout",
     "output_type": "stream",
     "text": [
      "Training until validation scores don't improve for 100 rounds\n",
      "[100]\ttraining's binary_logloss: 0.050121\tvalid_1's binary_logloss: 0.0885989\n",
      "[200]\ttraining's binary_logloss: 0.0322736\tvalid_1's binary_logloss: 0.0877197\n",
      "Early stopping, best iteration is:\n",
      "[171]\ttraining's binary_logloss: 0.0359583\tvalid_1's binary_logloss: 0.0874126\n"
     ]
    },
    {
     "name": "stderr",
     "output_type": "stream",
     "text": [
      "\n",
      "\n",
      "\n",
      "regularization_factors, val_score: 0.087400:  55%|5| 11/20 [02:04<01:34, 10.53s\n",
      "\n",
      "\n",
      "regularization_factors, val_score: 0.087400:  60%|6| 12/20 [02:04<01:25, 10.69s[I 2020-09-15 23:01:59,572] Trial 54 finished with value: 0.08741261014122521 and parameters: {'lambda_l1': 1.1355063015039484e-08, 'lambda_l2': 1.0312901772462633e-08}. Best is trial 49 with value: 0.08740009512057494.\n",
      "\n",
      "\n",
      "\n",
      "regularization_factors, val_score: 0.087400:  60%|6| 12/20 [02:04<01:25, 10.69s"
     ]
    },
    {
     "name": "stdout",
     "output_type": "stream",
     "text": [
      "Training until validation scores don't improve for 100 rounds\n",
      "[100]\ttraining's binary_logloss: 0.050121\tvalid_1's binary_logloss: 0.0885999\n",
      "[200]\ttraining's binary_logloss: 0.0322736\tvalid_1's binary_logloss: 0.0877205\n",
      "Early stopping, best iteration is:\n",
      "[171]\ttraining's binary_logloss: 0.0359583\tvalid_1's binary_logloss: 0.0874136\n"
     ]
    },
    {
     "name": "stderr",
     "output_type": "stream",
     "text": [
      "\n",
      "\n",
      "\n",
      "regularization_factors, val_score: 0.087400:  60%|6| 12/20 [02:14<01:25, 10.69s\n",
      "\n",
      "\n",
      "regularization_factors, val_score: 0.087400:  65%|6| 13/20 [02:14<01:12, 10.41s[I 2020-09-15 23:02:09,319] Trial 55 finished with value: 0.08741361875259791 and parameters: {'lambda_l1': 1.0797738732695408e-08, 'lambda_l2': 1.1767707520784964e-08}. Best is trial 49 with value: 0.08740009512057494.\n",
      "\n",
      "\n",
      "\n",
      "regularization_factors, val_score: 0.087400:  65%|6| 13/20 [02:14<01:12, 10.41s"
     ]
    },
    {
     "name": "stdout",
     "output_type": "stream",
     "text": [
      "Training until validation scores don't improve for 100 rounds\n",
      "[100]\ttraining's binary_logloss: 0.0499245\tvalid_1's binary_logloss: 0.0901321\n",
      "[200]\ttraining's binary_logloss: 0.0320519\tvalid_1's binary_logloss: 0.0895807\n",
      "Early stopping, best iteration is:\n",
      "[159]\ttraining's binary_logloss: 0.037863\tvalid_1's binary_logloss: 0.0892593\n"
     ]
    },
    {
     "name": "stderr",
     "output_type": "stream",
     "text": [
      "\n",
      "\n",
      "\n",
      "regularization_factors, val_score: 0.087400:  65%|6| 13/20 [02:24<01:12, 10.41s\n",
      "\n",
      "\n",
      "regularization_factors, val_score: 0.087400:  70%|7| 14/20 [02:24<01:02, 10.35s[I 2020-09-15 23:02:19,555] Trial 56 finished with value: 0.08925928204413852 and parameters: {'lambda_l1': 1.4418882531154512e-06, 'lambda_l2': 4.6508314026998915e-07}. Best is trial 49 with value: 0.08740009512057494.\n",
      "\n",
      "\n",
      "\n",
      "regularization_factors, val_score: 0.087400:  70%|7| 14/20 [02:24<01:02, 10.35s"
     ]
    },
    {
     "name": "stdout",
     "output_type": "stream",
     "text": [
      "Training until validation scores don't improve for 100 rounds\n",
      "[100]\ttraining's binary_logloss: 0.0499246\tvalid_1's binary_logloss: 0.0901321\n",
      "[200]\ttraining's binary_logloss: 0.0320433\tvalid_1's binary_logloss: 0.090022\n",
      "Early stopping, best iteration is:\n",
      "[150]\ttraining's binary_logloss: 0.0394102\tvalid_1's binary_logloss: 0.0893024\n"
     ]
    },
    {
     "name": "stderr",
     "output_type": "stream",
     "text": [
      "\n",
      "\n",
      "\n",
      "regularization_factors, val_score: 0.087400:  70%|7| 14/20 [02:33<01:02, 10.35s\n",
      "\n",
      "\n",
      "regularization_factors, val_score: 0.087400:  75%|7| 15/20 [02:33<00:49,  9.95s[I 2020-09-15 23:02:28,555] Trial 57 finished with value: 0.08930241847101608 and parameters: {'lambda_l1': 4.4064987446014873e-07, 'lambda_l2': 3.820663301912132e-06}. Best is trial 49 with value: 0.08740009512057494.\n",
      "\n",
      "\n",
      "\n",
      "regularization_factors, val_score: 0.087400:  75%|7| 15/20 [02:33<00:49,  9.95s"
     ]
    },
    {
     "name": "stdout",
     "output_type": "stream",
     "text": [
      "Training until validation scores don't improve for 100 rounds\n",
      "[100]\ttraining's binary_logloss: 0.050121\tvalid_1's binary_logloss: 0.0885999\n",
      "[200]\ttraining's binary_logloss: 0.0322736\tvalid_1's binary_logloss: 0.0877205\n",
      "Early stopping, best iteration is:\n",
      "[171]\ttraining's binary_logloss: 0.0359583\tvalid_1's binary_logloss: 0.0874136\n"
     ]
    },
    {
     "name": "stderr",
     "output_type": "stream",
     "text": [
      "\n",
      "\n",
      "\n",
      "regularization_factors, val_score: 0.087400:  75%|7| 15/20 [02:44<00:49,  9.95s\n",
      "\n",
      "\n",
      "regularization_factors, val_score: 0.087400:  80%|8| 16/20 [02:44<00:40, 10.23s[I 2020-09-15 23:02:39,427] Trial 58 finished with value: 0.08741361875768093 and parameters: {'lambda_l1': 1.1260058252165563e-08, 'lambda_l2': 1.1221040597575695e-08}. Best is trial 49 with value: 0.08740009512057494.\n",
      "\n",
      "\n",
      "\n",
      "regularization_factors, val_score: 0.087400:  80%|8| 16/20 [02:44<00:40, 10.23s"
     ]
    },
    {
     "name": "stdout",
     "output_type": "stream",
     "text": [
      "Training until validation scores don't improve for 100 rounds\n",
      "[100]\ttraining's binary_logloss: 0.0499245\tvalid_1's binary_logloss: 0.0901321\n",
      "[200]\ttraining's binary_logloss: 0.0320433\tvalid_1's binary_logloss: 0.090022\n",
      "Early stopping, best iteration is:\n",
      "[150]\ttraining's binary_logloss: 0.0394101\tvalid_1's binary_logloss: 0.0893024\n"
     ]
    },
    {
     "name": "stderr",
     "output_type": "stream",
     "text": [
      "\n",
      "\n",
      "\n",
      "regularization_factors, val_score: 0.087400:  80%|8| 16/20 [02:54<00:40, 10.23s\n",
      "\n",
      "\n",
      "regularization_factors, val_score: 0.087400:  85%|8| 17/20 [02:54<00:30, 10.14s[I 2020-09-15 23:02:49,378] Trial 59 finished with value: 0.08930242998336754 and parameters: {'lambda_l1': 2.809295928310791e-07, 'lambda_l2': 2.614558357169517e-07}. Best is trial 49 with value: 0.08740009512057494.\n",
      "\n",
      "\n",
      "\n",
      "regularization_factors, val_score: 0.087400:  85%|8| 17/20 [02:54<00:30, 10.14s"
     ]
    },
    {
     "name": "stdout",
     "output_type": "stream",
     "text": [
      "Training until validation scores don't improve for 100 rounds\n",
      "[100]\ttraining's binary_logloss: 0.0500432\tvalid_1's binary_logloss: 0.0894776\n",
      "[200]\ttraining's binary_logloss: 0.0324137\tvalid_1's binary_logloss: 0.0899991\n",
      "Early stopping, best iteration is:\n",
      "[141]\ttraining's binary_logloss: 0.041299\tvalid_1's binary_logloss: 0.0892555\n"
     ]
    },
    {
     "name": "stderr",
     "output_type": "stream",
     "text": [
      "\n",
      "\n",
      "\n",
      "regularization_factors, val_score: 0.087400:  85%|8| 17/20 [03:03<00:30, 10.14s\n",
      "\n",
      "\n",
      "regularization_factors, val_score: 0.087400:  90%|9| 18/20 [03:03<00:19,  9.73s[I 2020-09-15 23:02:58,144] Trial 60 finished with value: 0.08925553782626752 and parameters: {'lambda_l1': 2.7008342261464344e-05, 'lambda_l2': 1.0723050173882282e-08}. Best is trial 49 with value: 0.08740009512057494.\n",
      "\n",
      "\n",
      "\n",
      "regularization_factors, val_score: 0.087400:  90%|9| 18/20 [03:03<00:19,  9.73s"
     ]
    },
    {
     "name": "stdout",
     "output_type": "stream",
     "text": [
      "Training until validation scores don't improve for 100 rounds\n",
      "[100]\ttraining's binary_logloss: 0.050121\tvalid_1's binary_logloss: 0.0885999\n",
      "[200]\ttraining's binary_logloss: 0.0322736\tvalid_1's binary_logloss: 0.0877205\n",
      "Early stopping, best iteration is:\n",
      "[171]\ttraining's binary_logloss: 0.0359583\tvalid_1's binary_logloss: 0.0874136\n"
     ]
    },
    {
     "name": "stderr",
     "output_type": "stream",
     "text": [
      "\n",
      "\n",
      "\n",
      "regularization_factors, val_score: 0.087400:  90%|9| 18/20 [03:14<00:19,  9.73s\n",
      "\n",
      "\n",
      "regularization_factors, val_score: 0.087400:  95%|9| 19/20 [03:14<00:10, 10.10s[I 2020-09-15 23:03:09,095] Trial 61 finished with value: 0.08741361874125053 and parameters: {'lambda_l1': 1.3551969947746832e-08, 'lambda_l2': 1.3921527839543633e-08}. Best is trial 49 with value: 0.08740009512057494.\n",
      "\n",
      "\n",
      "\n",
      "regularization_factors, val_score: 0.087400:  95%|9| 19/20 [03:14<00:10, 10.10s"
     ]
    },
    {
     "name": "stdout",
     "output_type": "stream",
     "text": [
      "Training until validation scores don't improve for 100 rounds\n",
      "[100]\ttraining's binary_logloss: 0.050121\tvalid_1's binary_logloss: 0.0885989\n",
      "[200]\ttraining's binary_logloss: 0.031742\tvalid_1's binary_logloss: 0.088159\n",
      "Early stopping, best iteration is:\n",
      "[156]\ttraining's binary_logloss: 0.0383247\tvalid_1's binary_logloss: 0.087478\n"
     ]
    },
    {
     "name": "stderr",
     "output_type": "stream",
     "text": [
      "\n",
      "\n",
      "\n",
      "regularization_factors, val_score: 0.087400:  95%|9| 19/20 [03:24<00:10, 10.10s\n",
      "\n",
      "\n",
      "regularization_factors, val_score: 0.087400: 100%|#| 20/20 [03:24<00:00, 10.20s[I 2020-09-15 23:03:19,539] Trial 62 finished with value: 0.08747801750211828 and parameters: {'lambda_l1': 1.25685400187103e-08, 'lambda_l2': 2.2755150984582798e-07}. Best is trial 49 with value: 0.08740009512057494.\n",
      "regularization_factors, val_score: 0.087400: 100%|#| 20/20 [03:24<00:00, 10.24s\n",
      "\n",
      "\n",
      "\n",
      "  0%|                                                    | 0/5 [00:00<?, ?it/s]\n",
      "\n",
      "\n",
      "min_data_in_leaf, val_score: 0.087400:   0%|             | 0/5 [00:00<?, ?it/s]"
     ]
    },
    {
     "name": "stdout",
     "output_type": "stream",
     "text": [
      "Training until validation scores don't improve for 100 rounds\n",
      "[100]\ttraining's binary_logloss: 0.0581589\tvalid_1's binary_logloss: 0.0903958\n",
      "[200]\ttraining's binary_logloss: 0.04016\tvalid_1's binary_logloss: 0.0901476\n",
      "Early stopping, best iteration is:\n",
      "[125]\ttraining's binary_logloss: 0.052564\tvalid_1's binary_logloss: 0.0896603\n"
     ]
    },
    {
     "name": "stderr",
     "output_type": "stream",
     "text": [
      "\n",
      "\n",
      "\n",
      "min_data_in_leaf, val_score: 0.087400:   0%|             | 0/5 [00:08<?, ?it/s]\n",
      "\n",
      "\n",
      "min_data_in_leaf, val_score: 0.087400:  20%|#    | 1/5 [00:08<00:34,  8.73s/it][I 2020-09-15 23:03:28,294] Trial 63 finished with value: 0.08966032805600586 and parameters: {'min_child_samples': 100}. Best is trial 63 with value: 0.08966032805600586.\n",
      "\n",
      "\n",
      "\n",
      "min_data_in_leaf, val_score: 0.087400:  20%|#    | 1/5 [00:08<00:34,  8.73s/it]"
     ]
    },
    {
     "name": "stdout",
     "output_type": "stream",
     "text": [
      "Training until validation scores don't improve for 100 rounds\n",
      "[100]\ttraining's binary_logloss: 0.0510617\tvalid_1's binary_logloss: 0.0886082\n",
      "[200]\ttraining's binary_logloss: 0.0329554\tvalid_1's binary_logloss: 0.0892435\n",
      "Early stopping, best iteration is:\n",
      "[128]\ttraining's binary_logloss: 0.0446639\tvalid_1's binary_logloss: 0.0884175\n"
     ]
    },
    {
     "name": "stderr",
     "output_type": "stream",
     "text": [
      "\n",
      "\n",
      "\n",
      "min_data_in_leaf, val_score: 0.087400:  20%|#    | 1/5 [00:18<00:34,  8.73s/it]\n",
      "\n",
      "\n",
      "min_data_in_leaf, val_score: 0.087400:  40%|##   | 2/5 [00:18<00:26,  8.94s/it][I 2020-09-15 23:03:37,717] Trial 64 finished with value: 0.08841746627662618 and parameters: {'min_child_samples': 25}. Best is trial 64 with value: 0.08841746627662618.\n",
      "\n",
      "\n",
      "\n",
      "min_data_in_leaf, val_score: 0.087400:  40%|##   | 2/5 [00:18<00:26,  8.94s/it]"
     ]
    },
    {
     "name": "stdout",
     "output_type": "stream",
     "text": [
      "Training until validation scores don't improve for 100 rounds\n",
      "[100]\ttraining's binary_logloss: 0.0472172\tvalid_1's binary_logloss: 0.0907658\n",
      "[200]\ttraining's binary_logloss: 0.0295326\tvalid_1's binary_logloss: 0.0909673\n",
      "Early stopping, best iteration is:\n",
      "[145]\ttraining's binary_logloss: 0.0375703\tvalid_1's binary_logloss: 0.0900637\n"
     ]
    },
    {
     "name": "stderr",
     "output_type": "stream",
     "text": [
      "\n",
      "\n",
      "\n",
      "min_data_in_leaf, val_score: 0.087400:  40%|##   | 2/5 [00:27<00:26,  8.94s/it]\n",
      "\n",
      "\n",
      "min_data_in_leaf, val_score: 0.087400:  60%|###  | 3/5 [00:27<00:17,  8.98s/it][I 2020-09-15 23:03:46,814] Trial 65 finished with value: 0.09006373207883626 and parameters: {'min_child_samples': 10}. Best is trial 64 with value: 0.08841746627662618.\n",
      "\n",
      "\n",
      "\n",
      "min_data_in_leaf, val_score: 0.087400:  60%|###  | 3/5 [00:27<00:17,  8.98s/it]"
     ]
    },
    {
     "name": "stdout",
     "output_type": "stream",
     "text": [
      "Training until validation scores don't improve for 100 rounds\n",
      "[100]\ttraining's binary_logloss: 0.0539839\tvalid_1's binary_logloss: 0.0891232\n",
      "[200]\ttraining's binary_logloss: 0.036869\tvalid_1's binary_logloss: 0.0896117\n",
      "Early stopping, best iteration is:\n",
      "[126]\ttraining's binary_logloss: 0.0479926\tvalid_1's binary_logloss: 0.0886044\n"
     ]
    },
    {
     "name": "stderr",
     "output_type": "stream",
     "text": [
      "\n",
      "\n",
      "\n",
      "min_data_in_leaf, val_score: 0.087400:  60%|###  | 3/5 [00:36<00:17,  8.98s/it]\n",
      "\n",
      "\n",
      "min_data_in_leaf, val_score: 0.087400:  80%|#### | 4/5 [00:36<00:09,  9.12s/it][I 2020-09-15 23:03:56,254] Trial 66 finished with value: 0.08860442248439217 and parameters: {'min_child_samples': 50}. Best is trial 64 with value: 0.08841746627662618.\n",
      "\n",
      "\n",
      "\n",
      "min_data_in_leaf, val_score: 0.087400:  80%|#### | 4/5 [00:36<00:09,  9.12s/it]"
     ]
    },
    {
     "name": "stdout",
     "output_type": "stream",
     "text": [
      "Training until validation scores don't improve for 100 rounds\n",
      "[100]\ttraining's binary_logloss: 0.0440239\tvalid_1's binary_logloss: 0.0909158\n",
      "[200]\ttraining's binary_logloss: 0.0270115\tvalid_1's binary_logloss: 0.0901772\n",
      "Early stopping, best iteration is:\n",
      "[166]\ttraining's binary_logloss: 0.0312975\tvalid_1's binary_logloss: 0.0897623\n"
     ]
    },
    {
     "name": "stderr",
     "output_type": "stream",
     "text": [
      "\n",
      "\n",
      "\n",
      "min_data_in_leaf, val_score: 0.087400:  80%|#### | 4/5 [00:47<00:09,  9.12s/it]\n",
      "\n",
      "\n",
      "min_data_in_leaf, val_score: 0.087400: 100%|#####| 5/5 [00:47<00:00,  9.59s/it][I 2020-09-15 23:04:06,937] Trial 67 finished with value: 0.08976227015852456 and parameters: {'min_child_samples': 5}. Best is trial 64 with value: 0.08841746627662618.\n",
      "min_data_in_leaf, val_score: 0.087400: 100%|#####| 5/5 [00:47<00:00,  9.48s/it]\n"
     ]
    }
   ],
   "source": [
    "params = {\n",
    "        \"objective\": \"binary\",\n",
    "        \"metric\": \"binary_logloss\",\n",
    "        \"verbosity\": -1,\n",
    "        \"boosting_type\": \"gbdt\",\n",
    "    }\n",
    "\n",
    "model = lgb.train(\n",
    "        params, dtrain, valid_sets=[dtrain, dval], verbose_eval=100, early_stopping_rounds=100)"
   ]
  },
  {
   "cell_type": "code",
   "execution_count": 260,
   "metadata": {},
   "outputs": [
    {
     "name": "stderr",
     "output_type": "stream",
     "text": [
      "[I 2020-09-16 11:18:24,987] A new study created in memory with name: no-name-ce18f4b7-ac42-49da-83eb-b241f383b7c9\n",
      "\n",
      "\n",
      "\n",
      "  0%|                                                    | 0/7 [00:00<?, ?it/s]\n",
      "\n",
      "\n",
      "feature_fraction, val_score: inf:   0%|                  | 0/7 [00:00<?, ?it/s]"
     ]
    },
    {
     "name": "stdout",
     "output_type": "stream",
     "text": [
      "Training until validation scores don't improve for 2 rounds\n",
      "[2]\ttraining's binary_logloss: 0.126286\tvalid_1's binary_logloss: 0.126374\n",
      "[4]\ttraining's binary_logloss: 0.117467\tvalid_1's binary_logloss: 0.118608\n",
      "[6]\ttraining's binary_logloss: 0.111436\tvalid_1's binary_logloss: 0.114309\n",
      "[8]\ttraining's binary_logloss: 0.106317\tvalid_1's binary_logloss: 0.11019\n",
      "[10]\ttraining's binary_logloss: 0.102242\tvalid_1's binary_logloss: 0.106777\n",
      "[12]\ttraining's binary_logloss: 0.0988078\tvalid_1's binary_logloss: 0.104594\n",
      "[14]\ttraining's binary_logloss: 0.0957199\tvalid_1's binary_logloss: 0.102543\n",
      "[16]\ttraining's binary_logloss: 0.0935094\tvalid_1's binary_logloss: 0.101298\n",
      "[18]\ttraining's binary_logloss: 0.0912663\tvalid_1's binary_logloss: 0.100071\n",
      "[20]\ttraining's binary_logloss: 0.0894783\tvalid_1's binary_logloss: 0.0992505\n",
      "[22]\ttraining's binary_logloss: 0.0875846\tvalid_1's binary_logloss: 0.0983512\n",
      "[24]\ttraining's binary_logloss: 0.0859895\tvalid_1's binary_logloss: 0.0974831\n",
      "[26]\ttraining's binary_logloss: 0.0843272\tvalid_1's binary_logloss: 0.0968191\n",
      "[28]\ttraining's binary_logloss: 0.0829381\tvalid_1's binary_logloss: 0.0962587\n",
      "[30]\ttraining's binary_logloss: 0.0816272\tvalid_1's binary_logloss: 0.0959897\n",
      "[32]\ttraining's binary_logloss: 0.0802774\tvalid_1's binary_logloss: 0.0953955\n",
      "[34]\ttraining's binary_logloss: 0.07901\tvalid_1's binary_logloss: 0.0949403\n",
      "[36]\ttraining's binary_logloss: 0.0777221\tvalid_1's binary_logloss: 0.0945845\n",
      "[38]\ttraining's binary_logloss: 0.0764549\tvalid_1's binary_logloss: 0.0940693\n",
      "[40]\ttraining's binary_logloss: 0.0753986\tvalid_1's binary_logloss: 0.093611\n",
      "[42]\ttraining's binary_logloss: 0.0743829\tvalid_1's binary_logloss: 0.0933791\n",
      "[44]\ttraining's binary_logloss: 0.0734318\tvalid_1's binary_logloss: 0.0932046\n",
      "[46]\ttraining's binary_logloss: 0.0724508\tvalid_1's binary_logloss: 0.0928203\n",
      "[48]\ttraining's binary_logloss: 0.0714359\tvalid_1's binary_logloss: 0.0926807\n",
      "[50]\ttraining's binary_logloss: 0.0705466\tvalid_1's binary_logloss: 0.0925162\n",
      "[52]\ttraining's binary_logloss: 0.069732\tvalid_1's binary_logloss: 0.092163\n",
      "[54]\ttraining's binary_logloss: 0.0689036\tvalid_1's binary_logloss: 0.0919949\n",
      "[56]\ttraining's binary_logloss: 0.0680979\tvalid_1's binary_logloss: 0.0917854\n",
      "[58]\ttraining's binary_logloss: 0.0673075\tvalid_1's binary_logloss: 0.0915755\n",
      "[60]\ttraining's binary_logloss: 0.0665028\tvalid_1's binary_logloss: 0.091308\n",
      "[62]\ttraining's binary_logloss: 0.0657045\tvalid_1's binary_logloss: 0.0912891\n",
      "[64]\ttraining's binary_logloss: 0.0649874\tvalid_1's binary_logloss: 0.0910925\n",
      "[66]\ttraining's binary_logloss: 0.0643386\tvalid_1's binary_logloss: 0.0909178\n",
      "[68]\ttraining's binary_logloss: 0.0636445\tvalid_1's binary_logloss: 0.0908627\n",
      "[70]\ttraining's binary_logloss: 0.0629703\tvalid_1's binary_logloss: 0.0907367\n",
      "[72]\ttraining's binary_logloss: 0.0623413\tvalid_1's binary_logloss: 0.0906143\n",
      "[74]\ttraining's binary_logloss: 0.0616916\tvalid_1's binary_logloss: 0.0903715\n",
      "[76]\ttraining's binary_logloss: 0.0611272\tvalid_1's binary_logloss: 0.0902898\n",
      "[78]\ttraining's binary_logloss: 0.0604415\tvalid_1's binary_logloss: 0.0900155\n",
      "[80]\ttraining's binary_logloss: 0.059864\tvalid_1's binary_logloss: 0.0899612\n",
      "[82]\ttraining's binary_logloss: 0.0593035\tvalid_1's binary_logloss: 0.0899153\n",
      "Early stopping, best iteration is:\n",
      "[81]\ttraining's binary_logloss: 0.0596301\tvalid_1's binary_logloss: 0.0899064\n"
     ]
    },
    {
     "name": "stderr",
     "output_type": "stream",
     "text": [
      "\n",
      "\n",
      "\n",
      "feature_fraction, val_score: 0.089906:   0%|             | 0/7 [00:19<?, ?it/s]\n",
      "\n",
      "\n",
      "feature_fraction, val_score: 0.089906:  14%|7    | 1/7 [00:19<01:54, 19.15s/it][I 2020-09-16 11:18:46,475] Trial 0 finished with value: 0.08990641600529144 and parameters: {'feature_fraction': 0.6}. Best is trial 0 with value: 0.08990641600529144.\n",
      "\n",
      "\n",
      "\n",
      "feature_fraction, val_score: 0.089906:  14%|7    | 1/7 [00:19<01:54, 19.15s/it]"
     ]
    },
    {
     "name": "stdout",
     "output_type": "stream",
     "text": [
      "Training until validation scores don't improve for 2 rounds\n",
      "[2]\ttraining's binary_logloss: 0.125037\tvalid_1's binary_logloss: 0.123639\n",
      "[4]\ttraining's binary_logloss: 0.115641\tvalid_1's binary_logloss: 0.116946\n",
      "[6]\ttraining's binary_logloss: 0.108964\tvalid_1's binary_logloss: 0.112109\n",
      "[8]\ttraining's binary_logloss: 0.10405\tvalid_1's binary_logloss: 0.108507\n",
      "[10]\ttraining's binary_logloss: 0.10007\tvalid_1's binary_logloss: 0.105662\n",
      "[12]\ttraining's binary_logloss: 0.0967765\tvalid_1's binary_logloss: 0.103445\n",
      "[14]\ttraining's binary_logloss: 0.094049\tvalid_1's binary_logloss: 0.101678\n",
      "[16]\ttraining's binary_logloss: 0.0915816\tvalid_1's binary_logloss: 0.100332\n",
      "[18]\ttraining's binary_logloss: 0.0894753\tvalid_1's binary_logloss: 0.099215\n",
      "[20]\ttraining's binary_logloss: 0.0874947\tvalid_1's binary_logloss: 0.0981137\n",
      "[22]\ttraining's binary_logloss: 0.0857348\tvalid_1's binary_logloss: 0.0972429\n",
      "[24]\ttraining's binary_logloss: 0.0841832\tvalid_1's binary_logloss: 0.0966567\n",
      "[26]\ttraining's binary_logloss: 0.0825901\tvalid_1's binary_logloss: 0.0960796\n",
      "[28]\ttraining's binary_logloss: 0.0812806\tvalid_1's binary_logloss: 0.0958105\n",
      "[30]\ttraining's binary_logloss: 0.079927\tvalid_1's binary_logloss: 0.095369\n",
      "[32]\ttraining's binary_logloss: 0.0786071\tvalid_1's binary_logloss: 0.0947483\n",
      "[34]\ttraining's binary_logloss: 0.0773291\tvalid_1's binary_logloss: 0.0944102\n",
      "[36]\ttraining's binary_logloss: 0.0762079\tvalid_1's binary_logloss: 0.0941906\n",
      "[38]\ttraining's binary_logloss: 0.0749704\tvalid_1's binary_logloss: 0.0937761\n",
      "[40]\ttraining's binary_logloss: 0.0739715\tvalid_1's binary_logloss: 0.0935586\n",
      "[42]\ttraining's binary_logloss: 0.0730253\tvalid_1's binary_logloss: 0.0932106\n",
      "[44]\ttraining's binary_logloss: 0.0719404\tvalid_1's binary_logloss: 0.0928292\n",
      "[46]\ttraining's binary_logloss: 0.070841\tvalid_1's binary_logloss: 0.0924004\n",
      "[48]\ttraining's binary_logloss: 0.0699376\tvalid_1's binary_logloss: 0.092043\n",
      "[50]\ttraining's binary_logloss: 0.0689996\tvalid_1's binary_logloss: 0.0917003\n",
      "[52]\ttraining's binary_logloss: 0.0681026\tvalid_1's binary_logloss: 0.0915685\n",
      "[54]\ttraining's binary_logloss: 0.0672347\tvalid_1's binary_logloss: 0.0914804\n",
      "[56]\ttraining's binary_logloss: 0.0664235\tvalid_1's binary_logloss: 0.091369\n",
      "[58]\ttraining's binary_logloss: 0.0655644\tvalid_1's binary_logloss: 0.0912255\n",
      "[60]\ttraining's binary_logloss: 0.0647371\tvalid_1's binary_logloss: 0.0911656\n",
      "[62]\ttraining's binary_logloss: 0.064007\tvalid_1's binary_logloss: 0.0911564\n",
      "[64]\ttraining's binary_logloss: 0.0632777\tvalid_1's binary_logloss: 0.0909884\n",
      "[66]\ttraining's binary_logloss: 0.062603\tvalid_1's binary_logloss: 0.0908415\n",
      "[68]\ttraining's binary_logloss: 0.062024\tvalid_1's binary_logloss: 0.0909863\n",
      "Early stopping, best iteration is:\n",
      "[66]\ttraining's binary_logloss: 0.062603\tvalid_1's binary_logloss: 0.0908415\n"
     ]
    },
    {
     "name": "stderr",
     "output_type": "stream",
     "text": [
      "\n",
      "\n",
      "\n",
      "feature_fraction, val_score: 0.089906:  14%|7    | 1/7 [00:24<01:54, 19.15s/it]\n",
      "\n",
      "\n",
      "feature_fraction, val_score: 0.089906:  29%|#4   | 2/7 [00:24<01:14, 14.90s/it][I 2020-09-16 11:18:51,111] Trial 1 finished with value: 0.09084148457415958 and parameters: {'feature_fraction': 1.0}. Best is trial 0 with value: 0.08990641600529144.\n",
      "\n",
      "\n",
      "\n",
      "feature_fraction, val_score: 0.089906:  29%|#4   | 2/7 [00:24<01:14, 14.90s/it]"
     ]
    },
    {
     "name": "stdout",
     "output_type": "stream",
     "text": [
      "Training until validation scores don't improve for 2 rounds\n",
      "[2]\ttraining's binary_logloss: 0.126894\tvalid_1's binary_logloss: 0.126815\n",
      "[4]\ttraining's binary_logloss: 0.118169\tvalid_1's binary_logloss: 0.119332\n",
      "[6]\ttraining's binary_logloss: 0.111883\tvalid_1's binary_logloss: 0.114245\n",
      "[8]\ttraining's binary_logloss: 0.107233\tvalid_1's binary_logloss: 0.111217\n",
      "[10]\ttraining's binary_logloss: 0.103072\tvalid_1's binary_logloss: 0.107894\n",
      "[12]\ttraining's binary_logloss: 0.0997711\tvalid_1's binary_logloss: 0.105762\n",
      "[14]\ttraining's binary_logloss: 0.096889\tvalid_1's binary_logloss: 0.104151\n",
      "[16]\ttraining's binary_logloss: 0.0946227\tvalid_1's binary_logloss: 0.102918\n",
      "[18]\ttraining's binary_logloss: 0.0925379\tvalid_1's binary_logloss: 0.101755\n",
      "[20]\ttraining's binary_logloss: 0.0908187\tvalid_1's binary_logloss: 0.100826\n",
      "[22]\ttraining's binary_logloss: 0.0890575\tvalid_1's binary_logloss: 0.0999304\n",
      "[24]\ttraining's binary_logloss: 0.087384\tvalid_1's binary_logloss: 0.0989815\n",
      "[26]\ttraining's binary_logloss: 0.0858157\tvalid_1's binary_logloss: 0.0981906\n",
      "[28]\ttraining's binary_logloss: 0.0845342\tvalid_1's binary_logloss: 0.0977521\n",
      "[30]\ttraining's binary_logloss: 0.0830934\tvalid_1's binary_logloss: 0.0971711\n",
      "[32]\ttraining's binary_logloss: 0.0816441\tvalid_1's binary_logloss: 0.0964587\n",
      "[34]\ttraining's binary_logloss: 0.0803347\tvalid_1's binary_logloss: 0.0958511\n",
      "[36]\ttraining's binary_logloss: 0.079327\tvalid_1's binary_logloss: 0.0956434\n",
      "[38]\ttraining's binary_logloss: 0.0781129\tvalid_1's binary_logloss: 0.0950277\n",
      "[40]\ttraining's binary_logloss: 0.0771358\tvalid_1's binary_logloss: 0.0946592\n",
      "[42]\ttraining's binary_logloss: 0.0759912\tvalid_1's binary_logloss: 0.0941601\n",
      "[44]\ttraining's binary_logloss: 0.0750992\tvalid_1's binary_logloss: 0.0940725\n",
      "[46]\ttraining's binary_logloss: 0.0741328\tvalid_1's binary_logloss: 0.0937596\n",
      "[48]\ttraining's binary_logloss: 0.073134\tvalid_1's binary_logloss: 0.0933369\n",
      "[50]\ttraining's binary_logloss: 0.07237\tvalid_1's binary_logloss: 0.0933263\n",
      "[52]\ttraining's binary_logloss: 0.0714478\tvalid_1's binary_logloss: 0.0931664\n",
      "[54]\ttraining's binary_logloss: 0.0705631\tvalid_1's binary_logloss: 0.092929\n",
      "[56]\ttraining's binary_logloss: 0.0698678\tvalid_1's binary_logloss: 0.092782\n",
      "[58]\ttraining's binary_logloss: 0.0690591\tvalid_1's binary_logloss: 0.092669\n",
      "[60]\ttraining's binary_logloss: 0.0682692\tvalid_1's binary_logloss: 0.0924304\n",
      "[62]\ttraining's binary_logloss: 0.0674992\tvalid_1's binary_logloss: 0.0922746\n",
      "[64]\ttraining's binary_logloss: 0.0667223\tvalid_1's binary_logloss: 0.0921004\n",
      "[66]\ttraining's binary_logloss: 0.0660778\tvalid_1's binary_logloss: 0.0921245\n",
      "[68]\ttraining's binary_logloss: 0.065468\tvalid_1's binary_logloss: 0.0919126\n",
      "[70]\ttraining's binary_logloss: 0.0647899\tvalid_1's binary_logloss: 0.0917544\n",
      "[72]\ttraining's binary_logloss: 0.0640828\tvalid_1's binary_logloss: 0.0917479\n",
      "Early stopping, best iteration is:\n",
      "[71]\ttraining's binary_logloss: 0.0644397\tvalid_1's binary_logloss: 0.0917159\n"
     ]
    },
    {
     "name": "stderr",
     "output_type": "stream",
     "text": [
      "\n",
      "\n",
      "\n",
      "feature_fraction, val_score: 0.089906:  29%|#4   | 2/7 [00:28<01:14, 14.90s/it]\n",
      "\n",
      "\n",
      "feature_fraction, val_score: 0.089906:  43%|##1  | 3/7 [00:28<00:46, 11.71s/it][I 2020-09-16 11:18:55,359] Trial 2 finished with value: 0.09171590349494968 and parameters: {'feature_fraction': 0.4}. Best is trial 0 with value: 0.08990641600529144.\n",
      "\n",
      "\n",
      "\n",
      "feature_fraction, val_score: 0.089906:  43%|##1  | 3/7 [00:28<00:46, 11.71s/it]"
     ]
    },
    {
     "name": "stdout",
     "output_type": "stream",
     "text": [
      "Training until validation scores don't improve for 2 rounds\n",
      "[2]\ttraining's binary_logloss: 0.125084\tvalid_1's binary_logloss: 0.124851\n",
      "[4]\ttraining's binary_logloss: 0.116217\tvalid_1's binary_logloss: 0.117908\n",
      "[6]\ttraining's binary_logloss: 0.10956\tvalid_1's binary_logloss: 0.112615\n",
      "[8]\ttraining's binary_logloss: 0.104732\tvalid_1's binary_logloss: 0.10932\n",
      "[10]\ttraining's binary_logloss: 0.100926\tvalid_1's binary_logloss: 0.107051\n",
      "[12]\ttraining's binary_logloss: 0.0974895\tvalid_1's binary_logloss: 0.104731\n",
      "[14]\ttraining's binary_logloss: 0.0946078\tvalid_1's binary_logloss: 0.10244\n",
      "[16]\ttraining's binary_logloss: 0.0920667\tvalid_1's binary_logloss: 0.101066\n",
      "[18]\ttraining's binary_logloss: 0.0898128\tvalid_1's binary_logloss: 0.0997356\n",
      "[20]\ttraining's binary_logloss: 0.0879899\tvalid_1's binary_logloss: 0.0990725\n",
      "[22]\ttraining's binary_logloss: 0.086203\tvalid_1's binary_logloss: 0.0981648\n",
      "[24]\ttraining's binary_logloss: 0.0846493\tvalid_1's binary_logloss: 0.0974005\n",
      "[26]\ttraining's binary_logloss: 0.0831274\tvalid_1's binary_logloss: 0.096497\n",
      "[28]\ttraining's binary_logloss: 0.081652\tvalid_1's binary_logloss: 0.0956508\n",
      "[30]\ttraining's binary_logloss: 0.080252\tvalid_1's binary_logloss: 0.0952245\n",
      "[32]\ttraining's binary_logloss: 0.07893\tvalid_1's binary_logloss: 0.0947886\n",
      "[34]\ttraining's binary_logloss: 0.0777242\tvalid_1's binary_logloss: 0.0944163\n",
      "[36]\ttraining's binary_logloss: 0.0765669\tvalid_1's binary_logloss: 0.0939603\n",
      "[38]\ttraining's binary_logloss: 0.0754591\tvalid_1's binary_logloss: 0.0937223\n",
      "[40]\ttraining's binary_logloss: 0.0743191\tvalid_1's binary_logloss: 0.093353\n",
      "[42]\ttraining's binary_logloss: 0.0732422\tvalid_1's binary_logloss: 0.0932087\n",
      "[44]\ttraining's binary_logloss: 0.0722987\tvalid_1's binary_logloss: 0.093101\n",
      "[46]\ttraining's binary_logloss: 0.0712735\tvalid_1's binary_logloss: 0.0927258\n",
      "[48]\ttraining's binary_logloss: 0.0703618\tvalid_1's binary_logloss: 0.0925154\n",
      "[50]\ttraining's binary_logloss: 0.0695439\tvalid_1's binary_logloss: 0.0923033\n",
      "[52]\ttraining's binary_logloss: 0.0686246\tvalid_1's binary_logloss: 0.0919261\n",
      "[54]\ttraining's binary_logloss: 0.0678324\tvalid_1's binary_logloss: 0.0917324\n",
      "[56]\ttraining's binary_logloss: 0.0670653\tvalid_1's binary_logloss: 0.0915849\n",
      "[58]\ttraining's binary_logloss: 0.0664073\tvalid_1's binary_logloss: 0.091606\n",
      "Early stopping, best iteration is:\n",
      "[57]\ttraining's binary_logloss: 0.0667076\tvalid_1's binary_logloss: 0.0915104\n"
     ]
    },
    {
     "name": "stderr",
     "output_type": "stream",
     "text": [
      "\n",
      "\n",
      "\n",
      "feature_fraction, val_score: 0.089906:  43%|##1  | 3/7 [00:33<00:46, 11.71s/it]\n",
      "\n",
      "\n",
      "feature_fraction, val_score: 0.089906:  57%|##8  | 4/7 [00:33<00:29,  9.84s/it][I 2020-09-16 11:19:00,854] Trial 3 finished with value: 0.0915103650596299 and parameters: {'feature_fraction': 0.8}. Best is trial 0 with value: 0.08990641600529144.\n",
      "\n",
      "\n",
      "\n",
      "feature_fraction, val_score: 0.089906:  57%|##8  | 4/7 [00:33<00:29,  9.84s/it]"
     ]
    },
    {
     "name": "stdout",
     "output_type": "stream",
     "text": [
      "Training until validation scores don't improve for 2 rounds\n",
      "[2]\ttraining's binary_logloss: 0.126436\tvalid_1's binary_logloss: 0.126345\n",
      "[4]\ttraining's binary_logloss: 0.117341\tvalid_1's binary_logloss: 0.119283\n",
      "[6]\ttraining's binary_logloss: 0.111038\tvalid_1's binary_logloss: 0.114621\n",
      "[8]\ttraining's binary_logloss: 0.105978\tvalid_1's binary_logloss: 0.110478\n",
      "[10]\ttraining's binary_logloss: 0.101893\tvalid_1's binary_logloss: 0.107373\n",
      "[12]\ttraining's binary_logloss: 0.0988461\tvalid_1's binary_logloss: 0.105523\n",
      "[14]\ttraining's binary_logloss: 0.0961193\tvalid_1's binary_logloss: 0.103812\n",
      "[16]\ttraining's binary_logloss: 0.0937076\tvalid_1's binary_logloss: 0.10211\n",
      "[18]\ttraining's binary_logloss: 0.0915868\tvalid_1's binary_logloss: 0.100815\n",
      "[20]\ttraining's binary_logloss: 0.0897653\tvalid_1's binary_logloss: 0.0997089\n",
      "[22]\ttraining's binary_logloss: 0.0880294\tvalid_1's binary_logloss: 0.0992086\n",
      "[24]\ttraining's binary_logloss: 0.0864458\tvalid_1's binary_logloss: 0.0984211\n",
      "[26]\ttraining's binary_logloss: 0.0848312\tvalid_1's binary_logloss: 0.0977071\n",
      "[28]\ttraining's binary_logloss: 0.0833755\tvalid_1's binary_logloss: 0.0969773\n",
      "[30]\ttraining's binary_logloss: 0.0819863\tvalid_1's binary_logloss: 0.0963569\n",
      "[32]\ttraining's binary_logloss: 0.0804995\tvalid_1's binary_logloss: 0.0957703\n",
      "[34]\ttraining's binary_logloss: 0.0793619\tvalid_1's binary_logloss: 0.0954412\n",
      "[36]\ttraining's binary_logloss: 0.078201\tvalid_1's binary_logloss: 0.0950323\n",
      "[38]\ttraining's binary_logloss: 0.0771995\tvalid_1's binary_logloss: 0.0944892\n",
      "[40]\ttraining's binary_logloss: 0.0760339\tvalid_1's binary_logloss: 0.0942489\n",
      "[42]\ttraining's binary_logloss: 0.0750047\tvalid_1's binary_logloss: 0.0938973\n",
      "[44]\ttraining's binary_logloss: 0.0740592\tvalid_1's binary_logloss: 0.0936271\n",
      "[46]\ttraining's binary_logloss: 0.0732044\tvalid_1's binary_logloss: 0.0933812\n",
      "[48]\ttraining's binary_logloss: 0.0723312\tvalid_1's binary_logloss: 0.0931072\n",
      "[50]\ttraining's binary_logloss: 0.0715051\tvalid_1's binary_logloss: 0.0927629\n",
      "[52]\ttraining's binary_logloss: 0.070692\tvalid_1's binary_logloss: 0.0925302\n",
      "[54]\ttraining's binary_logloss: 0.0698549\tvalid_1's binary_logloss: 0.0925372\n",
      "[56]\ttraining's binary_logloss: 0.0690847\tvalid_1's binary_logloss: 0.0924224\n",
      "Early stopping, best iteration is:\n",
      "[55]\ttraining's binary_logloss: 0.0694496\tvalid_1's binary_logloss: 0.0923834\n"
     ]
    },
    {
     "name": "stderr",
     "output_type": "stream",
     "text": [
      "\n",
      "\n",
      "\n",
      "feature_fraction, val_score: 0.089906:  57%|##8  | 4/7 [00:37<00:29,  9.84s/it]\n",
      "\n",
      "\n",
      "feature_fraction, val_score: 0.089906:  71%|###5 | 5/7 [00:37<00:16,  8.05s/it][I 2020-09-16 11:19:04,724] Trial 4 finished with value: 0.09238336315815174 and parameters: {'feature_fraction': 0.5}. Best is trial 0 with value: 0.08990641600529144.\n",
      "\n",
      "\n",
      "\n",
      "feature_fraction, val_score: 0.089906:  71%|###5 | 5/7 [00:37<00:16,  8.05s/it]"
     ]
    },
    {
     "name": "stdout",
     "output_type": "stream",
     "text": [
      "Training until validation scores don't improve for 2 rounds\n",
      "[2]\ttraining's binary_logloss: 0.126078\tvalid_1's binary_logloss: 0.126099\n",
      "[4]\ttraining's binary_logloss: 0.117185\tvalid_1's binary_logloss: 0.118814\n",
      "[6]\ttraining's binary_logloss: 0.110427\tvalid_1's binary_logloss: 0.113737\n",
      "[8]\ttraining's binary_logloss: 0.105427\tvalid_1's binary_logloss: 0.109953\n",
      "[10]\ttraining's binary_logloss: 0.10142\tvalid_1's binary_logloss: 0.107001\n",
      "[12]\ttraining's binary_logloss: 0.0978909\tvalid_1's binary_logloss: 0.104632\n",
      "[14]\ttraining's binary_logloss: 0.0949618\tvalid_1's binary_logloss: 0.102672\n",
      "[16]\ttraining's binary_logloss: 0.0926225\tvalid_1's binary_logloss: 0.101131\n",
      "[18]\ttraining's binary_logloss: 0.0905285\tvalid_1's binary_logloss: 0.100032\n",
      "[20]\ttraining's binary_logloss: 0.0884781\tvalid_1's binary_logloss: 0.0987941\n",
      "[22]\ttraining's binary_logloss: 0.0867195\tvalid_1's binary_logloss: 0.0979072\n",
      "[24]\ttraining's binary_logloss: 0.085195\tvalid_1's binary_logloss: 0.0973815\n",
      "[26]\ttraining's binary_logloss: 0.083746\tvalid_1's binary_logloss: 0.0966957\n",
      "[28]\ttraining's binary_logloss: 0.0823599\tvalid_1's binary_logloss: 0.0958893\n",
      "[30]\ttraining's binary_logloss: 0.0809001\tvalid_1's binary_logloss: 0.095176\n",
      "[32]\ttraining's binary_logloss: 0.0795161\tvalid_1's binary_logloss: 0.0948199\n",
      "[34]\ttraining's binary_logloss: 0.0783131\tvalid_1's binary_logloss: 0.0945328\n",
      "[36]\ttraining's binary_logloss: 0.0771158\tvalid_1's binary_logloss: 0.0942692\n",
      "[38]\ttraining's binary_logloss: 0.0759978\tvalid_1's binary_logloss: 0.0938824\n",
      "[40]\ttraining's binary_logloss: 0.0748512\tvalid_1's binary_logloss: 0.0935789\n",
      "[42]\ttraining's binary_logloss: 0.0737355\tvalid_1's binary_logloss: 0.0934493\n",
      "[44]\ttraining's binary_logloss: 0.0727859\tvalid_1's binary_logloss: 0.0933185\n",
      "[46]\ttraining's binary_logloss: 0.071857\tvalid_1's binary_logloss: 0.0930488\n",
      "[48]\ttraining's binary_logloss: 0.070893\tvalid_1's binary_logloss: 0.0928191\n",
      "[50]\ttraining's binary_logloss: 0.0701349\tvalid_1's binary_logloss: 0.0925386\n",
      "[52]\ttraining's binary_logloss: 0.0692534\tvalid_1's binary_logloss: 0.0923404\n",
      "[54]\ttraining's binary_logloss: 0.0684159\tvalid_1's binary_logloss: 0.0919963\n",
      "[56]\ttraining's binary_logloss: 0.0676181\tvalid_1's binary_logloss: 0.0919946\n",
      "[58]\ttraining's binary_logloss: 0.0668351\tvalid_1's binary_logloss: 0.0918048\n",
      "[60]\ttraining's binary_logloss: 0.0660493\tvalid_1's binary_logloss: 0.0914459\n",
      "[62]\ttraining's binary_logloss: 0.0653466\tvalid_1's binary_logloss: 0.0913021\n",
      "[64]\ttraining's binary_logloss: 0.0644875\tvalid_1's binary_logloss: 0.0912109\n",
      "[66]\ttraining's binary_logloss: 0.0638047\tvalid_1's binary_logloss: 0.0910996\n",
      "[68]\ttraining's binary_logloss: 0.0631889\tvalid_1's binary_logloss: 0.0910945\n",
      "[70]\ttraining's binary_logloss: 0.0625337\tvalid_1's binary_logloss: 0.0908143\n",
      "[72]\ttraining's binary_logloss: 0.061914\tvalid_1's binary_logloss: 0.0906755\n",
      "[74]\ttraining's binary_logloss: 0.0611753\tvalid_1's binary_logloss: 0.090593\n",
      "[76]\ttraining's binary_logloss: 0.0605681\tvalid_1's binary_logloss: 0.0905564\n",
      "[78]\ttraining's binary_logloss: 0.0599123\tvalid_1's binary_logloss: 0.0904491\n",
      "[80]\ttraining's binary_logloss: 0.0593571\tvalid_1's binary_logloss: 0.0904466\n",
      "Early stopping, best iteration is:\n",
      "[79]\ttraining's binary_logloss: 0.059666\tvalid_1's binary_logloss: 0.0904223\n"
     ]
    },
    {
     "name": "stderr",
     "output_type": "stream",
     "text": [
      "\n",
      "\n",
      "\n",
      "feature_fraction, val_score: 0.089906:  71%|###5 | 5/7 [00:42<00:16,  8.05s/it]\n",
      "\n",
      "\n",
      "feature_fraction, val_score: 0.089906:  86%|####2| 6/7 [00:42<00:07,  7.08s/it][I 2020-09-16 11:19:09,535] Trial 5 finished with value: 0.0904223265417125 and parameters: {'feature_fraction': 0.7}. Best is trial 0 with value: 0.08990641600529144.\n",
      "\n",
      "\n",
      "\n",
      "feature_fraction, val_score: 0.089906:  86%|####2| 6/7 [00:42<00:07,  7.08s/it]"
     ]
    },
    {
     "name": "stdout",
     "output_type": "stream",
     "text": [
      "Training until validation scores don't improve for 2 rounds\n",
      "[2]\ttraining's binary_logloss: 0.125178\tvalid_1's binary_logloss: 0.124014\n",
      "[4]\ttraining's binary_logloss: 0.116218\tvalid_1's binary_logloss: 0.1172\n",
      "[6]\ttraining's binary_logloss: 0.109714\tvalid_1's binary_logloss: 0.112988\n",
      "[8]\ttraining's binary_logloss: 0.10482\tvalid_1's binary_logloss: 0.109106\n",
      "[10]\ttraining's binary_logloss: 0.10071\tvalid_1's binary_logloss: 0.106505\n",
      "[12]\ttraining's binary_logloss: 0.0974776\tvalid_1's binary_logloss: 0.104644\n",
      "[14]\ttraining's binary_logloss: 0.0947871\tvalid_1's binary_logloss: 0.102747\n",
      "[16]\ttraining's binary_logloss: 0.0921835\tvalid_1's binary_logloss: 0.101332\n",
      "[18]\ttraining's binary_logloss: 0.0900948\tvalid_1's binary_logloss: 0.1002\n",
      "[20]\ttraining's binary_logloss: 0.0882809\tvalid_1's binary_logloss: 0.0989238\n",
      "[22]\ttraining's binary_logloss: 0.0864283\tvalid_1's binary_logloss: 0.0979942\n",
      "[24]\ttraining's binary_logloss: 0.0846584\tvalid_1's binary_logloss: 0.0973561\n",
      "[26]\ttraining's binary_logloss: 0.0831261\tvalid_1's binary_logloss: 0.096576\n",
      "[28]\ttraining's binary_logloss: 0.081614\tvalid_1's binary_logloss: 0.0959607\n",
      "[30]\ttraining's binary_logloss: 0.0802671\tvalid_1's binary_logloss: 0.0954248\n",
      "[32]\ttraining's binary_logloss: 0.0787573\tvalid_1's binary_logloss: 0.0948509\n",
      "[34]\ttraining's binary_logloss: 0.0774731\tvalid_1's binary_logloss: 0.0944437\n",
      "[36]\ttraining's binary_logloss: 0.0762431\tvalid_1's binary_logloss: 0.094017\n",
      "[38]\ttraining's binary_logloss: 0.0750965\tvalid_1's binary_logloss: 0.0936703\n",
      "[40]\ttraining's binary_logloss: 0.0739992\tvalid_1's binary_logloss: 0.0932128\n",
      "[42]\ttraining's binary_logloss: 0.0729246\tvalid_1's binary_logloss: 0.0929848\n",
      "[44]\ttraining's binary_logloss: 0.0719629\tvalid_1's binary_logloss: 0.0927763\n",
      "[46]\ttraining's binary_logloss: 0.0709403\tvalid_1's binary_logloss: 0.092357\n",
      "[48]\ttraining's binary_logloss: 0.069897\tvalid_1's binary_logloss: 0.0920366\n",
      "[50]\ttraining's binary_logloss: 0.0689076\tvalid_1's binary_logloss: 0.0916386\n",
      "[52]\ttraining's binary_logloss: 0.0680845\tvalid_1's binary_logloss: 0.0915427\n",
      "[54]\ttraining's binary_logloss: 0.0672433\tvalid_1's binary_logloss: 0.0914969\n",
      "[56]\ttraining's binary_logloss: 0.0664389\tvalid_1's binary_logloss: 0.0911823\n",
      "[58]\ttraining's binary_logloss: 0.0657129\tvalid_1's binary_logloss: 0.0909565\n",
      "[60]\ttraining's binary_logloss: 0.0650269\tvalid_1's binary_logloss: 0.0907645\n",
      "[62]\ttraining's binary_logloss: 0.0642214\tvalid_1's binary_logloss: 0.0905834\n",
      "[64]\ttraining's binary_logloss: 0.0635191\tvalid_1's binary_logloss: 0.0903611\n",
      "[66]\ttraining's binary_logloss: 0.0629002\tvalid_1's binary_logloss: 0.0901202\n",
      "[68]\ttraining's binary_logloss: 0.0622301\tvalid_1's binary_logloss: 0.0900429\n",
      "[70]\ttraining's binary_logloss: 0.0614004\tvalid_1's binary_logloss: 0.08985\n",
      "[72]\ttraining's binary_logloss: 0.0607355\tvalid_1's binary_logloss: 0.0897687\n",
      "Early stopping, best iteration is:\n",
      "[71]\ttraining's binary_logloss: 0.0610359\tvalid_1's binary_logloss: 0.0897293\n"
     ]
    },
    {
     "name": "stderr",
     "output_type": "stream",
     "text": [
      "\n",
      "\n",
      "\n",
      "feature_fraction, val_score: 0.089729:  86%|####2| 6/7 [00:49<00:07,  7.08s/it]\n",
      "\n",
      "\n",
      "feature_fraction, val_score: 0.089729: 100%|#####| 7/7 [00:49<00:00,  7.07s/it][I 2020-09-16 11:19:16,588] Trial 6 finished with value: 0.08972930564921645 and parameters: {'feature_fraction': 0.8999999999999999}. Best is trial 6 with value: 0.08972930564921645.\n",
      "feature_fraction, val_score: 0.089729: 100%|#####| 7/7 [00:49<00:00,  7.11s/it]\n",
      "\n",
      "\n",
      "\n",
      "  0%|                                                   | 0/20 [00:00<?, ?it/s]\n",
      "\n",
      "\n",
      "num_leaves, val_score: 0.089729:   0%|                  | 0/20 [00:00<?, ?it/s]"
     ]
    },
    {
     "name": "stdout",
     "output_type": "stream",
     "text": [
      "Training until validation scores don't improve for 2 rounds\n",
      "[2]\ttraining's binary_logloss: 0.133872\tvalid_1's binary_logloss: 0.130795\n",
      "[4]\ttraining's binary_logloss: 0.127562\tvalid_1's binary_logloss: 0.125356\n",
      "[6]\ttraining's binary_logloss: 0.122921\tvalid_1's binary_logloss: 0.121484\n",
      "[8]\ttraining's binary_logloss: 0.119289\tvalid_1's binary_logloss: 0.118099\n",
      "[10]\ttraining's binary_logloss: 0.116547\tvalid_1's binary_logloss: 0.11564\n",
      "[12]\ttraining's binary_logloss: 0.114461\tvalid_1's binary_logloss: 0.113955\n",
      "[14]\ttraining's binary_logloss: 0.112613\tvalid_1's binary_logloss: 0.112222\n",
      "[16]\ttraining's binary_logloss: 0.111202\tvalid_1's binary_logloss: 0.110985\n",
      "[18]\ttraining's binary_logloss: 0.10983\tvalid_1's binary_logloss: 0.109805\n",
      "[20]\ttraining's binary_logloss: 0.108517\tvalid_1's binary_logloss: 0.108913\n",
      "[22]\ttraining's binary_logloss: 0.107484\tvalid_1's binary_logloss: 0.108151\n",
      "[24]\ttraining's binary_logloss: 0.106553\tvalid_1's binary_logloss: 0.107383\n",
      "[26]\ttraining's binary_logloss: 0.105629\tvalid_1's binary_logloss: 0.106768\n",
      "[28]\ttraining's binary_logloss: 0.104892\tvalid_1's binary_logloss: 0.10627\n",
      "[30]\ttraining's binary_logloss: 0.10403\tvalid_1's binary_logloss: 0.105529\n",
      "[32]\ttraining's binary_logloss: 0.103448\tvalid_1's binary_logloss: 0.105144\n",
      "[34]\ttraining's binary_logloss: 0.102854\tvalid_1's binary_logloss: 0.104755\n",
      "[36]\ttraining's binary_logloss: 0.102331\tvalid_1's binary_logloss: 0.104389\n",
      "[38]\ttraining's binary_logloss: 0.101744\tvalid_1's binary_logloss: 0.104134\n",
      "[40]\ttraining's binary_logloss: 0.101095\tvalid_1's binary_logloss: 0.103535\n",
      "[42]\ttraining's binary_logloss: 0.100552\tvalid_1's binary_logloss: 0.103182\n",
      "[44]\ttraining's binary_logloss: 0.100105\tvalid_1's binary_logloss: 0.102875\n",
      "[46]\ttraining's binary_logloss: 0.0994931\tvalid_1's binary_logloss: 0.102491\n",
      "[48]\ttraining's binary_logloss: 0.0988315\tvalid_1's binary_logloss: 0.102066\n",
      "[50]\ttraining's binary_logloss: 0.0984034\tvalid_1's binary_logloss: 0.101858\n",
      "[52]\ttraining's binary_logloss: 0.0980029\tvalid_1's binary_logloss: 0.101563\n",
      "[54]\ttraining's binary_logloss: 0.0976086\tvalid_1's binary_logloss: 0.101157\n",
      "[56]\ttraining's binary_logloss: 0.0971632\tvalid_1's binary_logloss: 0.100793\n",
      "[58]\ttraining's binary_logloss: 0.096741\tvalid_1's binary_logloss: 0.100554\n",
      "[60]\ttraining's binary_logloss: 0.0964204\tvalid_1's binary_logloss: 0.100346\n",
      "[62]\ttraining's binary_logloss: 0.096014\tvalid_1's binary_logloss: 0.100133\n",
      "[64]\ttraining's binary_logloss: 0.0955761\tvalid_1's binary_logloss: 0.0997956\n",
      "[66]\ttraining's binary_logloss: 0.0951039\tvalid_1's binary_logloss: 0.0996006\n",
      "[68]\ttraining's binary_logloss: 0.0947901\tvalid_1's binary_logloss: 0.0995129\n",
      "[70]\ttraining's binary_logloss: 0.0944407\tvalid_1's binary_logloss: 0.0992669\n",
      "[72]\ttraining's binary_logloss: 0.0941127\tvalid_1's binary_logloss: 0.0991671\n",
      "[74]\ttraining's binary_logloss: 0.0936691\tvalid_1's binary_logloss: 0.099041\n",
      "[76]\ttraining's binary_logloss: 0.0932805\tvalid_1's binary_logloss: 0.0988219\n",
      "[78]\ttraining's binary_logloss: 0.0929493\tvalid_1's binary_logloss: 0.0986873\n",
      "[80]\ttraining's binary_logloss: 0.0927086\tvalid_1's binary_logloss: 0.0985488\n",
      "[82]\ttraining's binary_logloss: 0.0923559\tvalid_1's binary_logloss: 0.0982235\n",
      "[84]\ttraining's binary_logloss: 0.0920883\tvalid_1's binary_logloss: 0.0981715\n",
      "[86]\ttraining's binary_logloss: 0.0917528\tvalid_1's binary_logloss: 0.0979605\n",
      "[88]\ttraining's binary_logloss: 0.091478\tvalid_1's binary_logloss: 0.0978377\n",
      "[90]\ttraining's binary_logloss: 0.0912609\tvalid_1's binary_logloss: 0.0977145\n",
      "[92]\ttraining's binary_logloss: 0.0909676\tvalid_1's binary_logloss: 0.0974574\n",
      "[94]\ttraining's binary_logloss: 0.0907276\tvalid_1's binary_logloss: 0.0973705\n",
      "[96]\ttraining's binary_logloss: 0.0904344\tvalid_1's binary_logloss: 0.0972011\n",
      "[98]\ttraining's binary_logloss: 0.0901832\tvalid_1's binary_logloss: 0.0969837\n",
      "[100]\ttraining's binary_logloss: 0.0899024\tvalid_1's binary_logloss: 0.0969313\n",
      "[102]\ttraining's binary_logloss: 0.0895967\tvalid_1's binary_logloss: 0.0967679\n",
      "[104]\ttraining's binary_logloss: 0.0893768\tvalid_1's binary_logloss: 0.0967307\n",
      "Early stopping, best iteration is:\n",
      "[103]\ttraining's binary_logloss: 0.0894858\tvalid_1's binary_logloss: 0.096726\n"
     ]
    },
    {
     "name": "stderr",
     "output_type": "stream",
     "text": [
      "\n",
      "\n",
      "\n",
      "num_leaves, val_score: 0.089729:   0%|                  | 0/20 [00:04<?, ?it/s]\n",
      "\n",
      "\n",
      "num_leaves, val_score: 0.089729:   5%|5         | 1/20 [00:04<01:29,  4.72s/it][I 2020-09-16 11:19:21,487] Trial 7 finished with value: 0.09672595265466333 and parameters: {'num_leaves': 7}. Best is trial 7 with value: 0.09672595265466333.\n",
      "\n",
      "\n",
      "\n",
      "num_leaves, val_score: 0.089729:   5%|5         | 1/20 [00:04<01:29,  4.72s/it]"
     ]
    },
    {
     "name": "stdout",
     "output_type": "stream",
     "text": [
      "Training until validation scores don't improve for 2 rounds\n",
      "[2]\ttraining's binary_logloss: 0.112936\tvalid_1's binary_logloss: 0.120373\n",
      "[4]\ttraining's binary_logloss: 0.0977136\tvalid_1's binary_logloss: 0.112663\n",
      "[6]\ttraining's binary_logloss: 0.0866218\tvalid_1's binary_logloss: 0.107966\n",
      "[8]\ttraining's binary_logloss: 0.0780103\tvalid_1's binary_logloss: 0.104687\n",
      "[10]\ttraining's binary_logloss: 0.0706888\tvalid_1's binary_logloss: 0.101183\n",
      "[12]\ttraining's binary_logloss: 0.0654114\tvalid_1's binary_logloss: 0.099125\n",
      "[14]\ttraining's binary_logloss: 0.060839\tvalid_1's binary_logloss: 0.0977844\n",
      "[16]\ttraining's binary_logloss: 0.0566282\tvalid_1's binary_logloss: 0.0963517\n",
      "[18]\ttraining's binary_logloss: 0.0527704\tvalid_1's binary_logloss: 0.0954268\n",
      "[20]\ttraining's binary_logloss: 0.0492318\tvalid_1's binary_logloss: 0.0948029\n",
      "[22]\ttraining's binary_logloss: 0.0459598\tvalid_1's binary_logloss: 0.0940938\n",
      "[24]\ttraining's binary_logloss: 0.04298\tvalid_1's binary_logloss: 0.0937518\n",
      "[26]\ttraining's binary_logloss: 0.0402972\tvalid_1's binary_logloss: 0.0932085\n",
      "[28]\ttraining's binary_logloss: 0.037834\tvalid_1's binary_logloss: 0.0928418\n",
      "[30]\ttraining's binary_logloss: 0.0355195\tvalid_1's binary_logloss: 0.0927461\n",
      "[32]\ttraining's binary_logloss: 0.0332379\tvalid_1's binary_logloss: 0.0927038\n",
      "[34]\ttraining's binary_logloss: 0.031128\tvalid_1's binary_logloss: 0.0925519\n",
      "[36]\ttraining's binary_logloss: 0.0291334\tvalid_1's binary_logloss: 0.0922277\n",
      "[38]\ttraining's binary_logloss: 0.0272829\tvalid_1's binary_logloss: 0.0920347\n",
      "[40]\ttraining's binary_logloss: 0.0256301\tvalid_1's binary_logloss: 0.0925445\n",
      "Early stopping, best iteration is:\n",
      "[38]\ttraining's binary_logloss: 0.0272829\tvalid_1's binary_logloss: 0.0920347\n"
     ]
    },
    {
     "name": "stderr",
     "output_type": "stream",
     "text": [
      "\n",
      "\n",
      "\n",
      "num_leaves, val_score: 0.089729:   5%|5         | 1/20 [00:13<01:29,  4.72s/it]\n",
      "\n",
      "\n",
      "num_leaves, val_score: 0.089729:  10%|#         | 2/20 [00:13<01:48,  6.00s/it][I 2020-09-16 11:19:30,473] Trial 8 finished with value: 0.09203469428006807 and parameters: {'num_leaves': 227}. Best is trial 8 with value: 0.09203469428006807.\n",
      "\n",
      "\n",
      "\n",
      "num_leaves, val_score: 0.089729:  10%|#         | 2/20 [00:13<01:48,  6.00s/it]"
     ]
    },
    {
     "name": "stdout",
     "output_type": "stream",
     "text": [
      "Training until validation scores don't improve for 2 rounds\n",
      "[2]\ttraining's binary_logloss: 0.118657\tvalid_1's binary_logloss: 0.121226\n",
      "[4]\ttraining's binary_logloss: 0.107116\tvalid_1's binary_logloss: 0.113978\n",
      "[6]\ttraining's binary_logloss: 0.0988096\tvalid_1's binary_logloss: 0.109792\n",
      "[8]\ttraining's binary_logloss: 0.0925007\tvalid_1's binary_logloss: 0.106094\n",
      "[10]\ttraining's binary_logloss: 0.0869785\tvalid_1's binary_logloss: 0.103317\n",
      "[12]\ttraining's binary_logloss: 0.0825701\tvalid_1's binary_logloss: 0.10139\n",
      "[14]\ttraining's binary_logloss: 0.0787459\tvalid_1's binary_logloss: 0.0999855\n",
      "[16]\ttraining's binary_logloss: 0.0755054\tvalid_1's binary_logloss: 0.098973\n",
      "[18]\ttraining's binary_logloss: 0.0722412\tvalid_1's binary_logloss: 0.0980902\n",
      "[20]\ttraining's binary_logloss: 0.0695123\tvalid_1's binary_logloss: 0.0970647\n",
      "[22]\ttraining's binary_logloss: 0.0668829\tvalid_1's binary_logloss: 0.0963027\n",
      "[24]\ttraining's binary_logloss: 0.0644292\tvalid_1's binary_logloss: 0.0954283\n",
      "[26]\ttraining's binary_logloss: 0.062114\tvalid_1's binary_logloss: 0.0947093\n",
      "[28]\ttraining's binary_logloss: 0.0599536\tvalid_1's binary_logloss: 0.0941299\n",
      "[30]\ttraining's binary_logloss: 0.0579321\tvalid_1's binary_logloss: 0.0936796\n",
      "[32]\ttraining's binary_logloss: 0.0559687\tvalid_1's binary_logloss: 0.0929331\n",
      "[34]\ttraining's binary_logloss: 0.0542189\tvalid_1's binary_logloss: 0.0924549\n",
      "[36]\ttraining's binary_logloss: 0.0526668\tvalid_1's binary_logloss: 0.0921593\n",
      "[38]\ttraining's binary_logloss: 0.0511412\tvalid_1's binary_logloss: 0.0917286\n",
      "[40]\ttraining's binary_logloss: 0.0497054\tvalid_1's binary_logloss: 0.0914402\n",
      "[42]\ttraining's binary_logloss: 0.0482748\tvalid_1's binary_logloss: 0.0914137\n",
      "[44]\ttraining's binary_logloss: 0.0468704\tvalid_1's binary_logloss: 0.0912515\n",
      "[46]\ttraining's binary_logloss: 0.0455934\tvalid_1's binary_logloss: 0.0911491\n",
      "[48]\ttraining's binary_logloss: 0.0444445\tvalid_1's binary_logloss: 0.0912423\n",
      "Early stopping, best iteration is:\n",
      "[46]\ttraining's binary_logloss: 0.0455934\tvalid_1's binary_logloss: 0.0911491\n"
     ]
    },
    {
     "name": "stderr",
     "output_type": "stream",
     "text": [
      "\n",
      "\n",
      "\n",
      "num_leaves, val_score: 0.089729:  10%|#         | 2/20 [00:18<01:48,  6.00s/it]\n",
      "\n",
      "\n",
      "num_leaves, val_score: 0.089729:  15%|#5        | 3/20 [00:18<01:37,  5.75s/it][I 2020-09-16 11:19:35,644] Trial 9 finished with value: 0.09114913162338481 and parameters: {'num_leaves': 83}. Best is trial 9 with value: 0.09114913162338481.\n",
      "\n",
      "\n",
      "\n",
      "num_leaves, val_score: 0.089729:  15%|#5        | 3/20 [00:18<01:37,  5.75s/it]"
     ]
    },
    {
     "name": "stdout",
     "output_type": "stream",
     "text": [
      "Training until validation scores don't improve for 2 rounds\n",
      "[2]\ttraining's binary_logloss: 0.112547\tvalid_1's binary_logloss: 0.120303\n",
      "[4]\ttraining's binary_logloss: 0.0970125\tvalid_1's binary_logloss: 0.112618\n",
      "[6]\ttraining's binary_logloss: 0.0856065\tvalid_1's binary_logloss: 0.107948\n",
      "[8]\ttraining's binary_logloss: 0.076705\tvalid_1's binary_logloss: 0.103946\n",
      "[10]\ttraining's binary_logloss: 0.0691603\tvalid_1's binary_logloss: 0.10118\n",
      "[12]\ttraining's binary_logloss: 0.0637958\tvalid_1's binary_logloss: 0.0990507\n",
      "[14]\ttraining's binary_logloss: 0.0592257\tvalid_1's binary_logloss: 0.0975277\n",
      "[16]\ttraining's binary_logloss: 0.0549405\tvalid_1's binary_logloss: 0.0961755\n",
      "[18]\ttraining's binary_logloss: 0.0511234\tvalid_1's binary_logloss: 0.0951533\n",
      "[20]\ttraining's binary_logloss: 0.0476539\tvalid_1's binary_logloss: 0.0940214\n",
      "[22]\ttraining's binary_logloss: 0.0444448\tvalid_1's binary_logloss: 0.0932959\n",
      "[24]\ttraining's binary_logloss: 0.0414854\tvalid_1's binary_logloss: 0.0927482\n",
      "[26]\ttraining's binary_logloss: 0.0386795\tvalid_1's binary_logloss: 0.0929599\n",
      "Early stopping, best iteration is:\n",
      "[24]\ttraining's binary_logloss: 0.0414854\tvalid_1's binary_logloss: 0.0927482\n"
     ]
    },
    {
     "name": "stderr",
     "output_type": "stream",
     "text": [
      "\n",
      "\n",
      "\n",
      "num_leaves, val_score: 0.089729:  15%|#5        | 3/20 [00:25<01:37,  5.75s/it]\n",
      "\n",
      "\n",
      "num_leaves, val_score: 0.089729:  20%|##        | 4/20 [00:25<01:35,  5.97s/it][I 2020-09-16 11:19:42,115] Trial 10 finished with value: 0.09274816034334343 and parameters: {'num_leaves': 254}. Best is trial 9 with value: 0.09114913162338481.\n",
      "\n",
      "\n",
      "\n",
      "num_leaves, val_score: 0.089729:  20%|##        | 4/20 [00:25<01:35,  5.97s/it]"
     ]
    },
    {
     "name": "stdout",
     "output_type": "stream",
     "text": [
      "Training until validation scores don't improve for 2 rounds\n",
      "[2]\ttraining's binary_logloss: 0.115072\tvalid_1's binary_logloss: 0.120565\n",
      "[4]\ttraining's binary_logloss: 0.101887\tvalid_1's binary_logloss: 0.113156\n",
      "[6]\ttraining's binary_logloss: 0.0920694\tvalid_1's binary_logloss: 0.10878\n",
      "[8]\ttraining's binary_logloss: 0.0846091\tvalid_1's binary_logloss: 0.105793\n",
      "[10]\ttraining's binary_logloss: 0.0779773\tvalid_1's binary_logloss: 0.103257\n",
      "[12]\ttraining's binary_logloss: 0.0728899\tvalid_1's binary_logloss: 0.100926\n",
      "[14]\ttraining's binary_logloss: 0.0682976\tvalid_1's binary_logloss: 0.0995539\n",
      "[16]\ttraining's binary_logloss: 0.0643387\tvalid_1's binary_logloss: 0.0982549\n",
      "[18]\ttraining's binary_logloss: 0.0606405\tvalid_1's binary_logloss: 0.0973316\n",
      "[20]\ttraining's binary_logloss: 0.0573783\tvalid_1's binary_logloss: 0.0964973\n",
      "[22]\ttraining's binary_logloss: 0.0544913\tvalid_1's binary_logloss: 0.0958299\n",
      "[24]\ttraining's binary_logloss: 0.051794\tvalid_1's binary_logloss: 0.0951664\n",
      "[26]\ttraining's binary_logloss: 0.0491194\tvalid_1's binary_logloss: 0.0947734\n",
      "[28]\ttraining's binary_logloss: 0.0466439\tvalid_1's binary_logloss: 0.094263\n",
      "[30]\ttraining's binary_logloss: 0.0443151\tvalid_1's binary_logloss: 0.0939621\n",
      "[32]\ttraining's binary_logloss: 0.0421468\tvalid_1's binary_logloss: 0.0937529\n",
      "[34]\ttraining's binary_logloss: 0.0401102\tvalid_1's binary_logloss: 0.0933583\n",
      "[36]\ttraining's binary_logloss: 0.0382036\tvalid_1's binary_logloss: 0.0931095\n",
      "[38]\ttraining's binary_logloss: 0.0364528\tvalid_1's binary_logloss: 0.0929984\n",
      "Early stopping, best iteration is:\n",
      "[37]\ttraining's binary_logloss: 0.0373631\tvalid_1's binary_logloss: 0.092911\n"
     ]
    },
    {
     "name": "stderr",
     "output_type": "stream",
     "text": [
      "\n",
      "\n",
      "\n",
      "num_leaves, val_score: 0.089729:  20%|##        | 4/20 [00:34<01:35,  5.97s/it]\n",
      "\n",
      "\n",
      "num_leaves, val_score: 0.089729:  25%|##5       | 5/20 [00:34<01:41,  6.79s/it][I 2020-09-16 11:19:50,812] Trial 11 finished with value: 0.0929110183108317 and parameters: {'num_leaves': 149}. Best is trial 9 with value: 0.09114913162338481.\n",
      "\n",
      "\n",
      "\n",
      "num_leaves, val_score: 0.089729:  25%|##5       | 5/20 [00:34<01:41,  6.79s/it]"
     ]
    },
    {
     "name": "stdout",
     "output_type": "stream",
     "text": [
      "Training until validation scores don't improve for 2 rounds\n",
      "[2]\ttraining's binary_logloss: 0.137378\tvalid_1's binary_logloss: 0.133099\n",
      "[4]\ttraining's binary_logloss: 0.131595\tvalid_1's binary_logloss: 0.128458\n",
      "[6]\ttraining's binary_logloss: 0.12768\tvalid_1's binary_logloss: 0.124714\n",
      "[8]\ttraining's binary_logloss: 0.124693\tvalid_1's binary_logloss: 0.122192\n",
      "[10]\ttraining's binary_logloss: 0.122165\tvalid_1's binary_logloss: 0.119911\n",
      "[12]\ttraining's binary_logloss: 0.120165\tvalid_1's binary_logloss: 0.118294\n",
      "[14]\ttraining's binary_logloss: 0.118606\tvalid_1's binary_logloss: 0.116803\n",
      "[16]\ttraining's binary_logloss: 0.117183\tvalid_1's binary_logloss: 0.115371\n",
      "[18]\ttraining's binary_logloss: 0.116009\tvalid_1's binary_logloss: 0.114343\n",
      "[20]\ttraining's binary_logloss: 0.114996\tvalid_1's binary_logloss: 0.11341\n",
      "[22]\ttraining's binary_logloss: 0.114093\tvalid_1's binary_logloss: 0.112666\n",
      "[24]\ttraining's binary_logloss: 0.113261\tvalid_1's binary_logloss: 0.111959\n",
      "[26]\ttraining's binary_logloss: 0.112564\tvalid_1's binary_logloss: 0.111472\n",
      "[28]\ttraining's binary_logloss: 0.111804\tvalid_1's binary_logloss: 0.110808\n",
      "[30]\ttraining's binary_logloss: 0.111198\tvalid_1's binary_logloss: 0.110387\n",
      "[32]\ttraining's binary_logloss: 0.110729\tvalid_1's binary_logloss: 0.109951\n",
      "[34]\ttraining's binary_logloss: 0.110187\tvalid_1's binary_logloss: 0.10941\n",
      "[36]\ttraining's binary_logloss: 0.109685\tvalid_1's binary_logloss: 0.108984\n",
      "[38]\ttraining's binary_logloss: 0.1092\tvalid_1's binary_logloss: 0.108578\n",
      "[40]\ttraining's binary_logloss: 0.108738\tvalid_1's binary_logloss: 0.10827\n",
      "[42]\ttraining's binary_logloss: 0.108266\tvalid_1's binary_logloss: 0.107909\n",
      "[44]\ttraining's binary_logloss: 0.107836\tvalid_1's binary_logloss: 0.107575\n",
      "[46]\ttraining's binary_logloss: 0.107467\tvalid_1's binary_logloss: 0.107238\n",
      "[48]\ttraining's binary_logloss: 0.107085\tvalid_1's binary_logloss: 0.106994\n",
      "[50]\ttraining's binary_logloss: 0.106628\tvalid_1's binary_logloss: 0.106512\n",
      "[52]\ttraining's binary_logloss: 0.10623\tvalid_1's binary_logloss: 0.106097\n",
      "[54]\ttraining's binary_logloss: 0.105952\tvalid_1's binary_logloss: 0.106027\n",
      "[56]\ttraining's binary_logloss: 0.105691\tvalid_1's binary_logloss: 0.105836\n",
      "[58]\ttraining's binary_logloss: 0.105401\tvalid_1's binary_logloss: 0.105583\n",
      "[60]\ttraining's binary_logloss: 0.105059\tvalid_1's binary_logloss: 0.105296\n",
      "[62]\ttraining's binary_logloss: 0.1047\tvalid_1's binary_logloss: 0.104948\n",
      "[64]\ttraining's binary_logloss: 0.104449\tvalid_1's binary_logloss: 0.10469\n",
      "[66]\ttraining's binary_logloss: 0.104208\tvalid_1's binary_logloss: 0.104521\n",
      "[68]\ttraining's binary_logloss: 0.104014\tvalid_1's binary_logloss: 0.104409\n",
      "[70]\ttraining's binary_logloss: 0.103766\tvalid_1's binary_logloss: 0.104267\n",
      "[72]\ttraining's binary_logloss: 0.103556\tvalid_1's binary_logloss: 0.104186\n",
      "[74]\ttraining's binary_logloss: 0.103313\tvalid_1's binary_logloss: 0.103926\n",
      "[76]\ttraining's binary_logloss: 0.10309\tvalid_1's binary_logloss: 0.103671\n",
      "[78]\ttraining's binary_logloss: 0.102812\tvalid_1's binary_logloss: 0.10359\n",
      "[80]\ttraining's binary_logloss: 0.102536\tvalid_1's binary_logloss: 0.103325\n",
      "[82]\ttraining's binary_logloss: 0.102334\tvalid_1's binary_logloss: 0.103237\n",
      "[84]\ttraining's binary_logloss: 0.102051\tvalid_1's binary_logloss: 0.103114\n",
      "[86]\ttraining's binary_logloss: 0.101727\tvalid_1's binary_logloss: 0.102791\n",
      "[88]\ttraining's binary_logloss: 0.101489\tvalid_1's binary_logloss: 0.102653\n",
      "[90]\ttraining's binary_logloss: 0.101294\tvalid_1's binary_logloss: 0.102503\n",
      "[92]\ttraining's binary_logloss: 0.101124\tvalid_1's binary_logloss: 0.102358\n",
      "[94]\ttraining's binary_logloss: 0.100881\tvalid_1's binary_logloss: 0.102186\n",
      "[96]\ttraining's binary_logloss: 0.100642\tvalid_1's binary_logloss: 0.101975\n",
      "[98]\ttraining's binary_logloss: 0.100444\tvalid_1's binary_logloss: 0.101851\n",
      "[100]\ttraining's binary_logloss: 0.100206\tvalid_1's binary_logloss: 0.101709\n",
      "[102]\ttraining's binary_logloss: 0.100013\tvalid_1's binary_logloss: 0.101573\n",
      "[104]\ttraining's binary_logloss: 0.0998574\tvalid_1's binary_logloss: 0.101533\n",
      "[106]\ttraining's binary_logloss: 0.0996292\tvalid_1's binary_logloss: 0.101385\n",
      "[108]\ttraining's binary_logloss: 0.0994481\tvalid_1's binary_logloss: 0.101344\n",
      "[110]\ttraining's binary_logloss: 0.0990373\tvalid_1's binary_logloss: 0.10099\n",
      "[112]\ttraining's binary_logloss: 0.0988333\tvalid_1's binary_logloss: 0.100818\n",
      "[114]\ttraining's binary_logloss: 0.098657\tvalid_1's binary_logloss: 0.10077\n",
      "[116]\ttraining's binary_logloss: 0.0984957\tvalid_1's binary_logloss: 0.100658\n",
      "[118]\ttraining's binary_logloss: 0.09832\tvalid_1's binary_logloss: 0.100573\n",
      "[120]\ttraining's binary_logloss: 0.0981655\tvalid_1's binary_logloss: 0.100472\n",
      "[122]\ttraining's binary_logloss: 0.0979783\tvalid_1's binary_logloss: 0.100381\n",
      "[124]\ttraining's binary_logloss: 0.0977881\tvalid_1's binary_logloss: 0.100297\n",
      "[126]\ttraining's binary_logloss: 0.0976403\tvalid_1's binary_logloss: 0.100224\n",
      "[128]\ttraining's binary_logloss: 0.0974944\tvalid_1's binary_logloss: 0.100119\n",
      "[130]\ttraining's binary_logloss: 0.0973475\tvalid_1's binary_logloss: 0.100031\n",
      "[132]\ttraining's binary_logloss: 0.0972031\tvalid_1's binary_logloss: 0.0999446\n",
      "[134]\ttraining's binary_logloss: 0.0970782\tvalid_1's binary_logloss: 0.0998584\n",
      "[136]\ttraining's binary_logloss: 0.0969521\tvalid_1's binary_logloss: 0.0997692\n",
      "[138]\ttraining's binary_logloss: 0.0968209\tvalid_1's binary_logloss: 0.0996632\n",
      "[140]\ttraining's binary_logloss: 0.0966774\tvalid_1's binary_logloss: 0.0996287\n",
      "[142]\ttraining's binary_logloss: 0.0965272\tvalid_1's binary_logloss: 0.0995077\n",
      "[144]\ttraining's binary_logloss: 0.0963818\tvalid_1's binary_logloss: 0.099449\n",
      "[146]\ttraining's binary_logloss: 0.0962225\tvalid_1's binary_logloss: 0.099348\n",
      "[148]\ttraining's binary_logloss: 0.0960819\tvalid_1's binary_logloss: 0.099326\n",
      "[150]\ttraining's binary_logloss: 0.0959701\tvalid_1's binary_logloss: 0.0992398\n",
      "[152]\ttraining's binary_logloss: 0.0958572\tvalid_1's binary_logloss: 0.0991831\n",
      "[154]\ttraining's binary_logloss: 0.0957261\tvalid_1's binary_logloss: 0.0990899\n",
      "[156]\ttraining's binary_logloss: 0.0955797\tvalid_1's binary_logloss: 0.0990143\n",
      "[158]\ttraining's binary_logloss: 0.095463\tvalid_1's binary_logloss: 0.0988814\n",
      "[160]\ttraining's binary_logloss: 0.0952826\tvalid_1's binary_logloss: 0.0988193\n",
      "[162]\ttraining's binary_logloss: 0.0951155\tvalid_1's binary_logloss: 0.0987883\n",
      "[164]\ttraining's binary_logloss: 0.094958\tvalid_1's binary_logloss: 0.0987637\n",
      "[166]\ttraining's binary_logloss: 0.0948017\tvalid_1's binary_logloss: 0.0986687\n",
      "[168]\ttraining's binary_logloss: 0.0946697\tvalid_1's binary_logloss: 0.0986112\n",
      "[170]\ttraining's binary_logloss: 0.094555\tvalid_1's binary_logloss: 0.0986349\n",
      "[172]\ttraining's binary_logloss: 0.0944183\tvalid_1's binary_logloss: 0.0985857\n",
      "[174]\ttraining's binary_logloss: 0.0942758\tvalid_1's binary_logloss: 0.0984928\n",
      "[176]\ttraining's binary_logloss: 0.0941439\tvalid_1's binary_logloss: 0.0983838\n",
      "[178]\ttraining's binary_logloss: 0.0940458\tvalid_1's binary_logloss: 0.098389\n",
      "Early stopping, best iteration is:\n",
      "[176]\ttraining's binary_logloss: 0.0941439\tvalid_1's binary_logloss: 0.0983838\n"
     ]
    },
    {
     "name": "stderr",
     "output_type": "stream",
     "text": [
      "\n",
      "\n",
      "\n",
      "num_leaves, val_score: 0.089729:  25%|##5       | 5/20 [00:40<01:41,  6.79s/it]\n",
      "\n",
      "\n",
      "num_leaves, val_score: 0.089729:  30%|###       | 6/20 [00:40<01:33,  6.68s/it][I 2020-09-16 11:19:57,254] Trial 12 finished with value: 0.0983837570328026 and parameters: {'num_leaves': 4}. Best is trial 9 with value: 0.09114913162338481.\n",
      "\n",
      "\n",
      "\n",
      "num_leaves, val_score: 0.089729:  30%|###       | 6/20 [00:40<01:33,  6.68s/it]"
     ]
    },
    {
     "name": "stdout",
     "output_type": "stream",
     "text": [
      "Training until validation scores don't improve for 2 rounds\n",
      "[2]\ttraining's binary_logloss: 0.114406\tvalid_1's binary_logloss: 0.120591\n",
      "[4]\ttraining's binary_logloss: 0.100531\tvalid_1's binary_logloss: 0.113029\n",
      "[6]\ttraining's binary_logloss: 0.0904513\tvalid_1's binary_logloss: 0.109233\n",
      "[8]\ttraining's binary_logloss: 0.0822119\tvalid_1's binary_logloss: 0.105893\n",
      "[10]\ttraining's binary_logloss: 0.0754309\tvalid_1's binary_logloss: 0.103358\n",
      "[12]\ttraining's binary_logloss: 0.0699864\tvalid_1's binary_logloss: 0.100997\n",
      "[14]\ttraining's binary_logloss: 0.0652922\tvalid_1's binary_logloss: 0.0992246\n",
      "[16]\ttraining's binary_logloss: 0.0614171\tvalid_1's binary_logloss: 0.0979008\n",
      "[18]\ttraining's binary_logloss: 0.0577451\tvalid_1's binary_logloss: 0.0973788\n",
      "[20]\ttraining's binary_logloss: 0.0544781\tvalid_1's binary_logloss: 0.09668\n",
      "[22]\ttraining's binary_logloss: 0.0514656\tvalid_1's binary_logloss: 0.0959001\n",
      "[24]\ttraining's binary_logloss: 0.048652\tvalid_1's binary_logloss: 0.0953002\n",
      "[26]\ttraining's binary_logloss: 0.0459695\tvalid_1's binary_logloss: 0.0947959\n",
      "[28]\ttraining's binary_logloss: 0.043544\tvalid_1's binary_logloss: 0.0942721\n",
      "[30]\ttraining's binary_logloss: 0.041235\tvalid_1's binary_logloss: 0.0934432\n",
      "[32]\ttraining's binary_logloss: 0.0390999\tvalid_1's binary_logloss: 0.093132\n",
      "[34]\ttraining's binary_logloss: 0.0370622\tvalid_1's binary_logloss: 0.0928875\n",
      "[36]\ttraining's binary_logloss: 0.0350404\tvalid_1's binary_logloss: 0.0928994\n",
      "[38]\ttraining's binary_logloss: 0.0332103\tvalid_1's binary_logloss: 0.0927879\n",
      "Early stopping, best iteration is:\n",
      "[37]\ttraining's binary_logloss: 0.0341128\tvalid_1's binary_logloss: 0.092718\n"
     ]
    },
    {
     "name": "stderr",
     "output_type": "stream",
     "text": [
      "\n",
      "\n",
      "\n",
      "num_leaves, val_score: 0.089729:  30%|###       | 6/20 [00:47<01:33,  6.68s/it]\n",
      "\n",
      "\n",
      "num_leaves, val_score: 0.089729:  35%|###5      | 7/20 [00:47<01:27,  6.73s/it][I 2020-09-16 11:20:04,094] Trial 13 finished with value: 0.09271798941284035 and parameters: {'num_leaves': 170}. Best is trial 9 with value: 0.09114913162338481.\n",
      "\n",
      "\n",
      "\n",
      "num_leaves, val_score: 0.089729:  35%|###5      | 7/20 [00:47<01:27,  6.73s/it]"
     ]
    },
    {
     "name": "stdout",
     "output_type": "stream",
     "text": [
      "Training until validation scores don't improve for 2 rounds\n",
      "[2]\ttraining's binary_logloss: 0.119392\tvalid_1's binary_logloss: 0.121272\n",
      "[4]\ttraining's binary_logloss: 0.108129\tvalid_1's binary_logloss: 0.113683\n",
      "[6]\ttraining's binary_logloss: 0.100375\tvalid_1's binary_logloss: 0.109318\n",
      "[8]\ttraining's binary_logloss: 0.0941538\tvalid_1's binary_logloss: 0.105878\n",
      "[10]\ttraining's binary_logloss: 0.0886762\tvalid_1's binary_logloss: 0.102541\n",
      "[12]\ttraining's binary_logloss: 0.0842626\tvalid_1's binary_logloss: 0.100581\n",
      "[14]\ttraining's binary_logloss: 0.0804948\tvalid_1's binary_logloss: 0.09909\n",
      "[16]\ttraining's binary_logloss: 0.0773634\tvalid_1's binary_logloss: 0.0976384\n",
      "[18]\ttraining's binary_logloss: 0.074502\tvalid_1's binary_logloss: 0.09631\n",
      "[20]\ttraining's binary_logloss: 0.0716863\tvalid_1's binary_logloss: 0.0953935\n",
      "[22]\ttraining's binary_logloss: 0.0691535\tvalid_1's binary_logloss: 0.0946971\n",
      "[24]\ttraining's binary_logloss: 0.066936\tvalid_1's binary_logloss: 0.0937895\n",
      "[26]\ttraining's binary_logloss: 0.0648647\tvalid_1's binary_logloss: 0.0934043\n",
      "[28]\ttraining's binary_logloss: 0.0628103\tvalid_1's binary_logloss: 0.0932144\n",
      "[30]\ttraining's binary_logloss: 0.0609392\tvalid_1's binary_logloss: 0.0925805\n",
      "[32]\ttraining's binary_logloss: 0.059297\tvalid_1's binary_logloss: 0.0919945\n",
      "[34]\ttraining's binary_logloss: 0.0574863\tvalid_1's binary_logloss: 0.0916423\n",
      "[36]\ttraining's binary_logloss: 0.055783\tvalid_1's binary_logloss: 0.0911778\n",
      "[38]\ttraining's binary_logloss: 0.0542856\tvalid_1's binary_logloss: 0.0907921\n",
      "[40]\ttraining's binary_logloss: 0.0527795\tvalid_1's binary_logloss: 0.09031\n",
      "[42]\ttraining's binary_logloss: 0.0513103\tvalid_1's binary_logloss: 0.089953\n",
      "[44]\ttraining's binary_logloss: 0.0499446\tvalid_1's binary_logloss: 0.089464\n",
      "[46]\ttraining's binary_logloss: 0.0487321\tvalid_1's binary_logloss: 0.0892742\n",
      "[48]\ttraining's binary_logloss: 0.0475658\tvalid_1's binary_logloss: 0.0893791\n",
      "Early stopping, best iteration is:\n",
      "[46]\ttraining's binary_logloss: 0.0487321\tvalid_1's binary_logloss: 0.0892742\n"
     ]
    },
    {
     "name": "stderr",
     "output_type": "stream",
     "text": [
      "\n",
      "\n",
      "\n",
      "num_leaves, val_score: 0.089274:  35%|###5      | 7/20 [00:51<01:27,  6.73s/it]\n",
      "\n",
      "\n",
      "num_leaves, val_score: 0.089274:  40%|####      | 8/20 [00:51<01:11,  5.93s/it][I 2020-09-16 11:20:08,167] Trial 14 finished with value: 0.0892741746542777 and parameters: {'num_leaves': 74}. Best is trial 14 with value: 0.0892741746542777.\n",
      "\n",
      "\n",
      "\n",
      "num_leaves, val_score: 0.089274:  40%|####      | 8/20 [00:51<01:11,  5.93s/it]"
     ]
    },
    {
     "name": "stdout",
     "output_type": "stream",
     "text": [
      "Training until validation scores don't improve for 2 rounds\n",
      "[2]\ttraining's binary_logloss: 0.121059\tvalid_1's binary_logloss: 0.1216\n",
      "[4]\ttraining's binary_logloss: 0.110799\tvalid_1's binary_logloss: 0.1141\n",
      "[6]\ttraining's binary_logloss: 0.103574\tvalid_1's binary_logloss: 0.110155\n",
      "[8]\ttraining's binary_logloss: 0.0975069\tvalid_1's binary_logloss: 0.106232\n",
      "[10]\ttraining's binary_logloss: 0.0927872\tvalid_1's binary_logloss: 0.103413\n",
      "[12]\ttraining's binary_logloss: 0.0888279\tvalid_1's binary_logloss: 0.10103\n",
      "[14]\ttraining's binary_logloss: 0.0856567\tvalid_1's binary_logloss: 0.0995709\n",
      "[16]\ttraining's binary_logloss: 0.0828016\tvalid_1's binary_logloss: 0.0981406\n",
      "[18]\ttraining's binary_logloss: 0.0801822\tvalid_1's binary_logloss: 0.0969786\n",
      "[20]\ttraining's binary_logloss: 0.0777135\tvalid_1's binary_logloss: 0.0960661\n",
      "[22]\ttraining's binary_logloss: 0.0754504\tvalid_1's binary_logloss: 0.0951094\n",
      "[24]\ttraining's binary_logloss: 0.0733259\tvalid_1's binary_logloss: 0.0939272\n",
      "[26]\ttraining's binary_logloss: 0.0713861\tvalid_1's binary_logloss: 0.0936726\n",
      "[28]\ttraining's binary_logloss: 0.0695703\tvalid_1's binary_logloss: 0.0933459\n",
      "[30]\ttraining's binary_logloss: 0.06794\tvalid_1's binary_logloss: 0.0931484\n",
      "[32]\ttraining's binary_logloss: 0.0662019\tvalid_1's binary_logloss: 0.092578\n",
      "[34]\ttraining's binary_logloss: 0.0646162\tvalid_1's binary_logloss: 0.0923313\n",
      "[36]\ttraining's binary_logloss: 0.0630598\tvalid_1's binary_logloss: 0.0920553\n",
      "[38]\ttraining's binary_logloss: 0.0616528\tvalid_1's binary_logloss: 0.0917005\n",
      "[40]\ttraining's binary_logloss: 0.0604281\tvalid_1's binary_logloss: 0.0914528\n",
      "[42]\ttraining's binary_logloss: 0.059219\tvalid_1's binary_logloss: 0.0911266\n",
      "[44]\ttraining's binary_logloss: 0.0580558\tvalid_1's binary_logloss: 0.090593\n",
      "[46]\ttraining's binary_logloss: 0.0570019\tvalid_1's binary_logloss: 0.0904021\n",
      "[48]\ttraining's binary_logloss: 0.0558926\tvalid_1's binary_logloss: 0.0902658\n",
      "[50]\ttraining's binary_logloss: 0.0548442\tvalid_1's binary_logloss: 0.0900909\n",
      "[52]\ttraining's binary_logloss: 0.0535649\tvalid_1's binary_logloss: 0.0898697\n",
      "[54]\ttraining's binary_logloss: 0.0524269\tvalid_1's binary_logloss: 0.089671\n",
      "[56]\ttraining's binary_logloss: 0.0514765\tvalid_1's binary_logloss: 0.0896176\n",
      "[58]\ttraining's binary_logloss: 0.0505469\tvalid_1's binary_logloss: 0.0894763\n",
      "[60]\ttraining's binary_logloss: 0.0496652\tvalid_1's binary_logloss: 0.0893345\n",
      "[62]\ttraining's binary_logloss: 0.0487112\tvalid_1's binary_logloss: 0.0892278\n",
      "[64]\ttraining's binary_logloss: 0.0478106\tvalid_1's binary_logloss: 0.0892839\n",
      "Early stopping, best iteration is:\n",
      "[62]\ttraining's binary_logloss: 0.0487112\tvalid_1's binary_logloss: 0.0892278\n"
     ]
    },
    {
     "name": "stderr",
     "output_type": "stream",
     "text": [
      "\n",
      "\n",
      "\n",
      "num_leaves, val_score: 0.089228:  40%|####      | 8/20 [00:57<01:11,  5.93s/it]\n",
      "\n",
      "\n",
      "num_leaves, val_score: 0.089228:  45%|####5     | 9/20 [00:57<01:05,  5.96s/it][I 2020-09-16 11:20:14,177] Trial 15 finished with value: 0.0892278180250352 and parameters: {'num_leaves': 55}. Best is trial 15 with value: 0.0892278180250352.\n",
      "\n",
      "\n",
      "\n",
      "num_leaves, val_score: 0.089228:  45%|####5     | 9/20 [00:57<01:05,  5.96s/it]"
     ]
    },
    {
     "name": "stdout",
     "output_type": "stream",
     "text": [
      "Training until validation scores don't improve for 2 rounds\n",
      "[2]\ttraining's binary_logloss: 0.119669\tvalid_1's binary_logloss: 0.121008\n",
      "[4]\ttraining's binary_logloss: 0.108621\tvalid_1's binary_logloss: 0.113307\n",
      "[6]\ttraining's binary_logloss: 0.100988\tvalid_1's binary_logloss: 0.109322\n",
      "[8]\ttraining's binary_logloss: 0.0950071\tvalid_1's binary_logloss: 0.106182\n",
      "[10]\ttraining's binary_logloss: 0.0895482\tvalid_1's binary_logloss: 0.10337\n",
      "[12]\ttraining's binary_logloss: 0.0851768\tvalid_1's binary_logloss: 0.10112\n",
      "[14]\ttraining's binary_logloss: 0.0816757\tvalid_1's binary_logloss: 0.0998145\n",
      "[16]\ttraining's binary_logloss: 0.0785796\tvalid_1's binary_logloss: 0.0985759\n",
      "[18]\ttraining's binary_logloss: 0.0755627\tvalid_1's binary_logloss: 0.0974439\n",
      "[20]\ttraining's binary_logloss: 0.072696\tvalid_1's binary_logloss: 0.0961841\n",
      "[22]\ttraining's binary_logloss: 0.0701502\tvalid_1's binary_logloss: 0.0954731\n",
      "[24]\ttraining's binary_logloss: 0.06784\tvalid_1's binary_logloss: 0.0948821\n",
      "[26]\ttraining's binary_logloss: 0.0658343\tvalid_1's binary_logloss: 0.094354\n",
      "[28]\ttraining's binary_logloss: 0.063848\tvalid_1's binary_logloss: 0.0935202\n",
      "[30]\ttraining's binary_logloss: 0.0619474\tvalid_1's binary_logloss: 0.0931446\n",
      "[32]\ttraining's binary_logloss: 0.0602196\tvalid_1's binary_logloss: 0.0926793\n",
      "[34]\ttraining's binary_logloss: 0.0584012\tvalid_1's binary_logloss: 0.0922499\n",
      "[36]\ttraining's binary_logloss: 0.056803\tvalid_1's binary_logloss: 0.0916968\n",
      "[38]\ttraining's binary_logloss: 0.0552839\tvalid_1's binary_logloss: 0.0912201\n",
      "[40]\ttraining's binary_logloss: 0.0538782\tvalid_1's binary_logloss: 0.0908417\n",
      "[42]\ttraining's binary_logloss: 0.0525481\tvalid_1's binary_logloss: 0.0905103\n",
      "[44]\ttraining's binary_logloss: 0.0512507\tvalid_1's binary_logloss: 0.0904016\n",
      "[46]\ttraining's binary_logloss: 0.0500253\tvalid_1's binary_logloss: 0.0902672\n",
      "Early stopping, best iteration is:\n",
      "[45]\ttraining's binary_logloss: 0.0506769\tvalid_1's binary_logloss: 0.0902452\n"
     ]
    },
    {
     "name": "stderr",
     "output_type": "stream",
     "text": [
      "\n",
      "\n",
      "\n",
      "num_leaves, val_score: 0.089228:  45%|####5     | 9/20 [01:02<01:05,  5.96s/it]\n",
      "\n",
      "\n",
      "num_leaves, val_score: 0.089228:  50%|####5    | 10/20 [01:02<00:56,  5.67s/it][I 2020-09-16 11:20:19,180] Trial 16 finished with value: 0.09024516955421805 and parameters: {'num_leaves': 71}. Best is trial 15 with value: 0.0892278180250352.\n",
      "\n",
      "\n",
      "\n",
      "num_leaves, val_score: 0.089228:  50%|####5    | 10/20 [01:02<00:56,  5.67s/it]"
     ]
    },
    {
     "name": "stdout",
     "output_type": "stream",
     "text": [
      "Training until validation scores don't improve for 2 rounds\n",
      "[2]\ttraining's binary_logloss: 0.119807\tvalid_1's binary_logloss: 0.120963\n",
      "[4]\ttraining's binary_logloss: 0.10944\tvalid_1's binary_logloss: 0.113402\n",
      "[6]\ttraining's binary_logloss: 0.101789\tvalid_1's binary_logloss: 0.109308\n",
      "[8]\ttraining's binary_logloss: 0.0956782\tvalid_1's binary_logloss: 0.106194\n",
      "[10]\ttraining's binary_logloss: 0.0903615\tvalid_1's binary_logloss: 0.103277\n",
      "[12]\ttraining's binary_logloss: 0.0862054\tvalid_1's binary_logloss: 0.101208\n",
      "[14]\ttraining's binary_logloss: 0.0824277\tvalid_1's binary_logloss: 0.0994013\n",
      "[16]\ttraining's binary_logloss: 0.0794551\tvalid_1's binary_logloss: 0.0980491\n",
      "[18]\ttraining's binary_logloss: 0.0766148\tvalid_1's binary_logloss: 0.0969535\n",
      "[20]\ttraining's binary_logloss: 0.0739995\tvalid_1's binary_logloss: 0.0961765\n",
      "[22]\ttraining's binary_logloss: 0.071577\tvalid_1's binary_logloss: 0.0951702\n",
      "[24]\ttraining's binary_logloss: 0.0694349\tvalid_1's binary_logloss: 0.0941685\n",
      "[26]\ttraining's binary_logloss: 0.0673527\tvalid_1's binary_logloss: 0.0934314\n",
      "[28]\ttraining's binary_logloss: 0.0654428\tvalid_1's binary_logloss: 0.0928614\n",
      "[30]\ttraining's binary_logloss: 0.0635652\tvalid_1's binary_logloss: 0.0923199\n",
      "[32]\ttraining's binary_logloss: 0.0616207\tvalid_1's binary_logloss: 0.0916912\n",
      "[34]\ttraining's binary_logloss: 0.0600163\tvalid_1's binary_logloss: 0.0914303\n",
      "[36]\ttraining's binary_logloss: 0.0583405\tvalid_1's binary_logloss: 0.090868\n",
      "[38]\ttraining's binary_logloss: 0.0569002\tvalid_1's binary_logloss: 0.090377\n",
      "[40]\ttraining's binary_logloss: 0.0555459\tvalid_1's binary_logloss: 0.090194\n",
      "[42]\ttraining's binary_logloss: 0.0540008\tvalid_1's binary_logloss: 0.0899341\n",
      "[44]\ttraining's binary_logloss: 0.0527795\tvalid_1's binary_logloss: 0.0895445\n",
      "[46]\ttraining's binary_logloss: 0.0515406\tvalid_1's binary_logloss: 0.0894806\n",
      "[48]\ttraining's binary_logloss: 0.0504445\tvalid_1's binary_logloss: 0.0892853\n",
      "[50]\ttraining's binary_logloss: 0.0493459\tvalid_1's binary_logloss: 0.0892434\n",
      "[52]\ttraining's binary_logloss: 0.0482449\tvalid_1's binary_logloss: 0.0891077\n",
      "Early stopping, best iteration is:\n",
      "[51]\ttraining's binary_logloss: 0.0487945\tvalid_1's binary_logloss: 0.0890289\n"
     ]
    },
    {
     "name": "stderr",
     "output_type": "stream",
     "text": [
      "\n",
      "\n",
      "\n",
      "num_leaves, val_score: 0.089029:  50%|####5    | 10/20 [01:07<00:56,  5.67s/it]\n",
      "\n",
      "\n",
      "num_leaves, val_score: 0.089029:  55%|####9    | 11/20 [01:07<00:49,  5.51s/it][I 2020-09-16 11:20:24,328] Trial 17 finished with value: 0.08902888741470388 and parameters: {'num_leaves': 67}. Best is trial 17 with value: 0.08902888741470388.\n",
      "\n",
      "\n",
      "\n",
      "num_leaves, val_score: 0.089029:  55%|####9    | 11/20 [01:07<00:49,  5.51s/it]"
     ]
    },
    {
     "name": "stdout",
     "output_type": "stream",
     "text": [
      "Training until validation scores don't improve for 2 rounds\n",
      "[2]\ttraining's binary_logloss: 0.123649\tvalid_1's binary_logloss: 0.122855\n",
      "[4]\ttraining's binary_logloss: 0.113873\tvalid_1's binary_logloss: 0.115224\n",
      "[6]\ttraining's binary_logloss: 0.107092\tvalid_1's binary_logloss: 0.110622\n",
      "[8]\ttraining's binary_logloss: 0.101679\tvalid_1's binary_logloss: 0.107185\n",
      "[10]\ttraining's binary_logloss: 0.0976547\tvalid_1's binary_logloss: 0.104781\n",
      "[12]\ttraining's binary_logloss: 0.0940161\tvalid_1's binary_logloss: 0.102358\n",
      "[14]\ttraining's binary_logloss: 0.091218\tvalid_1's binary_logloss: 0.10082\n",
      "[16]\ttraining's binary_logloss: 0.0888003\tvalid_1's binary_logloss: 0.0995489\n",
      "[18]\ttraining's binary_logloss: 0.0863942\tvalid_1's binary_logloss: 0.0981716\n",
      "[20]\ttraining's binary_logloss: 0.0843746\tvalid_1's binary_logloss: 0.0971022\n",
      "[22]\ttraining's binary_logloss: 0.08253\tvalid_1's binary_logloss: 0.0964519\n",
      "[24]\ttraining's binary_logloss: 0.0806878\tvalid_1's binary_logloss: 0.0956055\n",
      "[26]\ttraining's binary_logloss: 0.0790929\tvalid_1's binary_logloss: 0.0947861\n",
      "[28]\ttraining's binary_logloss: 0.0776834\tvalid_1's binary_logloss: 0.0943711\n",
      "[30]\ttraining's binary_logloss: 0.0761308\tvalid_1's binary_logloss: 0.0940155\n",
      "[32]\ttraining's binary_logloss: 0.0745792\tvalid_1's binary_logloss: 0.0933915\n",
      "[34]\ttraining's binary_logloss: 0.0732694\tvalid_1's binary_logloss: 0.0930575\n",
      "[36]\ttraining's binary_logloss: 0.0720314\tvalid_1's binary_logloss: 0.0927055\n",
      "[38]\ttraining's binary_logloss: 0.0707756\tvalid_1's binary_logloss: 0.0922589\n",
      "[40]\ttraining's binary_logloss: 0.069584\tvalid_1's binary_logloss: 0.0918287\n",
      "[42]\ttraining's binary_logloss: 0.0683542\tvalid_1's binary_logloss: 0.0915925\n",
      "[44]\ttraining's binary_logloss: 0.0672373\tvalid_1's binary_logloss: 0.0914693\n",
      "[46]\ttraining's binary_logloss: 0.0662545\tvalid_1's binary_logloss: 0.0912011\n",
      "[48]\ttraining's binary_logloss: 0.0652284\tvalid_1's binary_logloss: 0.0909623\n",
      "[50]\ttraining's binary_logloss: 0.064175\tvalid_1's binary_logloss: 0.0907126\n",
      "[52]\ttraining's binary_logloss: 0.0633062\tvalid_1's binary_logloss: 0.0905975\n",
      "[54]\ttraining's binary_logloss: 0.0623866\tvalid_1's binary_logloss: 0.0905103\n",
      "[56]\ttraining's binary_logloss: 0.0615166\tvalid_1's binary_logloss: 0.0902343\n",
      "[58]\ttraining's binary_logloss: 0.0606751\tvalid_1's binary_logloss: 0.0899953\n",
      "[60]\ttraining's binary_logloss: 0.0598266\tvalid_1's binary_logloss: 0.0896155\n",
      "[62]\ttraining's binary_logloss: 0.0590339\tvalid_1's binary_logloss: 0.0895567\n",
      "[64]\ttraining's binary_logloss: 0.058274\tvalid_1's binary_logloss: 0.0894097\n",
      "[66]\ttraining's binary_logloss: 0.0574872\tvalid_1's binary_logloss: 0.0891718\n",
      "[68]\ttraining's binary_logloss: 0.0566767\tvalid_1's binary_logloss: 0.0890651\n",
      "[70]\ttraining's binary_logloss: 0.0559336\tvalid_1's binary_logloss: 0.088898\n",
      "[72]\ttraining's binary_logloss: 0.0553084\tvalid_1's binary_logloss: 0.0889896\n",
      "Early stopping, best iteration is:\n",
      "[70]\ttraining's binary_logloss: 0.0559336\tvalid_1's binary_logloss: 0.088898\n"
     ]
    },
    {
     "name": "stderr",
     "output_type": "stream",
     "text": [
      "\n",
      "\n",
      "\n",
      "num_leaves, val_score: 0.088898:  55%|####9    | 11/20 [01:11<00:49,  5.51s/it]\n",
      "\n",
      "\n",
      "num_leaves, val_score: 0.088898:  60%|#####3   | 12/20 [01:11<00:41,  5.13s/it][I 2020-09-16 11:20:28,572] Trial 18 finished with value: 0.08889798512968194 and parameters: {'num_leaves': 38}. Best is trial 18 with value: 0.08889798512968194.\n",
      "\n",
      "\n",
      "\n",
      "num_leaves, val_score: 0.088898:  60%|#####3   | 12/20 [01:11<00:41,  5.13s/it]"
     ]
    },
    {
     "name": "stdout",
     "output_type": "stream",
     "text": [
      "Training until validation scores don't improve for 2 rounds\n",
      "[2]\ttraining's binary_logloss: 0.125178\tvalid_1's binary_logloss: 0.124014\n",
      "[4]\ttraining's binary_logloss: 0.116218\tvalid_1's binary_logloss: 0.1172\n",
      "[6]\ttraining's binary_logloss: 0.109714\tvalid_1's binary_logloss: 0.112988\n",
      "[8]\ttraining's binary_logloss: 0.10482\tvalid_1's binary_logloss: 0.109106\n",
      "[10]\ttraining's binary_logloss: 0.10071\tvalid_1's binary_logloss: 0.106505\n",
      "[12]\ttraining's binary_logloss: 0.0974776\tvalid_1's binary_logloss: 0.104644\n",
      "[14]\ttraining's binary_logloss: 0.0947871\tvalid_1's binary_logloss: 0.102747\n",
      "[16]\ttraining's binary_logloss: 0.0921835\tvalid_1's binary_logloss: 0.101332\n",
      "[18]\ttraining's binary_logloss: 0.0900948\tvalid_1's binary_logloss: 0.1002\n",
      "[20]\ttraining's binary_logloss: 0.0882809\tvalid_1's binary_logloss: 0.0989238\n",
      "[22]\ttraining's binary_logloss: 0.0864283\tvalid_1's binary_logloss: 0.0979942\n",
      "[24]\ttraining's binary_logloss: 0.0846584\tvalid_1's binary_logloss: 0.0973561\n",
      "[26]\ttraining's binary_logloss: 0.0831261\tvalid_1's binary_logloss: 0.096576\n",
      "[28]\ttraining's binary_logloss: 0.081614\tvalid_1's binary_logloss: 0.0959607\n",
      "[30]\ttraining's binary_logloss: 0.0802671\tvalid_1's binary_logloss: 0.0954248\n",
      "[32]\ttraining's binary_logloss: 0.0787573\tvalid_1's binary_logloss: 0.0948509\n",
      "[34]\ttraining's binary_logloss: 0.0774731\tvalid_1's binary_logloss: 0.0944437\n",
      "[36]\ttraining's binary_logloss: 0.0762431\tvalid_1's binary_logloss: 0.094017\n",
      "[38]\ttraining's binary_logloss: 0.0750965\tvalid_1's binary_logloss: 0.0936703\n",
      "[40]\ttraining's binary_logloss: 0.0739992\tvalid_1's binary_logloss: 0.0932128\n",
      "[42]\ttraining's binary_logloss: 0.0729246\tvalid_1's binary_logloss: 0.0929848\n",
      "[44]\ttraining's binary_logloss: 0.0719629\tvalid_1's binary_logloss: 0.0927763\n",
      "[46]\ttraining's binary_logloss: 0.0709403\tvalid_1's binary_logloss: 0.092357\n",
      "[48]\ttraining's binary_logloss: 0.069897\tvalid_1's binary_logloss: 0.0920366\n",
      "[50]\ttraining's binary_logloss: 0.0689076\tvalid_1's binary_logloss: 0.0916386\n",
      "[52]\ttraining's binary_logloss: 0.0680845\tvalid_1's binary_logloss: 0.0915427\n",
      "[54]\ttraining's binary_logloss: 0.0672433\tvalid_1's binary_logloss: 0.0914969\n",
      "[56]\ttraining's binary_logloss: 0.0664389\tvalid_1's binary_logloss: 0.0911823\n",
      "[58]\ttraining's binary_logloss: 0.0657129\tvalid_1's binary_logloss: 0.0909565\n",
      "[60]\ttraining's binary_logloss: 0.0650269\tvalid_1's binary_logloss: 0.0907645\n",
      "[62]\ttraining's binary_logloss: 0.0642214\tvalid_1's binary_logloss: 0.0905834\n",
      "[64]\ttraining's binary_logloss: 0.0635191\tvalid_1's binary_logloss: 0.0903611\n",
      "[66]\ttraining's binary_logloss: 0.0629002\tvalid_1's binary_logloss: 0.0901202\n",
      "[68]\ttraining's binary_logloss: 0.0622301\tvalid_1's binary_logloss: 0.0900429\n",
      "[70]\ttraining's binary_logloss: 0.0614004\tvalid_1's binary_logloss: 0.08985\n",
      "[72]\ttraining's binary_logloss: 0.0607355\tvalid_1's binary_logloss: 0.0897687\n",
      "Early stopping, best iteration is:\n",
      "[71]\ttraining's binary_logloss: 0.0610359\tvalid_1's binary_logloss: 0.0897293\n"
     ]
    },
    {
     "name": "stderr",
     "output_type": "stream",
     "text": [
      "\n",
      "\n",
      "\n",
      "num_leaves, val_score: 0.088898:  60%|#####3   | 12/20 [01:16<00:41,  5.13s/it]\n",
      "\n",
      "\n",
      "num_leaves, val_score: 0.088898:  65%|#####8   | 13/20 [01:16<00:35,  5.09s/it][I 2020-09-16 11:20:33,556] Trial 19 finished with value: 0.08972930564921645 and parameters: {'num_leaves': 31}. Best is trial 18 with value: 0.08889798512968194.\n",
      "\n",
      "\n",
      "\n",
      "num_leaves, val_score: 0.088898:  65%|#####8   | 13/20 [01:16<00:35,  5.09s/it]"
     ]
    },
    {
     "name": "stdout",
     "output_type": "stream",
     "text": [
      "Training until validation scores don't improve for 2 rounds\n",
      "[2]\ttraining's binary_logloss: 0.115864\tvalid_1's binary_logloss: 0.120657\n",
      "[4]\ttraining's binary_logloss: 0.103026\tvalid_1's binary_logloss: 0.113533\n",
      "[6]\ttraining's binary_logloss: 0.0937196\tvalid_1's binary_logloss: 0.108854\n",
      "[8]\ttraining's binary_logloss: 0.0863715\tvalid_1's binary_logloss: 0.105676\n",
      "[10]\ttraining's binary_logloss: 0.080347\tvalid_1's binary_logloss: 0.102943\n",
      "[12]\ttraining's binary_logloss: 0.0752848\tvalid_1's binary_logloss: 0.100307\n",
      "[14]\ttraining's binary_logloss: 0.0709755\tvalid_1's binary_logloss: 0.0983891\n",
      "[16]\ttraining's binary_logloss: 0.0671778\tvalid_1's binary_logloss: 0.0969377\n",
      "[18]\ttraining's binary_logloss: 0.0637987\tvalid_1's binary_logloss: 0.0958033\n",
      "[20]\ttraining's binary_logloss: 0.060634\tvalid_1's binary_logloss: 0.0947816\n",
      "[22]\ttraining's binary_logloss: 0.0577088\tvalid_1's binary_logloss: 0.0940449\n",
      "[24]\ttraining's binary_logloss: 0.0550843\tvalid_1's binary_logloss: 0.0931314\n",
      "[26]\ttraining's binary_logloss: 0.0525564\tvalid_1's binary_logloss: 0.0926615\n",
      "[28]\ttraining's binary_logloss: 0.0502196\tvalid_1's binary_logloss: 0.0921451\n",
      "[30]\ttraining's binary_logloss: 0.0481337\tvalid_1's binary_logloss: 0.0922193\n",
      "Early stopping, best iteration is:\n",
      "[28]\ttraining's binary_logloss: 0.0502196\tvalid_1's binary_logloss: 0.0921451\n"
     ]
    },
    {
     "name": "stderr",
     "output_type": "stream",
     "text": [
      "\n",
      "\n",
      "\n",
      "num_leaves, val_score: 0.088898:  65%|#####8   | 13/20 [01:20<00:35,  5.09s/it]\n",
      "\n",
      "\n",
      "num_leaves, val_score: 0.088898:  70%|######3  | 14/20 [01:20<00:27,  4.66s/it][I 2020-09-16 11:20:37,239] Trial 20 finished with value: 0.092145102630552 and parameters: {'num_leaves': 127}. Best is trial 18 with value: 0.08889798512968194.\n",
      "\n",
      "\n",
      "\n",
      "num_leaves, val_score: 0.088898:  70%|######3  | 14/20 [01:20<00:27,  4.66s/it]"
     ]
    },
    {
     "name": "stdout",
     "output_type": "stream",
     "text": [
      "Training until validation scores don't improve for 2 rounds\n",
      "[2]\ttraining's binary_logloss: 0.122162\tvalid_1's binary_logloss: 0.12221\n",
      "[4]\ttraining's binary_logloss: 0.112449\tvalid_1's binary_logloss: 0.115602\n",
      "[6]\ttraining's binary_logloss: 0.105522\tvalid_1's binary_logloss: 0.110746\n",
      "[8]\ttraining's binary_logloss: 0.0995847\tvalid_1's binary_logloss: 0.107125\n",
      "[10]\ttraining's binary_logloss: 0.095028\tvalid_1's binary_logloss: 0.104526\n",
      "[12]\ttraining's binary_logloss: 0.0912268\tvalid_1's binary_logloss: 0.102396\n",
      "[14]\ttraining's binary_logloss: 0.0882567\tvalid_1's binary_logloss: 0.100839\n",
      "[16]\ttraining's binary_logloss: 0.0854585\tvalid_1's binary_logloss: 0.0993701\n",
      "[18]\ttraining's binary_logloss: 0.082913\tvalid_1's binary_logloss: 0.0983886\n",
      "[20]\ttraining's binary_logloss: 0.0806258\tvalid_1's binary_logloss: 0.0973252\n",
      "[22]\ttraining's binary_logloss: 0.0785417\tvalid_1's binary_logloss: 0.0966486\n",
      "[24]\ttraining's binary_logloss: 0.0765906\tvalid_1's binary_logloss: 0.0957655\n",
      "[26]\ttraining's binary_logloss: 0.0746077\tvalid_1's binary_logloss: 0.0950146\n",
      "[28]\ttraining's binary_logloss: 0.0727273\tvalid_1's binary_logloss: 0.094417\n",
      "[30]\ttraining's binary_logloss: 0.0710823\tvalid_1's binary_logloss: 0.0938215\n",
      "[32]\ttraining's binary_logloss: 0.069455\tvalid_1's binary_logloss: 0.0934544\n",
      "[34]\ttraining's binary_logloss: 0.068027\tvalid_1's binary_logloss: 0.0928692\n",
      "[36]\ttraining's binary_logloss: 0.0666215\tvalid_1's binary_logloss: 0.0925524\n",
      "[38]\ttraining's binary_logloss: 0.0652234\tvalid_1's binary_logloss: 0.0921003\n",
      "[40]\ttraining's binary_logloss: 0.0639206\tvalid_1's binary_logloss: 0.0917947\n",
      "[42]\ttraining's binary_logloss: 0.062671\tvalid_1's binary_logloss: 0.0912281\n",
      "[44]\ttraining's binary_logloss: 0.061458\tvalid_1's binary_logloss: 0.0908965\n",
      "[46]\ttraining's binary_logloss: 0.0603723\tvalid_1's binary_logloss: 0.0904663\n",
      "[48]\ttraining's binary_logloss: 0.0592685\tvalid_1's binary_logloss: 0.0901985\n",
      "[50]\ttraining's binary_logloss: 0.0581866\tvalid_1's binary_logloss: 0.0900562\n",
      "[52]\ttraining's binary_logloss: 0.0571924\tvalid_1's binary_logloss: 0.089929\n",
      "[54]\ttraining's binary_logloss: 0.0561968\tvalid_1's binary_logloss: 0.0895868\n",
      "[56]\ttraining's binary_logloss: 0.0552897\tvalid_1's binary_logloss: 0.089596\n",
      "Early stopping, best iteration is:\n",
      "[54]\ttraining's binary_logloss: 0.0561968\tvalid_1's binary_logloss: 0.0895868\n"
     ]
    },
    {
     "name": "stderr",
     "output_type": "stream",
     "text": [
      "\n",
      "\n",
      "\n",
      "num_leaves, val_score: 0.088898:  70%|######3  | 14/20 [01:24<00:27,  4.66s/it]\n",
      "\n",
      "\n",
      "num_leaves, val_score: 0.088898:  75%|######7  | 15/20 [01:24<00:22,  4.52s/it][I 2020-09-16 11:20:41,403] Trial 21 finished with value: 0.08958679521388332 and parameters: {'num_leaves': 48}. Best is trial 18 with value: 0.08889798512968194.\n",
      "\n",
      "\n",
      "\n",
      "num_leaves, val_score: 0.088898:  75%|######7  | 15/20 [01:24<00:22,  4.52s/it]"
     ]
    },
    {
     "name": "stdout",
     "output_type": "stream",
     "text": [
      "Training until validation scores don't improve for 2 rounds\n",
      "[2]\ttraining's binary_logloss: 0.117554\tvalid_1's binary_logloss: 0.121399\n",
      "[4]\ttraining's binary_logloss: 0.105399\tvalid_1's binary_logloss: 0.113481\n",
      "[6]\ttraining's binary_logloss: 0.0967431\tvalid_1's binary_logloss: 0.109045\n",
      "[8]\ttraining's binary_logloss: 0.0900397\tvalid_1's binary_logloss: 0.106002\n",
      "[10]\ttraining's binary_logloss: 0.0839578\tvalid_1's binary_logloss: 0.102832\n",
      "[12]\ttraining's binary_logloss: 0.0793336\tvalid_1's binary_logloss: 0.100471\n",
      "[14]\ttraining's binary_logloss: 0.0752313\tvalid_1's binary_logloss: 0.0985342\n",
      "[16]\ttraining's binary_logloss: 0.0716019\tvalid_1's binary_logloss: 0.0970703\n",
      "[18]\ttraining's binary_logloss: 0.0683445\tvalid_1's binary_logloss: 0.0957181\n",
      "[20]\ttraining's binary_logloss: 0.0654226\tvalid_1's binary_logloss: 0.0947772\n",
      "[22]\ttraining's binary_logloss: 0.0625707\tvalid_1's binary_logloss: 0.0937091\n",
      "[24]\ttraining's binary_logloss: 0.0600118\tvalid_1's binary_logloss: 0.0928888\n",
      "[26]\ttraining's binary_logloss: 0.0577218\tvalid_1's binary_logloss: 0.0926888\n",
      "[28]\ttraining's binary_logloss: 0.055351\tvalid_1's binary_logloss: 0.0925028\n",
      "[30]\ttraining's binary_logloss: 0.0531984\tvalid_1's binary_logloss: 0.0921058\n",
      "[32]\ttraining's binary_logloss: 0.0511555\tvalid_1's binary_logloss: 0.0917011\n",
      "[34]\ttraining's binary_logloss: 0.0492725\tvalid_1's binary_logloss: 0.091239\n",
      "[36]\ttraining's binary_logloss: 0.0474717\tvalid_1's binary_logloss: 0.0908372\n",
      "[38]\ttraining's binary_logloss: 0.0457017\tvalid_1's binary_logloss: 0.0903749\n",
      "[40]\ttraining's binary_logloss: 0.044273\tvalid_1's binary_logloss: 0.0903105\n",
      "[42]\ttraining's binary_logloss: 0.0426518\tvalid_1's binary_logloss: 0.0902802\n",
      "[44]\ttraining's binary_logloss: 0.041287\tvalid_1's binary_logloss: 0.0901521\n",
      "[46]\ttraining's binary_logloss: 0.0399022\tvalid_1's binary_logloss: 0.0899698\n",
      "[48]\ttraining's binary_logloss: 0.0386466\tvalid_1's binary_logloss: 0.0898877\n",
      "[50]\ttraining's binary_logloss: 0.037306\tvalid_1's binary_logloss: 0.0898253\n",
      "Early stopping, best iteration is:\n",
      "[49]\ttraining's binary_logloss: 0.0379548\tvalid_1's binary_logloss: 0.0897952\n"
     ]
    },
    {
     "name": "stderr",
     "output_type": "stream",
     "text": [
      "\n",
      "\n",
      "\n",
      "num_leaves, val_score: 0.088898:  75%|######7  | 15/20 [01:29<00:22,  4.52s/it]\n",
      "\n",
      "\n",
      "num_leaves, val_score: 0.088898:  80%|#######2 | 16/20 [01:29<00:18,  4.65s/it][I 2020-09-16 11:20:46,369] Trial 22 finished with value: 0.08979518901535034 and parameters: {'num_leaves': 102}. Best is trial 18 with value: 0.08889798512968194.\n",
      "\n",
      "\n",
      "\n",
      "num_leaves, val_score: 0.088898:  80%|#######2 | 16/20 [01:29<00:18,  4.65s/it]"
     ]
    },
    {
     "name": "stdout",
     "output_type": "stream",
     "text": [
      "Training until validation scores don't improve for 2 rounds\n",
      "[2]\ttraining's binary_logloss: 0.123836\tvalid_1's binary_logloss: 0.123075\n",
      "[4]\ttraining's binary_logloss: 0.114098\tvalid_1's binary_logloss: 0.11547\n",
      "[6]\ttraining's binary_logloss: 0.10737\tvalid_1's binary_logloss: 0.111029\n",
      "[8]\ttraining's binary_logloss: 0.102107\tvalid_1's binary_logloss: 0.107274\n",
      "[10]\ttraining's binary_logloss: 0.097866\tvalid_1's binary_logloss: 0.104387\n",
      "[12]\ttraining's binary_logloss: 0.0945801\tvalid_1's binary_logloss: 0.102507\n",
      "[14]\ttraining's binary_logloss: 0.0917233\tvalid_1's binary_logloss: 0.100816\n",
      "[16]\ttraining's binary_logloss: 0.0891963\tvalid_1's binary_logloss: 0.0996498\n",
      "[18]\ttraining's binary_logloss: 0.0869964\tvalid_1's binary_logloss: 0.0984787\n",
      "[20]\ttraining's binary_logloss: 0.0849334\tvalid_1's binary_logloss: 0.0973991\n",
      "[22]\ttraining's binary_logloss: 0.0829979\tvalid_1's binary_logloss: 0.096753\n",
      "[24]\ttraining's binary_logloss: 0.0811551\tvalid_1's binary_logloss: 0.0961716\n",
      "[26]\ttraining's binary_logloss: 0.079361\tvalid_1's binary_logloss: 0.0954623\n",
      "[28]\ttraining's binary_logloss: 0.0778427\tvalid_1's binary_logloss: 0.0949763\n",
      "[30]\ttraining's binary_logloss: 0.0763876\tvalid_1's binary_logloss: 0.0945909\n",
      "[32]\ttraining's binary_logloss: 0.0749401\tvalid_1's binary_logloss: 0.0942036\n",
      "[34]\ttraining's binary_logloss: 0.0736397\tvalid_1's binary_logloss: 0.0938612\n",
      "[36]\ttraining's binary_logloss: 0.0724274\tvalid_1's binary_logloss: 0.0938347\n",
      "[38]\ttraining's binary_logloss: 0.0711509\tvalid_1's binary_logloss: 0.0933305\n",
      "[40]\ttraining's binary_logloss: 0.0699629\tvalid_1's binary_logloss: 0.0930201\n",
      "[42]\ttraining's binary_logloss: 0.0688006\tvalid_1's binary_logloss: 0.0927124\n",
      "[44]\ttraining's binary_logloss: 0.0675495\tvalid_1's binary_logloss: 0.0923381\n",
      "[46]\ttraining's binary_logloss: 0.0665867\tvalid_1's binary_logloss: 0.092291\n",
      "[48]\ttraining's binary_logloss: 0.065596\tvalid_1's binary_logloss: 0.0922416\n",
      "[50]\ttraining's binary_logloss: 0.064675\tvalid_1's binary_logloss: 0.0920318\n",
      "[52]\ttraining's binary_logloss: 0.0637987\tvalid_1's binary_logloss: 0.0918762\n",
      "[54]\ttraining's binary_logloss: 0.0629048\tvalid_1's binary_logloss: 0.0917472\n",
      "[56]\ttraining's binary_logloss: 0.0620662\tvalid_1's binary_logloss: 0.0916594\n",
      "[58]\ttraining's binary_logloss: 0.061303\tvalid_1's binary_logloss: 0.0914939\n",
      "[60]\ttraining's binary_logloss: 0.0605025\tvalid_1's binary_logloss: 0.0910754\n",
      "[62]\ttraining's binary_logloss: 0.0597299\tvalid_1's binary_logloss: 0.0909999\n",
      "[64]\ttraining's binary_logloss: 0.0589675\tvalid_1's binary_logloss: 0.0909842\n",
      "[66]\ttraining's binary_logloss: 0.0582704\tvalid_1's binary_logloss: 0.0908324\n",
      "[68]\ttraining's binary_logloss: 0.057505\tvalid_1's binary_logloss: 0.090665\n",
      "[70]\ttraining's binary_logloss: 0.0567803\tvalid_1's binary_logloss: 0.0906218\n",
      "[72]\ttraining's binary_logloss: 0.0560248\tvalid_1's binary_logloss: 0.090364\n",
      "[74]\ttraining's binary_logloss: 0.0553165\tvalid_1's binary_logloss: 0.0902229\n",
      "[76]\ttraining's binary_logloss: 0.054633\tvalid_1's binary_logloss: 0.0901363\n",
      "[78]\ttraining's binary_logloss: 0.0539153\tvalid_1's binary_logloss: 0.0899921\n",
      "[80]\ttraining's binary_logloss: 0.0532702\tvalid_1's binary_logloss: 0.0899808\n",
      "[82]\ttraining's binary_logloss: 0.052688\tvalid_1's binary_logloss: 0.0898461\n",
      "[84]\ttraining's binary_logloss: 0.0519908\tvalid_1's binary_logloss: 0.0898021\n",
      "[86]\ttraining's binary_logloss: 0.0512562\tvalid_1's binary_logloss: 0.089696\n",
      "[88]\ttraining's binary_logloss: 0.0506613\tvalid_1's binary_logloss: 0.0895872\n",
      "[90]\ttraining's binary_logloss: 0.0501326\tvalid_1's binary_logloss: 0.0895241\n",
      "[92]\ttraining's binary_logloss: 0.0495953\tvalid_1's binary_logloss: 0.0895684\n",
      "Early stopping, best iteration is:\n",
      "[90]\ttraining's binary_logloss: 0.0501326\tvalid_1's binary_logloss: 0.0895241\n"
     ]
    },
    {
     "name": "stderr",
     "output_type": "stream",
     "text": [
      "\n",
      "\n",
      "\n",
      "num_leaves, val_score: 0.088898:  80%|#######2 | 16/20 [01:36<00:18,  4.65s/it]\n",
      "\n",
      "\n",
      "num_leaves, val_score: 0.088898:  85%|#######6 | 17/20 [01:36<00:15,  5.22s/it][I 2020-09-16 11:20:52,927] Trial 23 finished with value: 0.08952406772785804 and parameters: {'num_leaves': 37}. Best is trial 18 with value: 0.08889798512968194.\n",
      "\n",
      "\n",
      "\n",
      "num_leaves, val_score: 0.088898:  85%|#######6 | 17/20 [01:36<00:15,  5.22s/it]"
     ]
    },
    {
     "name": "stdout",
     "output_type": "stream",
     "text": [
      "Training until validation scores don't improve for 2 rounds\n",
      "[2]\ttraining's binary_logloss: 0.122255\tvalid_1's binary_logloss: 0.122275\n",
      "[4]\ttraining's binary_logloss: 0.112567\tvalid_1's binary_logloss: 0.115247\n",
      "[6]\ttraining's binary_logloss: 0.105507\tvalid_1's binary_logloss: 0.110863\n",
      "[8]\ttraining's binary_logloss: 0.0998318\tvalid_1's binary_logloss: 0.107081\n",
      "[10]\ttraining's binary_logloss: 0.0953447\tvalid_1's binary_logloss: 0.104475\n",
      "[12]\ttraining's binary_logloss: 0.0916625\tvalid_1's binary_logloss: 0.102685\n",
      "[14]\ttraining's binary_logloss: 0.0886468\tvalid_1's binary_logloss: 0.100906\n",
      "[16]\ttraining's binary_logloss: 0.0858657\tvalid_1's binary_logloss: 0.0999025\n",
      "[18]\ttraining's binary_logloss: 0.0832618\tvalid_1's binary_logloss: 0.0987839\n",
      "[20]\ttraining's binary_logloss: 0.0810819\tvalid_1's binary_logloss: 0.0980005\n",
      "[22]\ttraining's binary_logloss: 0.0790204\tvalid_1's binary_logloss: 0.0972954\n",
      "[24]\ttraining's binary_logloss: 0.0771155\tvalid_1's binary_logloss: 0.0966062\n",
      "[26]\ttraining's binary_logloss: 0.0753734\tvalid_1's binary_logloss: 0.0957819\n",
      "[28]\ttraining's binary_logloss: 0.0736296\tvalid_1's binary_logloss: 0.0950468\n",
      "[30]\ttraining's binary_logloss: 0.0719307\tvalid_1's binary_logloss: 0.0946209\n",
      "[32]\ttraining's binary_logloss: 0.070133\tvalid_1's binary_logloss: 0.0938336\n",
      "[34]\ttraining's binary_logloss: 0.0686028\tvalid_1's binary_logloss: 0.093507\n",
      "[36]\ttraining's binary_logloss: 0.0671822\tvalid_1's binary_logloss: 0.0931086\n",
      "[38]\ttraining's binary_logloss: 0.0658346\tvalid_1's binary_logloss: 0.0927396\n",
      "[40]\ttraining's binary_logloss: 0.0646085\tvalid_1's binary_logloss: 0.0923522\n",
      "[42]\ttraining's binary_logloss: 0.0633303\tvalid_1's binary_logloss: 0.0919753\n",
      "[44]\ttraining's binary_logloss: 0.062097\tvalid_1's binary_logloss: 0.0915568\n",
      "[46]\ttraining's binary_logloss: 0.0610247\tvalid_1's binary_logloss: 0.0912029\n",
      "[48]\ttraining's binary_logloss: 0.0598728\tvalid_1's binary_logloss: 0.0908158\n",
      "[50]\ttraining's binary_logloss: 0.058675\tvalid_1's binary_logloss: 0.0907758\n",
      "Early stopping, best iteration is:\n",
      "[49]\ttraining's binary_logloss: 0.059282\tvalid_1's binary_logloss: 0.0907539\n"
     ]
    },
    {
     "name": "stderr",
     "output_type": "stream",
     "text": [
      "\n",
      "\n",
      "\n",
      "num_leaves, val_score: 0.088898:  85%|#######6 | 17/20 [01:40<00:15,  5.22s/it]\n",
      "\n",
      "\n",
      "num_leaves, val_score: 0.088898:  90%|########1| 18/20 [01:40<00:09,  4.91s/it][I 2020-09-16 11:20:57,097] Trial 24 finished with value: 0.09075391995481935 and parameters: {'num_leaves': 47}. Best is trial 18 with value: 0.08889798512968194.\n",
      "\n",
      "\n",
      "\n",
      "num_leaves, val_score: 0.088898:  90%|########1| 18/20 [01:40<00:09,  4.91s/it]"
     ]
    },
    {
     "name": "stdout",
     "output_type": "stream",
     "text": [
      "Training until validation scores don't improve for 2 rounds\n",
      "[2]\ttraining's binary_logloss: 0.139161\tvalid_1's binary_logloss: 0.134359\n",
      "[4]\ttraining's binary_logloss: 0.134282\tvalid_1's binary_logloss: 0.130268\n",
      "[6]\ttraining's binary_logloss: 0.130605\tvalid_1's binary_logloss: 0.127499\n",
      "[8]\ttraining's binary_logloss: 0.127825\tvalid_1's binary_logloss: 0.124815\n",
      "[10]\ttraining's binary_logloss: 0.125398\tvalid_1's binary_logloss: 0.122855\n",
      "[12]\ttraining's binary_logloss: 0.123577\tvalid_1's binary_logloss: 0.121225\n",
      "[14]\ttraining's binary_logloss: 0.121993\tvalid_1's binary_logloss: 0.119829\n",
      "[16]\ttraining's binary_logloss: 0.12077\tvalid_1's binary_logloss: 0.118656\n",
      "[18]\ttraining's binary_logloss: 0.119583\tvalid_1's binary_logloss: 0.117671\n",
      "[20]\ttraining's binary_logloss: 0.118587\tvalid_1's binary_logloss: 0.116629\n",
      "[22]\ttraining's binary_logloss: 0.117792\tvalid_1's binary_logloss: 0.115832\n",
      "[24]\ttraining's binary_logloss: 0.116983\tvalid_1's binary_logloss: 0.115338\n",
      "[26]\ttraining's binary_logloss: 0.116267\tvalid_1's binary_logloss: 0.114544\n",
      "[28]\ttraining's binary_logloss: 0.115603\tvalid_1's binary_logloss: 0.1142\n",
      "[30]\ttraining's binary_logloss: 0.115001\tvalid_1's binary_logloss: 0.113705\n",
      "[32]\ttraining's binary_logloss: 0.114506\tvalid_1's binary_logloss: 0.113274\n",
      "[34]\ttraining's binary_logloss: 0.113989\tvalid_1's binary_logloss: 0.112929\n",
      "[36]\ttraining's binary_logloss: 0.113551\tvalid_1's binary_logloss: 0.112429\n",
      "[38]\ttraining's binary_logloss: 0.113128\tvalid_1's binary_logloss: 0.112008\n",
      "[40]\ttraining's binary_logloss: 0.112725\tvalid_1's binary_logloss: 0.111619\n",
      "[42]\ttraining's binary_logloss: 0.112411\tvalid_1's binary_logloss: 0.111309\n",
      "[44]\ttraining's binary_logloss: 0.112087\tvalid_1's binary_logloss: 0.111134\n",
      "[46]\ttraining's binary_logloss: 0.111744\tvalid_1's binary_logloss: 0.110921\n",
      "[48]\ttraining's binary_logloss: 0.11148\tvalid_1's binary_logloss: 0.110692\n",
      "[50]\ttraining's binary_logloss: 0.111166\tvalid_1's binary_logloss: 0.110382\n",
      "[52]\ttraining's binary_logloss: 0.110782\tvalid_1's binary_logloss: 0.110124\n",
      "[54]\ttraining's binary_logloss: 0.11055\tvalid_1's binary_logloss: 0.109929\n",
      "[56]\ttraining's binary_logloss: 0.110241\tvalid_1's binary_logloss: 0.109727\n",
      "[58]\ttraining's binary_logloss: 0.109848\tvalid_1's binary_logloss: 0.109376\n",
      "[60]\ttraining's binary_logloss: 0.109638\tvalid_1's binary_logloss: 0.109143\n",
      "[62]\ttraining's binary_logloss: 0.109337\tvalid_1's binary_logloss: 0.108882\n",
      "[64]\ttraining's binary_logloss: 0.109145\tvalid_1's binary_logloss: 0.10873\n",
      "[66]\ttraining's binary_logloss: 0.108936\tvalid_1's binary_logloss: 0.108624\n",
      "[68]\ttraining's binary_logloss: 0.108753\tvalid_1's binary_logloss: 0.108482\n",
      "[70]\ttraining's binary_logloss: 0.108409\tvalid_1's binary_logloss: 0.108192\n",
      "[72]\ttraining's binary_logloss: 0.108203\tvalid_1's binary_logloss: 0.107921\n",
      "[74]\ttraining's binary_logloss: 0.108044\tvalid_1's binary_logloss: 0.107814\n",
      "[76]\ttraining's binary_logloss: 0.107824\tvalid_1's binary_logloss: 0.107585\n",
      "[78]\ttraining's binary_logloss: 0.107635\tvalid_1's binary_logloss: 0.107438\n",
      "[80]\ttraining's binary_logloss: 0.107442\tvalid_1's binary_logloss: 0.10732\n",
      "[82]\ttraining's binary_logloss: 0.1073\tvalid_1's binary_logloss: 0.107182\n",
      "[84]\ttraining's binary_logloss: 0.107115\tvalid_1's binary_logloss: 0.10708\n",
      "[86]\ttraining's binary_logloss: 0.106909\tvalid_1's binary_logloss: 0.106869\n",
      "[88]\ttraining's binary_logloss: 0.10673\tvalid_1's binary_logloss: 0.106654\n",
      "[90]\ttraining's binary_logloss: 0.106594\tvalid_1's binary_logloss: 0.10654\n",
      "[92]\ttraining's binary_logloss: 0.10641\tvalid_1's binary_logloss: 0.106416\n",
      "[94]\ttraining's binary_logloss: 0.106266\tvalid_1's binary_logloss: 0.106307\n",
      "[96]\ttraining's binary_logloss: 0.106099\tvalid_1's binary_logloss: 0.106253\n",
      "[98]\ttraining's binary_logloss: 0.105948\tvalid_1's binary_logloss: 0.106105\n",
      "[100]\ttraining's binary_logloss: 0.105773\tvalid_1's binary_logloss: 0.106039\n",
      "[102]\ttraining's binary_logloss: 0.105593\tvalid_1's binary_logloss: 0.105892\n",
      "[104]\ttraining's binary_logloss: 0.105426\tvalid_1's binary_logloss: 0.10573\n",
      "[106]\ttraining's binary_logloss: 0.105243\tvalid_1's binary_logloss: 0.10551\n",
      "[108]\ttraining's binary_logloss: 0.105079\tvalid_1's binary_logloss: 0.105386\n",
      "[110]\ttraining's binary_logloss: 0.104928\tvalid_1's binary_logloss: 0.105341\n",
      "[112]\ttraining's binary_logloss: 0.10476\tvalid_1's binary_logloss: 0.105247\n",
      "[114]\ttraining's binary_logloss: 0.104653\tvalid_1's binary_logloss: 0.10521\n",
      "[116]\ttraining's binary_logloss: 0.104483\tvalid_1's binary_logloss: 0.105088\n",
      "[118]\ttraining's binary_logloss: 0.104345\tvalid_1's binary_logloss: 0.104959\n",
      "[120]\ttraining's binary_logloss: 0.10423\tvalid_1's binary_logloss: 0.10485\n",
      "[122]\ttraining's binary_logloss: 0.104088\tvalid_1's binary_logloss: 0.104684\n",
      "[124]\ttraining's binary_logloss: 0.10397\tvalid_1's binary_logloss: 0.104543\n",
      "[126]\ttraining's binary_logloss: 0.103856\tvalid_1's binary_logloss: 0.104446\n",
      "[128]\ttraining's binary_logloss: 0.103755\tvalid_1's binary_logloss: 0.104393\n",
      "[130]\ttraining's binary_logloss: 0.103617\tvalid_1's binary_logloss: 0.10431\n",
      "[132]\ttraining's binary_logloss: 0.103473\tvalid_1's binary_logloss: 0.104208\n",
      "[134]\ttraining's binary_logloss: 0.103363\tvalid_1's binary_logloss: 0.104178\n",
      "[136]\ttraining's binary_logloss: 0.103268\tvalid_1's binary_logloss: 0.104134\n",
      "[138]\ttraining's binary_logloss: 0.103169\tvalid_1's binary_logloss: 0.104109\n",
      "[140]\ttraining's binary_logloss: 0.103019\tvalid_1's binary_logloss: 0.103982\n",
      "[142]\ttraining's binary_logloss: 0.102912\tvalid_1's binary_logloss: 0.103909\n",
      "[144]\ttraining's binary_logloss: 0.10276\tvalid_1's binary_logloss: 0.103851\n",
      "[146]\ttraining's binary_logloss: 0.102666\tvalid_1's binary_logloss: 0.103815\n",
      "[148]\ttraining's binary_logloss: 0.102513\tvalid_1's binary_logloss: 0.103672\n",
      "[150]\ttraining's binary_logloss: 0.102353\tvalid_1's binary_logloss: 0.103602\n",
      "[152]\ttraining's binary_logloss: 0.102155\tvalid_1's binary_logloss: 0.103512\n",
      "[154]\ttraining's binary_logloss: 0.102023\tvalid_1's binary_logloss: 0.103449\n",
      "[156]\ttraining's binary_logloss: 0.101827\tvalid_1's binary_logloss: 0.103236\n",
      "[158]\ttraining's binary_logloss: 0.101745\tvalid_1's binary_logloss: 0.103187\n",
      "[160]\ttraining's binary_logloss: 0.101647\tvalid_1's binary_logloss: 0.103069\n",
      "[162]\ttraining's binary_logloss: 0.101512\tvalid_1's binary_logloss: 0.102958\n",
      "[164]\ttraining's binary_logloss: 0.101389\tvalid_1's binary_logloss: 0.102867\n",
      "[166]\ttraining's binary_logloss: 0.101211\tvalid_1's binary_logloss: 0.102731\n",
      "[168]\ttraining's binary_logloss: 0.101013\tvalid_1's binary_logloss: 0.102525\n",
      "[170]\ttraining's binary_logloss: 0.10092\tvalid_1's binary_logloss: 0.10243\n",
      "[172]\ttraining's binary_logloss: 0.100829\tvalid_1's binary_logloss: 0.10239\n",
      "[174]\ttraining's binary_logloss: 0.100703\tvalid_1's binary_logloss: 0.102373\n",
      "[176]\ttraining's binary_logloss: 0.100605\tvalid_1's binary_logloss: 0.102328\n",
      "[178]\ttraining's binary_logloss: 0.100491\tvalid_1's binary_logloss: 0.102253\n",
      "[180]\ttraining's binary_logloss: 0.100362\tvalid_1's binary_logloss: 0.102145\n",
      "[182]\ttraining's binary_logloss: 0.100241\tvalid_1's binary_logloss: 0.102076\n",
      "[184]\ttraining's binary_logloss: 0.10017\tvalid_1's binary_logloss: 0.102041\n",
      "[186]\ttraining's binary_logloss: 0.10006\tvalid_1's binary_logloss: 0.10194\n",
      "[188]\ttraining's binary_logloss: 0.0999307\tvalid_1's binary_logloss: 0.101874\n",
      "[190]\ttraining's binary_logloss: 0.0998239\tvalid_1's binary_logloss: 0.101788\n",
      "[192]\ttraining's binary_logloss: 0.0997554\tvalid_1's binary_logloss: 0.101724\n",
      "[194]\ttraining's binary_logloss: 0.0996352\tvalid_1's binary_logloss: 0.101704\n",
      "[196]\ttraining's binary_logloss: 0.0995696\tvalid_1's binary_logloss: 0.101654\n",
      "[198]\ttraining's binary_logloss: 0.0994857\tvalid_1's binary_logloss: 0.101596\n",
      "[200]\ttraining's binary_logloss: 0.099424\tvalid_1's binary_logloss: 0.101554\n",
      "[202]\ttraining's binary_logloss: 0.0993332\tvalid_1's binary_logloss: 0.101541\n",
      "[204]\ttraining's binary_logloss: 0.0992472\tvalid_1's binary_logloss: 0.10149\n",
      "[206]\ttraining's binary_logloss: 0.0991567\tvalid_1's binary_logloss: 0.101452\n",
      "[208]\ttraining's binary_logloss: 0.0990821\tvalid_1's binary_logloss: 0.101421\n",
      "[210]\ttraining's binary_logloss: 0.098963\tvalid_1's binary_logloss: 0.101339\n",
      "[212]\ttraining's binary_logloss: 0.0988753\tvalid_1's binary_logloss: 0.101296\n"
     ]
    },
    {
     "name": "stdout",
     "output_type": "stream",
     "text": [
      "[214]\ttraining's binary_logloss: 0.0987912\tvalid_1's binary_logloss: 0.101266\n",
      "[216]\ttraining's binary_logloss: 0.0987096\tvalid_1's binary_logloss: 0.101248\n",
      "[218]\ttraining's binary_logloss: 0.098608\tvalid_1's binary_logloss: 0.10124\n",
      "[220]\ttraining's binary_logloss: 0.0985324\tvalid_1's binary_logloss: 0.101216\n",
      "[222]\ttraining's binary_logloss: 0.0984421\tvalid_1's binary_logloss: 0.101119\n",
      "[224]\ttraining's binary_logloss: 0.0983345\tvalid_1's binary_logloss: 0.101039\n",
      "[226]\ttraining's binary_logloss: 0.0982319\tvalid_1's binary_logloss: 0.100989\n",
      "[228]\ttraining's binary_logloss: 0.0981655\tvalid_1's binary_logloss: 0.100982\n",
      "[230]\ttraining's binary_logloss: 0.0980631\tvalid_1's binary_logloss: 0.100891\n",
      "[232]\ttraining's binary_logloss: 0.0979714\tvalid_1's binary_logloss: 0.100838\n",
      "[234]\ttraining's binary_logloss: 0.0978661\tvalid_1's binary_logloss: 0.100761\n",
      "[236]\ttraining's binary_logloss: 0.0977675\tvalid_1's binary_logloss: 0.10071\n",
      "[238]\ttraining's binary_logloss: 0.0976938\tvalid_1's binary_logloss: 0.100622\n",
      "[240]\ttraining's binary_logloss: 0.097593\tvalid_1's binary_logloss: 0.100536\n",
      "[242]\ttraining's binary_logloss: 0.0975203\tvalid_1's binary_logloss: 0.100517\n",
      "[244]\ttraining's binary_logloss: 0.0974416\tvalid_1's binary_logloss: 0.100476\n",
      "[246]\ttraining's binary_logloss: 0.0973512\tvalid_1's binary_logloss: 0.100415\n",
      "Early stopping, best iteration is:\n",
      "[245]\ttraining's binary_logloss: 0.0973823\tvalid_1's binary_logloss: 0.100402\n"
     ]
    },
    {
     "name": "stderr",
     "output_type": "stream",
     "text": [
      "\n",
      "\n",
      "\n",
      "num_leaves, val_score: 0.088898:  90%|########1| 18/20 [01:51<00:09,  4.91s/it]\n",
      "\n",
      "\n",
      "num_leaves, val_score: 0.088898:  95%|########5| 19/20 [01:51<00:06,  6.80s/it][I 2020-09-16 11:21:08,345] Trial 25 finished with value: 0.10040181142899025 and parameters: {'num_leaves': 3}. Best is trial 18 with value: 0.08889798512968194.\n",
      "\n",
      "\n",
      "\n",
      "num_leaves, val_score: 0.088898:  95%|########5| 19/20 [01:51<00:06,  6.80s/it]"
     ]
    },
    {
     "name": "stdout",
     "output_type": "stream",
     "text": [
      "Training until validation scores don't improve for 2 rounds\n",
      "[2]\ttraining's binary_logloss: 0.117312\tvalid_1's binary_logloss: 0.121355\n",
      "[4]\ttraining's binary_logloss: 0.105041\tvalid_1's binary_logloss: 0.113693\n",
      "[6]\ttraining's binary_logloss: 0.0962\tvalid_1's binary_logloss: 0.109088\n",
      "[8]\ttraining's binary_logloss: 0.0893048\tvalid_1's binary_logloss: 0.106205\n",
      "[10]\ttraining's binary_logloss: 0.083122\tvalid_1's binary_logloss: 0.103008\n",
      "[12]\ttraining's binary_logloss: 0.0785924\tvalid_1's binary_logloss: 0.101024\n",
      "[14]\ttraining's binary_logloss: 0.0744921\tvalid_1's binary_logloss: 0.0994837\n",
      "[16]\ttraining's binary_logloss: 0.071033\tvalid_1's binary_logloss: 0.0982147\n",
      "[18]\ttraining's binary_logloss: 0.0677919\tvalid_1's binary_logloss: 0.0972684\n",
      "[20]\ttraining's binary_logloss: 0.0646472\tvalid_1's binary_logloss: 0.0960212\n",
      "[22]\ttraining's binary_logloss: 0.0618014\tvalid_1's binary_logloss: 0.0949896\n",
      "[24]\ttraining's binary_logloss: 0.0591757\tvalid_1's binary_logloss: 0.094182\n",
      "[26]\ttraining's binary_logloss: 0.0567308\tvalid_1's binary_logloss: 0.0934655\n",
      "[28]\ttraining's binary_logloss: 0.0544789\tvalid_1's binary_logloss: 0.0927299\n",
      "[30]\ttraining's binary_logloss: 0.0523042\tvalid_1's binary_logloss: 0.0922434\n",
      "[32]\ttraining's binary_logloss: 0.0501783\tvalid_1's binary_logloss: 0.0918824\n",
      "[34]\ttraining's binary_logloss: 0.0481891\tvalid_1's binary_logloss: 0.0915827\n",
      "[36]\ttraining's binary_logloss: 0.0463736\tvalid_1's binary_logloss: 0.0914005\n",
      "[38]\ttraining's binary_logloss: 0.0447581\tvalid_1's binary_logloss: 0.091067\n",
      "[40]\ttraining's binary_logloss: 0.0430747\tvalid_1's binary_logloss: 0.0907978\n",
      "[42]\ttraining's binary_logloss: 0.0416544\tvalid_1's binary_logloss: 0.0904562\n",
      "[44]\ttraining's binary_logloss: 0.0402125\tvalid_1's binary_logloss: 0.0903862\n",
      "[46]\ttraining's binary_logloss: 0.0388575\tvalid_1's binary_logloss: 0.090259\n",
      "[48]\ttraining's binary_logloss: 0.0375716\tvalid_1's binary_logloss: 0.0903814\n",
      "Early stopping, best iteration is:\n",
      "[46]\ttraining's binary_logloss: 0.0388575\tvalid_1's binary_logloss: 0.090259\n"
     ]
    },
    {
     "name": "stderr",
     "output_type": "stream",
     "text": [
      "\n",
      "\n",
      "\n",
      "num_leaves, val_score: 0.088898:  95%|########5| 19/20 [01:56<00:06,  6.80s/it]\n",
      "\n",
      "\n",
      "num_leaves, val_score: 0.088898: 100%|#########| 20/20 [01:56<00:00,  6.24s/it][I 2020-09-16 11:21:13,256] Trial 26 finished with value: 0.09025899581506681 and parameters: {'num_leaves': 106}. Best is trial 18 with value: 0.08889798512968194.\n",
      "num_leaves, val_score: 0.088898: 100%|#########| 20/20 [01:56<00:00,  5.83s/it]\n",
      "\n",
      "\n",
      "\n",
      "  0%|                                                   | 0/10 [00:00<?, ?it/s]\n",
      "\n",
      "\n",
      "bagging, val_score: 0.088898:   0%|                     | 0/10 [00:00<?, ?it/s][W 2020-09-16 11:21:13,703] Trial 27 failed because of the following error: LightGBMError('Cannot use bagging in GOSS')\n",
      "Traceback (most recent call last):\n",
      "  File \"C:\\Users\\user\\Anaconda4\\lib\\site-packages\\optuna\\study.py\", line 778, in _run_trial\n",
      "    result = func(trial)\n",
      "  File \"C:\\Users\\user\\Anaconda4\\lib\\site-packages\\optuna\\integration\\_lightgbm_tuner\\optimize.py\", line 235, in __call__\n",
      "    booster = lgb.train(self.lgbm_params, self.train_set, **self.lgbm_kwargs)\n",
      "  File \"C:\\Users\\user\\Anaconda4\\lib\\site-packages\\lightgbm\\engine.py\", line 228, in train\n",
      "    booster = Booster(params=params, train_set=train_set)\n",
      "  File \"C:\\Users\\user\\Anaconda4\\lib\\site-packages\\lightgbm\\basic.py\", line 1713, in __init__\n",
      "    _safe_call(_LIB.LGBM_BoosterCreate(\n",
      "  File \"C:\\Users\\user\\Anaconda4\\lib\\site-packages\\lightgbm\\basic.py\", line 45, in _safe_call\n",
      "    raise LightGBMError(decode_string(_LIB.LGBM_GetLastError()))\n",
      "lightgbm.basic.LightGBMError: Cannot use bagging in GOSS\n"
     ]
    },
    {
     "ename": "LightGBMError",
     "evalue": "Cannot use bagging in GOSS",
     "output_type": "error",
     "traceback": [
      "\u001b[1;31m---------------------------------------------------------------------------\u001b[0m",
      "\u001b[1;31mLightGBMError\u001b[0m                             Traceback (most recent call last)",
      "\u001b[1;32m<ipython-input-260-860674d3ebed>\u001b[0m in \u001b[0;36m<module>\u001b[1;34m\u001b[0m\n\u001b[0;32m      6\u001b[0m     }\n\u001b[0;32m      7\u001b[0m \u001b[1;33m\u001b[0m\u001b[0m\n\u001b[1;32m----> 8\u001b[1;33m model = lgb.train(\n\u001b[0m\u001b[0;32m      9\u001b[0m         params, dtrain, valid_sets=[dtrain, dval], verbose_eval=2, early_stopping_rounds=2)\n",
      "\u001b[1;32m~\\Anaconda4\\lib\\site-packages\\optuna\\integration\\_lightgbm_tuner\\__init__.py\u001b[0m in \u001b[0;36mtrain\u001b[1;34m(*args, **kwargs)\u001b[0m\n\u001b[0;32m     31\u001b[0m \u001b[1;33m\u001b[0m\u001b[0m\n\u001b[0;32m     32\u001b[0m     \u001b[0mauto_booster\u001b[0m \u001b[1;33m=\u001b[0m \u001b[0mLightGBMTuner\u001b[0m\u001b[1;33m(\u001b[0m\u001b[1;33m*\u001b[0m\u001b[0margs\u001b[0m\u001b[1;33m,\u001b[0m \u001b[1;33m**\u001b[0m\u001b[0mkwargs\u001b[0m\u001b[1;33m)\u001b[0m\u001b[1;33m\u001b[0m\u001b[1;33m\u001b[0m\u001b[0m\n\u001b[1;32m---> 33\u001b[1;33m     \u001b[0mauto_booster\u001b[0m\u001b[1;33m.\u001b[0m\u001b[0mrun\u001b[0m\u001b[1;33m(\u001b[0m\u001b[1;33m)\u001b[0m\u001b[1;33m\u001b[0m\u001b[1;33m\u001b[0m\u001b[0m\n\u001b[0m\u001b[0;32m     34\u001b[0m     \u001b[1;32mreturn\u001b[0m \u001b[0mauto_booster\u001b[0m\u001b[1;33m.\u001b[0m\u001b[0mget_best_booster\u001b[0m\u001b[1;33m(\u001b[0m\u001b[1;33m)\u001b[0m\u001b[1;33m\u001b[0m\u001b[1;33m\u001b[0m\u001b[0m\n",
      "\u001b[1;32m~\\Anaconda4\\lib\\site-packages\\optuna\\integration\\_lightgbm_tuner\\optimize.py\u001b[0m in \u001b[0;36mrun\u001b[1;34m(self)\u001b[0m\n\u001b[0;32m    474\u001b[0m         \u001b[0mself\u001b[0m\u001b[1;33m.\u001b[0m\u001b[0mtune_feature_fraction\u001b[0m\u001b[1;33m(\u001b[0m\u001b[1;33m)\u001b[0m\u001b[1;33m\u001b[0m\u001b[1;33m\u001b[0m\u001b[0m\n\u001b[0;32m    475\u001b[0m         \u001b[0mself\u001b[0m\u001b[1;33m.\u001b[0m\u001b[0mtune_num_leaves\u001b[0m\u001b[1;33m(\u001b[0m\u001b[1;33m)\u001b[0m\u001b[1;33m\u001b[0m\u001b[1;33m\u001b[0m\u001b[0m\n\u001b[1;32m--> 476\u001b[1;33m         \u001b[0mself\u001b[0m\u001b[1;33m.\u001b[0m\u001b[0mtune_bagging\u001b[0m\u001b[1;33m(\u001b[0m\u001b[1;33m)\u001b[0m\u001b[1;33m\u001b[0m\u001b[1;33m\u001b[0m\u001b[0m\n\u001b[0m\u001b[0;32m    477\u001b[0m         \u001b[0mself\u001b[0m\u001b[1;33m.\u001b[0m\u001b[0mtune_feature_fraction_stage2\u001b[0m\u001b[1;33m(\u001b[0m\u001b[1;33m)\u001b[0m\u001b[1;33m\u001b[0m\u001b[1;33m\u001b[0m\u001b[0m\n\u001b[0;32m    478\u001b[0m         \u001b[0mself\u001b[0m\u001b[1;33m.\u001b[0m\u001b[0mtune_regularization_factors\u001b[0m\u001b[1;33m(\u001b[0m\u001b[1;33m)\u001b[0m\u001b[1;33m\u001b[0m\u001b[1;33m\u001b[0m\u001b[0m\n",
      "\u001b[1;32m~\\Anaconda4\\lib\\site-packages\\optuna\\integration\\_lightgbm_tuner\\optimize.py\u001b[0m in \u001b[0;36mtune_bagging\u001b[1;34m(self, n_trials)\u001b[0m\n\u001b[0;32m    503\u001b[0m \u001b[1;33m\u001b[0m\u001b[0m\n\u001b[0;32m    504\u001b[0m     \u001b[1;32mdef\u001b[0m \u001b[0mtune_bagging\u001b[0m\u001b[1;33m(\u001b[0m\u001b[0mself\u001b[0m\u001b[1;33m,\u001b[0m \u001b[0mn_trials\u001b[0m\u001b[1;33m:\u001b[0m \u001b[0mint\u001b[0m \u001b[1;33m=\u001b[0m \u001b[1;36m10\u001b[0m\u001b[1;33m)\u001b[0m \u001b[1;33m->\u001b[0m \u001b[1;32mNone\u001b[0m\u001b[1;33m:\u001b[0m\u001b[1;33m\u001b[0m\u001b[1;33m\u001b[0m\u001b[0m\n\u001b[1;32m--> 505\u001b[1;33m         self._tune_params(\n\u001b[0m\u001b[0;32m    506\u001b[0m             \u001b[1;33m[\u001b[0m\u001b[1;34m\"bagging_fraction\"\u001b[0m\u001b[1;33m,\u001b[0m \u001b[1;34m\"bagging_freq\"\u001b[0m\u001b[1;33m]\u001b[0m\u001b[1;33m,\u001b[0m \u001b[0mn_trials\u001b[0m\u001b[1;33m,\u001b[0m \u001b[0moptuna\u001b[0m\u001b[1;33m.\u001b[0m\u001b[0msamplers\u001b[0m\u001b[1;33m.\u001b[0m\u001b[0mTPESampler\u001b[0m\u001b[1;33m(\u001b[0m\u001b[1;33m)\u001b[0m\u001b[1;33m,\u001b[0m \u001b[1;34m\"bagging\"\u001b[0m\u001b[1;33m\u001b[0m\u001b[1;33m\u001b[0m\u001b[0m\n\u001b[0;32m    507\u001b[0m         )\n",
      "\u001b[1;32m~\\Anaconda4\\lib\\site-packages\\optuna\\integration\\_lightgbm_tuner\\optimize.py\u001b[0m in \u001b[0;36m_tune_params\u001b[1;34m(self, target_param_names, n_trials, sampler, step_name)\u001b[0m\n\u001b[0;32m    825\u001b[0m     ) -> _OptunaObjective:\n\u001b[0;32m    826\u001b[0m \u001b[1;33m\u001b[0m\u001b[0m\n\u001b[1;32m--> 827\u001b[1;33m         objective = super(LightGBMTuner, self)._tune_params(\n\u001b[0m\u001b[0;32m    828\u001b[0m             \u001b[0mtarget_param_names\u001b[0m\u001b[1;33m,\u001b[0m \u001b[0mn_trials\u001b[0m\u001b[1;33m,\u001b[0m \u001b[0msampler\u001b[0m\u001b[1;33m,\u001b[0m \u001b[0mstep_name\u001b[0m\u001b[1;33m\u001b[0m\u001b[1;33m\u001b[0m\u001b[0m\n\u001b[0;32m    829\u001b[0m         )\n",
      "\u001b[1;32m~\\Anaconda4\\lib\\site-packages\\optuna\\integration\\_lightgbm_tuner\\optimize.py\u001b[0m in \u001b[0;36m_tune_params\u001b[1;34m(self, target_param_names, n_trials, sampler, step_name)\u001b[0m\n\u001b[0;32m    573\u001b[0m             \u001b[0m_timeout\u001b[0m \u001b[1;33m=\u001b[0m \u001b[1;32mNone\u001b[0m\u001b[1;33m\u001b[0m\u001b[1;33m\u001b[0m\u001b[0m\n\u001b[0;32m    574\u001b[0m         \u001b[1;32mif\u001b[0m \u001b[0m_n_trials\u001b[0m \u001b[1;33m>\u001b[0m \u001b[1;36m0\u001b[0m\u001b[1;33m:\u001b[0m\u001b[1;33m\u001b[0m\u001b[1;33m\u001b[0m\u001b[0m\n\u001b[1;32m--> 575\u001b[1;33m             study.optimize(\n\u001b[0m\u001b[0;32m    576\u001b[0m                 \u001b[0mobjective\u001b[0m\u001b[1;33m,\u001b[0m\u001b[1;33m\u001b[0m\u001b[1;33m\u001b[0m\u001b[0m\n\u001b[0;32m    577\u001b[0m                 \u001b[0mn_trials\u001b[0m\u001b[1;33m=\u001b[0m\u001b[0m_n_trials\u001b[0m\u001b[1;33m,\u001b[0m\u001b[1;33m\u001b[0m\u001b[1;33m\u001b[0m\u001b[0m\n",
      "\u001b[1;32m~\\Anaconda4\\lib\\site-packages\\optuna\\study.py\u001b[0m in \u001b[0;36moptimize\u001b[1;34m(self, func, n_trials, timeout, n_jobs, catch, callbacks, gc_after_trial, show_progress_bar)\u001b[0m\n\u001b[0;32m    325\u001b[0m         \u001b[1;32mtry\u001b[0m\u001b[1;33m:\u001b[0m\u001b[1;33m\u001b[0m\u001b[1;33m\u001b[0m\u001b[0m\n\u001b[0;32m    326\u001b[0m             \u001b[1;32mif\u001b[0m \u001b[0mn_jobs\u001b[0m \u001b[1;33m==\u001b[0m \u001b[1;36m1\u001b[0m\u001b[1;33m:\u001b[0m\u001b[1;33m\u001b[0m\u001b[1;33m\u001b[0m\u001b[0m\n\u001b[1;32m--> 327\u001b[1;33m                 self._optimize_sequential(\n\u001b[0m\u001b[0;32m    328\u001b[0m                     \u001b[0mfunc\u001b[0m\u001b[1;33m,\u001b[0m \u001b[0mn_trials\u001b[0m\u001b[1;33m,\u001b[0m \u001b[0mtimeout\u001b[0m\u001b[1;33m,\u001b[0m \u001b[0mcatch\u001b[0m\u001b[1;33m,\u001b[0m \u001b[0mcallbacks\u001b[0m\u001b[1;33m,\u001b[0m \u001b[0mgc_after_trial\u001b[0m\u001b[1;33m,\u001b[0m \u001b[1;32mNone\u001b[0m\u001b[1;33m\u001b[0m\u001b[1;33m\u001b[0m\u001b[0m\n\u001b[0;32m    329\u001b[0m                 )\n",
      "\u001b[1;32m~\\Anaconda4\\lib\\site-packages\\optuna\\study.py\u001b[0m in \u001b[0;36m_optimize_sequential\u001b[1;34m(self, func, n_trials, timeout, catch, callbacks, gc_after_trial, time_start)\u001b[0m\n\u001b[0;32m    724\u001b[0m                     \u001b[1;32mbreak\u001b[0m\u001b[1;33m\u001b[0m\u001b[1;33m\u001b[0m\u001b[0m\n\u001b[0;32m    725\u001b[0m \u001b[1;33m\u001b[0m\u001b[0m\n\u001b[1;32m--> 726\u001b[1;33m             \u001b[0mself\u001b[0m\u001b[1;33m.\u001b[0m\u001b[0m_run_trial_and_callbacks\u001b[0m\u001b[1;33m(\u001b[0m\u001b[0mfunc\u001b[0m\u001b[1;33m,\u001b[0m \u001b[0mcatch\u001b[0m\u001b[1;33m,\u001b[0m \u001b[0mcallbacks\u001b[0m\u001b[1;33m,\u001b[0m \u001b[0mgc_after_trial\u001b[0m\u001b[1;33m)\u001b[0m\u001b[1;33m\u001b[0m\u001b[1;33m\u001b[0m\u001b[0m\n\u001b[0m\u001b[0;32m    727\u001b[0m \u001b[1;33m\u001b[0m\u001b[0m\n\u001b[0;32m    728\u001b[0m             \u001b[0mself\u001b[0m\u001b[1;33m.\u001b[0m\u001b[0m_progress_bar\u001b[0m\u001b[1;33m.\u001b[0m\u001b[0mupdate\u001b[0m\u001b[1;33m(\u001b[0m\u001b[1;33m(\u001b[0m\u001b[0mdatetime\u001b[0m\u001b[1;33m.\u001b[0m\u001b[0mdatetime\u001b[0m\u001b[1;33m.\u001b[0m\u001b[0mnow\u001b[0m\u001b[1;33m(\u001b[0m\u001b[1;33m)\u001b[0m \u001b[1;33m-\u001b[0m \u001b[0mtime_start\u001b[0m\u001b[1;33m)\u001b[0m\u001b[1;33m.\u001b[0m\u001b[0mtotal_seconds\u001b[0m\u001b[1;33m(\u001b[0m\u001b[1;33m)\u001b[0m\u001b[1;33m)\u001b[0m\u001b[1;33m\u001b[0m\u001b[1;33m\u001b[0m\u001b[0m\n",
      "\u001b[1;32m~\\Anaconda4\\lib\\site-packages\\optuna\\study.py\u001b[0m in \u001b[0;36m_run_trial_and_callbacks\u001b[1;34m(self, func, catch, callbacks, gc_after_trial)\u001b[0m\n\u001b[0;32m    753\u001b[0m     ) -> None:\n\u001b[0;32m    754\u001b[0m \u001b[1;33m\u001b[0m\u001b[0m\n\u001b[1;32m--> 755\u001b[1;33m         \u001b[0mtrial\u001b[0m \u001b[1;33m=\u001b[0m \u001b[0mself\u001b[0m\u001b[1;33m.\u001b[0m\u001b[0m_run_trial\u001b[0m\u001b[1;33m(\u001b[0m\u001b[0mfunc\u001b[0m\u001b[1;33m,\u001b[0m \u001b[0mcatch\u001b[0m\u001b[1;33m,\u001b[0m \u001b[0mgc_after_trial\u001b[0m\u001b[1;33m)\u001b[0m\u001b[1;33m\u001b[0m\u001b[1;33m\u001b[0m\u001b[0m\n\u001b[0m\u001b[0;32m    756\u001b[0m         \u001b[1;32mif\u001b[0m \u001b[0mcallbacks\u001b[0m \u001b[1;32mis\u001b[0m \u001b[1;32mnot\u001b[0m \u001b[1;32mNone\u001b[0m\u001b[1;33m:\u001b[0m\u001b[1;33m\u001b[0m\u001b[1;33m\u001b[0m\u001b[0m\n\u001b[0;32m    757\u001b[0m             \u001b[0mfrozen_trial\u001b[0m \u001b[1;33m=\u001b[0m \u001b[0mcopy\u001b[0m\u001b[1;33m.\u001b[0m\u001b[0mdeepcopy\u001b[0m\u001b[1;33m(\u001b[0m\u001b[0mself\u001b[0m\u001b[1;33m.\u001b[0m\u001b[0m_storage\u001b[0m\u001b[1;33m.\u001b[0m\u001b[0mget_trial\u001b[0m\u001b[1;33m(\u001b[0m\u001b[0mtrial\u001b[0m\u001b[1;33m.\u001b[0m\u001b[0m_trial_id\u001b[0m\u001b[1;33m)\u001b[0m\u001b[1;33m)\u001b[0m\u001b[1;33m\u001b[0m\u001b[1;33m\u001b[0m\u001b[0m\n",
      "\u001b[1;32m~\\Anaconda4\\lib\\site-packages\\optuna\\study.py\u001b[0m in \u001b[0;36m_run_trial\u001b[1;34m(self, func, catch, gc_after_trial)\u001b[0m\n\u001b[0;32m    776\u001b[0m \u001b[1;33m\u001b[0m\u001b[0m\n\u001b[0;32m    777\u001b[0m         \u001b[1;32mtry\u001b[0m\u001b[1;33m:\u001b[0m\u001b[1;33m\u001b[0m\u001b[1;33m\u001b[0m\u001b[0m\n\u001b[1;32m--> 778\u001b[1;33m             \u001b[0mresult\u001b[0m \u001b[1;33m=\u001b[0m \u001b[0mfunc\u001b[0m\u001b[1;33m(\u001b[0m\u001b[0mtrial\u001b[0m\u001b[1;33m)\u001b[0m\u001b[1;33m\u001b[0m\u001b[1;33m\u001b[0m\u001b[0m\n\u001b[0m\u001b[0;32m    779\u001b[0m         \u001b[1;32mexcept\u001b[0m \u001b[0mexceptions\u001b[0m\u001b[1;33m.\u001b[0m\u001b[0mTrialPruned\u001b[0m \u001b[1;32mas\u001b[0m \u001b[0me\u001b[0m\u001b[1;33m:\u001b[0m\u001b[1;33m\u001b[0m\u001b[1;33m\u001b[0m\u001b[0m\n\u001b[0;32m    780\u001b[0m             \u001b[0mmessage\u001b[0m \u001b[1;33m=\u001b[0m \u001b[1;34m\"Trial {} pruned. {}\"\u001b[0m\u001b[1;33m.\u001b[0m\u001b[0mformat\u001b[0m\u001b[1;33m(\u001b[0m\u001b[0mtrial_number\u001b[0m\u001b[1;33m,\u001b[0m \u001b[0mstr\u001b[0m\u001b[1;33m(\u001b[0m\u001b[0me\u001b[0m\u001b[1;33m)\u001b[0m\u001b[1;33m)\u001b[0m\u001b[1;33m\u001b[0m\u001b[1;33m\u001b[0m\u001b[0m\n",
      "\u001b[1;32m~\\Anaconda4\\lib\\site-packages\\optuna\\integration\\_lightgbm_tuner\\optimize.py\u001b[0m in \u001b[0;36m__call__\u001b[1;34m(self, trial)\u001b[0m\n\u001b[0;32m    233\u001b[0m \u001b[1;33m\u001b[0m\u001b[0m\n\u001b[0;32m    234\u001b[0m         \u001b[0mstart_time\u001b[0m \u001b[1;33m=\u001b[0m \u001b[0mtime\u001b[0m\u001b[1;33m.\u001b[0m\u001b[0mtime\u001b[0m\u001b[1;33m(\u001b[0m\u001b[1;33m)\u001b[0m\u001b[1;33m\u001b[0m\u001b[1;33m\u001b[0m\u001b[0m\n\u001b[1;32m--> 235\u001b[1;33m         \u001b[0mbooster\u001b[0m \u001b[1;33m=\u001b[0m \u001b[0mlgb\u001b[0m\u001b[1;33m.\u001b[0m\u001b[0mtrain\u001b[0m\u001b[1;33m(\u001b[0m\u001b[0mself\u001b[0m\u001b[1;33m.\u001b[0m\u001b[0mlgbm_params\u001b[0m\u001b[1;33m,\u001b[0m \u001b[0mself\u001b[0m\u001b[1;33m.\u001b[0m\u001b[0mtrain_set\u001b[0m\u001b[1;33m,\u001b[0m \u001b[1;33m**\u001b[0m\u001b[0mself\u001b[0m\u001b[1;33m.\u001b[0m\u001b[0mlgbm_kwargs\u001b[0m\u001b[1;33m)\u001b[0m\u001b[1;33m\u001b[0m\u001b[1;33m\u001b[0m\u001b[0m\n\u001b[0m\u001b[0;32m    236\u001b[0m \u001b[1;33m\u001b[0m\u001b[0m\n\u001b[0;32m    237\u001b[0m         \u001b[0mval_score\u001b[0m \u001b[1;33m=\u001b[0m \u001b[0mself\u001b[0m\u001b[1;33m.\u001b[0m\u001b[0m_get_booster_best_score\u001b[0m\u001b[1;33m(\u001b[0m\u001b[0mbooster\u001b[0m\u001b[1;33m)\u001b[0m\u001b[1;33m\u001b[0m\u001b[1;33m\u001b[0m\u001b[0m\n",
      "\u001b[1;32m~\\Anaconda4\\lib\\site-packages\\lightgbm\\engine.py\u001b[0m in \u001b[0;36mtrain\u001b[1;34m(params, train_set, num_boost_round, valid_sets, valid_names, fobj, feval, init_model, feature_name, categorical_feature, early_stopping_rounds, evals_result, verbose_eval, learning_rates, keep_training_booster, callbacks)\u001b[0m\n\u001b[0;32m    226\u001b[0m     \u001b[1;31m# construct booster\u001b[0m\u001b[1;33m\u001b[0m\u001b[1;33m\u001b[0m\u001b[1;33m\u001b[0m\u001b[0m\n\u001b[0;32m    227\u001b[0m     \u001b[1;32mtry\u001b[0m\u001b[1;33m:\u001b[0m\u001b[1;33m\u001b[0m\u001b[1;33m\u001b[0m\u001b[0m\n\u001b[1;32m--> 228\u001b[1;33m         \u001b[0mbooster\u001b[0m \u001b[1;33m=\u001b[0m \u001b[0mBooster\u001b[0m\u001b[1;33m(\u001b[0m\u001b[0mparams\u001b[0m\u001b[1;33m=\u001b[0m\u001b[0mparams\u001b[0m\u001b[1;33m,\u001b[0m \u001b[0mtrain_set\u001b[0m\u001b[1;33m=\u001b[0m\u001b[0mtrain_set\u001b[0m\u001b[1;33m)\u001b[0m\u001b[1;33m\u001b[0m\u001b[1;33m\u001b[0m\u001b[0m\n\u001b[0m\u001b[0;32m    229\u001b[0m         \u001b[1;32mif\u001b[0m \u001b[0mis_valid_contain_train\u001b[0m\u001b[1;33m:\u001b[0m\u001b[1;33m\u001b[0m\u001b[1;33m\u001b[0m\u001b[0m\n\u001b[0;32m    230\u001b[0m             \u001b[0mbooster\u001b[0m\u001b[1;33m.\u001b[0m\u001b[0mset_train_data_name\u001b[0m\u001b[1;33m(\u001b[0m\u001b[0mtrain_data_name\u001b[0m\u001b[1;33m)\u001b[0m\u001b[1;33m\u001b[0m\u001b[1;33m\u001b[0m\u001b[0m\n",
      "\u001b[1;32m~\\Anaconda4\\lib\\site-packages\\lightgbm\\basic.py\u001b[0m in \u001b[0;36m__init__\u001b[1;34m(self, params, train_set, model_file, model_str, silent)\u001b[0m\n\u001b[0;32m   1711\u001b[0m             \u001b[1;31m# construct booster object\u001b[0m\u001b[1;33m\u001b[0m\u001b[1;33m\u001b[0m\u001b[1;33m\u001b[0m\u001b[0m\n\u001b[0;32m   1712\u001b[0m             \u001b[0mself\u001b[0m\u001b[1;33m.\u001b[0m\u001b[0mhandle\u001b[0m \u001b[1;33m=\u001b[0m \u001b[0mctypes\u001b[0m\u001b[1;33m.\u001b[0m\u001b[0mc_void_p\u001b[0m\u001b[1;33m(\u001b[0m\u001b[1;33m)\u001b[0m\u001b[1;33m\u001b[0m\u001b[1;33m\u001b[0m\u001b[0m\n\u001b[1;32m-> 1713\u001b[1;33m             _safe_call(_LIB.LGBM_BoosterCreate(\n\u001b[0m\u001b[0;32m   1714\u001b[0m                 \u001b[0mtrain_set\u001b[0m\u001b[1;33m.\u001b[0m\u001b[0mconstruct\u001b[0m\u001b[1;33m(\u001b[0m\u001b[1;33m)\u001b[0m\u001b[1;33m.\u001b[0m\u001b[0mhandle\u001b[0m\u001b[1;33m,\u001b[0m\u001b[1;33m\u001b[0m\u001b[1;33m\u001b[0m\u001b[0m\n\u001b[0;32m   1715\u001b[0m                 \u001b[0mc_str\u001b[0m\u001b[1;33m(\u001b[0m\u001b[0mparams_str\u001b[0m\u001b[1;33m)\u001b[0m\u001b[1;33m,\u001b[0m\u001b[1;33m\u001b[0m\u001b[1;33m\u001b[0m\u001b[0m\n",
      "\u001b[1;32m~\\Anaconda4\\lib\\site-packages\\lightgbm\\basic.py\u001b[0m in \u001b[0;36m_safe_call\u001b[1;34m(ret)\u001b[0m\n\u001b[0;32m     43\u001b[0m     \"\"\"\n\u001b[0;32m     44\u001b[0m     \u001b[1;32mif\u001b[0m \u001b[0mret\u001b[0m \u001b[1;33m!=\u001b[0m \u001b[1;36m0\u001b[0m\u001b[1;33m:\u001b[0m\u001b[1;33m\u001b[0m\u001b[1;33m\u001b[0m\u001b[0m\n\u001b[1;32m---> 45\u001b[1;33m         \u001b[1;32mraise\u001b[0m \u001b[0mLightGBMError\u001b[0m\u001b[1;33m(\u001b[0m\u001b[0mdecode_string\u001b[0m\u001b[1;33m(\u001b[0m\u001b[0m_LIB\u001b[0m\u001b[1;33m.\u001b[0m\u001b[0mLGBM_GetLastError\u001b[0m\u001b[1;33m(\u001b[0m\u001b[1;33m)\u001b[0m\u001b[1;33m)\u001b[0m\u001b[1;33m)\u001b[0m\u001b[1;33m\u001b[0m\u001b[1;33m\u001b[0m\u001b[0m\n\u001b[0m\u001b[0;32m     46\u001b[0m \u001b[1;33m\u001b[0m\u001b[0m\n\u001b[0;32m     47\u001b[0m \u001b[1;33m\u001b[0m\u001b[0m\n",
      "\u001b[1;31mLightGBMError\u001b[0m: Cannot use bagging in GOSS"
     ]
    }
   ],
   "source": [
    "params = {\n",
    "        \"objective\": \"binary\",\n",
    "        \"metric\": \"binary_logloss\",\n",
    "        \"verbosity\": -1,\n",
    "        \"boosting_type\": \"goss\",\n",
    "    }\n",
    "\n",
    "model = lgb.train(\n",
    "        params, dtrain, valid_sets=[dtrain, dval], verbose_eval=2, early_stopping_rounds=2)"
   ]
  },
  {
   "cell_type": "code",
   "execution_count": 160,
   "metadata": {},
   "outputs": [
    {
     "name": "stdout",
     "output_type": "stream",
     "text": [
      "Best params: {'objective': 'binary', 'metric': 'binary_logloss', 'verbosity': -1, 'boosting_type': 'gbdt', 'feature_pre_filter': False, 'lambda_l1': 1.1223456089014623e-08, 'lambda_l2': 1.447432290967618e-08, 'num_leaves': 31, 'feature_fraction': 0.8999999999999999, 'bagging_fraction': 1.0, 'bagging_freq': 0, 'min_child_samples': 20}\n",
      "  Accuracy = 0.975002499750025\n",
      "  Params: \n"
     ]
    }
   ],
   "source": [
    "prediction = np.rint(model.predict(x_valid, num_iteration=model.best_iteration))\n",
    "accuracy = accuracy_score(y_valid, prediction)\n",
    "\n",
    "best_params = model.params\n",
    "print(\"Best params:\", best_params)\n",
    "print(\"  Accuracy = {}\".format(accuracy))\n",
    "print(\"  Params: \")"
   ]
  },
  {
   "cell_type": "code",
   "execution_count": 161,
   "metadata": {},
   "outputs": [
    {
     "name": "stdout",
     "output_type": "stream",
     "text": [
      "Confusion Matrix :\n",
      "[[9637   20]\n",
      " [ 230  114]]\n"
     ]
    }
   ],
   "source": [
    "results = confusion_matrix(y_valid, prediction) \n",
    "\n",
    "print('Confusion Matrix :')\n",
    "print(results) "
   ]
  },
  {
   "cell_type": "code",
   "execution_count": 206,
   "metadata": {},
   "outputs": [
    {
     "data": {
      "text/plain": [
       "LGBMClassifier(bagging_fraction=1.0, bagging_freq=0,\n",
       "               feature_fraction=0.8999999999999999, feature_pre_filter=False,\n",
       "               lambda_l1=1.1223456089014623e-08,\n",
       "               lambda_l2=1.447432290967618e-08, metric='binary_logloss',\n",
       "               objective='binary', verbosity=-1)"
      ]
     },
     "execution_count": 206,
     "metadata": {},
     "output_type": "execute_result"
    }
   ],
   "source": [
    "model_n = LGBMClassifier(objective= 'binary', metric= 'binary_logloss', verbosity= -1, boosting_type= 'gbdt',\n",
    "                       feature_pre_filter= False, lambda_l1= 1.1223456089014623e-08, \n",
    "                       lambda_l2= 1.447432290967618e-08, num_leaves= 31, feature_fraction= 0.8999999999999999,\n",
    "                       bagging_fraction= 1.0, bagging_freq = 0,min_child_samples= 20)\n",
    "model_n.fit(x_train, y_train)"
   ]
  },
  {
   "cell_type": "code",
   "execution_count": 207,
   "metadata": {},
   "outputs": [
    {
     "data": {
      "text/plain": [
       "Index(['card4_1', 'ProductCD_0', 'ProductCD_0', 'ProductCD_0', 'M6_2', 'M1_0',\n",
       "       'M6_1', 'ProductCD_2', 'M7_1', 'M1_1',\n",
       "       ...\n",
       "       'ProductCD_0', 'ProductCD_1', 'ProductCD_0', 'ProductCD_0',\n",
       "       'ProductCD_0', 'ProductCD_0', 'ProductCD_0', 'ProductCD_2',\n",
       "       'ProductCD_0', 'ProductCD_0'],\n",
       "      dtype='object', name='Variable', length=1222)"
      ]
     },
     "execution_count": 207,
     "metadata": {},
     "output_type": "execute_result"
    }
   ],
   "source": [
    "litraincolOrg[model_n.feature_importances_]"
   ]
  },
  {
   "cell_type": "code",
   "execution_count": 208,
   "metadata": {},
   "outputs": [
    {
     "data": {
      "image/png": "[encoded data removed]",
      "text/plain": [
       "<Figure size 1080x1296 with 1 Axes>"
      ]
     },
     "metadata": {
      "needs_background": "light"
     },
     "output_type": "display_data"
    }
   ],
   "source": [
    "fi=pd.DataFrame({'cols' : litraincolOrg, 'imp' : model_n.feature_importances_})\n",
    "fi = fi.sort_values('imp', ascending=False)\n",
    "top_50 = fi[0:50]\n",
    "top_50 = top_50.sort_values('imp', ascending=True)\n",
    "# Plot the bar chart\n",
    "top_50.plot(x='cols', kind='barh' , figsize=(15,18))\n",
    "plt.show()"
   ]
  },
  {
   "cell_type": "markdown",
   "metadata": {},
   "source": [
    "##### Reducing stopping rounds"
   ]
  },
  {
   "cell_type": "code",
   "execution_count": 164,
   "metadata": {},
   "outputs": [
    {
     "name": "stderr",
     "output_type": "stream",
     "text": [
      "[I 2020-09-15 23:12:56,960] A new study created in memory with name: no-name-fb355c3b-becc-4b1e-b2ff-cde685a975b5\n",
      "\n",
      "\n",
      "\n",
      "  0%|                                                    | 0/7 [00:00<?, ?it/s]\n",
      "\n",
      "\n",
      "feature_fraction, val_score: inf:   0%|                  | 0/7 [00:00<?, ?it/s]"
     ]
    },
    {
     "name": "stdout",
     "output_type": "stream",
     "text": [
      "Training until validation scores don't improve for 50 rounds\n",
      "[50]\ttraining's binary_logloss: 0.0683267\tvalid_1's binary_logloss: 0.0920429\n",
      "[100]\ttraining's binary_logloss: 0.0514156\tvalid_1's binary_logloss: 0.089539\n",
      "[150]\ttraining's binary_logloss: 0.0409959\tvalid_1's binary_logloss: 0.0890056\n",
      "Early stopping, best iteration is:\n",
      "[138]\ttraining's binary_logloss: 0.0429458\tvalid_1's binary_logloss: 0.0889227\n"
     ]
    },
    {
     "name": "stderr",
     "output_type": "stream",
     "text": [
      "\n",
      "\n",
      "\n",
      "feature_fraction, val_score: 0.088923:   0%|             | 0/7 [00:07<?, ?it/s]\n",
      "\n",
      "\n",
      "feature_fraction, val_score: 0.088923:  14%|7    | 1/7 [00:07<00:44,  7.40s/it][I 2020-09-15 23:13:04,422] Trial 0 finished with value: 0.0889227468724072 and parameters: {'feature_fraction': 0.7}. Best is trial 0 with value: 0.0889227468724072.\n",
      "\n",
      "\n",
      "\n",
      "feature_fraction, val_score: 0.088923:  14%|7    | 1/7 [00:07<00:44,  7.40s/it]"
     ]
    },
    {
     "name": "stdout",
     "output_type": "stream",
     "text": [
      "Training until validation scores don't improve for 50 rounds\n",
      "[50]\ttraining's binary_logloss: 0.0691322\tvalid_1's binary_logloss: 0.0921854\n",
      "[100]\ttraining's binary_logloss: 0.0522626\tvalid_1's binary_logloss: 0.0903024\n",
      "[150]\ttraining's binary_logloss: 0.0422469\tvalid_1's binary_logloss: 0.0890732\n",
      "[200]\ttraining's binary_logloss: 0.0347046\tvalid_1's binary_logloss: 0.0890083\n",
      "Early stopping, best iteration is:\n",
      "[193]\ttraining's binary_logloss: 0.0355686\tvalid_1's binary_logloss: 0.088899\n"
     ]
    },
    {
     "name": "stderr",
     "output_type": "stream",
     "text": [
      "\n",
      "\n",
      "\n",
      "feature_fraction, val_score: 0.088899:  14%|7    | 1/7 [00:16<00:44,  7.40s/it]\n",
      "\n",
      "\n",
      "feature_fraction, val_score: 0.088899:  29%|#4   | 2/7 [00:16<00:39,  7.97s/it][I 2020-09-15 23:13:13,696] Trial 1 finished with value: 0.08889895255437336 and parameters: {'feature_fraction': 0.6}. Best is trial 1 with value: 0.08889895255437336.\n",
      "\n",
      "\n",
      "\n",
      "feature_fraction, val_score: 0.088899:  29%|#4   | 2/7 [00:16<00:39,  7.97s/it]"
     ]
    },
    {
     "name": "stdout",
     "output_type": "stream",
     "text": [
      "Training until validation scores don't improve for 50 rounds\n",
      "[50]\ttraining's binary_logloss: 0.0703431\tvalid_1's binary_logloss: 0.0928868\n",
      "[100]\ttraining's binary_logloss: 0.0537425\tvalid_1's binary_logloss: 0.0900071\n",
      "[150]\ttraining's binary_logloss: 0.0437951\tvalid_1's binary_logloss: 0.0892938\n",
      "[200]\ttraining's binary_logloss: 0.0360924\tvalid_1's binary_logloss: 0.0891362\n",
      "Early stopping, best iteration is:\n",
      "[156]\ttraining's binary_logloss: 0.0426508\tvalid_1's binary_logloss: 0.0888423\n"
     ]
    },
    {
     "name": "stderr",
     "output_type": "stream",
     "text": [
      "\n",
      "\n",
      "\n",
      "feature_fraction, val_score: 0.088842:  29%|#4   | 2/7 [00:23<00:39,  7.97s/it]\n",
      "\n",
      "\n",
      "feature_fraction, val_score: 0.088842:  43%|##1  | 3/7 [00:23<00:30,  7.58s/it][I 2020-09-15 23:13:20,359] Trial 2 finished with value: 0.08884226256685838 and parameters: {'feature_fraction': 0.4}. Best is trial 2 with value: 0.08884226256685838.\n",
      "\n",
      "\n",
      "\n",
      "feature_fraction, val_score: 0.088842:  43%|##1  | 3/7 [00:23<00:30,  7.58s/it]"
     ]
    },
    {
     "name": "stdout",
     "output_type": "stream",
     "text": [
      "Training until validation scores don't improve for 50 rounds\n",
      "[50]\ttraining's binary_logloss: 0.0667918\tvalid_1's binary_logloss: 0.0922138\n",
      "[100]\ttraining's binary_logloss: 0.050197\tvalid_1's binary_logloss: 0.0898831\n",
      "[150]\ttraining's binary_logloss: 0.0395831\tvalid_1's binary_logloss: 0.0903764\n",
      "Early stopping, best iteration is:\n",
      "[115]\ttraining's binary_logloss: 0.0466093\tvalid_1's binary_logloss: 0.0897472\n"
     ]
    },
    {
     "name": "stderr",
     "output_type": "stream",
     "text": [
      "\n",
      "\n",
      "\n",
      "feature_fraction, val_score: 0.088842:  43%|##1  | 3/7 [00:31<00:30,  7.58s/it]\n",
      "\n",
      "\n",
      "feature_fraction, val_score: 0.088842:  57%|##8  | 4/7 [00:31<00:22,  7.66s/it][I 2020-09-15 23:13:28,208] Trial 3 finished with value: 0.0897472213078895 and parameters: {'feature_fraction': 1.0}. Best is trial 2 with value: 0.08884226256685838.\n",
      "\n",
      "\n",
      "\n",
      "feature_fraction, val_score: 0.088842:  57%|##8  | 4/7 [00:31<00:22,  7.66s/it]"
     ]
    },
    {
     "name": "stdout",
     "output_type": "stream",
     "text": [
      "Training until validation scores don't improve for 50 rounds\n",
      "[50]\ttraining's binary_logloss: 0.0690809\tvalid_1's binary_logloss: 0.0931096\n",
      "[100]\ttraining's binary_logloss: 0.0523114\tvalid_1's binary_logloss: 0.0901961\n",
      "[150]\ttraining's binary_logloss: 0.0418373\tvalid_1's binary_logloss: 0.0897241\n",
      "[200]\ttraining's binary_logloss: 0.0349862\tvalid_1's binary_logloss: 0.0897997\n",
      "Early stopping, best iteration is:\n",
      "[190]\ttraining's binary_logloss: 0.0362217\tvalid_1's binary_logloss: 0.089393\n"
     ]
    },
    {
     "name": "stderr",
     "output_type": "stream",
     "text": [
      "\n",
      "\n",
      "\n",
      "feature_fraction, val_score: 0.088842:  57%|##8  | 4/7 [00:38<00:22,  7.66s/it]\n",
      "\n",
      "\n",
      "feature_fraction, val_score: 0.088842:  71%|###5 | 5/7 [00:38<00:15,  7.69s/it][I 2020-09-15 23:13:35,961] Trial 4 finished with value: 0.08939299053689721 and parameters: {'feature_fraction': 0.5}. Best is trial 2 with value: 0.08884226256685838.\n",
      "\n",
      "\n",
      "\n",
      "feature_fraction, val_score: 0.088842:  71%|###5 | 5/7 [00:38<00:15,  7.69s/it]"
     ]
    },
    {
     "name": "stdout",
     "output_type": "stream",
     "text": [
      "Training until validation scores don't improve for 50 rounds\n",
      "[50]\ttraining's binary_logloss: 0.0675591\tvalid_1's binary_logloss: 0.0921725\n",
      "[100]\ttraining's binary_logloss: 0.0510591\tvalid_1's binary_logloss: 0.0900227\n",
      "[150]\ttraining's binary_logloss: 0.0399227\tvalid_1's binary_logloss: 0.0904098\n",
      "Early stopping, best iteration is:\n",
      "[107]\ttraining's binary_logloss: 0.0492248\tvalid_1's binary_logloss: 0.089894\n"
     ]
    },
    {
     "name": "stderr",
     "output_type": "stream",
     "text": [
      "\n",
      "\n",
      "\n",
      "feature_fraction, val_score: 0.088842:  71%|###5 | 5/7 [00:45<00:15,  7.69s/it]\n",
      "\n",
      "\n",
      "feature_fraction, val_score: 0.088842:  86%|####2| 6/7 [00:45<00:07,  7.44s/it][I 2020-09-15 23:13:42,812] Trial 5 finished with value: 0.08989395065914015 and parameters: {'feature_fraction': 0.8}. Best is trial 2 with value: 0.08884226256685838.\n",
      "\n",
      "\n",
      "\n",
      "feature_fraction, val_score: 0.088842:  86%|####2| 6/7 [00:45<00:07,  7.44s/it]"
     ]
    },
    {
     "name": "stdout",
     "output_type": "stream",
     "text": [
      "Training until validation scores don't improve for 50 rounds\n",
      "[50]\ttraining's binary_logloss: 0.0670257\tvalid_1's binary_logloss: 0.0918441\n",
      "[100]\ttraining's binary_logloss: 0.050121\tvalid_1's binary_logloss: 0.0885999\n",
      "[150]\ttraining's binary_logloss: 0.0393542\tvalid_1's binary_logloss: 0.087632\n",
      "[200]\ttraining's binary_logloss: 0.0322736\tvalid_1's binary_logloss: 0.0877205\n",
      "Early stopping, best iteration is:\n",
      "[171]\ttraining's binary_logloss: 0.0359583\tvalid_1's binary_logloss: 0.0874136\n"
     ]
    },
    {
     "name": "stderr",
     "output_type": "stream",
     "text": [
      "\n",
      "\n",
      "\n",
      "feature_fraction, val_score: 0.087414:  86%|####2| 6/7 [00:54<00:07,  7.44s/it]\n",
      "\n",
      "\n",
      "feature_fraction, val_score: 0.087414: 100%|#####| 7/7 [00:54<00:00,  7.68s/it][I 2020-09-15 23:13:51,054] Trial 6 finished with value: 0.08741361883365037 and parameters: {'feature_fraction': 0.8999999999999999}. Best is trial 6 with value: 0.08741361883365037.\n",
      "feature_fraction, val_score: 0.087414: 100%|#####| 7/7 [00:54<00:00,  7.72s/it]\n",
      "\n",
      "\n",
      "\n",
      "  0%|                                                   | 0/20 [00:00<?, ?it/s]\n",
      "\n",
      "\n",
      "num_leaves, val_score: 0.087414:   0%|                  | 0/20 [00:00<?, ?it/s]"
     ]
    },
    {
     "name": "stdout",
     "output_type": "stream",
     "text": [
      "Training until validation scores don't improve for 50 rounds\n",
      "[50]\ttraining's binary_logloss: 0.0577905\tvalid_1's binary_logloss: 0.0907518\n",
      "[100]\ttraining's binary_logloss: 0.0399751\tvalid_1's binary_logloss: 0.08971\n",
      "[150]\ttraining's binary_logloss: 0.0294812\tvalid_1's binary_logloss: 0.090133\n",
      "Early stopping, best iteration is:\n",
      "[114]\ttraining's binary_logloss: 0.0365214\tvalid_1's binary_logloss: 0.0895628\n"
     ]
    },
    {
     "name": "stderr",
     "output_type": "stream",
     "text": [
      "\n",
      "\n",
      "\n",
      "num_leaves, val_score: 0.087414:   0%|                  | 0/20 [00:07<?, ?it/s]\n",
      "\n",
      "\n",
      "num_leaves, val_score: 0.087414:   5%|5         | 1/20 [00:07<02:31,  7.97s/it][I 2020-09-15 23:13:59,046] Trial 7 finished with value: 0.089562827010829 and parameters: {'num_leaves': 44}. Best is trial 7 with value: 0.089562827010829.\n",
      "\n",
      "\n",
      "\n",
      "num_leaves, val_score: 0.087414:   5%|5         | 1/20 [00:07<02:31,  7.97s/it]"
     ]
    },
    {
     "name": "stdout",
     "output_type": "stream",
     "text": [
      "Training until validation scores don't improve for 50 rounds\n",
      "[50]\ttraining's binary_logloss: 0.0640651\tvalid_1's binary_logloss: 0.0913027\n",
      "[100]\ttraining's binary_logloss: 0.0470492\tvalid_1's binary_logloss: 0.0889118\n",
      "[150]\ttraining's binary_logloss: 0.0363966\tvalid_1's binary_logloss: 0.0886291\n",
      "Early stopping, best iteration is:\n",
      "[136]\ttraining's binary_logloss: 0.0388728\tvalid_1's binary_logloss: 0.0885151\n"
     ]
    },
    {
     "name": "stderr",
     "output_type": "stream",
     "text": [
      "\n",
      "\n",
      "\n",
      "num_leaves, val_score: 0.087414:   5%|5         | 1/20 [00:15<02:31,  7.97s/it]\n",
      "\n",
      "\n",
      "num_leaves, val_score: 0.087414:  10%|#         | 2/20 [00:15<02:18,  7.72s/it][I 2020-09-15 23:14:06,179] Trial 8 finished with value: 0.08851507413958028 and parameters: {'num_leaves': 35}. Best is trial 8 with value: 0.08851507413958028.\n",
      "\n",
      "\n",
      "\n",
      "num_leaves, val_score: 0.087414:  10%|#         | 2/20 [00:15<02:18,  7.72s/it]"
     ]
    },
    {
     "name": "stdout",
     "output_type": "stream",
     "text": [
      "Training until validation scores don't improve for 50 rounds\n",
      "[50]\ttraining's binary_logloss: 0.0253074\tvalid_1's binary_logloss: 0.0940003\n",
      "Early stopping, best iteration is:\n",
      "[38]\ttraining's binary_logloss: 0.0333002\tvalid_1's binary_logloss: 0.0934078\n"
     ]
    },
    {
     "name": "stderr",
     "output_type": "stream",
     "text": [
      "\n",
      "\n",
      "\n",
      "num_leaves, val_score: 0.087414:  10%|#         | 2/20 [00:21<02:18,  7.72s/it]\n",
      "\n",
      "\n",
      "num_leaves, val_score: 0.087414:  15%|#5        | 3/20 [00:21<02:05,  7.41s/it][I 2020-09-15 23:14:12,859] Trial 9 finished with value: 0.0934078036759455 and parameters: {'num_leaves': 146}. Best is trial 8 with value: 0.08851507413958028.\n",
      "\n",
      "\n",
      "\n",
      "num_leaves, val_score: 0.087414:  15%|#5        | 3/20 [00:21<02:05,  7.41s/it]"
     ]
    },
    {
     "name": "stdout",
     "output_type": "stream",
     "text": [
      "Training until validation scores don't improve for 50 rounds\n",
      "[50]\ttraining's binary_logloss: 0.0164858\tvalid_1's binary_logloss: 0.0968493\n",
      "Early stopping, best iteration is:\n",
      "[29]\ttraining's binary_logloss: 0.0325801\tvalid_1's binary_logloss: 0.0932131\n"
     ]
    },
    {
     "name": "stderr",
     "output_type": "stream",
     "text": [
      "\n",
      "\n",
      "\n",
      "num_leaves, val_score: 0.087414:  15%|#5        | 3/20 [00:30<02:05,  7.41s/it]\n",
      "\n",
      "\n",
      "num_leaves, val_score: 0.087414:  20%|##        | 4/20 [00:30<02:03,  7.75s/it][I 2020-09-15 23:14:21,404] Trial 10 finished with value: 0.0932131342190916 and parameters: {'num_leaves': 219}. Best is trial 8 with value: 0.08851507413958028.\n",
      "\n",
      "\n",
      "\n",
      "num_leaves, val_score: 0.087414:  20%|##        | 4/20 [00:30<02:03,  7.75s/it]"
     ]
    },
    {
     "name": "stdout",
     "output_type": "stream",
     "text": [
      "Training until validation scores don't improve for 50 rounds\n",
      "[50]\ttraining's binary_logloss: 0.118397\tvalid_1's binary_logloss: 0.116565\n",
      "[100]\ttraining's binary_logloss: 0.113903\tvalid_1's binary_logloss: 0.112634\n",
      "[150]\ttraining's binary_logloss: 0.111479\tvalid_1's binary_logloss: 0.11043\n",
      "[200]\ttraining's binary_logloss: 0.109723\tvalid_1's binary_logloss: 0.108884\n",
      "[250]\ttraining's binary_logloss: 0.108343\tvalid_1's binary_logloss: 0.107622\n",
      "[300]\ttraining's binary_logloss: 0.107219\tvalid_1's binary_logloss: 0.106642\n",
      "[350]\ttraining's binary_logloss: 0.10628\tvalid_1's binary_logloss: 0.105898\n",
      "[400]\ttraining's binary_logloss: 0.10548\tvalid_1's binary_logloss: 0.105109\n",
      "[450]\ttraining's binary_logloss: 0.104787\tvalid_1's binary_logloss: 0.104542\n",
      "[500]\ttraining's binary_logloss: 0.104179\tvalid_1's binary_logloss: 0.103998\n",
      "[550]\ttraining's binary_logloss: 0.10364\tvalid_1's binary_logloss: 0.103654\n",
      "[600]\ttraining's binary_logloss: 0.103156\tvalid_1's binary_logloss: 0.1033\n",
      "[650]\ttraining's binary_logloss: 0.102718\tvalid_1's binary_logloss: 0.102978\n",
      "[700]\ttraining's binary_logloss: 0.102322\tvalid_1's binary_logloss: 0.102759\n",
      "[750]\ttraining's binary_logloss: 0.101959\tvalid_1's binary_logloss: 0.102482\n",
      "[800]\ttraining's binary_logloss: 0.101628\tvalid_1's binary_logloss: 0.102287\n",
      "[850]\ttraining's binary_logloss: 0.101322\tvalid_1's binary_logloss: 0.102087\n",
      "[900]\ttraining's binary_logloss: 0.101036\tvalid_1's binary_logloss: 0.101932\n",
      "[950]\ttraining's binary_logloss: 0.100769\tvalid_1's binary_logloss: 0.101751\n",
      "[1000]\ttraining's binary_logloss: 0.100521\tvalid_1's binary_logloss: 0.10162\n",
      "Did not meet early stopping. Best iteration is:\n",
      "[1000]\ttraining's binary_logloss: 0.100521\tvalid_1's binary_logloss: 0.10162\n"
     ]
    },
    {
     "name": "stderr",
     "output_type": "stream",
     "text": [
      "\n",
      "\n",
      "\n",
      "num_leaves, val_score: 0.087414:  20%|##        | 4/20 [00:51<02:03,  7.75s/it]\n",
      "\n",
      "\n",
      "num_leaves, val_score: 0.087414:  25%|##5       | 5/20 [00:51<02:56, 11.74s/it][I 2020-09-15 23:14:42,473] Trial 11 finished with value: 0.10162047836583452 and parameters: {'num_leaves': 2}. Best is trial 8 with value: 0.08851507413958028.\n",
      "\n",
      "\n",
      "\n",
      "num_leaves, val_score: 0.087414:  25%|##5       | 5/20 [00:51<02:56, 11.74s/it]"
     ]
    },
    {
     "name": "stdout",
     "output_type": "stream",
     "text": [
      "Training until validation scores don't improve for 50 rounds\n",
      "[50]\ttraining's binary_logloss: 0.0450169\tvalid_1's binary_logloss: 0.0901582\n",
      "[100]\ttraining's binary_logloss: 0.0268297\tvalid_1's binary_logloss: 0.0916391\n",
      "Early stopping, best iteration is:\n",
      "[63]\ttraining's binary_logloss: 0.0386474\tvalid_1's binary_logloss: 0.0900311\n"
     ]
    },
    {
     "name": "stderr",
     "output_type": "stream",
     "text": [
      "\n",
      "\n",
      "\n",
      "num_leaves, val_score: 0.087414:  25%|##5       | 5/20 [00:59<02:56, 11.74s/it]\n",
      "\n",
      "\n",
      "num_leaves, val_score: 0.087414:  30%|###       | 6/20 [00:59<02:30, 10.77s/it][I 2020-09-15 23:14:50,983] Trial 12 finished with value: 0.0900310906318498 and parameters: {'num_leaves': 70}. Best is trial 8 with value: 0.08851507413958028.\n",
      "\n",
      "\n",
      "\n",
      "num_leaves, val_score: 0.087414:  30%|###       | 6/20 [00:59<02:30, 10.77s/it]"
     ]
    },
    {
     "name": "stdout",
     "output_type": "stream",
     "text": [
      "Training until validation scores don't improve for 50 rounds\n",
      "[50]\ttraining's binary_logloss: 0.0306653\tvalid_1's binary_logloss: 0.0908157\n",
      "[100]\ttraining's binary_logloss: 0.0136455\tvalid_1's binary_logloss: 0.0971149\n",
      "Early stopping, best iteration is:\n",
      "[54]\ttraining's binary_logloss: 0.0285616\tvalid_1's binary_logloss: 0.0906602\n"
     ]
    },
    {
     "name": "stderr",
     "output_type": "stream",
     "text": [
      "\n",
      "\n",
      "\n",
      "num_leaves, val_score: 0.087414:  30%|###       | 6/20 [01:07<02:30, 10.77s/it]\n",
      "\n",
      "\n",
      "num_leaves, val_score: 0.087414:  35%|###5      | 7/20 [01:07<02:06,  9.69s/it][I 2020-09-15 23:14:58,153] Trial 13 finished with value: 0.0906601954000841 and parameters: {'num_leaves': 118}. Best is trial 8 with value: 0.08851507413958028.\n",
      "\n",
      "\n",
      "\n",
      "num_leaves, val_score: 0.087414:  35%|###5      | 7/20 [01:07<02:06,  9.69s/it]"
     ]
    },
    {
     "name": "stdout",
     "output_type": "stream",
     "text": [
      "Training until validation scores don't improve for 50 rounds\n",
      "[50]\ttraining's binary_logloss: 0.0842908\tvalid_1's binary_logloss: 0.0959892\n",
      "[100]\ttraining's binary_logloss: 0.0707642\tvalid_1's binary_logloss: 0.092314\n",
      "[150]\ttraining's binary_logloss: 0.0617295\tvalid_1's binary_logloss: 0.0908588\n",
      "[200]\ttraining's binary_logloss: 0.0546663\tvalid_1's binary_logloss: 0.0904864\n",
      "[250]\ttraining's binary_logloss: 0.0484422\tvalid_1's binary_logloss: 0.0898665\n",
      "Early stopping, best iteration is:\n",
      "[240]\ttraining's binary_logloss: 0.0496208\tvalid_1's binary_logloss: 0.0897576\n"
     ]
    },
    {
     "name": "stderr",
     "output_type": "stream",
     "text": [
      "\n",
      "\n",
      "\n",
      "num_leaves, val_score: 0.087414:  35%|###5      | 7/20 [01:16<02:06,  9.69s/it]\n",
      "\n",
      "\n",
      "num_leaves, val_score: 0.087414:  40%|####      | 8/20 [01:16<01:56,  9.71s/it][I 2020-09-15 23:15:07,911] Trial 14 finished with value: 0.08975755793901376 and parameters: {'num_leaves': 15}. Best is trial 8 with value: 0.08851507413958028.\n",
      "\n",
      "\n",
      "\n",
      "num_leaves, val_score: 0.087414:  40%|####      | 8/20 [01:16<01:56,  9.71s/it]"
     ]
    },
    {
     "name": "stdout",
     "output_type": "stream",
     "text": [
      "Training until validation scores don't improve for 50 rounds\n",
      "[50]\ttraining's binary_logloss: 0.0341072\tvalid_1's binary_logloss: 0.0908689\n",
      "Early stopping, best iteration is:\n",
      "[44]\ttraining's binary_logloss: 0.0379762\tvalid_1's binary_logloss: 0.0906519\n"
     ]
    },
    {
     "name": "stderr",
     "output_type": "stream",
     "text": [
      "\n",
      "\n",
      "\n",
      "num_leaves, val_score: 0.087414:  40%|####      | 8/20 [01:22<01:56,  9.71s/it]\n",
      "\n",
      "\n",
      "num_leaves, val_score: 0.087414:  45%|####5     | 9/20 [01:22<01:35,  8.64s/it][I 2020-09-15 23:15:14,039] Trial 15 finished with value: 0.09065189932158947 and parameters: {'num_leaves': 103}. Best is trial 8 with value: 0.08851507413958028.\n",
      "\n",
      "\n",
      "\n",
      "num_leaves, val_score: 0.087414:  45%|####5     | 9/20 [01:22<01:35,  8.64s/it]"
     ]
    },
    {
     "name": "stdout",
     "output_type": "stream",
     "text": [
      "Training until validation scores don't improve for 50 rounds\n",
      "[50]\ttraining's binary_logloss: 0.020064\tvalid_1's binary_logloss: 0.09581\n",
      "Early stopping, best iteration is:\n",
      "[35]\ttraining's binary_logloss: 0.0307515\tvalid_1's binary_logloss: 0.0935119\n"
     ]
    },
    {
     "name": "stderr",
     "output_type": "stream",
     "text": [
      "\n",
      "\n",
      "\n",
      "num_leaves, val_score: 0.087414:  45%|####5     | 9/20 [01:31<01:35,  8.64s/it]\n",
      "\n",
      "\n",
      "num_leaves, val_score: 0.087414:  50%|####5    | 10/20 [01:31<01:25,  8.51s/it][I 2020-09-15 23:15:22,256] Trial 16 finished with value: 0.09351194512749601 and parameters: {'num_leaves': 180}. Best is trial 8 with value: 0.08851507413958028.\n",
      "\n",
      "\n",
      "\n",
      "num_leaves, val_score: 0.087414:  50%|####5    | 10/20 [01:31<01:25,  8.51s/it]"
     ]
    },
    {
     "name": "stdout",
     "output_type": "stream",
     "text": [
      "Training until validation scores don't improve for 50 rounds\n",
      "[50]\ttraining's binary_logloss: 0.0483174\tvalid_1's binary_logloss: 0.0908361\n",
      "[100]\ttraining's binary_logloss: 0.02967\tvalid_1's binary_logloss: 0.0917122\n",
      "Early stopping, best iteration is:\n",
      "[58]\ttraining's binary_logloss: 0.0441442\tvalid_1's binary_logloss: 0.0903294\n"
     ]
    },
    {
     "name": "stderr",
     "output_type": "stream",
     "text": [
      "\n",
      "\n",
      "\n",
      "num_leaves, val_score: 0.087414:  50%|####5    | 10/20 [01:36<01:25,  8.51s/it]\n",
      "\n",
      "\n",
      "num_leaves, val_score: 0.087414:  55%|####9    | 11/20 [01:36<01:08,  7.62s/it][I 2020-09-15 23:15:27,800] Trial 17 finished with value: 0.09032941122456566 and parameters: {'num_leaves': 63}. Best is trial 8 with value: 0.08851507413958028.\n",
      "\n",
      "\n",
      "\n",
      "num_leaves, val_score: 0.087414:  55%|####9    | 11/20 [01:36<01:08,  7.62s/it]"
     ]
    },
    {
     "name": "stdout",
     "output_type": "stream",
     "text": [
      "Training until validation scores don't improve for 50 rounds\n",
      "[50]\ttraining's binary_logloss: 0.014581\tvalid_1's binary_logloss: 0.0982847\n",
      "Early stopping, best iteration is:\n",
      "[29]\ttraining's binary_logloss: 0.0307645\tvalid_1's binary_logloss: 0.0938519\n"
     ]
    },
    {
     "name": "stderr",
     "output_type": "stream",
     "text": [
      "\n",
      "\n",
      "\n",
      "num_leaves, val_score: 0.087414:  55%|####9    | 11/20 [01:45<01:08,  7.62s/it]\n",
      "\n",
      "\n",
      "num_leaves, val_score: 0.087414:  60%|#####3   | 12/20 [01:45<01:03,  7.99s/it][I 2020-09-15 23:15:36,667] Trial 18 finished with value: 0.09385185929466737 and parameters: {'num_leaves': 236}. Best is trial 8 with value: 0.08851507413958028.\n",
      "\n",
      "\n",
      "\n",
      "num_leaves, val_score: 0.087414:  60%|#####3   | 12/20 [01:45<01:03,  7.99s/it]"
     ]
    },
    {
     "name": "stdout",
     "output_type": "stream",
     "text": [
      "Training until validation scores don't improve for 50 rounds\n",
      "[50]\ttraining's binary_logloss: 0.0698313\tvalid_1's binary_logloss: 0.0923787\n",
      "[100]\ttraining's binary_logloss: 0.0534059\tvalid_1's binary_logloss: 0.089787\n",
      "[150]\ttraining's binary_logloss: 0.0425713\tvalid_1's binary_logloss: 0.0888284\n",
      "[200]\ttraining's binary_logloss: 0.0351046\tvalid_1's binary_logloss: 0.0893953\n",
      "Early stopping, best iteration is:\n",
      "[158]\ttraining's binary_logloss: 0.0413865\tvalid_1's binary_logloss: 0.0886815\n"
     ]
    },
    {
     "name": "stderr",
     "output_type": "stream",
     "text": [
      "\n",
      "\n",
      "\n",
      "num_leaves, val_score: 0.087414:  60%|#####3   | 12/20 [01:52<01:03,  7.99s/it]\n",
      "\n",
      "\n",
      "num_leaves, val_score: 0.087414:  65%|#####8   | 13/20 [01:52<00:54,  7.82s/it][I 2020-09-15 23:15:44,064] Trial 19 finished with value: 0.08868152401108831 and parameters: {'num_leaves': 28}. Best is trial 8 with value: 0.08851507413958028.\n",
      "\n",
      "\n",
      "\n",
      "num_leaves, val_score: 0.087414:  65%|#####8   | 13/20 [01:53<00:54,  7.82s/it]"
     ]
    },
    {
     "name": "stdout",
     "output_type": "stream",
     "text": [
      "Training until validation scores don't improve for 50 rounds\n",
      "[50]\ttraining's binary_logloss: 0.0413183\tvalid_1's binary_logloss: 0.0897924\n",
      "[100]\ttraining's binary_logloss: 0.0225479\tvalid_1's binary_logloss: 0.0907461\n",
      "Early stopping, best iteration is:\n",
      "[51]\ttraining's binary_logloss: 0.0407296\tvalid_1's binary_logloss: 0.0897318\n"
     ]
    },
    {
     "name": "stderr",
     "output_type": "stream",
     "text": [
      "\n",
      "\n",
      "\n",
      "num_leaves, val_score: 0.087414:  65%|#####8   | 13/20 [01:59<00:54,  7.82s/it]\n",
      "\n",
      "\n",
      "num_leaves, val_score: 0.087414:  70%|######3  | 14/20 [01:59<00:44,  7.50s/it][I 2020-09-15 23:15:50,812] Trial 20 finished with value: 0.0897317687074184 and parameters: {'num_leaves': 81}. Best is trial 8 with value: 0.08851507413958028.\n",
      "\n",
      "\n",
      "\n",
      "num_leaves, val_score: 0.087414:  70%|######3  | 14/20 [01:59<00:44,  7.50s/it]"
     ]
    },
    {
     "name": "stdout",
     "output_type": "stream",
     "text": [
      "Training until validation scores don't improve for 50 rounds\n",
      "[50]\ttraining's binary_logloss: 0.0709644\tvalid_1's binary_logloss: 0.0925767\n",
      "[100]\ttraining's binary_logloss: 0.0539763\tvalid_1's binary_logloss: 0.0898012\n",
      "[150]\ttraining's binary_logloss: 0.043647\tvalid_1's binary_logloss: 0.0891575\n",
      "Early stopping, best iteration is:\n",
      "[149]\ttraining's binary_logloss: 0.0438377\tvalid_1's binary_logloss: 0.089155\n"
     ]
    },
    {
     "name": "stderr",
     "output_type": "stream",
     "text": [
      "\n",
      "\n",
      "\n",
      "num_leaves, val_score: 0.087414:  70%|######3  | 14/20 [02:06<00:44,  7.50s/it]\n",
      "\n",
      "\n",
      "num_leaves, val_score: 0.087414:  75%|######7  | 15/20 [02:06<00:36,  7.37s/it][I 2020-09-15 23:15:57,880] Trial 21 finished with value: 0.08915504424565222 and parameters: {'num_leaves': 27}. Best is trial 8 with value: 0.08851507413958028.\n",
      "\n",
      "\n",
      "\n",
      "num_leaves, val_score: 0.087414:  75%|######7  | 15/20 [02:06<00:36,  7.37s/it]"
     ]
    },
    {
     "name": "stdout",
     "output_type": "stream",
     "text": [
      "Training until validation scores don't improve for 50 rounds\n",
      "[50]\ttraining's binary_logloss: 0.0901002\tvalid_1's binary_logloss: 0.0974762\n",
      "[100]\ttraining's binary_logloss: 0.0783778\tvalid_1's binary_logloss: 0.0932179\n",
      "[150]\ttraining's binary_logloss: 0.0707629\tvalid_1's binary_logloss: 0.0918049\n",
      "[200]\ttraining's binary_logloss: 0.0637448\tvalid_1's binary_logloss: 0.0903881\n",
      "[250]\ttraining's binary_logloss: 0.0585164\tvalid_1's binary_logloss: 0.0895692\n",
      "[300]\ttraining's binary_logloss: 0.0539062\tvalid_1's binary_logloss: 0.0893338\n",
      "[350]\ttraining's binary_logloss: 0.0500702\tvalid_1's binary_logloss: 0.0890848\n",
      "Early stopping, best iteration is:\n",
      "[348]\ttraining's binary_logloss: 0.0502165\tvalid_1's binary_logloss: 0.0889978\n"
     ]
    },
    {
     "name": "stderr",
     "output_type": "stream",
     "text": [
      "\n",
      "\n",
      "\n",
      "num_leaves, val_score: 0.087414:  75%|######7  | 15/20 [02:18<00:36,  7.37s/it]\n",
      "\n",
      "\n",
      "num_leaves, val_score: 0.087414:  80%|#######2 | 16/20 [02:19<00:35,  8.82s/it][I 2020-09-15 23:16:10,078] Trial 22 finished with value: 0.0889978430206715 and parameters: {'num_leaves': 11}. Best is trial 8 with value: 0.08851507413958028.\n",
      "\n",
      "\n",
      "\n",
      "num_leaves, val_score: 0.087414:  80%|#######2 | 16/20 [02:19<00:35,  8.82s/it]"
     ]
    },
    {
     "name": "stdout",
     "output_type": "stream",
     "text": [
      "Training until validation scores don't improve for 50 rounds\n",
      "[50]\ttraining's binary_logloss: 0.0590197\tvalid_1's binary_logloss: 0.0904376\n",
      "[100]\ttraining's binary_logloss: 0.0410399\tvalid_1's binary_logloss: 0.0886149\n",
      "Early stopping, best iteration is:\n",
      "[87]\ttraining's binary_logloss: 0.0446335\tvalid_1's binary_logloss: 0.08833\n"
     ]
    },
    {
     "name": "stderr",
     "output_type": "stream",
     "text": [
      "\n",
      "\n",
      "\n",
      "num_leaves, val_score: 0.087414:  80%|#######2 | 16/20 [02:24<00:35,  8.82s/it]\n",
      "\n",
      "\n",
      "num_leaves, val_score: 0.087414:  85%|#######6 | 17/20 [02:24<00:23,  7.90s/it][I 2020-09-15 23:16:15,836] Trial 23 finished with value: 0.0883299679951638 and parameters: {'num_leaves': 42}. Best is trial 23 with value: 0.0883299679951638.\n",
      "\n",
      "\n",
      "\n",
      "num_leaves, val_score: 0.087414:  85%|#######6 | 17/20 [02:24<00:23,  7.90s/it]"
     ]
    },
    {
     "name": "stdout",
     "output_type": "stream",
     "text": [
      "Training until validation scores don't improve for 50 rounds\n",
      "[50]\ttraining's binary_logloss: 0.0264002\tvalid_1's binary_logloss: 0.0916518\n",
      "[100]\ttraining's binary_logloss: 0.0109359\tvalid_1's binary_logloss: 0.0992497\n",
      "Early stopping, best iteration is:\n",
      "[51]\ttraining's binary_logloss: 0.0258459\tvalid_1's binary_logloss: 0.0916198\n"
     ]
    },
    {
     "name": "stderr",
     "output_type": "stream",
     "text": [
      "\n",
      "\n",
      "\n",
      "num_leaves, val_score: 0.087414:  85%|#######6 | 17/20 [02:33<00:23,  7.90s/it]\n",
      "\n",
      "\n",
      "num_leaves, val_score: 0.087414:  90%|########1| 18/20 [02:33<00:16,  8.29s/it][I 2020-09-15 23:16:25,039] Trial 24 finished with value: 0.09161981008960357 and parameters: {'num_leaves': 138}. Best is trial 23 with value: 0.0883299679951638.\n",
      "\n",
      "\n",
      "\n",
      "num_leaves, val_score: 0.087414:  90%|########1| 18/20 [02:33<00:16,  8.29s/it]"
     ]
    },
    {
     "name": "stdout",
     "output_type": "stream",
     "text": [
      "Training until validation scores don't improve for 50 rounds\n",
      "[50]\ttraining's binary_logloss: 0.0379628\tvalid_1's binary_logloss: 0.0907345\n",
      "[100]\ttraining's binary_logloss: 0.0195847\tvalid_1's binary_logloss: 0.0929921\n",
      "Early stopping, best iteration is:\n",
      "[62]\ttraining's binary_logloss: 0.032122\tvalid_1's binary_logloss: 0.0903087\n"
     ]
    },
    {
     "name": "stderr",
     "output_type": "stream",
     "text": [
      "\n",
      "\n",
      "\n",
      "num_leaves, val_score: 0.087414:  90%|########1| 18/20 [02:40<00:16,  8.29s/it]\n",
      "\n",
      "\n",
      "num_leaves, val_score: 0.087414:  95%|########5| 19/20 [02:40<00:07,  7.79s/it][I 2020-09-15 23:16:31,668] Trial 25 finished with value: 0.09030871337372143 and parameters: {'num_leaves': 92}. Best is trial 23 with value: 0.0883299679951638.\n",
      "\n",
      "\n",
      "\n",
      "num_leaves, val_score: 0.087414:  95%|########5| 19/20 [02:40<00:07,  7.79s/it]"
     ]
    },
    {
     "name": "stdout",
     "output_type": "stream",
     "text": [
      "Training until validation scores don't improve for 50 rounds\n",
      "[50]\ttraining's binary_logloss: 0.0538083\tvalid_1's binary_logloss: 0.0905085\n",
      "[100]\ttraining's binary_logloss: 0.0353972\tvalid_1's binary_logloss: 0.090172\n",
      "Early stopping, best iteration is:\n",
      "[59]\ttraining's binary_logloss: 0.0493338\tvalid_1's binary_logloss: 0.0897303\n"
     ]
    },
    {
     "name": "stderr",
     "output_type": "stream",
     "text": [
      "\n",
      "\n",
      "\n",
      "num_leaves, val_score: 0.087414:  95%|########5| 19/20 [02:45<00:07,  7.79s/it]\n",
      "\n",
      "\n",
      "num_leaves, val_score: 0.087414: 100%|#########| 20/20 [02:45<00:00,  7.01s/it][I 2020-09-15 23:16:36,868] Trial 26 finished with value: 0.08973034159836667 and parameters: {'num_leaves': 52}. Best is trial 23 with value: 0.0883299679951638.\n",
      "num_leaves, val_score: 0.087414: 100%|#########| 20/20 [02:45<00:00,  8.29s/it]\n",
      "\n",
      "\n",
      "\n",
      "  0%|                                                   | 0/10 [00:00<?, ?it/s]\n",
      "\n",
      "\n",
      "bagging, val_score: 0.087414:   0%|                     | 0/10 [00:00<?, ?it/s]"
     ]
    },
    {
     "name": "stdout",
     "output_type": "stream",
     "text": [
      "Training until validation scores don't improve for 50 rounds\n",
      "[50]\ttraining's binary_logloss: 0.0675168\tvalid_1's binary_logloss: 0.0922103\n",
      "[100]\ttraining's binary_logloss: 0.0499348\tvalid_1's binary_logloss: 0.08955\n",
      "[150]\ttraining's binary_logloss: 0.0385383\tvalid_1's binary_logloss: 0.0904822\n",
      "Early stopping, best iteration is:\n",
      "[115]\ttraining's binary_logloss: 0.045866\tvalid_1's binary_logloss: 0.089322\n"
     ]
    },
    {
     "name": "stderr",
     "output_type": "stream",
     "text": [
      "\n",
      "\n",
      "\n",
      "bagging, val_score: 0.087414:   0%|                     | 0/10 [00:06<?, ?it/s]\n",
      "\n",
      "\n",
      "bagging, val_score: 0.087414:  10%|#3           | 1/10 [00:06<01:00,  6.68s/it][I 2020-09-15 23:16:43,568] Trial 27 finished with value: 0.08932203900785264 and parameters: {'bagging_fraction': 0.8067982754989251, 'bagging_freq': 6}. Best is trial 27 with value: 0.08932203900785264.\n",
      "\n",
      "\n",
      "\n",
      "bagging, val_score: 0.087414:  10%|#3           | 1/10 [00:06<01:00,  6.68s/it]"
     ]
    },
    {
     "name": "stdout",
     "output_type": "stream",
     "text": [
      "Training until validation scores don't improve for 50 rounds\n",
      "[50]\ttraining's binary_logloss: 0.0691484\tvalid_1's binary_logloss: 0.0936447\n",
      "[100]\ttraining's binary_logloss: 0.049754\tvalid_1's binary_logloss: 0.0929131\n",
      "Early stopping, best iteration is:\n",
      "[80]\ttraining's binary_logloss: 0.0560164\tvalid_1's binary_logloss: 0.0924444\n"
     ]
    },
    {
     "name": "stderr",
     "output_type": "stream",
     "text": [
      "\n",
      "\n",
      "\n",
      "bagging, val_score: 0.087414:  10%|#3           | 1/10 [00:10<01:00,  6.68s/it]\n",
      "\n",
      "\n",
      "bagging, val_score: 0.087414:  20%|##6          | 2/10 [00:10<00:46,  5.83s/it][I 2020-09-15 23:16:47,417] Trial 28 finished with value: 0.0924443835388899 and parameters: {'bagging_fraction': 0.438382985815274, 'bagging_freq': 1}. Best is trial 27 with value: 0.08932203900785264.\n",
      "\n",
      "\n",
      "\n",
      "bagging, val_score: 0.087414:  20%|##6          | 2/10 [00:10<00:46,  5.83s/it]"
     ]
    },
    {
     "name": "stdout",
     "output_type": "stream",
     "text": [
      "Training until validation scores don't improve for 50 rounds\n",
      "[50]\ttraining's binary_logloss: 0.0690674\tvalid_1's binary_logloss: 0.0949496\n",
      "[100]\ttraining's binary_logloss: 0.0495132\tvalid_1's binary_logloss: 0.0925938\n",
      "[150]\ttraining's binary_logloss: 0.0378577\tvalid_1's binary_logloss: 0.0928723\n",
      "Early stopping, best iteration is:\n",
      "[123]\ttraining's binary_logloss: 0.0434498\tvalid_1's binary_logloss: 0.0921956\n"
     ]
    },
    {
     "name": "stderr",
     "output_type": "stream",
     "text": [
      "\n",
      "\n",
      "\n",
      "bagging, val_score: 0.087414:  20%|##6          | 2/10 [00:15<00:46,  5.83s/it]\n",
      "\n",
      "\n",
      "bagging, val_score: 0.087414:  30%|###9         | 3/10 [00:15<00:38,  5.54s/it][I 2020-09-15 23:16:52,280] Trial 29 finished with value: 0.0921956457309296 and parameters: {'bagging_fraction': 0.4027306225392879, 'bagging_freq': 1}. Best is trial 27 with value: 0.08932203900785264.\n",
      "\n",
      "\n",
      "\n",
      "bagging, val_score: 0.087414:  30%|###9         | 3/10 [00:15<00:38,  5.54s/it]"
     ]
    },
    {
     "name": "stdout",
     "output_type": "stream",
     "text": [
      "Training until validation scores don't improve for 50 rounds\n",
      "[50]\ttraining's binary_logloss: 0.0670264\tvalid_1's binary_logloss: 0.0923014\n",
      "[100]\ttraining's binary_logloss: 0.0497068\tvalid_1's binary_logloss: 0.0888205\n",
      "[150]\ttraining's binary_logloss: 0.0391794\tvalid_1's binary_logloss: 0.0877402\n",
      "[200]\ttraining's binary_logloss: 0.031981\tvalid_1's binary_logloss: 0.0886235\n",
      "Early stopping, best iteration is:\n",
      "[154]\ttraining's binary_logloss: 0.0385707\tvalid_1's binary_logloss: 0.0876252\n"
     ]
    },
    {
     "name": "stderr",
     "output_type": "stream",
     "text": [
      "\n",
      "\n",
      "\n",
      "bagging, val_score: 0.087414:  30%|###9         | 3/10 [00:24<00:38,  5.54s/it]\n",
      "\n",
      "\n",
      "bagging, val_score: 0.087414:  40%|#####2       | 4/10 [00:24<00:39,  6.56s/it][I 2020-09-15 23:17:01,230] Trial 30 finished with value: 0.08762518407679672 and parameters: {'bagging_fraction': 0.9910967320605599, 'bagging_freq': 7}. Best is trial 30 with value: 0.08762518407679672.\n",
      "\n",
      "\n",
      "\n",
      "bagging, val_score: 0.087414:  40%|#####2       | 4/10 [00:24<00:39,  6.56s/it]"
     ]
    },
    {
     "name": "stdout",
     "output_type": "stream",
     "text": [
      "Training until validation scores don't improve for 50 rounds\n",
      "[50]\ttraining's binary_logloss: 0.0670892\tvalid_1's binary_logloss: 0.0909723\n",
      "[100]\ttraining's binary_logloss: 0.0502417\tvalid_1's binary_logloss: 0.0881528\n",
      "[150]\ttraining's binary_logloss: 0.0395929\tvalid_1's binary_logloss: 0.0874169\n",
      "[200]\ttraining's binary_logloss: 0.032233\tvalid_1's binary_logloss: 0.0878719\n",
      "Early stopping, best iteration is:\n",
      "[155]\ttraining's binary_logloss: 0.0385691\tvalid_1's binary_logloss: 0.0872681\n"
     ]
    },
    {
     "name": "stderr",
     "output_type": "stream",
     "text": [
      "\n",
      "\n",
      "\n",
      "bagging, val_score: 0.087268:  40%|#####2       | 4/10 [00:33<00:39,  6.56s/it]\n",
      "\n",
      "\n",
      "bagging, val_score: 0.087268:  50%|######5      | 5/10 [00:33<00:36,  7.37s/it][I 2020-09-15 23:17:10,489] Trial 31 finished with value: 0.08726808454719462 and parameters: {'bagging_fraction': 0.9880932286085656, 'bagging_freq': 7}. Best is trial 31 with value: 0.08726808454719462.\n",
      "\n",
      "\n",
      "\n",
      "bagging, val_score: 0.087268:  50%|######5      | 5/10 [00:33<00:36,  7.37s/it]"
     ]
    },
    {
     "name": "stdout",
     "output_type": "stream",
     "text": [
      "Training until validation scores don't improve for 50 rounds\n",
      "[50]\ttraining's binary_logloss: 0.0679737\tvalid_1's binary_logloss: 0.093089\n",
      "[100]\ttraining's binary_logloss: 0.050819\tvalid_1's binary_logloss: 0.0908274\n",
      "[150]\ttraining's binary_logloss: 0.0400115\tvalid_1's binary_logloss: 0.0906314\n",
      "Early stopping, best iteration is:\n",
      "[147]\ttraining's binary_logloss: 0.0404783\tvalid_1's binary_logloss: 0.0904688\n"
     ]
    },
    {
     "name": "stderr",
     "output_type": "stream",
     "text": [
      "\n",
      "\n",
      "\n",
      "bagging, val_score: 0.087268:  50%|######5      | 5/10 [00:41<00:36,  7.37s/it]\n",
      "\n",
      "\n",
      "bagging, val_score: 0.087268:  60%|#######8     | 6/10 [00:41<00:30,  7.67s/it][I 2020-09-15 23:17:18,858] Trial 32 finished with value: 0.09046875248037616 and parameters: {'bagging_fraction': 0.9672282111936323, 'bagging_freq': 7}. Best is trial 31 with value: 0.08726808454719462.\n",
      "\n",
      "\n",
      "\n",
      "bagging, val_score: 0.087268:  60%|#######8     | 6/10 [00:41<00:30,  7.67s/it]"
     ]
    },
    {
     "name": "stdout",
     "output_type": "stream",
     "text": [
      "Training until validation scores don't improve for 50 rounds\n",
      "[50]\ttraining's binary_logloss: 0.0675104\tvalid_1's binary_logloss: 0.092044\n",
      "[100]\ttraining's binary_logloss: 0.0505523\tvalid_1's binary_logloss: 0.0898345\n",
      "[150]\ttraining's binary_logloss: 0.0403187\tvalid_1's binary_logloss: 0.0895589\n",
      "[200]\ttraining's binary_logloss: 0.03265\tvalid_1's binary_logloss: 0.0893943\n",
      "Early stopping, best iteration is:\n",
      "[181]\ttraining's binary_logloss: 0.0351043\tvalid_1's binary_logloss: 0.0889953\n"
     ]
    },
    {
     "name": "stderr",
     "output_type": "stream",
     "text": [
      "\n",
      "\n",
      "\n",
      "bagging, val_score: 0.087268:  60%|#######8     | 6/10 [00:52<00:30,  7.67s/it]\n",
      "\n",
      "\n",
      "bagging, val_score: 0.087268:  70%|#########1   | 7/10 [00:52<00:25,  8.38s/it][I 2020-09-15 23:17:28,908] Trial 33 finished with value: 0.08899532758465871 and parameters: {'bagging_fraction': 0.9875763881396192, 'bagging_freq': 5}. Best is trial 31 with value: 0.08726808454719462.\n",
      "\n",
      "\n",
      "\n",
      "bagging, val_score: 0.087268:  70%|#########1   | 7/10 [00:52<00:25,  8.38s/it]"
     ]
    },
    {
     "name": "stdout",
     "output_type": "stream",
     "text": [
      "Training until validation scores don't improve for 50 rounds\n",
      "[50]\ttraining's binary_logloss: 0.0674078\tvalid_1's binary_logloss: 0.0937559\n",
      "[100]\ttraining's binary_logloss: 0.049594\tvalid_1's binary_logloss: 0.0901287\n",
      "[150]\ttraining's binary_logloss: 0.0386405\tvalid_1's binary_logloss: 0.0896075\n",
      "Early stopping, best iteration is:\n",
      "[145]\ttraining's binary_logloss: 0.0394902\tvalid_1's binary_logloss: 0.0895663\n"
     ]
    },
    {
     "name": "stderr",
     "output_type": "stream",
     "text": [
      "\n",
      "\n",
      "\n",
      "bagging, val_score: 0.087268:  70%|#########1   | 7/10 [00:59<00:25,  8.38s/it]\n",
      "\n",
      "\n",
      "bagging, val_score: 0.087268:  80%|##########4  | 8/10 [00:59<00:15,  7.99s/it][I 2020-09-15 23:17:35,992] Trial 34 finished with value: 0.08956631590860034 and parameters: {'bagging_fraction': 0.8563488043552285, 'bagging_freq': 7}. Best is trial 31 with value: 0.08726808454719462.\n",
      "\n",
      "\n",
      "\n",
      "bagging, val_score: 0.087268:  80%|##########4  | 8/10 [00:59<00:15,  7.99s/it]"
     ]
    },
    {
     "name": "stdout",
     "output_type": "stream",
     "text": [
      "Training until validation scores don't improve for 50 rounds\n",
      "[50]\ttraining's binary_logloss: 0.0685937\tvalid_1's binary_logloss: 0.0943991\n",
      "[100]\ttraining's binary_logloss: 0.0498024\tvalid_1's binary_logloss: 0.0915407\n",
      "[150]\ttraining's binary_logloss: 0.0383284\tvalid_1's binary_logloss: 0.0919583\n",
      "Early stopping, best iteration is:\n",
      "[143]\ttraining's binary_logloss: 0.0396859\tvalid_1's binary_logloss: 0.0912292\n"
     ]
    },
    {
     "name": "stderr",
     "output_type": "stream",
     "text": [
      "\n",
      "\n",
      "\n",
      "bagging, val_score: 0.087268:  80%|##########4  | 8/10 [01:06<00:15,  7.99s/it]\n",
      "\n",
      "\n",
      "bagging, val_score: 0.087268:  90%|###########7 | 9/10 [01:06<00:07,  7.82s/it][I 2020-09-15 23:17:43,411] Trial 35 finished with value: 0.09122915249947942 and parameters: {'bagging_fraction': 0.6313829599476499, 'bagging_freq': 3}. Best is trial 31 with value: 0.08726808454719462.\n",
      "\n",
      "\n",
      "\n",
      "bagging, val_score: 0.087268:  90%|###########7 | 9/10 [01:06<00:07,  7.82s/it]"
     ]
    },
    {
     "name": "stdout",
     "output_type": "stream",
     "text": [
      "Training until validation scores don't improve for 50 rounds\n",
      "[50]\ttraining's binary_logloss: 0.067162\tvalid_1's binary_logloss: 0.0924287\n",
      "[100]\ttraining's binary_logloss: 0.0502001\tvalid_1's binary_logloss: 0.090205\n",
      "[150]\ttraining's binary_logloss: 0.0394455\tvalid_1's binary_logloss: 0.0893842\n",
      "[200]\ttraining's binary_logloss: 0.0321865\tvalid_1's binary_logloss: 0.0897915\n",
      "Early stopping, best iteration is:\n",
      "[168]\ttraining's binary_logloss: 0.0365337\tvalid_1's binary_logloss: 0.088993\n"
     ]
    },
    {
     "name": "stderr",
     "output_type": "stream",
     "text": [
      "\n",
      "\n",
      "\n",
      "bagging, val_score: 0.087268:  90%|###########7 | 9/10 [01:15<00:07,  7.82s/it]\n",
      "\n",
      "\n",
      "bagging, val_score: 0.087268: 100%|############| 10/10 [01:15<00:00,  8.14s/it][I 2020-09-15 23:17:52,309] Trial 36 finished with value: 0.08899298589679339 and parameters: {'bagging_fraction': 0.9956606885625019, 'bagging_freq': 7}. Best is trial 31 with value: 0.08726808454719462.\n",
      "bagging, val_score: 0.087268: 100%|############| 10/10 [01:15<00:00,  7.54s/it]\n",
      "\n",
      "\n",
      "\n",
      "  0%|                                                    | 0/6 [00:00<?, ?it/s]\n",
      "\n",
      "\n",
      "feature_fraction_stage2, val_score: 0.087268:   0%|      | 0/6 [00:00<?, ?it/s]"
     ]
    },
    {
     "name": "stdout",
     "output_type": "stream",
     "text": [
      "Training until validation scores don't improve for 50 rounds\n",
      "[50]\ttraining's binary_logloss: 0.0671775\tvalid_1's binary_logloss: 0.0924551\n",
      "[100]\ttraining's binary_logloss: 0.0504176\tvalid_1's binary_logloss: 0.0900184\n",
      "[150]\ttraining's binary_logloss: 0.039567\tvalid_1's binary_logloss: 0.0896388\n",
      "Early stopping, best iteration is:\n",
      "[131]\ttraining's binary_logloss: 0.0429239\tvalid_1's binary_logloss: 0.0895291\n"
     ]
    },
    {
     "name": "stderr",
     "output_type": "stream",
     "text": [
      "\n",
      "\n",
      "\n",
      "feature_fraction_stage2, val_score: 0.087268:   0%|      | 0/6 [00:08<?, ?it/s]\n",
      "\n",
      "\n",
      "feature_fraction_stage2, val_score: 0.087268:  17%|1| 1/6 [00:08<00:42,  8.48s/[I 2020-09-15 23:18:00,814] Trial 37 finished with value: 0.08952911603497728 and parameters: {'feature_fraction': 0.9159999999999999}. Best is trial 37 with value: 0.08952911603497728.\n",
      "\n",
      "\n",
      "\n",
      "feature_fraction_stage2, val_score: 0.087268:  17%|1| 1/6 [00:08<00:42,  8.48s/"
     ]
    },
    {
     "name": "stdout",
     "output_type": "stream",
     "text": [
      "Training until validation scores don't improve for 50 rounds\n",
      "[50]\ttraining's binary_logloss: 0.0681014\tvalid_1's binary_logloss: 0.0939004\n",
      "[100]\ttraining's binary_logloss: 0.0509871\tvalid_1's binary_logloss: 0.0912965\n",
      "[150]\ttraining's binary_logloss: 0.0400721\tvalid_1's binary_logloss: 0.0902978\n",
      "[200]\ttraining's binary_logloss: 0.0327251\tvalid_1's binary_logloss: 0.0907324\n",
      "Early stopping, best iteration is:\n",
      "[169]\ttraining's binary_logloss: 0.0369083\tvalid_1's binary_logloss: 0.0900816\n"
     ]
    },
    {
     "name": "stderr",
     "output_type": "stream",
     "text": [
      "\n",
      "\n",
      "\n",
      "feature_fraction_stage2, val_score: 0.087268:  17%|1| 1/6 [00:16<00:42,  8.48s/\n",
      "\n",
      "\n",
      "feature_fraction_stage2, val_score: 0.087268:  33%|3| 2/6 [00:16<00:33,  8.49s/[I 2020-09-15 23:18:09,315] Trial 38 finished with value: 0.09008155301571108 and parameters: {'feature_fraction': 0.82}. Best is trial 37 with value: 0.08952911603497728.\n",
      "\n",
      "\n",
      "\n",
      "feature_fraction_stage2, val_score: 0.087268:  33%|3| 2/6 [00:17<00:33,  8.49s/"
     ]
    },
    {
     "name": "stdout",
     "output_type": "stream",
     "text": [
      "Training until validation scores don't improve for 50 rounds\n",
      "[50]\ttraining's binary_logloss: 0.0676806\tvalid_1's binary_logloss: 0.0911568\n",
      "[100]\ttraining's binary_logloss: 0.050448\tvalid_1's binary_logloss: 0.0888184\n",
      "[150]\ttraining's binary_logloss: 0.0393217\tvalid_1's binary_logloss: 0.0874703\n",
      "[200]\ttraining's binary_logloss: 0.0322914\tvalid_1's binary_logloss: 0.0880399\n",
      "Early stopping, best iteration is:\n",
      "[151]\ttraining's binary_logloss: 0.0391681\tvalid_1's binary_logloss: 0.0874209\n"
     ]
    },
    {
     "name": "stderr",
     "output_type": "stream",
     "text": [
      "\n",
      "\n",
      "\n",
      "feature_fraction_stage2, val_score: 0.087268:  33%|3| 2/6 [00:26<00:33,  8.49s/\n",
      "\n",
      "\n",
      "feature_fraction_stage2, val_score: 0.087268:  50%|5| 3/6 [00:26<00:26,  8.69s/[I 2020-09-15 23:18:18,467] Trial 39 finished with value: 0.08742089314064688 and parameters: {'feature_fraction': 0.852}. Best is trial 39 with value: 0.08742089314064688.\n",
      "\n",
      "\n",
      "\n",
      "feature_fraction_stage2, val_score: 0.087268:  50%|5| 3/6 [00:26<00:26,  8.69s/"
     ]
    },
    {
     "name": "stdout",
     "output_type": "stream",
     "text": [
      "Training until validation scores don't improve for 50 rounds\n",
      "[50]\ttraining's binary_logloss: 0.0672309\tvalid_1's binary_logloss: 0.0920393\n",
      "[100]\ttraining's binary_logloss: 0.0498968\tvalid_1's binary_logloss: 0.0885845\n",
      "[150]\ttraining's binary_logloss: 0.0393265\tvalid_1's binary_logloss: 0.0885436\n",
      "Early stopping, best iteration is:\n",
      "[124]\ttraining's binary_logloss: 0.0443108\tvalid_1's binary_logloss: 0.0881661\n"
     ]
    },
    {
     "name": "stderr",
     "output_type": "stream",
     "text": [
      "\n",
      "\n",
      "\n",
      "feature_fraction_stage2, val_score: 0.087268:  50%|5| 3/6 [00:33<00:26,  8.69s/\n",
      "\n",
      "\n",
      "feature_fraction_stage2, val_score: 0.087268:  67%|6| 4/6 [00:33<00:16,  8.27s/[I 2020-09-15 23:18:25,774] Trial 40 finished with value: 0.08816606414501164 and parameters: {'feature_fraction': 0.9799999999999999}. Best is trial 39 with value: 0.08742089314064688.\n",
      "\n",
      "\n",
      "\n",
      "feature_fraction_stage2, val_score: 0.087268:  67%|6| 4/6 [00:33<00:16,  8.27s/"
     ]
    },
    {
     "name": "stdout",
     "output_type": "stream",
     "text": [
      "Training until validation scores don't improve for 50 rounds\n",
      "[50]\ttraining's binary_logloss: 0.067454\tvalid_1's binary_logloss: 0.0921206\n",
      "[100]\ttraining's binary_logloss: 0.0504297\tvalid_1's binary_logloss: 0.0899289\n",
      "[150]\ttraining's binary_logloss: 0.0397061\tvalid_1's binary_logloss: 0.0896843\n",
      "Early stopping, best iteration is:\n",
      "[133]\ttraining's binary_logloss: 0.0430979\tvalid_1's binary_logloss: 0.0894128\n"
     ]
    },
    {
     "name": "stderr",
     "output_type": "stream",
     "text": [
      "\n",
      "\n",
      "\n",
      "feature_fraction_stage2, val_score: 0.087268:  67%|6| 4/6 [00:41<00:16,  8.27s/\n",
      "\n",
      "\n",
      "feature_fraction_stage2, val_score: 0.087268:  83%|8| 5/6 [00:41<00:08,  8.29s/[I 2020-09-15 23:18:34,102] Trial 41 finished with value: 0.08941284701105161 and parameters: {'feature_fraction': 0.8839999999999999}. Best is trial 39 with value: 0.08742089314064688.\n",
      "\n",
      "\n",
      "\n",
      "feature_fraction_stage2, val_score: 0.087268:  83%|8| 5/6 [00:41<00:08,  8.29s/"
     ]
    },
    {
     "name": "stdout",
     "output_type": "stream",
     "text": [
      "Training until validation scores don't improve for 50 rounds\n",
      "[50]\ttraining's binary_logloss: 0.0668608\tvalid_1's binary_logloss: 0.0930497\n",
      "[100]\ttraining's binary_logloss: 0.0500612\tvalid_1's binary_logloss: 0.0899164\n",
      "[150]\ttraining's binary_logloss: 0.0399341\tvalid_1's binary_logloss: 0.0890964\n",
      "[200]\ttraining's binary_logloss: 0.0320569\tvalid_1's binary_logloss: 0.0897876\n",
      "Early stopping, best iteration is:\n",
      "[159]\ttraining's binary_logloss: 0.0384117\tvalid_1's binary_logloss: 0.0890229\n"
     ]
    },
    {
     "name": "stderr",
     "output_type": "stream",
     "text": [
      "\n",
      "\n",
      "\n",
      "feature_fraction_stage2, val_score: 0.087268:  83%|8| 5/6 [00:50<00:08,  8.29s/\n",
      "\n",
      "\n",
      "feature_fraction_stage2, val_score: 0.087268: 100%|#| 6/6 [00:50<00:00,  8.27s/[I 2020-09-15 23:18:42,342] Trial 42 finished with value: 0.08902286846593523 and parameters: {'feature_fraction': 0.948}. Best is trial 39 with value: 0.08742089314064688.\n",
      "feature_fraction_stage2, val_score: 0.087268: 100%|#| 6/6 [00:50<00:00,  8.34s/\n",
      "\n",
      "\n",
      "\n",
      "  0%|                                                   | 0/20 [00:00<?, ?it/s]\n",
      "\n",
      "\n",
      "regularization_factors, val_score: 0.087268:   0%|      | 0/20 [00:00<?, ?it/s]"
     ]
    },
    {
     "name": "stdout",
     "output_type": "stream",
     "text": [
      "Training until validation scores don't improve for 50 rounds\n",
      "[50]\ttraining's binary_logloss: 0.0690135\tvalid_1's binary_logloss: 0.092008\n",
      "[100]\ttraining's binary_logloss: 0.0525208\tvalid_1's binary_logloss: 0.0896111\n",
      "Early stopping, best iteration is:\n",
      "[95]\ttraining's binary_logloss: 0.0536281\tvalid_1's binary_logloss: 0.0894385\n"
     ]
    },
    {
     "name": "stderr",
     "output_type": "stream",
     "text": [
      "\n",
      "\n",
      "\n",
      "regularization_factors, val_score: 0.087268:   0%|      | 0/20 [00:06<?, ?it/s]\n",
      "\n",
      "\n",
      "regularization_factors, val_score: 0.087268:   5%| | 1/20 [00:06<02:06,  6.64s/[I 2020-09-15 23:18:49,029] Trial 43 finished with value: 0.08943852646759205 and parameters: {'lambda_l1': 0.1588558640933569, 'lambda_l2': 3.7097783774467366e-05}. Best is trial 43 with value: 0.08943852646759205.\n",
      "\n",
      "\n",
      "\n",
      "regularization_factors, val_score: 0.087268:   5%| | 1/20 [00:06<02:06,  6.64s/"
     ]
    },
    {
     "name": "stdout",
     "output_type": "stream",
     "text": [
      "Training until validation scores don't improve for 50 rounds\n",
      "[50]\ttraining's binary_logloss: 0.0794594\tvalid_1's binary_logloss: 0.0945202\n",
      "[100]\ttraining's binary_logloss: 0.0660483\tvalid_1's binary_logloss: 0.0909168\n",
      "[150]\ttraining's binary_logloss: 0.0578491\tvalid_1's binary_logloss: 0.0903711\n",
      "[200]\ttraining's binary_logloss: 0.0514567\tvalid_1's binary_logloss: 0.0901984\n",
      "Early stopping, best iteration is:\n",
      "[169]\ttraining's binary_logloss: 0.055092\tvalid_1's binary_logloss: 0.0901644\n"
     ]
    },
    {
     "name": "stderr",
     "output_type": "stream",
     "text": [
      "\n",
      "\n",
      "\n",
      "regularization_factors, val_score: 0.087268:   5%| | 1/20 [00:15<02:06,  6.64s/\n",
      "\n",
      "\n",
      "regularization_factors, val_score: 0.087268:  10%|1| 2/20 [00:15<02:11,  7.31s/[I 2020-09-15 23:18:57,888] Trial 44 finished with value: 0.09016444444075544 and parameters: {'lambda_l1': 1.3850934403699415e-08, 'lambda_l2': 5.282812516902232}. Best is trial 43 with value: 0.08943852646759205.\n",
      "\n",
      "\n",
      "\n",
      "regularization_factors, val_score: 0.087268:  10%|1| 2/20 [00:15<02:11,  7.31s/"
     ]
    },
    {
     "name": "stdout",
     "output_type": "stream",
     "text": [
      "Training until validation scores don't improve for 50 rounds\n",
      "[50]\ttraining's binary_logloss: 0.0670892\tvalid_1's binary_logloss: 0.0909721\n",
      "[100]\ttraining's binary_logloss: 0.0502417\tvalid_1's binary_logloss: 0.0881527\n",
      "[150]\ttraining's binary_logloss: 0.0393819\tvalid_1's binary_logloss: 0.0875271\n",
      "Early stopping, best iteration is:\n",
      "[132]\ttraining's binary_logloss: 0.0425387\tvalid_1's binary_logloss: 0.0874943\n"
     ]
    },
    {
     "name": "stderr",
     "output_type": "stream",
     "text": [
      "\n",
      "\n",
      "\n",
      "regularization_factors, val_score: 0.087268:  10%|1| 2/20 [00:23<02:11,  7.31s/\n",
      "\n",
      "\n",
      "regularization_factors, val_score: 0.087268:  15%|1| 3/20 [00:23<02:09,  7.61s/[I 2020-09-15 23:19:06,196] Trial 45 finished with value: 0.08749427884843773 and parameters: {'lambda_l1': 3.783107718839151e-08, 'lambda_l2': 2.5271054359768657e-08}. Best is trial 45 with value: 0.08749427884843773.\n",
      "\n",
      "\n",
      "\n",
      "regularization_factors, val_score: 0.087268:  15%|1| 3/20 [00:23<02:09,  7.61s/"
     ]
    },
    {
     "name": "stdout",
     "output_type": "stream",
     "text": [
      "Training until validation scores don't improve for 50 rounds\n",
      "[50]\ttraining's binary_logloss: 0.0673584\tvalid_1's binary_logloss: 0.0911693\n",
      "[100]\ttraining's binary_logloss: 0.0499544\tvalid_1's binary_logloss: 0.0882151\n",
      "[150]\ttraining's binary_logloss: 0.0391915\tvalid_1's binary_logloss: 0.0877049\n",
      "Early stopping, best iteration is:\n",
      "[134]\ttraining's binary_logloss: 0.0421153\tvalid_1's binary_logloss: 0.0876436\n"
     ]
    },
    {
     "name": "stderr",
     "output_type": "stream",
     "text": [
      "\n",
      "\n",
      "\n",
      "regularization_factors, val_score: 0.087268:  15%|1| 3/20 [00:31<02:09,  7.61s/\n",
      "\n",
      "\n",
      "regularization_factors, val_score: 0.087268:  20%|2| 4/20 [00:31<02:01,  7.56s/[I 2020-09-15 23:19:13,655] Trial 46 finished with value: 0.08764355914726144 and parameters: {'lambda_l1': 1.0590839981944484e-07, 'lambda_l2': 1.1391981537350695e-08}. Best is trial 45 with value: 0.08749427884843773.\n",
      "\n",
      "\n",
      "\n",
      "regularization_factors, val_score: 0.087268:  20%|2| 4/20 [00:31<02:01,  7.56s/"
     ]
    },
    {
     "name": "stdout",
     "output_type": "stream",
     "text": [
      "Training until validation scores don't improve for 50 rounds\n",
      "[50]\ttraining's binary_logloss: 0.0675228\tvalid_1's binary_logloss: 0.0918827\n",
      "[100]\ttraining's binary_logloss: 0.0503832\tvalid_1's binary_logloss: 0.0884552\n",
      "[150]\ttraining's binary_logloss: 0.0397945\tvalid_1's binary_logloss: 0.0880136\n",
      "[200]\ttraining's binary_logloss: 0.0322121\tvalid_1's binary_logloss: 0.0891164\n",
      "Early stopping, best iteration is:\n",
      "[167]\ttraining's binary_logloss: 0.0366274\tvalid_1's binary_logloss: 0.0879389\n"
     ]
    },
    {
     "name": "stderr",
     "output_type": "stream",
     "text": [
      "\n",
      "\n",
      "\n",
      "regularization_factors, val_score: 0.087268:  20%|2| 4/20 [00:40<02:01,  7.56s/\n",
      "\n",
      "\n",
      "regularization_factors, val_score: 0.087268:  25%|2| 5/20 [00:40<02:02,  8.18s/[I 2020-09-15 23:19:23,265] Trial 47 finished with value: 0.08793889010127084 and parameters: {'lambda_l1': 2.419170961486912e-05, 'lambda_l2': 3.325126706506527e-08}. Best is trial 45 with value: 0.08749427884843773.\n",
      "\n",
      "\n",
      "\n",
      "regularization_factors, val_score: 0.087268:  25%|2| 5/20 [00:40<02:02,  8.18s/"
     ]
    },
    {
     "name": "stdout",
     "output_type": "stream",
     "text": [
      "Training until validation scores don't improve for 50 rounds\n",
      "[50]\ttraining's binary_logloss: 0.06766\tvalid_1's binary_logloss: 0.0921852\n",
      "[100]\ttraining's binary_logloss: 0.0503983\tvalid_1's binary_logloss: 0.0895724\n",
      "[150]\ttraining's binary_logloss: 0.039845\tvalid_1's binary_logloss: 0.0886496\n",
      "[200]\ttraining's binary_logloss: 0.032449\tvalid_1's binary_logloss: 0.0898117\n",
      "Early stopping, best iteration is:\n",
      "[151]\ttraining's binary_logloss: 0.0396766\tvalid_1's binary_logloss: 0.0885954\n"
     ]
    },
    {
     "name": "stderr",
     "output_type": "stream",
     "text": [
      "\n",
      "\n",
      "\n",
      "regularization_factors, val_score: 0.087268:  25%|2| 5/20 [00:48<02:02,  8.18s/\n",
      "\n",
      "\n",
      "regularization_factors, val_score: 0.087268:  30%|3| 6/20 [00:48<01:53,  8.11s/[I 2020-09-15 23:19:31,211] Trial 48 finished with value: 0.08859538138655655 and parameters: {'lambda_l1': 2.598592660560242e-05, 'lambda_l2': 4.346169353386533e-05}. Best is trial 45 with value: 0.08749427884843773.\n",
      "\n",
      "\n",
      "\n",
      "regularization_factors, val_score: 0.087268:  30%|3| 6/20 [00:48<01:53,  8.11s/"
     ]
    },
    {
     "name": "stdout",
     "output_type": "stream",
     "text": [
      "Training until validation scores don't improve for 50 rounds\n",
      "[50]\ttraining's binary_logloss: 0.0882136\tvalid_1's binary_logloss: 0.0964114\n",
      "[100]\ttraining's binary_logloss: 0.0827949\tvalid_1's binary_logloss: 0.0944539\n",
      "[150]\ttraining's binary_logloss: 0.0813676\tvalid_1's binary_logloss: 0.0940774\n",
      "[200]\ttraining's binary_logloss: 0.0812364\tvalid_1's binary_logloss: 0.0940416\n",
      "Early stopping, best iteration is:\n",
      "[156]\ttraining's binary_logloss: 0.0812364\tvalid_1's binary_logloss: 0.0940416\n"
     ]
    },
    {
     "name": "stderr",
     "output_type": "stream",
     "text": [
      "\n",
      "\n",
      "\n",
      "regularization_factors, val_score: 0.087268:  30%|3| 6/20 [00:55<01:53,  8.11s/\n",
      "\n",
      "\n",
      "regularization_factors, val_score: 0.087268:  35%|3| 7/20 [00:55<01:38,  7.60s/[I 2020-09-15 23:19:37,628] Trial 49 finished with value: 0.0940416372133189 and parameters: {'lambda_l1': 7.960143006156404, 'lambda_l2': 1.3165995713300038}. Best is trial 45 with value: 0.08749427884843773.\n",
      "\n",
      "\n",
      "\n",
      "regularization_factors, val_score: 0.087268:  35%|3| 7/20 [00:55<01:38,  7.60s/"
     ]
    },
    {
     "name": "stdout",
     "output_type": "stream",
     "text": [
      "Training until validation scores don't improve for 50 rounds\n",
      "[50]\ttraining's binary_logloss: 0.0681988\tvalid_1's binary_logloss: 0.0930869\n",
      "[100]\ttraining's binary_logloss: 0.0507852\tvalid_1's binary_logloss: 0.0905249\n",
      "[150]\ttraining's binary_logloss: 0.0397994\tvalid_1's binary_logloss: 0.0894752\n",
      "[200]\ttraining's binary_logloss: 0.0321231\tvalid_1's binary_logloss: 0.0897948\n",
      "Early stopping, best iteration is:\n",
      "[174]\ttraining's binary_logloss: 0.0357175\tvalid_1's binary_logloss: 0.0893861\n"
     ]
    },
    {
     "name": "stderr",
     "output_type": "stream",
     "text": [
      "\n",
      "\n",
      "\n",
      "regularization_factors, val_score: 0.087268:  35%|3| 7/20 [01:05<01:38,  7.60s/\n",
      "\n",
      "\n",
      "regularization_factors, val_score: 0.087268:  40%|4| 8/20 [01:05<01:40,  8.36s/[I 2020-09-15 23:19:47,774] Trial 50 finished with value: 0.08938609372363238 and parameters: {'lambda_l1': 3.047362593038478e-07, 'lambda_l2': 0.012302501864666979}. Best is trial 45 with value: 0.08749427884843773.\n",
      "\n",
      "\n",
      "\n",
      "regularization_factors, val_score: 0.087268:  40%|4| 8/20 [01:05<01:40,  8.36s/"
     ]
    },
    {
     "name": "stdout",
     "output_type": "stream",
     "text": [
      "Training until validation scores don't improve for 50 rounds\n",
      "[50]\ttraining's binary_logloss: 0.0670892\tvalid_1's binary_logloss: 0.0909721\n",
      "[100]\ttraining's binary_logloss: 0.0502417\tvalid_1's binary_logloss: 0.0881527\n",
      "[150]\ttraining's binary_logloss: 0.0393819\tvalid_1's binary_logloss: 0.0875271\n",
      "Early stopping, best iteration is:\n",
      "[132]\ttraining's binary_logloss: 0.0425387\tvalid_1's binary_logloss: 0.0874943\n"
     ]
    },
    {
     "name": "stderr",
     "output_type": "stream",
     "text": [
      "\n",
      "\n",
      "\n",
      "regularization_factors, val_score: 0.087268:  40%|4| 8/20 [01:15<01:40,  8.36s/\n",
      "\n",
      "\n",
      "regularization_factors, val_score: 0.087268:  45%|4| 9/20 [01:15<01:36,  8.75s/[I 2020-09-15 23:19:57,430] Trial 51 finished with value: 0.08749427883850297 and parameters: {'lambda_l1': 4.320427383094865e-08, 'lambda_l2': 2.6747863217317074e-08}. Best is trial 51 with value: 0.08749427883850297.\n",
      "\n",
      "\n",
      "\n",
      "regularization_factors, val_score: 0.087268:  45%|4| 9/20 [01:15<01:36,  8.75s/"
     ]
    },
    {
     "name": "stdout",
     "output_type": "stream",
     "text": [
      "Training until validation scores don't improve for 50 rounds\n",
      "[50]\ttraining's binary_logloss: 0.0670892\tvalid_1's binary_logloss: 0.0909723\n",
      "[100]\ttraining's binary_logloss: 0.0502417\tvalid_1's binary_logloss: 0.0881528\n",
      "[150]\ttraining's binary_logloss: 0.0393819\tvalid_1's binary_logloss: 0.0875271\n",
      "Early stopping, best iteration is:\n",
      "[132]\ttraining's binary_logloss: 0.0425387\tvalid_1's binary_logloss: 0.0874943\n"
     ]
    },
    {
     "name": "stderr",
     "output_type": "stream",
     "text": [
      "\n",
      "\n",
      "\n",
      "regularization_factors, val_score: 0.087268:  45%|4| 9/20 [01:22<01:36,  8.75s/\n",
      "\n",
      "\n",
      "regularization_factors, val_score: 0.087268:  50%|5| 10/20 [01:22<01:23,  8.39s[I 2020-09-15 23:20:04,991] Trial 52 finished with value: 0.08749433725489006 and parameters: {'lambda_l1': 1.112933351694056e-08, 'lambda_l2': 3.27623884150021e-07}. Best is trial 51 with value: 0.08749427883850297.\n",
      "\n",
      "\n",
      "\n",
      "regularization_factors, val_score: 0.087268:  50%|5| 10/20 [01:22<01:23,  8.39s"
     ]
    },
    {
     "name": "stdout",
     "output_type": "stream",
     "text": [
      "Training until validation scores don't improve for 50 rounds\n",
      "[50]\ttraining's binary_logloss: 0.0670892\tvalid_1's binary_logloss: 0.0909721\n",
      "[100]\ttraining's binary_logloss: 0.0502417\tvalid_1's binary_logloss: 0.0881527\n",
      "[150]\ttraining's binary_logloss: 0.0395929\tvalid_1's binary_logloss: 0.0874164\n",
      "[200]\ttraining's binary_logloss: 0.032233\tvalid_1's binary_logloss: 0.0878716\n",
      "Early stopping, best iteration is:\n",
      "[155]\ttraining's binary_logloss: 0.0385691\tvalid_1's binary_logloss: 0.0872676\n"
     ]
    },
    {
     "name": "stderr",
     "output_type": "stream",
     "text": [
      "\n",
      "\n",
      "\n",
      "regularization_factors, val_score: 0.087268:  50%|5| 10/20 [01:32<01:23,  8.39s\n",
      "\n",
      "\n",
      "regularization_factors, val_score: 0.087268:  55%|5| 11/20 [01:32<01:18,  8.70s[I 2020-09-15 23:20:14,396] Trial 53 finished with value: 0.08726759786234496 and parameters: {'lambda_l1': 1.1363064155497873e-08, 'lambda_l2': 1.0475815094476405e-07}. Best is trial 53 with value: 0.08726759786234496.\n",
      "\n",
      "\n",
      "\n",
      "regularization_factors, val_score: 0.087268:  55%|5| 11/20 [01:32<01:18,  8.70s"
     ]
    },
    {
     "name": "stdout",
     "output_type": "stream",
     "text": [
      "Training until validation scores don't improve for 50 rounds\n",
      "[50]\ttraining's binary_logloss: 0.0673584\tvalid_1's binary_logloss: 0.0911693\n",
      "[100]\ttraining's binary_logloss: 0.0499544\tvalid_1's binary_logloss: 0.0882151\n",
      "[150]\ttraining's binary_logloss: 0.0391915\tvalid_1's binary_logloss: 0.0877049\n",
      "Early stopping, best iteration is:\n",
      "[134]\ttraining's binary_logloss: 0.0421153\tvalid_1's binary_logloss: 0.0876436\n"
     ]
    },
    {
     "name": "stderr",
     "output_type": "stream",
     "text": [
      "\n",
      "\n",
      "\n",
      "regularization_factors, val_score: 0.087268:  55%|5| 11/20 [01:41<01:18,  8.70s\n",
      "\n",
      "\n",
      "regularization_factors, val_score: 0.087268:  60%|6| 12/20 [01:41<01:10,  8.84s[I 2020-09-15 23:20:23,561] Trial 54 finished with value: 0.08764355818505397 and parameters: {'lambda_l1': 2.0603584699275266e-07, 'lambda_l2': 2.8789354421558096e-07}. Best is trial 53 with value: 0.08726759786234496.\n",
      "\n",
      "\n",
      "\n",
      "regularization_factors, val_score: 0.087268:  60%|6| 12/20 [01:41<01:10,  8.84s"
     ]
    },
    {
     "name": "stdout",
     "output_type": "stream",
     "text": [
      "Training until validation scores don't improve for 50 rounds\n",
      "[50]\ttraining's binary_logloss: 0.0670892\tvalid_1's binary_logloss: 0.0909723\n",
      "[100]\ttraining's binary_logloss: 0.0502417\tvalid_1's binary_logloss: 0.0881528\n",
      "[150]\ttraining's binary_logloss: 0.0395929\tvalid_1's binary_logloss: 0.0874165\n",
      "[200]\ttraining's binary_logloss: 0.032233\tvalid_1's binary_logloss: 0.0878716\n",
      "Early stopping, best iteration is:\n",
      "[155]\ttraining's binary_logloss: 0.0385691\tvalid_1's binary_logloss: 0.0872677\n"
     ]
    },
    {
     "name": "stderr",
     "output_type": "stream",
     "text": [
      "\n",
      "\n",
      "\n",
      "regularization_factors, val_score: 0.087268:  60%|6| 12/20 [01:50<01:10,  8.84s\n",
      "\n",
      "\n",
      "regularization_factors, val_score: 0.087268:  65%|6| 13/20 [01:50<01:02,  8.95s[I 2020-09-15 23:20:32,779] Trial 55 finished with value: 0.08726766414179223 and parameters: {'lambda_l1': 1.0096311852894665e-08, 'lambda_l2': 1.1189418592074e-08}. Best is trial 53 with value: 0.08726759786234496.\n",
      "\n",
      "\n",
      "\n",
      "regularization_factors, val_score: 0.087268:  65%|6| 13/20 [01:50<01:02,  8.95s"
     ]
    },
    {
     "name": "stdout",
     "output_type": "stream",
     "text": [
      "Training until validation scores don't improve for 50 rounds\n",
      "[50]\ttraining's binary_logloss: 0.0672355\tvalid_1's binary_logloss: 0.0908751\n",
      "[100]\ttraining's binary_logloss: 0.0500408\tvalid_1's binary_logloss: 0.0875613\n",
      "[150]\ttraining's binary_logloss: 0.0395044\tvalid_1's binary_logloss: 0.086913\n",
      "Early stopping, best iteration is:\n",
      "[134]\ttraining's binary_logloss: 0.0423057\tvalid_1's binary_logloss: 0.0867953\n"
     ]
    },
    {
     "name": "stderr",
     "output_type": "stream",
     "text": [
      "\n",
      "\n",
      "\n",
      "regularization_factors, val_score: 0.086795:  65%|6| 13/20 [02:00<01:02,  8.95s\n",
      "\n",
      "\n",
      "regularization_factors, val_score: 0.086795:  70%|7| 14/20 [02:00<00:56,  9.35s[I 2020-09-15 23:20:43,048] Trial 56 finished with value: 0.08679532008087743 and parameters: {'lambda_l1': 2.7445577876565753e-06, 'lambda_l2': 1.0515291002147425e-06}. Best is trial 56 with value: 0.08679532008087743.\n",
      "\n",
      "\n",
      "\n",
      "regularization_factors, val_score: 0.086795:  70%|7| 14/20 [02:00<00:56,  9.35s"
     ]
    },
    {
     "name": "stdout",
     "output_type": "stream",
     "text": [
      "Training until validation scores don't improve for 50 rounds\n",
      "[50]\ttraining's binary_logloss: 0.0672862\tvalid_1's binary_logloss: 0.0910784\n",
      "[100]\ttraining's binary_logloss: 0.050285\tvalid_1's binary_logloss: 0.0880235\n",
      "[150]\ttraining's binary_logloss: 0.0400884\tvalid_1's binary_logloss: 0.0872017\n",
      "Early stopping, best iteration is:\n",
      "[146]\ttraining's binary_logloss: 0.0408551\tvalid_1's binary_logloss: 0.08709\n"
     ]
    },
    {
     "name": "stderr",
     "output_type": "stream",
     "text": [
      "\n",
      "\n",
      "\n",
      "regularization_factors, val_score: 0.086795:  70%|7| 14/20 [02:09<00:56,  9.35s\n",
      "\n",
      "\n",
      "regularization_factors, val_score: 0.086795:  75%|7| 15/20 [02:09<00:46,  9.32s[I 2020-09-15 23:20:52,319] Trial 57 finished with value: 0.08709003940174496 and parameters: {'lambda_l1': 8.131848211033477e-06, 'lambda_l2': 1.6260620621129654e-06}. Best is trial 56 with value: 0.08679532008087743.\n",
      "\n",
      "\n",
      "\n",
      "regularization_factors, val_score: 0.086795:  75%|7| 15/20 [02:09<00:46,  9.32s"
     ]
    },
    {
     "name": "stdout",
     "output_type": "stream",
     "text": [
      "Training until validation scores don't improve for 50 rounds\n",
      "[50]\ttraining's binary_logloss: 0.0672862\tvalid_1's binary_logloss: 0.0910784\n",
      "[100]\ttraining's binary_logloss: 0.050285\tvalid_1's binary_logloss: 0.0880235\n",
      "[150]\ttraining's binary_logloss: 0.0401049\tvalid_1's binary_logloss: 0.0871478\n",
      "Early stopping, best iteration is:\n",
      "[147]\ttraining's binary_logloss: 0.0406127\tvalid_1's binary_logloss: 0.0870137\n"
     ]
    },
    {
     "name": "stderr",
     "output_type": "stream",
     "text": [
      "\n",
      "\n",
      "\n",
      "regularization_factors, val_score: 0.086795:  75%|7| 15/20 [02:20<00:46,  9.32s\n",
      "\n",
      "\n",
      "regularization_factors, val_score: 0.086795:  80%|8| 16/20 [02:20<00:38,  9.67s[I 2020-09-15 23:21:02,790] Trial 58 finished with value: 0.0870136845618331 and parameters: {'lambda_l1': 6.0114182247557505e-06, 'lambda_l2': 2.002351262003227e-06}. Best is trial 56 with value: 0.08679532008087743.\n",
      "\n",
      "\n",
      "\n",
      "regularization_factors, val_score: 0.086795:  80%|8| 16/20 [02:20<00:38,  9.67s"
     ]
    },
    {
     "name": "stdout",
     "output_type": "stream",
     "text": [
      "Training until validation scores don't improve for 50 rounds\n",
      "[50]\ttraining's binary_logloss: 0.0672862\tvalid_1's binary_logloss: 0.0910785\n",
      "[100]\ttraining's binary_logloss: 0.050285\tvalid_1's binary_logloss: 0.0880235\n",
      "[150]\ttraining's binary_logloss: 0.0400884\tvalid_1's binary_logloss: 0.0872017\n",
      "Early stopping, best iteration is:\n",
      "[146]\ttraining's binary_logloss: 0.0408551\tvalid_1's binary_logloss: 0.08709\n"
     ]
    },
    {
     "name": "stderr",
     "output_type": "stream",
     "text": [
      "\n",
      "\n",
      "\n",
      "regularization_factors, val_score: 0.086795:  80%|8| 16/20 [02:30<00:38,  9.67s\n",
      "\n",
      "\n",
      "regularization_factors, val_score: 0.086795:  85%|8| 17/20 [02:30<00:29,  9.81s[I 2020-09-15 23:21:12,920] Trial 59 finished with value: 0.08709004038625588 and parameters: {'lambda_l1': 6.752805632402286e-06, 'lambda_l2': 2.1608341426027115e-06}. Best is trial 56 with value: 0.08679532008087743.\n",
      "\n",
      "\n",
      "\n",
      "regularization_factors, val_score: 0.086795:  85%|8| 17/20 [02:30<00:29,  9.81s"
     ]
    },
    {
     "name": "stdout",
     "output_type": "stream",
     "text": [
      "Training until validation scores don't improve for 50 rounds\n",
      "[50]\ttraining's binary_logloss: 0.0672862\tvalid_1's binary_logloss: 0.0910785\n",
      "[100]\ttraining's binary_logloss: 0.0502851\tvalid_1's binary_logloss: 0.0880235\n",
      "[150]\ttraining's binary_logloss: 0.0400884\tvalid_1's binary_logloss: 0.0872016\n",
      "Early stopping, best iteration is:\n",
      "[146]\ttraining's binary_logloss: 0.0408552\tvalid_1's binary_logloss: 0.08709\n"
     ]
    },
    {
     "name": "stderr",
     "output_type": "stream",
     "text": [
      "\n",
      "\n",
      "\n",
      "regularization_factors, val_score: 0.086795:  85%|8| 17/20 [02:38<00:29,  9.81s\n",
      "\n",
      "\n",
      "regularization_factors, val_score: 0.086795:  90%|9| 18/20 [02:38<00:18,  9.24s[I 2020-09-15 23:21:20,848] Trial 60 finished with value: 0.08708995479362534 and parameters: {'lambda_l1': 1.3757275840939324e-05, 'lambda_l2': 2.2131704676355305e-06}. Best is trial 56 with value: 0.08679532008087743.\n",
      "\n",
      "\n",
      "\n",
      "regularization_factors, val_score: 0.086795:  90%|9| 18/20 [02:38<00:18,  9.24s"
     ]
    },
    {
     "name": "stdout",
     "output_type": "stream",
     "text": [
      "Training until validation scores don't improve for 50 rounds\n",
      "[50]\ttraining's binary_logloss: 0.0672862\tvalid_1's binary_logloss: 0.0910785\n",
      "[100]\ttraining's binary_logloss: 0.050285\tvalid_1's binary_logloss: 0.0880235\n",
      "[150]\ttraining's binary_logloss: 0.0400884\tvalid_1's binary_logloss: 0.0872017\n",
      "Early stopping, best iteration is:\n",
      "[146]\ttraining's binary_logloss: 0.0408551\tvalid_1's binary_logloss: 0.08709\n"
     ]
    },
    {
     "name": "stderr",
     "output_type": "stream",
     "text": [
      "\n",
      "\n",
      "\n",
      "regularization_factors, val_score: 0.086795:  90%|9| 18/20 [02:48<00:18,  9.24s\n",
      "\n",
      "\n",
      "regularization_factors, val_score: 0.086795:  95%|9| 19/20 [02:48<00:09,  9.53s[I 2020-09-15 23:21:31,063] Trial 61 finished with value: 0.08709003776694184 and parameters: {'lambda_l1': 9.78405033049271e-06, 'lambda_l2': 1.954028616828821e-06}. Best is trial 56 with value: 0.08679532008087743.\n",
      "\n",
      "\n",
      "\n",
      "regularization_factors, val_score: 0.086795:  95%|9| 19/20 [02:48<00:09,  9.53s"
     ]
    },
    {
     "name": "stdout",
     "output_type": "stream",
     "text": [
      "Training until validation scores don't improve for 50 rounds\n",
      "[50]\ttraining's binary_logloss: 0.0672862\tvalid_1's binary_logloss: 0.0910785\n",
      "[100]\ttraining's binary_logloss: 0.0502851\tvalid_1's binary_logloss: 0.0880235\n",
      "[150]\ttraining's binary_logloss: 0.0400884\tvalid_1's binary_logloss: 0.0872016\n",
      "Early stopping, best iteration is:\n",
      "[146]\ttraining's binary_logloss: 0.0408552\tvalid_1's binary_logloss: 0.08709\n"
     ]
    },
    {
     "name": "stderr",
     "output_type": "stream",
     "text": [
      "\n",
      "\n",
      "\n",
      "regularization_factors, val_score: 0.086795:  95%|9| 19/20 [02:56<00:09,  9.53s\n",
      "\n",
      "\n",
      "regularization_factors, val_score: 0.086795: 100%|#| 20/20 [02:56<00:00,  9.14s[I 2020-09-15 23:21:39,283] Trial 62 finished with value: 0.08708995588641856 and parameters: {'lambda_l1': 1.2571892523240263e-05, 'lambda_l2': 2.2042095198984838e-06}. Best is trial 56 with value: 0.08679532008087743.\n",
      "regularization_factors, val_score: 0.086795: 100%|#| 20/20 [02:56<00:00,  8.85s\n",
      "\n",
      "\n",
      "\n",
      "  0%|                                                    | 0/5 [00:00<?, ?it/s]\n",
      "\n",
      "\n",
      "min_data_in_leaf, val_score: 0.086795:   0%|             | 0/5 [00:00<?, ?it/s]"
     ]
    },
    {
     "name": "stdout",
     "output_type": "stream",
     "text": [
      "Training until validation scores don't improve for 50 rounds\n",
      "[50]\ttraining's binary_logloss: 0.0680135\tvalid_1's binary_logloss: 0.0912762\n",
      "[100]\ttraining's binary_logloss: 0.0513425\tvalid_1's binary_logloss: 0.0885538\n",
      "[150]\ttraining's binary_logloss: 0.0405311\tvalid_1's binary_logloss: 0.0880244\n",
      "Early stopping, best iteration is:\n",
      "[123]\ttraining's binary_logloss: 0.0458368\tvalid_1's binary_logloss: 0.0878784\n"
     ]
    },
    {
     "name": "stderr",
     "output_type": "stream",
     "text": [
      "\n",
      "\n",
      "\n",
      "min_data_in_leaf, val_score: 0.086795:   0%|             | 0/5 [00:08<?, ?it/s]\n",
      "\n",
      "\n",
      "min_data_in_leaf, val_score: 0.086795:  20%|#    | 1/5 [00:08<00:33,  8.34s/it][I 2020-09-15 23:21:47,643] Trial 63 finished with value: 0.08787844753599654 and parameters: {'min_child_samples': 25}. Best is trial 63 with value: 0.08787844753599654.\n",
      "\n",
      "\n",
      "\n",
      "min_data_in_leaf, val_score: 0.086795:  20%|#    | 1/5 [00:08<00:33,  8.34s/it]"
     ]
    },
    {
     "name": "stdout",
     "output_type": "stream",
     "text": [
      "Training until validation scores don't improve for 50 rounds\n",
      "[50]\ttraining's binary_logloss: 0.0646812\tvalid_1's binary_logloss: 0.0926684\n",
      "[100]\ttraining's binary_logloss: 0.047189\tvalid_1's binary_logloss: 0.0899283\n",
      "[150]\ttraining's binary_logloss: 0.0367093\tvalid_1's binary_logloss: 0.0892976\n",
      "Early stopping, best iteration is:\n",
      "[126]\ttraining's binary_logloss: 0.0414174\tvalid_1's binary_logloss: 0.0891061\n"
     ]
    },
    {
     "name": "stderr",
     "output_type": "stream",
     "text": [
      "\n",
      "\n",
      "\n",
      "min_data_in_leaf, val_score: 0.086795:  20%|#    | 1/5 [00:16<00:33,  8.34s/it]\n",
      "\n",
      "\n",
      "min_data_in_leaf, val_score: 0.086795:  40%|##   | 2/5 [00:16<00:24,  8.27s/it][I 2020-09-15 23:21:55,743] Trial 64 finished with value: 0.08910605465560223 and parameters: {'min_child_samples': 10}. Best is trial 63 with value: 0.08787844753599654.\n",
      "\n",
      "\n",
      "\n",
      "min_data_in_leaf, val_score: 0.086795:  40%|##   | 2/5 [00:16<00:24,  8.27s/it]"
     ]
    },
    {
     "name": "stdout",
     "output_type": "stream",
     "text": [
      "Training until validation scores don't improve for 50 rounds\n",
      "[50]\ttraining's binary_logloss: 0.0710943\tvalid_1's binary_logloss: 0.0913198\n",
      "[100]\ttraining's binary_logloss: 0.0547735\tvalid_1's binary_logloss: 0.0887611\n",
      "[150]\ttraining's binary_logloss: 0.0439421\tvalid_1's binary_logloss: 0.0880582\n",
      "Early stopping, best iteration is:\n",
      "[148]\ttraining's binary_logloss: 0.0444619\tvalid_1's binary_logloss: 0.0879711\n"
     ]
    },
    {
     "name": "stderr",
     "output_type": "stream",
     "text": [
      "\n",
      "\n",
      "\n",
      "min_data_in_leaf, val_score: 0.086795:  40%|##   | 2/5 [00:26<00:24,  8.27s/it]\n",
      "\n",
      "\n",
      "min_data_in_leaf, val_score: 0.086795:  60%|###  | 3/5 [00:26<00:17,  8.67s/it][I 2020-09-15 23:22:05,371] Trial 65 finished with value: 0.08797108539008086 and parameters: {'min_child_samples': 50}. Best is trial 63 with value: 0.08787844753599654.\n",
      "\n",
      "\n",
      "\n",
      "min_data_in_leaf, val_score: 0.086795:  60%|###  | 3/5 [00:26<00:17,  8.67s/it]"
     ]
    },
    {
     "name": "stdout",
     "output_type": "stream",
     "text": [
      "Training until validation scores don't improve for 50 rounds\n",
      "[50]\ttraining's binary_logloss: 0.0620587\tvalid_1's binary_logloss: 0.0940803\n",
      "[100]\ttraining's binary_logloss: 0.044787\tvalid_1's binary_logloss: 0.0912641\n",
      "[150]\ttraining's binary_logloss: 0.034173\tvalid_1's binary_logloss: 0.0951534\n",
      "Early stopping, best iteration is:\n",
      "[101]\ttraining's binary_logloss: 0.0445511\tvalid_1's binary_logloss: 0.0912231\n"
     ]
    },
    {
     "name": "stderr",
     "output_type": "stream",
     "text": [
      "\n",
      "\n",
      "\n",
      "min_data_in_leaf, val_score: 0.086795:  60%|###  | 3/5 [00:33<00:17,  8.67s/it]\n",
      "\n",
      "\n",
      "min_data_in_leaf, val_score: 0.086795:  80%|#### | 4/5 [00:33<00:08,  8.21s/it][I 2020-09-15 23:22:12,492] Trial 66 finished with value: 0.09122308541493347 and parameters: {'min_child_samples': 5}. Best is trial 63 with value: 0.08787844753599654.\n",
      "\n",
      "\n",
      "\n",
      "min_data_in_leaf, val_score: 0.086795:  80%|#### | 4/5 [00:33<00:08,  8.21s/it]"
     ]
    },
    {
     "name": "stdout",
     "output_type": "stream",
     "text": [
      "Training until validation scores don't improve for 50 rounds\n",
      "[50]\ttraining's binary_logloss: 0.0738824\tvalid_1's binary_logloss: 0.0934108\n",
      "[100]\ttraining's binary_logloss: 0.0581952\tvalid_1's binary_logloss: 0.0903273\n",
      "[150]\ttraining's binary_logloss: 0.047398\tvalid_1's binary_logloss: 0.0899708\n",
      "Early stopping, best iteration is:\n",
      "[139]\ttraining's binary_logloss: 0.0493521\tvalid_1's binary_logloss: 0.0897293\n"
     ]
    },
    {
     "name": "stderr",
     "output_type": "stream",
     "text": [
      "\n",
      "\n",
      "\n",
      "min_data_in_leaf, val_score: 0.086795:  80%|#### | 4/5 [00:42<00:08,  8.21s/it]\n",
      "\n",
      "\n",
      "min_data_in_leaf, val_score: 0.086795: 100%|#####| 5/5 [00:42<00:00,  8.44s/it][I 2020-09-15 23:22:21,460] Trial 67 finished with value: 0.08972926311255773 and parameters: {'min_child_samples': 100}. Best is trial 63 with value: 0.08787844753599654.\n",
      "min_data_in_leaf, val_score: 0.086795: 100%|#####| 5/5 [00:42<00:00,  8.43s/it]\n"
     ]
    }
   ],
   "source": [
    "\n",
    "model2 = lgb.train(\n",
    "        params, dtrain, valid_sets=[dtrain, dval], verbose_eval=50, early_stopping_rounds=50)"
   ]
  },
  {
   "cell_type": "code",
   "execution_count": 165,
   "metadata": {},
   "outputs": [
    {
     "name": "stdout",
     "output_type": "stream",
     "text": [
      "Best params: {'objective': 'binary', 'metric': 'binary_logloss', 'verbosity': -1, 'boosting_type': 'gbdt', 'feature_pre_filter': False, 'lambda_l1': 2.7445577876565753e-06, 'lambda_l2': 1.0515291002147425e-06, 'num_leaves': 31, 'feature_fraction': 0.8999999999999999, 'bagging_fraction': 0.9880932286085656, 'bagging_freq': 7, 'min_child_samples': 20}\n",
      "  Accuracy = 0.9765023497650235\n",
      "  Params: \n"
     ]
    }
   ],
   "source": [
    "prediction = np.rint(model2.predict(x_valid, num_iteration=model2.best_iteration))\n",
    "accuracy = accuracy_score(y_valid, prediction)\n",
    "\n",
    "best_params = model2.params\n",
    "print(\"Best params:\", best_params)\n",
    "print(\"  Accuracy = {}\".format(accuracy))\n",
    "print(\"  Params: \")"
   ]
  },
  {
   "cell_type": "code",
   "execution_count": 167,
   "metadata": {},
   "outputs": [
    {
     "data": {
      "text/plain": [
       "LGBMClassifier(bagging_fraction=0.9880932286085656, bagging_freq=7,\n",
       "               feature_fraction=0.8999999999999999, feature_pre_filter=False,\n",
       "               lambda_l1=2.7445577876565753e-06,\n",
       "               lambda_l2=1.0515291002147425e-06, metric='binary_logloss',\n",
       "               objective='binary', verbosity=-1)"
      ]
     },
     "execution_count": 167,
     "metadata": {},
     "output_type": "execute_result"
    }
   ],
   "source": [
    "model_n2 = LGBMClassifier(objective= 'binary', metric= 'binary_logloss', verbosity= -1, boosting_type= 'gbdt',\n",
    "                         feature_pre_filter= False, lambda_l1= 2.7445577876565753e-06, lambda_l2= 1.0515291002147425e-06, num_leaves= 31, feature_fraction= 0.8999999999999999, bagging_fraction= 0.9880932286085656, bagging_freq= 7, min_child_samples= 20)\n",
    "model_n2.fit(x_train, y_train)"
   ]
  },
  {
   "cell_type": "code",
   "execution_count": 215,
   "metadata": {},
   "outputs": [
    {
     "data": {
      "image/png": "[encoded data removed]",
      "text/plain": [
       "<Figure size 1080x1296 with 1 Axes>"
      ]
     },
     "metadata": {
      "needs_background": "light"
     },
     "output_type": "display_data"
    }
   ],
   "source": [
    "fi=pd.DataFrame({'cols' : litraincolOrg, 'imp' : model_n2.feature_importances_})\n",
    "fi = fi.sort_values('imp', ascending=False)\n",
    "top_50 = fi[0:50]\n",
    "top_50 = top_50.sort_values('imp', ascending=True)\n",
    "# Plot the bar chart\n",
    "top_50.plot(x='cols', kind='barh' , figsize=(15,18))\n",
    "plt.show()"
   ]
  },
  {
   "cell_type": "code",
   "execution_count": null,
   "metadata": {},
   "outputs": [],
   "source": []
  },
  {
   "cell_type": "markdown",
   "metadata": {},
   "source": [
    "#### Using Hyperopt"
   ]
  },
  {
   "cell_type": "code",
   "execution_count": 124,
   "metadata": {},
   "outputs": [],
   "source": [
    "from hyperopt import hp, tpe\n",
    "from hyperopt.fmin import fmin\n",
    "from sklearn.model_selection import cross_val_score,StratifiedKFold\n",
    "from sklearn.metrics import make_scorer"
   ]
  },
  {
   "cell_type": "code",
   "execution_count": 117,
   "metadata": {},
   "outputs": [],
   "source": []
  },
  {
   "cell_type": "code",
   "execution_count": 118,
   "metadata": {},
   "outputs": [],
   "source": [
    "\n",
    "def gini_sklearn(truth, predictions):\n",
    "    return gini(truth, predictions) / gini(truth, truth)\n",
    "\n",
    "gini_scorer = make_scorer(gini_sklearn, greater_is_better=True, needs_proba=True)"
   ]
  },
  {
   "cell_type": "code",
   "execution_count": 126,
   "metadata": {},
   "outputs": [],
   "source": [
    "def gini(truth, predictions):\n",
    "    g = np.asarray(np.c_[truth, predictions, np.arange(len(truth)) ], dtype=np.float)\n",
    "    g = g[np.lexsort((g[:,2], -1*g[:,1]))]\n",
    "    gs = g[:,0].cumsum().sum() / g[:,0].sum()\n",
    "    gs -= (len(truth) + 1) / 2.\n",
    "    return gs / len(truth)"
   ]
  },
  {
   "cell_type": "code",
   "execution_count": null,
   "metadata": {},
   "outputs": [],
   "source": []
  },
  {
   "cell_type": "code",
   "execution_count": 226,
   "metadata": {},
   "outputs": [
    {
     "name": "stdout",
     "output_type": "stream",
     "text": [
      "\n",
      "\n",
      "\n",
      "  0%|                                   | 0/10 [00:00<?, ?trial/s, best loss=?]\n",
      "\n",
      "\n",
      "Gini 0.776 params {'num_leaves': 128, 'colsample_bytree': '0.732'}             \n",
      "\n",
      "\n",
      "\n",
      "  0%|                                   | 0/10 [03:44<?, ?trial/s, best loss=?]\n",
      "\n",
      "\n",
      " 10%|▉        | 1/10 [03:44<33:38, 224.28s/trial, best loss: 0.776016089717787]\n",
      "\n",
      "\n",
      "Gini 0.783 params {'num_leaves': 66, 'colsample_bytree': '0.559'}              \n",
      "\n",
      "\n",
      "\n",
      " 10%|▉        | 1/10 [05:57<33:38, 224.28s/trial, best loss: 0.776016089717787]\n",
      "\n",
      "\n",
      " 20%|█▊       | 2/10 [05:57<26:16, 197.10s/trial, best loss: 0.776016089717787]\n",
      "\n",
      "\n",
      "Gini 0.783 params {'num_leaves': 64, 'colsample_bytree': '0.456'}              \n",
      "\n",
      "\n",
      "\n",
      " 20%|█▊       | 2/10 [07:49<26:16, 197.10s/trial, best loss: 0.776016089717787]\n",
      "\n",
      "\n",
      " 30%|██▋      | 3/10 [07:49<19:59, 171.37s/trial, best loss: 0.776016089717787]\n",
      "\n",
      "\n",
      "Gini 0.783 params {'num_leaves': 42, 'colsample_bytree': '0.636'}              \n",
      "\n",
      "\n",
      "\n",
      " 30%|██▋      | 3/10 [09:45<19:59, 171.37s/trial, best loss: 0.776016089717787]\n",
      "\n",
      "\n",
      " 40%|███▌     | 4/10 [09:45<15:28, 154.77s/trial, best loss: 0.776016089717787]\n",
      "\n",
      "\n",
      "Gini 0.777 params {'num_leaves': 110, 'colsample_bytree': '0.677'}             \n",
      "\n",
      "\n",
      "\n",
      " 40%|███▌     | 4/10 [12:29<15:28, 154.77s/trial, best loss: 0.776016089717787]\n",
      "\n",
      "\n",
      " 50%|████▌    | 5/10 [12:29<13:07, 157.54s/trial, best loss: 0.776016089717787]\n",
      "\n",
      "\n",
      "Gini 0.739 params {'num_leaves': 8, 'colsample_bytree': '0.513'}               \n",
      "\n",
      "\n",
      "\n",
      " 50%|████▌    | 5/10 [13:41<13:07, 157.54s/trial, best loss: 0.776016089717787]\n",
      "\n",
      "\n",
      " 60%|████▊   | 6/10 [13:41<08:48, 132.01s/trial, best loss: 0.7389893331544345]\n",
      "\n",
      "\n",
      "Gini 0.779 params {'num_leaves': 122, 'colsample_bytree': '0.425'}             \n",
      "\n",
      "\n",
      "\n",
      " 60%|████▊   | 6/10 [15:57<08:48, 132.01s/trial, best loss: 0.7389893331544345]\n",
      "\n",
      "\n",
      " 70%|█████▌  | 7/10 [15:57<06:39, 133.18s/trial, best loss: 0.7389893331544345]\n",
      "\n",
      "\n",
      "Gini 0.784 params {'num_leaves': 80, 'colsample_bytree': '0.447'}              \n",
      "\n",
      "\n",
      "\n",
      " 70%|█████▌  | 7/10 [17:57<06:39, 133.18s/trial, best loss: 0.7389893331544345]\n",
      "\n",
      "\n",
      " 80%|██████▍ | 8/10 [17:57<04:18, 129.32s/trial, best loss: 0.7389893331544345]\n",
      "\n",
      "\n",
      "Gini 0.782 params {'num_leaves': 42, 'colsample_bytree': '0.411'}              \n",
      "\n",
      "\n",
      "\n",
      " 80%|██████▍ | 8/10 [19:34<04:18, 129.32s/trial, best loss: 0.7389893331544345]\n",
      "\n",
      "\n",
      " 90%|███████▏| 9/10 [19:34<01:59, 119.50s/trial, best loss: 0.7389893331544345]\n",
      "\n",
      "\n",
      "Gini 0.778 params {'num_leaves': 38, 'colsample_bytree': '0.841'}              \n",
      "\n",
      "\n",
      "\n",
      " 90%|███████▏| 9/10 [21:31<01:59, 119.50s/trial, best loss: 0.7389893331544345]\n",
      "\n",
      "\n",
      "100%|███████| 10/10 [21:31<00:00, 129.12s/trial, best loss: 0.7389893331544345]\n"
     ]
    }
   ],
   "source": [
    "def objective(params):\n",
    "    params = {\n",
    "        'num_leaves': int(params['num_leaves']),\n",
    "        'colsample_bytree': '{:.3f}'.format(params['colsample_bytree'])\n",
    "        \n",
    "    }\n",
    "    \n",
    "    clf = LGBMClassifier(\n",
    "        n_estimators=500,\n",
    "        learning_rate=0.01,\n",
    "        **params\n",
    "    )\n",
    "    \n",
    "    score = cross_val_score(clf, x_train, y_train, scoring=gini_scorer, cv=StratifiedKFold()).mean()\n",
    "    print(\"Gini {:.3f} params {}\".format(score, params))\n",
    "    return score\n",
    "\n",
    "space = {\n",
    "    'num_leaves': hp.quniform('num_leaves', 8, 128, 2),\n",
    "    'colsample_bytree': hp.uniform('colsample_bytree', 0.3, 1.0),\n",
    "}\n",
    "\n",
    "best = fmin(fn=objective,\n",
    "            space=space,\n",
    "            algo=tpe.suggest,\n",
    "            max_evals=10)"
   ]
  },
  {
   "cell_type": "code",
   "execution_count": 227,
   "metadata": {},
   "outputs": [
    {
     "name": "stdout",
     "output_type": "stream",
     "text": [
      "Hyperopt estimated optimum {'colsample_bytree': 0.5132404769235878, 'num_leaves': 8.0}\n"
     ]
    }
   ],
   "source": [
    "print(\"Hyperopt estimated optimum {}\".format(best))"
   ]
  },
  {
   "cell_type": "code",
   "execution_count": 229,
   "metadata": {},
   "outputs": [],
   "source": [
    "clf = LGBMClassifier(\n",
    "        n_estimators=500,\n",
    "        learning_rate=0.01,\n",
    "        colsample_bytree=  0.5132404769235878, num_leaves =8)"
   ]
  },
  {
   "cell_type": "code",
   "execution_count": 138,
   "metadata": {},
   "outputs": [],
   "source": [
    "clf = LGBMClassifier(\n",
    "        n_estimators=500,\n",
    "        learning_rate=0.01,\n",
    "        colsample_bytree= 0.9677129067732777, num_leaves= 88)"
   ]
  },
  {
   "cell_type": "code",
   "execution_count": 230,
   "metadata": {},
   "outputs": [
    {
     "data": {
      "text/plain": [
       "LGBMClassifier(colsample_bytree=0.5132404769235878, learning_rate=0.01,\n",
       "               n_estimators=500, num_leaves=8)"
      ]
     },
     "execution_count": 230,
     "metadata": {},
     "output_type": "execute_result"
    }
   ],
   "source": [
    "clf.fit(x_train, y_train)"
   ]
  },
  {
   "cell_type": "code",
   "execution_count": 231,
   "metadata": {},
   "outputs": [
    {
     "name": "stdout",
     "output_type": "stream",
     "text": [
      "Confusion Matrix :\n",
      "[[9642   15]\n",
      " [ 262   82]]\n",
      "Accuracy Score : 0.9723027697230276\n",
      "Report : \n",
      "              precision    recall  f1-score   support\n",
      "\n",
      "           0       0.97      1.00      0.99      9657\n",
      "           1       0.85      0.24      0.37       344\n",
      "\n",
      "    accuracy                           0.97     10001\n",
      "   macro avg       0.91      0.62      0.68     10001\n",
      "weighted avg       0.97      0.97      0.96     10001\n",
      "\n"
     ]
    }
   ],
   "source": [
    "predicted = clf.predict(x_valid) \n",
    "results = confusion_matrix(y_valid, predicted) \n",
    "\n",
    "print('Confusion Matrix :')\n",
    "print(results) \n",
    "print('Accuracy Score :',accuracy_score(y_valid, predicted)) \n",
    "print('Report : ')\n",
    "print(classification_report(y_valid, predicted)) "
   ]
  },
  {
   "cell_type": "code",
   "execution_count": null,
   "metadata": {},
   "outputs": [],
   "source": []
  },
  {
   "cell_type": "code",
   "execution_count": 233,
   "metadata": {},
   "outputs": [
    {
     "data": {
      "image/png": "[encoded data removed]",
      "text/plain": [
       "<Figure size 1080x1296 with 1 Axes>"
      ]
     },
     "metadata": {
      "needs_background": "light"
     },
     "output_type": "display_data"
    }
   ],
   "source": [
    "fi=pd.DataFrame({'cols' : litraincolOrg, 'imp' : clf.feature_importances_})\n",
    "fi = fi.sort_values('imp', ascending=False)\n",
    "top_50 = fi[0:50]\n",
    "top_50 = top_50.sort_values('imp', ascending=True)\n",
    "# Plot the bar chart\n",
    "top_50.plot(x='cols', kind='barh' , figsize=(15,18))\n",
    "plt.show()"
   ]
  },
  {
   "cell_type": "code",
   "execution_count": 240,
   "metadata": {},
   "outputs": [
    {
     "name": "stdout",
     "output_type": "stream",
     "text": [
      "\n",
      "\n",
      "\n",
      "  0%|                                   | 0/10 [00:00<?, ?trial/s, best loss=?]\n",
      "\n",
      "\n",
      "Gini 0.780 params {'num_leaves': 38, 'colsample_bytree': '0.649', 'feature_fraction': '0.761', 'min_child_samples': 20}\n",
      "\n",
      "\n",
      "\n",
      "  0%|                                   | 0/10 [03:01<?, ?trial/s, best loss=?]\n",
      "\n",
      "\n",
      " 10%|▊       | 1/10 [03:01<27:09, 181.01s/trial, best loss: 0.7800091685674673]\n",
      "\n",
      "\n",
      "Gini 0.781 params {'num_leaves': 106, 'colsample_bytree': '0.956', 'feature_fraction': '0.467', 'min_child_samples': 34}\n",
      "\n",
      "\n",
      "\n",
      " 10%|▊       | 1/10 [05:19<27:09, 181.01s/trial, best loss: 0.7800091685674673]\n",
      "\n",
      "\n",
      " 20%|█▌      | 2/10 [05:19<22:26, 168.31s/trial, best loss: 0.7800091685674673]\n",
      "\n",
      "\n",
      "Gini 0.775 params {'num_leaves': 120, 'colsample_bytree': '0.481', 'feature_fraction': '0.728', 'min_child_samples': 38}\n",
      "\n",
      "\n",
      "\n",
      " 20%|█▌      | 2/10 [08:29<22:26, 168.31s/trial, best loss: 0.7800091685674673]\n",
      "\n",
      "\n",
      " 30%|██▍     | 3/10 [08:29<20:23, 174.79s/trial, best loss: 0.7748602352520237]\n",
      "\n",
      "\n",
      "Gini 0.754 params {'num_leaves': 12, 'colsample_bytree': '0.849', 'feature_fraction': '0.828', 'min_child_samples': 40}\n",
      "\n",
      "\n",
      "\n",
      " 30%|██▍     | 3/10 [10:00<20:23, 174.79s/trial, best loss: 0.7748602352520237]\n",
      "\n",
      "\n",
      " 40%|███▏    | 4/10 [10:00<14:57, 149.62s/trial, best loss: 0.7536070486157699]\n",
      "\n",
      "\n",
      "Gini 0.780 params {'num_leaves': 100, 'colsample_bytree': '0.955', 'feature_fraction': '0.704', 'min_child_samples': 112}\n",
      "\n",
      "\n",
      "\n",
      " 40%|███▏    | 4/10 [12:32<14:57, 149.62s/trial, best loss: 0.7536070486157699]\n",
      "\n",
      "\n",
      " 50%|████    | 5/10 [12:32<12:31, 150.25s/trial, best loss: 0.7536070486157699]\n",
      "\n",
      "\n",
      "Gini 0.778 params {'num_leaves': 72, 'colsample_bytree': '0.329', 'feature_fraction': '0.973', 'min_child_samples': 124}\n",
      "\n",
      "\n",
      "\n",
      " 50%|████    | 5/10 [15:02<12:31, 150.25s/trial, best loss: 0.7536070486157699]\n",
      "\n",
      "\n",
      " 60%|████▊   | 6/10 [15:02<10:00, 150.12s/trial, best loss: 0.7536070486157699]\n",
      "\n",
      "\n",
      "Gini 0.778 params {'num_leaves': 38, 'colsample_bytree': '0.796', 'feature_fraction': '0.575', 'min_child_samples': 86}\n",
      "\n",
      "\n",
      "\n",
      " 60%|████▊   | 6/10 [16:57<10:00, 150.12s/trial, best loss: 0.7536070486157699]\n",
      "\n",
      "\n",
      " 70%|█████▌  | 7/10 [16:57<06:59, 139.86s/trial, best loss: 0.7536070486157699]\n",
      "\n",
      "\n",
      "Gini 0.777 params {'num_leaves': 40, 'colsample_bytree': '0.834', 'feature_fraction': '0.925', 'min_child_samples': 114}\n",
      "\n",
      "\n",
      "\n",
      " 70%|█████▌  | 7/10 [19:11<06:59, 139.86s/trial, best loss: 0.7536070486157699]\n",
      "\n",
      "\n",
      " 80%|██████▍ | 8/10 [19:11<04:35, 137.99s/trial, best loss: 0.7536070486157699]\n",
      "\n",
      "\n",
      "Gini 0.777 params {'num_leaves': 126, 'colsample_bytree': '0.371', 'feature_fraction': '0.487', 'min_child_samples': 64}\n",
      "\n",
      "\n",
      "\n",
      " 80%|██████▍ | 8/10 [22:08<04:35, 137.99s/trial, best loss: 0.7536070486157699]\n",
      "\n",
      "\n",
      " 90%|███████▏| 9/10 [22:08<02:29, 149.67s/trial, best loss: 0.7536070486157699]\n",
      "\n",
      "\n",
      "Gini 0.781 params {'num_leaves': 70, 'colsample_bytree': '0.411', 'feature_fraction': '0.725', 'min_child_samples': 126}\n",
      "\n",
      "\n",
      "\n",
      " 90%|███████▏| 9/10 [24:31<02:29, 149.67s/trial, best loss: 0.7536070486157699]\n",
      "\n",
      "\n",
      "100%|███████| 10/10 [24:31<00:00, 147.17s/trial, best loss: 0.7536070486157699]\n"
     ]
    }
   ],
   "source": [
    "def objective(params):\n",
    "    params = {\n",
    "        'num_leaves': int(params['num_leaves']),\n",
    "        'colsample_bytree': '{:.3f}'.format(params['colsample_bytree']),\n",
    "        'feature_fraction': '{:.3f}'.format(params['feature_fraction']),\n",
    "        'min_child_samples': int(params['min_child_samples'])\n",
    "        \n",
    "    }\n",
    "    \n",
    "    clf = LGBMClassifier(\n",
    "        n_estimators=500,\n",
    "        learning_rate=0.01,\n",
    "        **params\n",
    "    )\n",
    "    \n",
    "    score = cross_val_score(clf, x_train, y_train, scoring=gini_scorer, cv=StratifiedKFold()).mean()\n",
    "    print(\"Gini {:.3f} params {}\".format(score, params))\n",
    "    return score\n",
    "\n",
    "space = {\n",
    "    'num_leaves': hp.quniform('num_leaves', 8, 128, 2),\n",
    "    'colsample_bytree': hp.uniform('colsample_bytree', 0.3, 1.0),\n",
    "    'feature_fraction': hp.uniform('feature_fraction', 0.3, 1.0),\n",
    "    'min_child_samples': hp.quniform('min_child_samples', 8, 128, 2)\n",
    "}\n",
    "\n",
    "best = fmin(fn=objective,\n",
    "            space=space,\n",
    "            algo=tpe.suggest,\n",
    "            max_evals=10)"
   ]
  },
  {
   "cell_type": "code",
   "execution_count": 241,
   "metadata": {},
   "outputs": [
    {
     "data": {
      "text/plain": [
       "\"{'colsample_bytree': 0.8489192082676236, 'feature_fraction': 0.8284137925636559, 'min_child_samples': 40.0, 'num_leaves': 12.0}\""
      ]
     },
     "execution_count": 241,
     "metadata": {},
     "output_type": "execute_result"
    }
   ],
   "source": [
    "format(best)"
   ]
  },
  {
   "cell_type": "code",
   "execution_count": 242,
   "metadata": {},
   "outputs": [],
   "source": []
  },
  {
   "cell_type": "code",
   "execution_count": 243,
   "metadata": {},
   "outputs": [
    {
     "data": {
      "text/plain": [
       "LGBMClassifier(colsample_bytree=0.8489192082676236,\n",
       "               feature_fraction=0.8284137925636559, min_child_samples=40,\n",
       "               num_leaves=12)"
      ]
     },
     "execution_count": 243,
     "metadata": {},
     "output_type": "execute_result"
    }
   ],
   "source": [
    "clf2 = LGBMClassifier(\n",
    "colsample_bytree= 0.8489192082676236, feature_fraction= 0.8284137925636559,\n",
    "    min_child_samples= 40, num_leaves= 12)\n",
    "clf2.fit(x_train, y_train)"
   ]
  },
  {
   "cell_type": "code",
   "execution_count": 244,
   "metadata": {},
   "outputs": [
    {
     "name": "stdout",
     "output_type": "stream",
     "text": [
      "Confusion Matrix :\n",
      "[[9634   23]\n",
      " [ 245   99]]\n",
      "Accuracy Score : 0.9732026797320268\n",
      "Report : \n",
      "              precision    recall  f1-score   support\n",
      "\n",
      "           0       0.98      1.00      0.99      9657\n",
      "           1       0.81      0.29      0.42       344\n",
      "\n",
      "    accuracy                           0.97     10001\n",
      "   macro avg       0.89      0.64      0.71     10001\n",
      "weighted avg       0.97      0.97      0.97     10001\n",
      "\n"
     ]
    }
   ],
   "source": [
    "predicted = clf2.predict(x_valid) \n",
    "results = confusion_matrix(y_valid, predicted) \n",
    "\n",
    "print('Confusion Matrix :')\n",
    "print(results) \n",
    "print('Accuracy Score :',accuracy_score(y_valid, predicted)) \n",
    "print('Report : ')\n",
    "print(classification_report(y_valid, predicted)) "
   ]
  },
  {
   "cell_type": "code",
   "execution_count": 247,
   "metadata": {},
   "outputs": [
    {
     "data": {
      "image/png": "[encoded data removed]",
      "text/plain": [
       "<Figure size 504x288 with 1 Axes>"
      ]
     },
     "metadata": {
      "needs_background": "light"
     },
     "output_type": "display_data"
    }
   ],
   "source": [
    "fi=pd.DataFrame({'cols' : litraincolOrg, 'imp' : clf2.feature_importances_})\n",
    "fi = fi.sort_values('imp', ascending=False)\n",
    "top_50 = fi[0:10]\n",
    "top_50 = top_50.sort_values('imp', ascending=True)\n",
    "# Plot the bar chart\n",
    "top_50.plot(x='cols', kind='barh' , figsize=(7,4))\n",
    "plt.show()"
   ]
  },
  {
   "cell_type": "code",
   "execution_count": 257,
   "metadata": {},
   "outputs": [
    {
     "data": {
      "text/plain": [
       "LGBMClassifier(colsample_bytree=0.8489192082676236,\n",
       "               feature_fraction=0.8284137925636559, learning_rate=0.03,\n",
       "               min_child_samples=40, n_estimators=500)"
      ]
     },
     "execution_count": 257,
     "metadata": {},
     "output_type": "execute_result"
    }
   ],
   "source": [
    "clf3 = LGBMClassifier(learning_rate=0.03,\n",
    "               n_estimators=500, \n",
    "colsample_bytree= 0.8489192082676236, feature_fraction= 0.8284137925636559,\n",
    "    min_child_samples= 40, num_leaves= 31)\n",
    "clf3.fit(x_train, y_train)"
   ]
  },
  {
   "cell_type": "code",
   "execution_count": 258,
   "metadata": {},
   "outputs": [
    {
     "name": "stdout",
     "output_type": "stream",
     "text": [
      "Confusion Matrix :\n",
      "[[9644   13]\n",
      " [ 227  117]]\n",
      "Accuracy Score : 0.976002399760024\n",
      "Report : \n",
      "              precision    recall  f1-score   support\n",
      "\n",
      "           0       0.98      1.00      0.99      9657\n",
      "           1       0.90      0.34      0.49       344\n",
      "\n",
      "    accuracy                           0.98     10001\n",
      "   macro avg       0.94      0.67      0.74     10001\n",
      "weighted avg       0.97      0.98      0.97     10001\n",
      "\n"
     ]
    }
   ],
   "source": [
    "predicted = clf3.predict(x_valid) \n",
    "results = confusion_matrix(y_valid, predicted) \n",
    "print('Confusion Matrix :')\n",
    "print(results) \n",
    "print('Accuracy Score :',accuracy_score(y_valid, predicted)) \n",
    "print('Report : ')\n",
    "print(classification_report(y_valid, predicted)) "
   ]
  },
  {
   "cell_type": "code",
   "execution_count": null,
   "metadata": {},
   "outputs": [],
   "source": []
  },
  {
   "cell_type": "code",
   "execution_count": null,
   "metadata": {},
   "outputs": [],
   "source": []
  },
  {
   "cell_type": "code",
   "execution_count": null,
   "metadata": {},
   "outputs": [],
   "source": [
    "#### Bayesian HyperOpt"
   ]
  },
  {
   "cell_type": "code",
   "execution_count": null,
   "metadata": {},
   "outputs": [],
   "source": []
  },
  {
   "cell_type": "code",
   "execution_count": null,
   "metadata": {},
   "outputs": [],
   "source": [
    "def objective(x):\n",
    "    \"\"\"Objective function to minimize\"\"\"\n",
    "    \n",
    "    # Create the polynomial object\n",
    "    f = np.poly1d([1, -2, -28, 28, 12, -26, 100])\n",
    "\n",
    "    # Return the value of the polynomial\n",
    "    return f(x) * 0.05\n",
    "\n",
    "space = hp.uniform('x', -5, 6)"
   ]
  },
  {
   "cell_type": "code",
   "execution_count": null,
   "metadata": {},
   "outputs": [],
   "source": [
    "from hyperopt import tpe# Create the algorithm\n",
    "tpe_algo = tpe.suggest\n",
    "from hyperopt import Trials# Create a trials object\n",
    "tpe_trials = Trials()"
   ]
  },
  {
   "cell_type": "code",
   "execution_count": null,
   "metadata": {},
   "outputs": [],
   "source": [
    "from hyperopt import fmin\n",
    "\n",
    "# Run 2000 evals with the tpe algorithm\n",
    "tpe_best = fmin(fn=objective, space=space, \n",
    "                algo=tpe_algo, trials=tpe_trials, \n",
    "                max_evals=2000)\n",
    "\n",
    "print(tpe_best)"
   ]
  },
  {
   "cell_type": "code",
   "execution_count": null,
   "metadata": {},
   "outputs": [],
   "source": [
    "# Dataframe of results from optimization\n",
    "tpe_results = pd.DataFrame({'loss': [x['loss'] for x in tpe_trials.results], \n",
    "                            'iteration': tpe_trials.idxs_vals[0]['x'],\n",
    "                            'x': tpe_trials.idxs_vals[1]['x']})\n",
    "                            \n",
    "tpe_results.head()"
   ]
  },
  {
   "cell_type": "code",
   "execution_count": null,
   "metadata": {},
   "outputs": [],
   "source": []
  },
  {
   "cell_type": "code",
   "execution_count": null,
   "metadata": {},
   "outputs": [],
   "source": []
  },
  {
   "cell_type": "code",
   "execution_count": null,
   "metadata": {},
   "outputs": [],
   "source": []
  },
  {
   "cell_type": "code",
   "execution_count": null,
   "metadata": {},
   "outputs": [],
   "source": []
  },
  {
   "cell_type": "code",
   "execution_count": null,
   "metadata": {},
   "outputs": [],
   "source": []
  },
  {
   "cell_type": "code",
   "execution_count": null,
   "metadata": {},
   "outputs": [],
   "source": []
  },
  {
   "cell_type": "code",
   "execution_count": null,
   "metadata": {},
   "outputs": [],
   "source": []
  },
  {
   "cell_type": "code",
   "execution_count": null,
   "metadata": {},
   "outputs": [],
   "source": []
  },
  {
   "cell_type": "code",
   "execution_count": null,
   "metadata": {},
   "outputs": [],
   "source": []
  },
  {
   "cell_type": "code",
   "execution_count": null,
   "metadata": {},
   "outputs": [],
   "source": [
    "import datetime\n",
    "START_DATE = '2019-12-01'\n",
    "X_train = pd.DataFrame()\n",
    "startdate = datetime.datetime.strptime(START_DATE, \"%Y-%m-%d\")\n",
    "x_train[\"Date\"] = x_train['TransactionDT'].apply(lambda x: (startdate + datetime.timedelta(seconds=x)))\n",
    "x_valid[\"Date\"] = x_valid['TransactionDT'].apply(lambda x: (startdate + datetime.timedelta(seconds=x)))\n",
    "from fast_ml.feature_engineering import FeatureEngineering_DateTime\n",
    "dt_encoder = FeatureEngineering_DateTime()\n",
    "\n",
    "#Scikit-learn type fit() transform() functionality\n",
    "# Use fit() only on the train dataset\n",
    "dt_encoder.fit(x_train, ['Date'], prefix = 'default')\n",
    "\n",
    "# Use transform() on train/test dataset\n",
    "x_train = dt_encoder.transform(x_train)\n",
    "x_valid = dt_encoder.transform(x_valid)"
   ]
  },
  {
   "cell_type": "code",
   "execution_count": null,
   "metadata": {},
   "outputs": [],
   "source": []
  },
  {
   "cell_type": "code",
   "execution_count": null,
   "metadata": {},
   "outputs": [],
   "source": []
  }
 ],
 "metadata": {
  "kernelspec": {
   "display_name": "Python 3",
   "language": "python",
   "name": "python3"
  },
  "language_info": {
   "codemirror_mode": {
    "name": "ipython",
    "version": 3
   },
   "file_extension": ".py",
   "mimetype": "text/x-python",
   "name": "python",
   "nbconvert_exporter": "python",
   "pygments_lexer": "ipython3",
   "version": "3.8.3"
  }
 },
 "nbformat": 4,
 "nbformat_minor": 2
}
