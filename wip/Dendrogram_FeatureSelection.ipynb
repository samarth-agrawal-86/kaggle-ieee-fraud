{
 "cells": [
  {
   "cell_type": "code",
   "execution_count": 3,
   "metadata": {},
   "outputs": [],
   "source": [
    "from scipy.stats import spearmanr\n",
    "from scipy.cluster import hierarchy\n",
    "import numpy as np\n",
    "import matplotlib.pyplot as plt\n",
    "import seaborn as sns"
   ]
  },
  {
   "cell_type": "markdown",
   "metadata": {},
   "source": [
    "### Dendrogram for feature selection\n",
    "##### Plots Dendrogram based on Hierarchial clustering for identifying similar features .\n",
    "* Input parameters:\n",
    "\n",
    "    * df : Train dataframe \n",
    "    * variables : Important Features selcted by the model\n",
    "    * method : Spearman or Pearson\n",
    "        * Spearman: This correlation evaluates the monotonic relationship between two continuous or ordinal variables.\n",
    "        * Pearson: This correlation evaluates the linear relationship between two continuous variables.\n",
    "    "
   ]
  },
  {
   "cell_type": "code",
   "execution_count": 9,
   "metadata": {},
   "outputs": [],
   "source": [
    "def Cluster_dendrogram(df,variables,method):\n",
    "    \"\"\"\n",
    "    Creates a dendrogram plot for the clusters of feature.Helps to identify feature within same cluster,thus feature engineering.The clustering performed is Hierarchial clustering and the correlation algorithm is use input.\n",
    "    Either Pearson(for the linear relationship between two continuous variables. ) or Spearman (the monotonic relationship between two continuous or ordinal variables.)\n",
    "    \n",
    "    Signature:\n",
    "    ---------\n",
    "    Cluster_dendrogram(df,\n",
    "    variables,\n",
    "    method) -> Matplotlib Dendrogram plot\n",
    "    \n",
    "    Parameters:\n",
    "    ----------\n",
    "        df : pandas DataFrame\n",
    "            dataframe having variables whose clustering needs to be performed\n",
    "            \n",
    "        variables : list\n",
    "            List of variables for Feature selection\n",
    "            \n",
    "        method : string\n",
    "            \"Pearson\" : This correlation evaluates the linear relationship between two continuous variables.\n",
    "            \"Spearman\" : This correlation evaluates the monotonic relationship between two continuous or ordinal variables.\n",
    "    \n",
    "    \"\"\"\n",
    "    df_cluster = df[variables]\n",
    "    liLabels = list(df_cluster)        \n",
    "    if method == \"Pearson\" or method == \"pearson\":\n",
    "        corr = np.array(df_cluster.corr())    \n",
    "        title = \"Pearson Correlation\"\n",
    "    elif method == \"Spearman\" or method == \"spearman\":\n",
    "        corr = spearmanr(df_cluster).correlation\n",
    "        title = \"Spearman Correlation\"\n",
    "        \n",
    "    fig  = plt.figure(figsize=(16, 8))\n",
    "    corr_linkage = hierarchy.ward(corr)\n",
    "    dendro = hierarchy.dendrogram(corr_linkage, labels=liLabels , leaf_rotation=360,orientation ='left')\n",
    "    dendro_idx = np.arange(0, len(dendro['ivl']))\n",
    "    plt.title(title + '- Hierarchial Clustering Dendrogram',{'fontsize': 18,'color' : 'Green'})\n",
    "    plt.show() "
   ]
  },
  {
   "cell_type": "code",
   "execution_count": null,
   "metadata": {},
   "outputs": [],
   "source": []
  },
  {
   "cell_type": "code",
   "execution_count": null,
   "metadata": {},
   "outputs": [],
   "source": []
  },
  {
   "cell_type": "code",
   "execution_count": null,
   "metadata": {},
   "outputs": [],
   "source": []
  }
 ],
 "metadata": {
  "kernelspec": {
   "display_name": "Python 3",
   "language": "python",
   "name": "python3"
  },
  "language_info": {
   "codemirror_mode": {
    "name": "ipython",
    "version": 3
   },
   "file_extension": ".py",
   "mimetype": "text/x-python",
   "name": "python",
   "nbconvert_exporter": "python",
   "pygments_lexer": "ipython3",
   "version": "3.8.3"
  }
 },
 "nbformat": 4,
 "nbformat_minor": 4
}
